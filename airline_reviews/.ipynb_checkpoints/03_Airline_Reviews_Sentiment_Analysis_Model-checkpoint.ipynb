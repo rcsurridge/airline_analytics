{
 "cells": [
  {
   "cell_type": "code",
   "execution_count": 1,
   "id": "d2c1f162-dd5a-40b6-b582-55979fa8f13e",
   "metadata": {},
   "outputs": [
    {
     "name": "stderr",
     "output_type": "stream",
     "text": [
      "Matplotlib is building the font cache; this may take a moment.\n"
     ]
    }
   ],
   "source": [
    "from pyspark.sql.functions import *\n",
    "from pyspark.sql.types import *\n",
    "from pyspark.ml import Pipeline\n",
    "from pyspark.ml.feature import RegexTokenizer, StopWordsRemover, Normalizer, OneHotEncoder, StringIndexer, VectorAssembler\n",
    "from pyspark.ml.feature import CountVectorizer, HashingTF, IDF, Word2Vec\n",
    "from pyspark.ml.classification import LogisticRegression, DecisionTreeClassifier, NaiveBayes, RandomForestClassifier\n",
    "from pyspark.ml.evaluation import MulticlassClassificationEvaluator\n",
    "from pyspark.ml.tuning import ParamGridBuilder, CrossValidator\n",
    "import sparknlp\n",
    "from sparknlp.pretrained import PretrainedPipeline\n",
    "from sparknlp.base import DocumentAssembler, Finisher\n",
    "from sparknlp.annotator import Tokenizer, Normalizer, LemmatizerModel, StopWordsCleaner, NGramGenerator, PerceptronModel\n",
    "import matplotlib.pyplot as plt\n",
    "import numpy as np"
   ]
  },
  {
   "cell_type": "code",
   "execution_count": 2,
   "id": "67a6a255-f6fb-4ce9-903d-ba79ee15fdf1",
   "metadata": {},
   "outputs": [
    {
     "name": "stderr",
     "output_type": "stream",
     "text": [
      "                                                                                \r"
     ]
    }
   ],
   "source": [
    "df = spark.read.csv(\"gs://msca-bdp-student-gcs/Group7_Final_Project/airline_reviews/airline_reviews_preprocessed.csv\", \n",
    "                                     header = True, inferSchema = True)"
   ]
  },
  {
   "cell_type": "code",
   "execution_count": 3,
   "id": "018ec08c-e412-41c5-b5ae-d59845fcaf3d",
   "metadata": {},
   "outputs": [
    {
     "data": {
      "text/plain": [
       "121296"
      ]
     },
     "execution_count": 3,
     "metadata": {},
     "output_type": "execute_result"
    }
   ],
   "source": [
    "df.count()"
   ]
  },
  {
   "cell_type": "code",
   "execution_count": 4,
   "id": "5e2e9b62-82f1-4ddb-9235-0fa878436223",
   "metadata": {},
   "outputs": [],
   "source": [
    "df2 = df.where('overall_score is not null')\n",
    "df3 = df2.where('review is not null')"
   ]
  },
  {
   "cell_type": "code",
   "execution_count": 5,
   "id": "48f6d1f6-f877-4836-839b-4bf9bcdcef7e",
   "metadata": {},
   "outputs": [
    {
     "name": "stderr",
     "output_type": "stream",
     "text": [
      "                                                                                \r"
     ]
    },
    {
     "data": {
      "text/plain": [
       "116145"
      ]
     },
     "execution_count": 5,
     "metadata": {},
     "output_type": "execute_result"
    }
   ],
   "source": [
    "df3.count()"
   ]
  },
  {
   "cell_type": "code",
   "execution_count": 6,
   "id": "a112b65c-d96e-498c-81a3-cc222ed4ecac",
   "metadata": {},
   "outputs": [
    {
     "name": "stderr",
     "output_type": "stream",
     "text": [
      "                                                                                \r"
     ]
    },
    {
     "data": {
      "text/html": [
       "<div>\n",
       "<style scoped>\n",
       "    .dataframe tbody tr th:only-of-type {\n",
       "        vertical-align: middle;\n",
       "    }\n",
       "\n",
       "    .dataframe tbody tr th {\n",
       "        vertical-align: top;\n",
       "    }\n",
       "\n",
       "    .dataframe thead th {\n",
       "        text-align: right;\n",
       "    }\n",
       "</style>\n",
       "<table border=\"1\" class=\"dataframe\">\n",
       "  <thead>\n",
       "    <tr style=\"text-align: right;\">\n",
       "      <th></th>\n",
       "      <th>sentiment</th>\n",
       "      <th>count</th>\n",
       "      <th>pct</th>\n",
       "    </tr>\n",
       "  </thead>\n",
       "  <tbody>\n",
       "    <tr>\n",
       "      <th>0</th>\n",
       "      <td>Positive</td>\n",
       "      <td>48942</td>\n",
       "      <td>0.421387</td>\n",
       "    </tr>\n",
       "    <tr>\n",
       "      <th>1</th>\n",
       "      <td>Negative</td>\n",
       "      <td>67203</td>\n",
       "      <td>0.578613</td>\n",
       "    </tr>\n",
       "  </tbody>\n",
       "</table>\n",
       "</div>"
      ],
      "text/plain": [
       "  sentiment  count       pct\n",
       "0  Positive  48942  0.421387\n",
       "1  Negative  67203  0.578613"
      ]
     },
     "execution_count": 6,
     "metadata": {},
     "output_type": "execute_result"
    }
   ],
   "source": [
    "df3 = df3.withColumn('sentiment', lit(None))\n",
    "df3 = df3.withColumn('sentiment', when((col('overall_score') >= 1) & (col('overall_score') <= 5), \"Negative\").otherwise(col('sentiment')))\n",
    "df3 = df3.withColumn('sentiment', when((col('overall_score') >= 6) & (col('overall_score') <= 10), \"Positive\").otherwise(col('sentiment')))\n",
    "sentiment_dist = df3.groupBy('sentiment').count()\n",
    "sentiment_dist = sentiment_dist.withColumn('pct', col('count')/116145)\n",
    "sentiment_dist.toPandas()"
   ]
  },
  {
   "cell_type": "code",
   "execution_count": 7,
   "id": "5810d051-c8d6-435e-b9f9-bc55baf4f6f0",
   "metadata": {},
   "outputs": [
    {
     "data": {
      "text/html": [
       "<div>\n",
       "<style scoped>\n",
       "    .dataframe tbody tr th:only-of-type {\n",
       "        vertical-align: middle;\n",
       "    }\n",
       "\n",
       "    .dataframe tbody tr th {\n",
       "        vertical-align: top;\n",
       "    }\n",
       "\n",
       "    .dataframe thead th {\n",
       "        text-align: right;\n",
       "    }\n",
       "</style>\n",
       "<table border=\"1\" class=\"dataframe\">\n",
       "  <thead>\n",
       "    <tr style=\"text-align: right;\">\n",
       "      <th></th>\n",
       "      <th>review</th>\n",
       "      <th>sentiment</th>\n",
       "    </tr>\n",
       "  </thead>\n",
       "  <tbody>\n",
       "    <tr>\n",
       "      <th>0</th>\n",
       "      <td>Moroni to Moheli. Turned out to be a pretty de...</td>\n",
       "      <td>Positive</td>\n",
       "    </tr>\n",
       "    <tr>\n",
       "      <th>1</th>\n",
       "      <td>Moroni to Anjouan. It is a very small airline....</td>\n",
       "      <td>Negative</td>\n",
       "    </tr>\n",
       "    <tr>\n",
       "      <th>2</th>\n",
       "      <td>Anjouan to Dzaoudzi. A very small airline and ...</td>\n",
       "      <td>Negative</td>\n",
       "    </tr>\n",
       "    <tr>\n",
       "      <th>3</th>\n",
       "      <td>Havana - Cayo Coco return. A one hour flight w...</td>\n",
       "      <td>Positive</td>\n",
       "    </tr>\n",
       "    <tr>\n",
       "      <th>4</th>\n",
       "      <td>Holguin to Havana last week. Okay apart from i...</td>\n",
       "      <td>Negative</td>\n",
       "    </tr>\n",
       "    <tr>\n",
       "      <th>...</th>\n",
       "      <td>...</td>\n",
       "      <td>...</td>\n",
       "    </tr>\n",
       "    <tr>\n",
       "      <th>116140</th>\n",
       "      <td>Treviso to Lviv. Seemed like a new plane. Very...</td>\n",
       "      <td>Positive</td>\n",
       "    </tr>\n",
       "    <tr>\n",
       "      <th>116141</th>\n",
       "      <td>Rome to Prague. Was very happy with the flight...</td>\n",
       "      <td>Positive</td>\n",
       "    </tr>\n",
       "    <tr>\n",
       "      <th>116142</th>\n",
       "      <td>We often fly with Wizzair to/from Charleroi/Bu...</td>\n",
       "      <td>Positive</td>\n",
       "    </tr>\n",
       "    <tr>\n",
       "      <th>116143</th>\n",
       "      <td>PRG-LTN and LTN-PRG were rather good flights. ...</td>\n",
       "      <td>Negative</td>\n",
       "    </tr>\n",
       "    <tr>\n",
       "      <th>116144</th>\n",
       "      <td>London - Kiev. First problem started a few wee...</td>\n",
       "      <td>Negative</td>\n",
       "    </tr>\n",
       "  </tbody>\n",
       "</table>\n",
       "<p>116145 rows × 2 columns</p>\n",
       "</div>"
      ],
      "text/plain": [
       "                                                   review sentiment\n",
       "0       Moroni to Moheli. Turned out to be a pretty de...  Positive\n",
       "1       Moroni to Anjouan. It is a very small airline....  Negative\n",
       "2       Anjouan to Dzaoudzi. A very small airline and ...  Negative\n",
       "3       Havana - Cayo Coco return. A one hour flight w...  Positive\n",
       "4       Holguin to Havana last week. Okay apart from i...  Negative\n",
       "...                                                   ...       ...\n",
       "116140  Treviso to Lviv. Seemed like a new plane. Very...  Positive\n",
       "116141  Rome to Prague. Was very happy with the flight...  Positive\n",
       "116142  We often fly with Wizzair to/from Charleroi/Bu...  Positive\n",
       "116143  PRG-LTN and LTN-PRG were rather good flights. ...  Negative\n",
       "116144  London - Kiev. First problem started a few wee...  Negative\n",
       "\n",
       "[116145 rows x 2 columns]"
      ]
     },
     "execution_count": 7,
     "metadata": {},
     "output_type": "execute_result"
    }
   ],
   "source": [
    "df3[['review', 'sentiment']].toPandas()"
   ]
  },
  {
   "cell_type": "code",
   "execution_count": 38,
   "id": "34cdea14-dff9-4b59-857a-48c06aff8f50",
   "metadata": {},
   "outputs": [],
   "source": [
    "def calculateClassificationMetrics(pred):\n",
    "    tp = pred[(pred['label'] == 1) & (pred['prediction'] == 1)].count()\n",
    "    tn = pred[(pred['label'] == 0) & (pred['prediction'] == 0)].count()\n",
    "    fp = pred[(pred['label'] == 0) & (pred['prediction'] == 1)].count()\n",
    "    fn = pred[(pred['label'] == 1) & (pred['prediction'] == 0)].count()\n",
    "    accuracy = (tp + tn)/(tp + tn + fp + fn)\n",
    "    precision = tp/(tp + fp)\n",
    "    recall = tp/(tp + fn)\n",
    "    f1 = (2 * precision * recall)/(precision + recall)\n",
    "    return accuracy, precision, recall, f1"
   ]
  },
  {
   "cell_type": "code",
   "execution_count": 39,
   "id": "c22ad9f1-d04d-49a8-b052-0c1ee0cbab13",
   "metadata": {},
   "outputs": [],
   "source": [
    "def classificationMetrics(train_pred, test_pred):\n",
    "    train_accuracy, train_precision, train_recall, train_f1 = calculateClassificationMetrics(train_pred)\n",
    "    test_accuracy, test_precision, test_recall, test_f1 = calculateClassificationMetrics(test_pred)\n",
    "    \n",
    "    print(f\"Train Accuracy Score: {train_accuracy}\")\n",
    "    print(f\"Test Accuracy Score: {test_accuracy}\")\n",
    "    \n",
    "    print(f\"Train Precision Score: {train_precision}\")\n",
    "    print(f\"Test Precision Score: {test_precision}\")\n",
    "    \n",
    "    print(f\"Train Recall Score: {train_recall}\")\n",
    "    print(f\"Test Recall Score: {test_recall}\")\n",
    "    \n",
    "    print(f\"Train F1 Score: {train_f1}\")\n",
    "    print(f\"Test F1 Score: {test_f1}\")"
   ]
  },
  {
   "cell_type": "code",
   "execution_count": 8,
   "id": "722a5ee8-de69-463a-ae72-02d16aff1e01",
   "metadata": {},
   "outputs": [],
   "source": [
    "add_stopwords = [\n",
    "\"0o\", \"0s\", \"3a\", \"3b\", \"3d\", \"6b\", \"6o\", \"a\", \"a1\", \"a2\", \"a3\", \"a4\", \"ab\", \"able\", \"about\", \"above\", \"abst\", \"ac\", \"accordance\", \"according\", \"accordingly\", \"across\", \"act\", \"actually\", \"ad\", \"added\", \"adj\", \"ae\", \"af\", \"affected\", \"affecting\", \"affects\", \"after\", \"afterwards\", \"ag\", \"again\", \"against\", \"ah\", \"ain\", \"ain't\", \"aj\", \"al\", \"all\", \"allow\", \"allows\", \"almost\", \"alone\", \"along\", \"already\", \"also\", \"although\", \"always\", \"am\", \"among\", \"amongst\", \"amoungst\", \"amount\", \"an\", \"and\", \"announce\", \"another\", \"any\", \"anybody\", \"anyhow\", \"anymore\", \"anyone\", \"anything\", \"anyway\", \"anyways\", \"anywhere\", \"ao\", \"ap\", \"apart\", \"apparently\", \"appear\", \"appreciate\", \"appropriate\", \"approximately\", \"ar\", \"are\", \"aren\", \"arent\", \"aren't\", \"arise\", \"around\", \"as\", \"a's\", \"aside\", \"ask\", \"asking\", \"associated\", \"at\", \"au\", \"auth\", \"av\", \"available\", \"aw\", \"away\", \"awfully\", \"ax\", \"ay\", \"az\", \"b\", \"b1\", \"b2\", \"b3\", \"ba\", \"back\", \"bc\", \"bd\", \"be\", \"became\", \"because\", \"become\", \"becomes\", \"becoming\", \"been\", \"before\", \"beforehand\", \"begin\", \"beginning\", \"beginnings\", \"begins\", \"behind\", \"being\", \"believe\", \"below\", \"beside\", \"besides\", \"best\", \"better\", \"between\", \"beyond\", \"bi\", \"bill\", \"biol\", \"bj\", \"bk\", \"bl\", \"bn\", \"both\", \"bottom\", \"bp\", \"br\", \"brief\", \"briefly\", \"bs\", \"bt\", \"bu\", \"but\", \"bx\", \"by\", \"c\", \"c1\", \"c2\", \"c3\", \"ca\", \"call\", \"came\", \"can\", \"cannot\", \"cant\", \"can't\", \"cause\", \"causes\", \"cc\", \"cd\", \"ce\", \"certain\", \"certainly\", \"cf\", \"cg\", \"ch\", \"changes\", \"ci\", \"cit\", \"cj\", \"cl\", \"clearly\", \"cm\", \"c'mon\", \"cn\", \"co\", \"com\", \"come\", \"comes\", \"con\", \"concerning\", \"consequently\", \"consider\", \"considering\", \"contain\", \"containing\", \"contains\", \"corresponding\", \"could\", \"couldn\", \"couldnt\", \"couldn't\", \"course\", \"cp\", \"cq\", \"cr\", \"cry\", \"cs\", \"c's\", \"ct\", \"cu\", \"currently\", \"cv\", \"cx\", \"cy\", \"cz\", \"d\", \"d2\", \"da\", \"date\", \"dc\", \"dd\", \"de\", \"definitely\", \"describe\", \"described\", \"despite\", \"detail\", \"df\", \"di\", \"did\", \"didn\", \"didn't\", \"different\", \"dj\", \"dk\", \"dl\", \"do\", \"does\", \"doesn\", \"doesn't\", \"doing\", \"don\", \"done\", \"don't\", \"down\", \"downwards\", \"dp\", \"dr\", \"ds\", \"dt\", \"du\", \"due\", \"during\", \"dx\", \"dy\", \"e\", \"e2\", \"e3\", \"ea\", \"each\", \"ec\", \"ed\", \"edu\", \"ee\", \"ef\", \"effect\", \"eg\", \"ei\", \"eight\", \"eighty\", \"either\", \"ej\", \"el\", \"eleven\", \"else\", \"elsewhere\", \"em\", \"empty\", \"en\", \"end\", \"ending\", \"enough\", \"entirely\", \"eo\", \"ep\", \"eq\", \"er\", \"es\", \"especially\", \"est\", \"et\", \"et-al\", \"etc\", \"eu\", \"ev\", \"even\", \"ever\", \"every\", \"everybody\", \"everyone\", \"everything\", \"everywhere\", \"ex\", \"exactly\", \"example\", \"except\", \"ey\", \"f\", \"f2\", \"fa\", \"far\", \"fc\", \"few\", \"ff\", \"fi\", \"fifteen\", \"fifth\", \"fify\", \"fill\", \"find\", \"fire\", \"first\", \"five\", \"fix\", \"fj\", \"fl\", \"fn\", \"fo\", \"followed\", \"following\", \"follows\", \"for\", \"former\", \"formerly\", \"forth\", \"forty\", \"found\", \"four\", \"fr\", \"from\", \"front\", \"fs\", \"ft\", \"fu\", \"full\", \"further\", \"furthermore\", \"fy\", \"g\", \"ga\", \"gave\", \"ge\", \"get\", \"gets\", \"getting\", \"gi\", \"give\", \"given\", \"gives\", \"giving\", \"gj\", \"gl\", \"go\", \"goes\", \"going\", \"gone\", \"got\", \"gotten\", \"gr\", \"greetings\", \"gs\", \"gy\", \"h\", \"h2\", \"h3\", \"had\", \"hadn\", \"hadn't\", \"happens\", \"hardly\", \"has\", \"hasn\", \"hasnt\", \"hasn't\", \"have\", \"haven\", \"haven't\", \"having\", \"he\", \"hed\", \"he'd\", \"he'll\", \"hello\", \"help\", \"hence\", \"her\", \"here\", \"hereafter\", \"hereby\", \"herein\", \"heres\", \"here's\", \"hereupon\", \"hers\", \"herself\", \"hes\", \"he's\", \"hh\", \"hi\", \"hid\", \"him\", \"himself\", \"his\", \"hither\", \"hj\", \"ho\", \"home\", \"hopefully\", \"how\", \"howbeit\", \"however\", \"how's\", \"hr\", \"hs\", \"http\", \"hu\", \"hundred\", \"hy\", \"i\", \"i2\", \"i3\", \"i4\", \"i6\", \"i7\", \"i8\", \"ia\", \"ib\", \"ibid\", \"ic\", \"id\", \"i'd\", \"ie\", \"if\", \"ig\", \"ignored\", \"ih\", \"ii\", \"ij\", \"il\", \"i'll\", \"im\", \"i'm\", \"immediate\", \"immediately\", \"importance\", \"important\", \"in\", \"inasmuch\", \"inc\", \"indeed\", \"index\", \"indicate\", \"indicated\", \"indicates\", \"information\", \"inner\", \"insofar\", \"instead\", \"interest\", \"into\", \"invention\", \"inward\", \"io\", \"ip\", \"iq\", \"ir\", \"is\", \"isn\", \"isn't\", \"it\", \"itd\", \"it'd\", \"it'll\", \"its\", \"it's\", \"itself\", \"iv\", \"i've\", \"ix\", \"iy\", \"iz\", \"j\", \"jj\", \"jr\", \"js\", \"jt\", \"ju\", \"just\", \"k\", \"ke\", \"keep\", \"keeps\", \"kept\", \"kg\", \"kj\", \"km\", \"know\", \"known\", \"knows\", \"ko\", \"l\", \"l2\", \"la\", \"largely\", \"last\", \"lately\", \"later\", \"latter\", \"latterly\", \"lb\", \"lc\", \"le\", \"least\", \"les\", \"less\", \"lest\", \"let\", \"lets\", \"let's\", \"lf\", \"like\", \"liked\", \"likely\", \"line\", \"little\", \"lj\", \"ll\", \"ll\", \"ln\", \"lo\", \"look\", \"looking\", \"looks\", \"los\", \"lr\", \"ls\", \"lt\", \"ltd\", \"m\", \"m2\", \"ma\", \"made\", \"mainly\", \"make\", \"makes\", \"many\", \"may\", \"maybe\", \"me\", \"mean\", \"means\", \"meantime\", \"meanwhile\", \"merely\", \"mg\", \"might\", \"mightn\", \"mightn't\", \"mill\", \"million\", \"mine\", \"miss\", \"ml\", \"mn\", \"mo\", \"more\", \"moreover\", \"most\", \"mostly\", \"move\", \"mr\", \"mrs\", \"ms\", \"mt\", \"mu\", \"much\", \"mug\", \"must\", \"mustn\", \"mustn't\", \"my\", \"myself\", \"n\", \"n2\", \"na\", \"name\", \"namely\", \"nay\", \"nc\", \"nd\", \"ne\", \"near\", \"nearly\", \"necessarily\", \"necessary\", \"need\", \"needn\", \"needn't\", \"needs\", \"neither\", \"never\", \"nevertheless\", \"new\", \"next\", \"ng\", \"ni\", \"nine\", \"ninety\", \"nj\", \"nl\", \"nn\", \"no\", \"nobody\", \"non\", \"none\", \"nonetheless\", \"noone\", \"nor\", \"normally\", \"nos\", \"not\", \"noted\", \"nothing\", \"novel\", \"now\", \"nowhere\", \"nr\", \"ns\", \"nt\", \"ny\", \"o\", \"oa\", \"ob\", \"obtain\", \"obtained\", \"obviously\", \"oc\", \"od\", \"of\", \"off\", \"often\", \"og\", \"oh\", \"oi\", \"oj\", \"ok\", \"okay\", \"ol\", \"old\", \"om\", \"omitted\", \"on\", \"once\", \"one\", \"ones\", \"only\", \"onto\", \"oo\", \"op\", \"oq\", \"or\", \"ord\", \"os\", \"ot\", \"other\", \"others\", \"otherwise\", \"ou\", \"ought\", \"our\", \"ours\", \"ourselves\", \"out\", \"outside\", \"over\", \"overall\", \"ow\", \"owing\", \"own\", \"ox\", \"oz\", \"p\", \"p1\", \"p2\", \"p3\", \"page\", \"pagecount\", \"pages\", \"par\", \"part\", \"particular\", \"particularly\", \"pas\", \"past\", \"pc\", \"pd\", \"pe\", \"per\", \"perhaps\", \"pf\", \"ph\", \"pi\", \"pj\", \"pk\", \"pl\", \"placed\", \"please\", \"plus\", \"pm\", \"pn\", \"po\", \"poorly\", \"possible\", \"possibly\", \"potentially\", \"pp\", \"pq\", \"pr\", \"predominantly\", \"present\", \"presumably\", \"previously\", \"primarily\", \"probably\", \"promptly\", \"proud\", \"provides\", \"ps\", \"pt\", \"pu\", \"put\", \"py\", \"q\", \"qj\", \"qu\", \"que\", \"quickly\", \"quite\", \"qv\", \"r\", \"r2\", \"ra\", \"ran\", \"rather\", \"rc\", \"rd\", \"re\", \"readily\", \"really\", \"reasonably\", \"recent\", \"recently\", \"ref\", \"refs\", \"regarding\", \"regardless\", \"regards\", \"related\", \"relatively\", \"research\", \"research-articl\", \"respectively\", \"resulted\", \"resulting\", \"results\", \"rf\", \"rh\", \"ri\", \"right\", \"rj\", \"rl\", \"rm\", \"rn\", \"ro\", \"rq\", \"rr\", \"rs\", \"rt\", \"ru\", \"run\", \"rv\", \"ry\", \"s\", \"s2\", \"sa\", \"said\", \"same\", \"saw\", \"say\", \"saying\", \"says\", \"sc\", \"sd\", \"se\", \"sec\", \"second\", \"secondly\", \"section\", \"see\", \"seeing\", \"seem\", \"seemed\", \"seeming\", \"seems\", \"seen\", \"self\", \"selves\", \"sensible\", \"sent\", \"serious\", \"seriously\", \"seven\", \"several\", \"sf\", \"shall\", \"shan\", \"shan't\", \"she\", \"shed\", \"she'd\", \"she'll\", \"shes\", \"she's\", \"should\", \"shouldn\", \"shouldn't\", \"should've\", \"show\", \"showed\", \"shown\", \"showns\", \"shows\", \"si\", \"side\", \"significant\", \"significantly\", \"similar\", \"similarly\", \"since\", \"sincere\", \"six\", \"sixty\", \"sj\", \"sl\", \"slightly\", \"sm\", \"sn\", \"so\", \"some\", \"somebody\", \"somehow\", \"someone\", \"somethan\", \"something\", \"sometime\", \"sometimes\", \"somewhat\", \"somewhere\", \"soon\", \"sorry\", \"sp\", \"specifically\", \"specified\", \"specify\", \"specifying\", \"sq\", \"sr\", \"ss\", \"st\", \"still\", \"stop\", \"strongly\", \"sub\", \"substantially\", \"successfully\", \"such\", \"sufficiently\", \"suggest\", \"sup\", \"sure\", \"sy\", \"system\", \"sz\", \"t\", \"t1\", \"t2\", \"t3\", \"take\", \"taken\", \"taking\", \"tb\", \"tc\", \"td\", \"te\", \"tell\", \"ten\", \"tends\", \"tf\", \"th\", \"than\", \"thank\", \"thanks\", \"thanx\", \"that\", \"that'll\", \"thats\", \"that's\", \"that've\", \"the\", \"their\", \"theirs\", \"them\", \"themselves\", \"then\", \"thence\", \"there\", \"thereafter\", \"thereby\", \"thered\", \"therefore\", \"therein\", \"there'll\", \"thereof\", \"therere\", \"theres\", \"there's\", \"thereto\", \"thereupon\", \"there've\", \"these\", \"they\", \"theyd\", \"they'd\", \"they'll\", \"theyre\", \"they're\", \"they've\", \"thickv\", \"thin\", \"think\", \"third\", \"this\", \"thorough\", \"thoroughly\", \"those\", \"thou\", \"though\", \"thoughh\", \"thousand\", \"three\", \"throug\", \"through\", \"throughout\", \"thru\", \"thus\", \"ti\", \"til\", \"tip\", \"tj\", \"tl\", \"tm\", \"tn\", \"to\", \"together\", \"too\", \"took\", \"top\", \"toward\", \"towards\", \"tp\", \"tq\", \"tr\", \"tried\", \"tries\", \"truly\", \"try\", \"trying\", \"ts\", \"t's\", \"tt\", \"tv\", \"twelve\", \"twenty\", \"twice\", \"two\", \"tx\", \"u\", \"u201d\", \"ue\", \"ui\", \"uj\", \"uk\", \"um\", \"un\", \"under\", \"unfortunately\", \"unless\", \"unlike\", \"unlikely\", \"until\", \"unto\", \"uo\", \"up\", \"upon\", \"ups\", \"ur\", \"us\", \"use\", \"used\", \"useful\", \"usefully\", \"usefulness\", \"uses\", \"using\", \"usually\", \"ut\", \"v\", \"va\", \"value\", \"various\", \"vd\", \"ve\", \"ve\", \"very\", \"via\", \"viz\", \"vj\", \"vo\", \"vol\", \"vols\", \"volumtype\", \"vq\", \"vs\", \"vt\", \"vu\", \"w\", \"wa\", \"want\", \"wants\", \"was\", \"wasn\", \"wasnt\", \"wasn't\", \"way\", \"we\", \"wed\", \"we'd\", \"welcome\", \"well\", \"we'll\", \"well-b\", \"went\", \"were\", \"we're\", \"weren\", \"werent\", \"weren't\", \"we've\", \"what\", \"whatever\", \"what'll\", \"whats\", \"what's\", \"when\", \"whence\", \"whenever\", \"when's\", \"where\", \"whereafter\", \"whereas\", \"whereby\", \"wherein\", \"wheres\", \"where's\", \"whereupon\", \"wherever\", \"whether\", \"which\", \"while\", \"whim\", \"whither\", \"who\", \"whod\", \"whoever\", \"whole\", \"who'll\", \"whom\", \"whomever\", \"whos\", \"who's\", \"whose\", \"why\", \"why's\", \"wi\", \"widely\", \"will\", \"willing\", \"wish\", \"with\", \"within\", \"without\", \"wo\", \"won\", \"wonder\", \"wont\", \"won't\", \"words\", \"world\", \"would\", \"wouldn\", \"wouldnt\", \"wouldn't\", \"www\", \"x\", \"x1\", \"x2\", \"x3\", \"xf\", \"xi\", \"xj\", \"xk\", \"xl\", \"xn\", \"xo\", \"xs\", \"xt\", \"xv\", \"xx\", \"y\", \"y2\", \"yes\", \"yet\", \"yj\", \"yl\", \"you\", \"youd\", \"you'd\", \"you'll\", \"your\", \"youre\", \"you're\", \"yours\", \"yourself\", \"yourselves\", \"you've\", \"yr\", \"ys\", \"yt\", \"z\", \"zero\", \"zi\", \"zz\",]\n"
   ]
  },
  {
   "cell_type": "code",
   "execution_count": 9,
   "id": "af831f0e-61f6-436d-ae5d-a634410cbbbf",
   "metadata": {},
   "outputs": [],
   "source": [
    "regexTokenizer = RegexTokenizer(inputCol = \"review\", outputCol = \"words\", pattern = \"\\\\W\")\n",
    "stopwordsRemover = StopWordsRemover(inputCol = \"words\", outputCol = \"filtered\").setStopWords(add_stopwords)\n",
    "countVectors = CountVectorizer(inputCol = \"filtered\", outputCol = \"features\", vocabSize = 30000, minDF = 5)\n",
    "hashingTF = HashingTF(inputCol = \"filtered\", outputCol = \"rawFeatures\", numFeatures = 30000)\n",
    "idf = IDF(inputCol = \"rawFeatures\", outputCol = \"features\", minDocFreq = 5)\n",
    "word2vecVectors = Word2Vec(inputCol = \"filtered\", outputCol = \"features\", vectorSize = 5)"
   ]
  },
  {
   "cell_type": "code",
   "execution_count": 10,
   "id": "922bfbed-3619-4e72-9eb5-1331940b6afc",
   "metadata": {},
   "outputs": [
    {
     "name": "stderr",
     "output_type": "stream",
     "text": [
      "                                                                                \r"
     ]
    }
   ],
   "source": [
    "label_stringIdx = StringIndexer(inputCol = \"sentiment\", outputCol = \"label\")\n",
    "\n",
    "pipeline1 = Pipeline(stages = [regexTokenizer, stopwordsRemover, countVectors, label_stringIdx])\n",
    "\n",
    "pipelineFit1 = pipeline1.fit(df3)\n",
    "dataset1 = pipelineFit1.transform(df3)"
   ]
  },
  {
   "cell_type": "code",
   "execution_count": 11,
   "id": "3d5cd9a3-68a1-4a09-911a-5d6be4824d8a",
   "metadata": {},
   "outputs": [
    {
     "data": {
      "text/plain": [
       "116145"
      ]
     },
     "execution_count": 11,
     "metadata": {},
     "output_type": "execute_result"
    }
   ],
   "source": [
    "dataset1.count()"
   ]
  },
  {
   "cell_type": "code",
   "execution_count": 12,
   "id": "1e38fd24-d349-4ca1-b172-a0ca22b58e73",
   "metadata": {},
   "outputs": [
    {
     "name": "stdout",
     "output_type": "stream",
     "text": [
      "root\n",
      " |-- aircraft: string (nullable = true)\n",
      " |-- airline_name: string (nullable = true)\n",
      " |-- cabin_type: string (nullable = true)\n",
      " |-- date_flown: string (nullable = true)\n",
      " |-- date_pub: string (nullable = true)\n",
      " |-- entertainment_rating: integer (nullable = true)\n",
      " |-- food_rating: integer (nullable = true)\n",
      " |-- ground_service_rating: integer (nullable = true)\n",
      " |-- origin_country: string (nullable = true)\n",
      " |-- overall_score: integer (nullable = true)\n",
      " |-- recommended: string (nullable = true)\n",
      " |-- review: string (nullable = true)\n",
      " |-- route: string (nullable = true)\n",
      " |-- seat_comfort_rating: integer (nullable = true)\n",
      " |-- service_rating: integer (nullable = true)\n",
      " |-- slug: string (nullable = true)\n",
      " |-- title: string (nullable = true)\n",
      " |-- travel_type: string (nullable = true)\n",
      " |-- trip_verified: string (nullable = true)\n",
      " |-- value_rating: integer (nullable = true)\n",
      " |-- wifi_rating: integer (nullable = true)\n",
      " |-- unique_id: string (nullable = true)\n",
      " |-- day_pub: string (nullable = true)\n",
      " |-- month_pub: string (nullable = true)\n",
      " |-- year_pub: integer (nullable = true)\n",
      " |-- month_flown: string (nullable = true)\n",
      " |-- year_flown: integer (nullable = true)\n",
      " |-- day_pub_2: string (nullable = true)\n",
      " |-- month_pub_2: integer (nullable = true)\n",
      " |-- month_flown_2: integer (nullable = true)\n",
      " |-- date_pub_2: string (nullable = true)\n",
      " |-- date_flown_2: string (nullable = true)\n",
      " |-- sentiment: string (nullable = true)\n",
      " |-- words: array (nullable = true)\n",
      " |    |-- element: string (containsNull = true)\n",
      " |-- filtered: array (nullable = true)\n",
      " |    |-- element: string (containsNull = true)\n",
      " |-- features: vector (nullable = true)\n",
      " |-- label: double (nullable = false)\n",
      "\n"
     ]
    }
   ],
   "source": [
    "dataset1.printSchema()"
   ]
  },
  {
   "cell_type": "code",
   "execution_count": 13,
   "id": "e8b7ae03-8939-4e6c-a6a1-e678d86180f8",
   "metadata": {},
   "outputs": [
    {
     "name": "stderr",
     "output_type": "stream",
     "text": [
      "23/11/25 19:03:25 WARN org.apache.spark.sql.catalyst.util.package: Truncated the string representation of a plan since it was too large. This behavior can be adjusted by setting 'spark.sql.debug.maxToStringFields'.\n",
      "                                                                                \r"
     ]
    },
    {
     "name": "stdout",
     "output_type": "stream",
     "text": [
      "Training Dataset Count: 81057\n"
     ]
    },
    {
     "name": "stderr",
     "output_type": "stream",
     "text": [
      "[Stage 25:================================>                        (9 + 7) / 16]\r"
     ]
    },
    {
     "name": "stdout",
     "output_type": "stream",
     "text": [
      "Test Dataset Count: 35088\n"
     ]
    },
    {
     "name": "stderr",
     "output_type": "stream",
     "text": [
      "                                                                                \r"
     ]
    }
   ],
   "source": [
    "trainingData1, testData1 = dataset1.randomSplit([0.7, 0.3], seed = 100)\n",
    "print(\"Training Dataset Count: \" + str(trainingData1.count()))\n",
    "print(\"Test Dataset Count: \" + str(testData1.count()))"
   ]
  },
  {
   "cell_type": "code",
   "execution_count": 14,
   "id": "8d3bcff1-04d8-4e3b-8f35-eaec26e5be62",
   "metadata": {},
   "outputs": [
    {
     "name": "stderr",
     "output_type": "stream",
     "text": [
      "23/11/25 19:03:42 WARN com.github.fommil.netlib.BLAS: Failed to load implementation from: com.github.fommil.netlib.NativeSystemBLAS\n",
      "23/11/25 19:03:42 WARN com.github.fommil.netlib.BLAS: Failed to load implementation from: com.github.fommil.netlib.NativeRefBLAS\n",
      "                                                                                \r"
     ]
    }
   ],
   "source": [
    "lr1 = LogisticRegression(maxIter = 20, regParam = 0.3, elasticNetParam = 0)\n",
    "lrModel1 = lr1.fit(trainingData1)\n",
    "\n",
    "predictionsTrainingData1 = lrModel1.transform(trainingData1)\n",
    "predictionsTestData1 = lrModel1.transform(testData1)"
   ]
  },
  {
   "cell_type": "code",
   "execution_count": 15,
   "id": "20cc3f1f-cebc-4a60-ab86-2aa940912a27",
   "metadata": {},
   "outputs": [
    {
     "name": "stderr",
     "output_type": "stream",
     "text": [
      "[Stage 78:====================================================>   (15 + 1) / 16]\r"
     ]
    },
    {
     "name": "stdout",
     "output_type": "stream",
     "text": [
      "+------------------------------+---------+------------------------------+-----+----------+\n",
      "|                        review|sentiment|                   probability|label|prediction|\n",
      "+------------------------------+---------+------------------------------+-----+----------+\n",
      "|Newark to Minneapolis. Neit...| Negative|[0.9999966279554449,3.37204...|  0.0|       0.0|\n",
      "|At 3am the day of our 6pm f...| Negative|[0.9999928511409256,7.14885...|  0.0|       0.0|\n",
      "|Worst airline ever. Started...| Negative|[0.9999916482752221,8.35172...|  0.0|       0.0|\n",
      "|Newark to Melbourne via Los...| Negative|[0.9999915254627759,8.47453...|  0.0|       0.0|\n",
      "|The coronavirus-related com...| Negative|[0.9999901316115498,9.86838...|  0.0|       0.0|\n",
      "|On September 3 I had a flig...| Negative|[0.9999900893922343,9.91060...|  0.0|       0.0|\n",
      "|We flew from Dubrovonik to ...| Negative|[0.9999887268029753,1.12731...|  0.0|       0.0|\n",
      "|Tirana to Toronto via Warsa...| Negative|[0.9999839841147101,1.60158...|  0.0|       0.0|\n",
      "|My sister, brother, friend,...| Negative|[0.9999823731993372,1.76268...|  0.0|       0.0|\n",
      "|Porter Airlines delayed my ...| Negative|[0.9999814391610857,1.85608...|  0.0|       0.0|\n",
      "+------------------------------+---------+------------------------------+-----+----------+\n",
      "only showing top 10 rows\n",
      "\n"
     ]
    },
    {
     "name": "stderr",
     "output_type": "stream",
     "text": [
      "                                                                                \r"
     ]
    }
   ],
   "source": [
    "predictionsTrainingData1.filter(predictionsTrainingData1['prediction'] == 0).select(\"review\", \"sentiment\", \"probability\", \"label\", \"prediction\")\\\n",
    ".orderBy(\"probability\", ascending = False).show(n = 10, truncate = 30)"
   ]
  },
  {
   "cell_type": "code",
   "execution_count": 16,
   "id": "2010411f-d597-4ddd-9c11-6bf3b41ab6a7",
   "metadata": {},
   "outputs": [
    {
     "name": "stderr",
     "output_type": "stream",
     "text": [
      "[Stage 79:==========================================>             (12 + 4) / 16]\r"
     ]
    },
    {
     "name": "stdout",
     "output_type": "stream",
     "text": [
      "+------------------------------+---------+------------------------------+-----+----------+\n",
      "|                        review|sentiment|                   probability|label|prediction|\n",
      "+------------------------------+---------+------------------------------+-----+----------+\n",
      "|This airline is by far the ...| Negative|[0.9999981234687301,1.87653...|  0.0|       0.0|\n",
      "|Toronto to Rome via London....| Negative|[0.9999898991470405,1.01008...|  0.0|       0.0|\n",
      "|Las Vegas to San Francisco....| Negative|[0.9999848190041161,1.51809...|  0.0|       0.0|\n",
      "|New York to Cartagena. We b...| Negative|[0.9999805559204578,1.94440...|  0.0|       0.0|\n",
      "|Extremely dissatisfied with...| Negative|[0.9999802130820998,1.97869...|  0.0|       0.0|\n",
      "|Bangkok to Kuwait via Bahra...| Negative|[0.9999782217930389,2.17782...|  0.0|       0.0|\n",
      "|I have used easyJet many ma...| Negative|[0.9999771644463757,2.28355...|  0.0|       0.0|\n",
      "|I had very unpleasant exper...| Negative|[0.9999739384462596,2.60615...|  0.0|       0.0|\n",
      "|I am very unhappy. My plane...| Negative|[0.9999738415663368,2.61584...|  0.0|       0.0|\n",
      "|Vancouver to Calgary. Origi...| Negative|[0.9999699738151014,3.00261...|  0.0|       0.0|\n",
      "+------------------------------+---------+------------------------------+-----+----------+\n",
      "only showing top 10 rows\n",
      "\n"
     ]
    },
    {
     "name": "stderr",
     "output_type": "stream",
     "text": [
      "                                                                                \r"
     ]
    }
   ],
   "source": [
    "predictionsTestData1.filter(predictionsTestData1['prediction'] == 0).select(\"review\", \"sentiment\", \"probability\", \"label\", \"prediction\")\\\n",
    ".orderBy(\"probability\", ascending = False).show(n = 10, truncate = 30)"
   ]
  },
  {
   "cell_type": "code",
   "execution_count": 17,
   "id": "57b9ad20-91c7-4cd6-bbb6-a3f87e92d675",
   "metadata": {},
   "outputs": [
    {
     "name": "stderr",
     "output_type": "stream",
     "text": [
      "[Stage 80:====================================================>   (15 + 1) / 16]\r"
     ]
    },
    {
     "name": "stdout",
     "output_type": "stream",
     "text": [
      "+------------------------------+---------+------------------------------+-----+----------+\n",
      "|                        review|sentiment|                   probability|label|prediction|\n",
      "+------------------------------+---------+------------------------------+-----+----------+\n",
      "|Buenos Aires Ezeiza to Madr...| Negative|[0.4999884329291627,0.50001...|  0.0|       1.0|\n",
      "|Most of it was fine. It was...| Positive|[0.4999803453391057,0.50001...|  1.0|       1.0|\n",
      "|Rating : 4/10 Cabin Flown E...| Negative|[0.4999278683918124,0.50007...|  0.0|       1.0|\n",
      "|The plane was clean and air...| Positive|[0.4999216238318894,0.50007...|  1.0|       1.0|\n",
      "|2am departure from Phuket t...| Positive|[0.4999183739831197,0.50008...|  1.0|       1.0|\n",
      "|MIA-NAS and return with ATR...| Positive|[0.4998775776921774,0.50012...|  1.0|       1.0|\n",
      "|Puerto Escondido to Mexico ...| Positive|[0.4998755301869898,0.50012...|  1.0|       1.0|\n",
      "|Went ORD-DCA-ORD to visit f...| Positive|[0.4998428105569588,0.50015...|  1.0|       1.0|\n",
      "|Quite average flights on Br...| Negative|[0.4998367567860259,0.50016...|  0.0|       1.0|\n",
      "|I am a customer of size and...| Positive|[0.4998311138173119,0.50016...|  1.0|       1.0|\n",
      "+------------------------------+---------+------------------------------+-----+----------+\n",
      "only showing top 10 rows\n",
      "\n"
     ]
    },
    {
     "name": "stderr",
     "output_type": "stream",
     "text": [
      "                                                                                \r"
     ]
    }
   ],
   "source": [
    "predictionsTrainingData1.filter(predictionsTrainingData1['prediction'] == 1).select(\"review\", \"sentiment\", \"probability\", \"label\", \"prediction\")\\\n",
    ".orderBy(\"probability\", ascending = False).show(n = 10, truncate = 30)"
   ]
  },
  {
   "cell_type": "code",
   "execution_count": 18,
   "id": "8448d276-b758-4ec4-80e8-367f3fc6861e",
   "metadata": {},
   "outputs": [
    {
     "name": "stderr",
     "output_type": "stream",
     "text": [
      "[Stage 81:====================================================>   (15 + 1) / 16]\r"
     ]
    },
    {
     "name": "stdout",
     "output_type": "stream",
     "text": [
      "+------------------------------+---------+------------------------------+-----+----------+\n",
      "|                        review|sentiment|                   probability|label|prediction|\n",
      "+------------------------------+---------+------------------------------+-----+----------+\n",
      "|\"Flew QF548 SYD-BNE on 21 J...| Negative|[0.4999521886962785,0.50004...|  0.0|       1.0|\n",
      "|New Business class is worth...| Positive|[0.4998861851540609,0.50011...|  1.0|       1.0|\n",
      "|Cancun to Mexico City. Flig...| Positive|[0.4998420096852385,0.50015...|  1.0|       1.0|\n",
      "|Guangzhou to Melbourne with...| Positive|[0.4997612831196059,0.50023...|  1.0|       1.0|\n",
      "|Me my wife and our daughter...| Negative|[0.49974520583279636,0.5002...|  0.0|       1.0|\n",
      "|Flew PHX-DEN on 3/27 for $9...| Positive|[0.4996955357713769,0.50030...|  1.0|       1.0|\n",
      "|PDX-AMS-PDX. I was seated i...| Positive|[0.4996274123046569,0.50037...|  1.0|       1.0|\n",
      "|Bangkok to Toronto via Mani...| Positive|[0.4995985205155086,0.50040...|  1.0|       1.0|\n",
      "|My husband and I flew from ...| Positive|[0.4995867609208675,0.50041...|  1.0|       1.0|\n",
      "|Perth to Melbourne. The fli...| Positive|[0.49958360405177665,0.5004...|  1.0|       1.0|\n",
      "+------------------------------+---------+------------------------------+-----+----------+\n",
      "only showing top 10 rows\n",
      "\n"
     ]
    },
    {
     "name": "stderr",
     "output_type": "stream",
     "text": [
      "                                                                                \r"
     ]
    }
   ],
   "source": [
    "predictionsTestData1.filter(predictionsTestData1['prediction'] == 1).select(\"review\", \"sentiment\", \"probability\", \"label\", \"prediction\")\\\n",
    ".orderBy(\"probability\", ascending = False).show(n = 10, truncate = 30)"
   ]
  },
  {
   "cell_type": "code",
   "execution_count": 19,
   "id": "0d49566f-6a80-4fc8-9dcc-e1987f2825c9",
   "metadata": {},
   "outputs": [
    {
     "name": "stderr",
     "output_type": "stream",
     "text": [
      "[Stage 82:=================================================>      (14 + 2) / 16]\r"
     ]
    },
    {
     "name": "stdout",
     "output_type": "stream",
     "text": [
      "0.9370499114444601\n"
     ]
    },
    {
     "name": "stderr",
     "output_type": "stream",
     "text": [
      "                                                                                \r"
     ]
    }
   ],
   "source": [
    "evaluator1 = MulticlassClassificationEvaluator(predictionCol = \"prediction\")\n",
    "lrTrainingAccuracy1 = evaluator1.evaluate(predictionsTrainingData1)\n",
    "print(lrTrainingAccuracy1)"
   ]
  },
  {
   "cell_type": "code",
   "execution_count": 20,
   "id": "42c8f210-4398-4816-8d68-fde070a8532b",
   "metadata": {},
   "outputs": [
    {
     "name": "stderr",
     "output_type": "stream",
     "text": [
      "[Stage 84:====================================================>   (15 + 1) / 16]\r"
     ]
    },
    {
     "name": "stdout",
     "output_type": "stream",
     "text": [
      "0.9071343954460045\n"
     ]
    },
    {
     "name": "stderr",
     "output_type": "stream",
     "text": [
      "                                                                                \r"
     ]
    }
   ],
   "source": [
    "lrTestAccuracy1 = evaluator1.evaluate(predictionsTestData1)\n",
    "print(lrTestAccuracy1)"
   ]
  },
  {
   "cell_type": "code",
   "execution_count": 35,
   "id": "2e9e1a44-398b-4baf-853a-e31c133474c1",
   "metadata": {},
   "outputs": [
    {
     "name": "stdout",
     "output_type": "stream",
     "text": [
      "\n",
      "False positive rate by label:\n"
     ]
    },
    {
     "name": "stderr",
     "output_type": "stream",
     "text": [
      "[Stage 98:==========================================>             (12 + 4) / 16]\r"
     ]
    },
    {
     "name": "stdout",
     "output_type": "stream",
     "text": [
      "label 0: 0.08492612570356473\n",
      "label 1: 0.04682074768345937\n",
      "\n",
      "True positive rate by label:\n",
      "label 0: 0.9531792523165407\n",
      "label 1: 0.9150738742964353\n",
      "\n",
      "Precision by label:\n",
      "label 0: 0.9391948618923684\n",
      "label 1: 0.9342172208421872\n",
      "\n",
      "Recall by label:\n",
      "label 0: 0.9531792523165407\n",
      "label 1: 0.9150738742964353\n",
      "\n",
      "F-measure by label:\n",
      "label 0: 0.9461353857213841\n",
      "label 1: 0.9245464642724918\n",
      "\n",
      "Train Accuracy: 0.9371429981371134\n",
      "\n",
      "Train FPR: 0.06888987152413749\n",
      "\n",
      "Train TPR: 0.9371429981371133\n",
      "\n",
      "Train F-measure: 0.9370499114444601\n",
      "\n",
      "Train Precision: 0.9371000731448971\n",
      "\n",
      "Train Recall: 0.9371429981371133\n"
     ]
    },
    {
     "name": "stderr",
     "output_type": "stream",
     "text": [
      "                                                                                \r"
     ]
    }
   ],
   "source": [
    "lrTrainingSummary1 = lrModel1.summary\n",
    "\n",
    "print(\"\\nFalse positive rate by label:\")\n",
    "for i, rate in enumerate(lrTrainingSummary1.falsePositiveRateByLabel):\n",
    "    print(\"label %d: %s\" % (i, rate))\n",
    "\n",
    "print(\"\\nTrue positive rate by label:\")\n",
    "for i, rate in enumerate(lrTrainingSummary1.truePositiveRateByLabel):\n",
    "    print(\"label %d: %s\" % (i, rate))\n",
    "\n",
    "print(\"\\nPrecision by label:\")\n",
    "for i, prec in enumerate(lrTrainingSummary1.precisionByLabel):\n",
    "    print(\"label %d: %s\" % (i, prec))\n",
    "\n",
    "print(\"\\nRecall by label:\")\n",
    "for i, rec in enumerate(lrTrainingSummary1.recallByLabel):\n",
    "    print(\"label %d: %s\" % (i, rec))\n",
    "\n",
    "print(\"\\nF-measure by label:\")\n",
    "for i, f in enumerate(lrTrainingSummary1.fMeasureByLabel()):\n",
    "    print(\"label %d: %s\" % (i, f))\n",
    "\n",
    "lr_train_accuracy1 = lrTrainingSummary1.accuracy\n",
    "lr_train_falsePositiveRate1 = lrTrainingSummary1.weightedFalsePositiveRate\n",
    "lr_train_truePositiveRate1 = lrTrainingSummary1.weightedTruePositiveRate\n",
    "lr_train_fMeasure1 = lrTrainingSummary1.weightedFMeasure()\n",
    "lr_train_precision1 = lrTrainingSummary1.weightedPrecision\n",
    "lr_train_recall1 = lrTrainingSummary1.weightedRecall\n",
    "print(\"\\nTrain Accuracy: %s\\n\\nTrain FPR: %s\\n\\nTrain TPR: %s\\n\\nTrain F-measure: %s\\n\\nTrain Precision: %s\\n\\nTrain Recall: %s\"\n",
    "      % (lr_train_accuracy1, lr_train_falsePositiveRate1, lr_train_truePositiveRate1, lr_train_fMeasure1, lr_train_precision1, lr_train_recall1))"
   ]
  },
  {
   "cell_type": "code",
   "execution_count": 36,
   "id": "6fac9bda-e612-4489-add8-80e07d2f4df5",
   "metadata": {},
   "outputs": [
    {
     "name": "stderr",
     "output_type": "stream",
     "text": [
      "[Stage 110:=============>                                         (4 + 12) / 16]\r"
     ]
    },
    {
     "name": "stdout",
     "output_type": "stream",
     "text": [
      "\n",
      "Test Accuracy: 0.9284958687137261\n",
      "\n",
      "Test FPR: 0.10091174903589298\n",
      "\n",
      "Test TPR: 0.9073187414500683\n",
      "\n",
      "Test F-measure: 0.9071343954460045\n",
      "\n",
      "Test Precision: 0.9072019028628917\n",
      "\n",
      "Test Recall: 0.9073187414500683\n"
     ]
    },
    {
     "name": "stderr",
     "output_type": "stream",
     "text": [
      "                                                                                \r"
     ]
    }
   ],
   "source": [
    "lr_test_accuracy1 = evaluator1.evaluate(predictionsTestData1, {evaluator1.metricName: \"accuracy\"})\n",
    "lr_test_falsePositiveRate1 = evaluator1.evaluate(predictionsTestData1, {evaluator1.metricName: \"weightedFalsePositiveRate\"})\n",
    "lr_test_truePositiveRate1 = evaluator1.evaluate(predictionsTestData1, {evaluator1.metricName: \"weightedTruePositiveRate\"})\n",
    "lr_test_fMeasure1 = evaluator1.evaluate(predictionsTestData1, {evaluator1.metricName: \"f1\"})\n",
    "lr_test_precision1 = evaluator1.evaluate(predictionsTestData1, {evaluator1.metricName: \"weightedPrecision\"})\n",
    "lr_test_recall1 = evaluator1.evaluate(predictionsTestData1, {evaluator1.metricName: \"weightedRecall\"})\n",
    "\n",
    "print(\"\\nTest Accuracy: %s\\n\\nTest FPR: %s\\n\\nTest TPR: %s\\n\\nTest F-measure: %s\\n\\nTest Precision: %s\\n\\nTest Recall: %s\"\n",
    "      % (lr_test_accuracy1, lr_test_falsePositiveRate1, lr_test_truePositiveRate1, lr_test_fMeasure1, lr_test_precision1, lr_test_recall1))"
   ]
  },
  {
   "cell_type": "code",
   "execution_count": 40,
   "id": "5e16dd70-7ed0-4ca3-a503-c4c8db941538",
   "metadata": {},
   "outputs": [
    {
     "name": "stderr",
     "output_type": "stream",
     "text": [
      "[Stage 157:=============>                                         (4 + 12) / 16]\r"
     ]
    },
    {
     "name": "stdout",
     "output_type": "stream",
     "text": [
      "Train Accuracy Score: 0.9371429981371134\n",
      "Test Accuracy Score: 0.9073187414500684\n",
      "Train Precision Score: 0.9342172208421872\n",
      "Test Precision Score: 0.9014006379142976\n",
      "Train Recall Score: 0.9150738742964353\n",
      "Test Recall Score: 0.8766014834794336\n",
      "Train F1 Score: 0.9245464642724918\n",
      "Test F1 Score: 0.8888281143169697\n"
     ]
    },
    {
     "name": "stderr",
     "output_type": "stream",
     "text": [
      "                                                                                \r"
     ]
    }
   ],
   "source": [
    "classificationMetrics(predictionsTrainingData1, predictionsTestData1)"
   ]
  },
  {
   "cell_type": "code",
   "execution_count": 41,
   "id": "feaab2e4-1d0f-4f57-81ea-83b457d67a13",
   "metadata": {},
   "outputs": [
    {
     "name": "stderr",
     "output_type": "stream",
     "text": [
      "                                                                                \r"
     ]
    }
   ],
   "source": [
    "pipeline2 = Pipeline(stages = [regexTokenizer, stopwordsRemover, hashingTF, idf, label_stringIdx])\n",
    "\n",
    "pipelineFit2 = pipeline2.fit(df3)\n",
    "dataset2 = pipelineFit2.transform(df3)\n",
    "\n",
    "trainingData2, testData2 = dataset2.randomSplit([0.7, 0.3], seed = 100)\n",
    "lr2 = LogisticRegression(maxIter = 20, regParam = 0.3, elasticNetParam = 0)\n",
    "lrModel2 = lr2.fit(trainingData2)\n",
    "\n",
    "predictionsTrainingData2 = lrModel2.transform(trainingData2)\n",
    "predictionsTestData2 = lrModel2.transform(testData2)"
   ]
  },
  {
   "cell_type": "code",
   "execution_count": 42,
   "id": "069c3803-5e60-4d0a-ab4b-9a7e15736bf5",
   "metadata": {},
   "outputs": [
    {
     "name": "stderr",
     "output_type": "stream",
     "text": [
      "[Stage 217:===================================================>   (15 + 1) / 16]\r"
     ]
    },
    {
     "name": "stdout",
     "output_type": "stream",
     "text": [
      "+------------------------------+---------+------------------------------+-----+----------+\n",
      "|                        review|sentiment|                   probability|label|prediction|\n",
      "+------------------------------+---------+------------------------------+-----+----------+\n",
      "|Newark to Minneapolis. Neit...| Negative|[0.9999960079717551,3.99202...|  0.0|       0.0|\n",
      "|Newark to Melbourne via Los...| Negative|[0.9999945568575773,5.44314...|  0.0|       0.0|\n",
      "|Worst airline ever. Started...| Negative|[0.999992269427133,7.730572...|  0.0|       0.0|\n",
      "|We were booked to fly sever...| Negative|[0.999988978933098,1.102106...|  0.0|       0.0|\n",
      "|Kiev to Male via Istanbul. ...| Negative|[0.9999888788899226,1.11211...|  0.0|       0.0|\n",
      "|We flew from Dubrovonik to ...| Negative|[0.9999840690881133,1.59309...|  0.0|       0.0|\n",
      "|Porter Airlines delayed my ...| Negative|[0.9999816657416721,1.83342...|  0.0|       0.0|\n",
      "|I have only flown AA twice....| Negative|[0.9999789878682513,2.10121...|  0.0|       0.0|\n",
      "|Viva Ar has recently cancel...| Negative|[0.9999772072594244,2.27927...|  0.0|       0.0|\n",
      "|The coronavirus-related com...| Negative|[0.9999732318451577,2.67681...|  0.0|       0.0|\n",
      "+------------------------------+---------+------------------------------+-----+----------+\n",
      "only showing top 10 rows\n",
      "\n"
     ]
    },
    {
     "name": "stderr",
     "output_type": "stream",
     "text": [
      "                                                                                \r"
     ]
    }
   ],
   "source": [
    "predictionsTrainingData2.filter(predictionsTrainingData2['prediction'] == 0).select(\"review\", \"sentiment\", \"probability\", \"label\", \"prediction\")\\\n",
    ".orderBy(\"probability\", ascending = False).show(n = 10, truncate = 30)"
   ]
  },
  {
   "cell_type": "code",
   "execution_count": 43,
   "id": "72fe7296-c87c-41ed-a1d7-52cc6b7d3830",
   "metadata": {},
   "outputs": [
    {
     "name": "stderr",
     "output_type": "stream",
     "text": [
      "[Stage 218:==================================>                    (10 + 6) / 16]\r"
     ]
    },
    {
     "name": "stdout",
     "output_type": "stream",
     "text": [
      "+------------------------------+---------+------------------------------+-----+----------+\n",
      "|                        review|sentiment|                   probability|label|prediction|\n",
      "+------------------------------+---------+------------------------------+-----+----------+\n",
      "|I have used easyJet many ma...| Negative|[0.9999972369547195,2.76304...|  0.0|       0.0|\n",
      "|I flew yesterday with my wi...| Negative|[0.9999960772655696,3.92273...|  0.0|       0.0|\n",
      "|Toronto to Rome via London....| Negative|[0.9999932250757266,6.77492...|  0.0|       0.0|\n",
      "|This airline is by far the ...| Negative|[0.9999856692102244,1.43307...|  0.0|       0.0|\n",
      "|Las Vegas to San Francisco....| Negative|[0.999979000238908,2.099976...|  0.0|       0.0|\n",
      "|With a very heavy heart I d...| Negative|[0.9999695300697021,3.04699...|  0.0|       0.0|\n",
      "|I had bought tickets for my...| Negative|[0.9999692741185255,3.07258...|  0.0|       0.0|\n",
      "|I am very unhappy. My plane...| Negative|[0.9999689985525143,3.10014...|  0.0|       0.0|\n",
      "|On Thursday, December 27th,...| Negative|[0.999968789669306,3.121033...|  0.0|       0.0|\n",
      "|On March 18th, I called the...| Negative|[0.9999647918557801,3.52081...|  0.0|       0.0|\n",
      "+------------------------------+---------+------------------------------+-----+----------+\n",
      "only showing top 10 rows\n",
      "\n"
     ]
    },
    {
     "name": "stderr",
     "output_type": "stream",
     "text": [
      "                                                                                \r"
     ]
    }
   ],
   "source": [
    "predictionsTestData2.filter(predictionsTestData2['prediction'] == 0).select(\"review\", \"sentiment\", \"probability\", \"label\", \"prediction\")\\\n",
    ".orderBy(\"probability\", ascending = False).show(n = 10, truncate = 30)"
   ]
  },
  {
   "cell_type": "code",
   "execution_count": 44,
   "id": "1e5c7a11-f515-43e3-83f3-276dfe5b4d44",
   "metadata": {},
   "outputs": [
    {
     "name": "stderr",
     "output_type": "stream",
     "text": [
      "[Stage 219:===================================================>   (15 + 1) / 16]\r"
     ]
    },
    {
     "name": "stdout",
     "output_type": "stream",
     "text": [
      "+------------------------------+---------+------------------------------+-----+----------+\n",
      "|                        review|sentiment|                   probability|label|prediction|\n",
      "+------------------------------+---------+------------------------------+-----+----------+\n",
      "|Phu Quoc island to Can Tho ...| Positive|[0.4999893883378329,0.50001...|  1.0|       1.0|\n",
      "|I had a flight from Vienna ...| Positive|[0.4999809135711976,0.50001...|  1.0|       1.0|\n",
      "|\"Seoul Incheon to Taipei. T...| Positive|[0.49997061814513544,0.5000...|  1.0|       1.0|\n",
      "|AMS-VIE-AMS. Inbound flight...| Negative|[0.49991265583166083,0.5000...|  0.0|       1.0|\n",
      "|After travelling from Londo...| Positive|[0.49990562130277216,0.5000...|  1.0|       1.0|\n",
      "|London to La Paz via Mexico...| Positive|[0.4998833506538477,0.50011...|  1.0|       1.0|\n",
      "|Why do we always want to fl...| Positive|[0.4998410193354061,0.50015...|  1.0|       1.0|\n",
      "|We were meant to be on a la...| Negative|[0.49983497943326605,0.5001...|  0.0|       1.0|\n",
      "|Just arrived in London from...| Negative|[0.49978286707089553,0.5002...|  0.0|       1.0|\n",
      "|Istanbul to Athens. Overall...| Negative|[0.4997350705443759,0.50026...|  0.0|       1.0|\n",
      "+------------------------------+---------+------------------------------+-----+----------+\n",
      "only showing top 10 rows\n",
      "\n"
     ]
    },
    {
     "name": "stderr",
     "output_type": "stream",
     "text": [
      "                                                                                \r"
     ]
    }
   ],
   "source": [
    "predictionsTrainingData2.filter(predictionsTrainingData2['prediction'] == 1).select(\"review\", \"sentiment\", \"probability\", \"label\", \"prediction\")\\\n",
    ".orderBy(\"probability\", ascending = False).show(n = 10, truncate = 30)"
   ]
  },
  {
   "cell_type": "code",
   "execution_count": 45,
   "id": "e2daf43d-1c8c-48d0-8454-daffeaa05b02",
   "metadata": {},
   "outputs": [
    {
     "name": "stderr",
     "output_type": "stream",
     "text": [
      "[Stage 220:================================================>      (14 + 2) / 16]\r"
     ]
    },
    {
     "name": "stdout",
     "output_type": "stream",
     "text": [
      "+------------------------------+---------+------------------------------+-----+----------+\n",
      "|                        review|sentiment|                   probability|label|prediction|\n",
      "+------------------------------+---------+------------------------------+-----+----------+\n",
      "|Manchester to Alicante 30th...| Positive|[0.4999733188204471,0.50002...|  1.0|       1.0|\n",
      "|London to Frankfurt. Very g...| Positive|[0.49989582980054137,0.5001...|  1.0|       1.0|\n",
      "|Thomas Cook are offering mo...| Negative|[0.49982947312852305,0.5001...|  0.0|       1.0|\n",
      "|Outward flight from Liverpo...| Positive|[0.49978442062484907,0.5002...|  1.0|       1.0|\n",
      "|Auckland to Honolulu. Low c...| Negative|[0.4997681188401446,0.50023...|  0.0|       1.0|\n",
      "|Madrid to Lima. Quite a lou...| Negative|[0.49974759580824063,0.5002...|  0.0|       1.0|\n",
      "|Dallas to San Diego. Last A...| Positive|[0.49974145184652713,0.5002...|  1.0|       1.0|\n",
      "|Athens - Heathrow route. Ar...| Positive|[0.4996883406190051,0.50031...|  1.0|       1.0|\n",
      "|I would like to thank Swoop...| Positive|[0.4996554452342434,0.50034...|  1.0|       1.0|\n",
      "|Paris Orly to Amsterdam Sch...| Positive|[0.49959367855792725,0.5004...|  1.0|       1.0|\n",
      "+------------------------------+---------+------------------------------+-----+----------+\n",
      "only showing top 10 rows\n",
      "\n"
     ]
    },
    {
     "name": "stderr",
     "output_type": "stream",
     "text": [
      "                                                                                \r"
     ]
    }
   ],
   "source": [
    "predictionsTestData2.filter(predictionsTestData2['prediction'] == 1).select(\"review\", \"sentiment\", \"probability\", \"label\", \"prediction\")\\\n",
    ".orderBy(\"probability\", ascending = False).show(n = 10, truncate = 30)"
   ]
  },
  {
   "cell_type": "code",
   "execution_count": 46,
   "id": "fa030f3d-33f6-4599-846d-65b1b1ab2e52",
   "metadata": {},
   "outputs": [
    {
     "name": "stderr",
     "output_type": "stream",
     "text": [
      "[Stage 221:================================================>      (14 + 2) / 16]\r"
     ]
    },
    {
     "name": "stdout",
     "output_type": "stream",
     "text": [
      "0.9312815705089339\n"
     ]
    },
    {
     "name": "stderr",
     "output_type": "stream",
     "text": [
      "                                                                                \r"
     ]
    }
   ],
   "source": [
    "evaluator2 = MulticlassClassificationEvaluator(predictionCol = \"prediction\")\n",
    "lrTrainingAccuracy2 = evaluator2.evaluate(predictionsTrainingData2)\n",
    "print(lrTrainingAccuracy2)"
   ]
  },
  {
   "cell_type": "code",
   "execution_count": 47,
   "id": "97c6c068-4d7b-4890-921c-dc18aba1cbe4",
   "metadata": {},
   "outputs": [
    {
     "name": "stderr",
     "output_type": "stream",
     "text": [
      "[Stage 223:=========================================>             (12 + 4) / 16]\r"
     ]
    },
    {
     "name": "stdout",
     "output_type": "stream",
     "text": [
      "0.9038999653108979\n"
     ]
    },
    {
     "name": "stderr",
     "output_type": "stream",
     "text": [
      "                                                                                \r"
     ]
    }
   ],
   "source": [
    "lrTestAccuracy2 = evaluator2.evaluate(predictionsTestData2)\n",
    "print(lrTestAccuracy2)"
   ]
  },
  {
   "cell_type": "code",
   "execution_count": 48,
   "id": "c497e669-ae4f-4e62-b935-47d25f45c71b",
   "metadata": {},
   "outputs": [
    {
     "name": "stdout",
     "output_type": "stream",
     "text": [
      "\n",
      "False positive rate by label:\n"
     ]
    },
    {
     "name": "stderr",
     "output_type": "stream",
     "text": [
      "[Stage 225:=========================================>             (12 + 4) / 16]\r"
     ]
    },
    {
     "name": "stdout",
     "output_type": "stream",
     "text": [
      "label 0: 0.09278259849906191\n",
      "label 1: 0.051038449249121313\n",
      "\n",
      "True positive rate by label:\n",
      "label 0: 0.9489615507508787\n",
      "label 1: 0.9072174015009381\n",
      "\n",
      "Precision by label:\n",
      "label 0: 0.9336672674686675\n",
      "label 1: 0.9281408391566446\n",
      "\n",
      "Recall by label:\n",
      "label 0: 0.9489615507508787\n",
      "label 1: 0.9072174015009381\n",
      "\n",
      "F-measure by label:\n",
      "label 0: 0.9412522845159995\n",
      "label 1: 0.9175598547179602\n",
      "\n",
      "Train Accuracy: 0.9313939573386629\n",
      "\n",
      "Train FPR: 0.07521500508684613\n",
      "\n",
      "Train TPR: 0.9313939573386629\n",
      "\n",
      "Train F-measure: 0.9312815705089339\n",
      "\n",
      "Train Precision: 0.9313415272786811\n",
      "\n",
      "Train Recall: 0.9313939573386629\n"
     ]
    },
    {
     "name": "stderr",
     "output_type": "stream",
     "text": [
      "                                                                                \r"
     ]
    }
   ],
   "source": [
    "trainingSummary2 = lrModel2.summary\n",
    "\n",
    "print(\"\\nFalse positive rate by label:\")\n",
    "for i, rate in enumerate(trainingSummary2.falsePositiveRateByLabel):\n",
    "    print(\"label %d: %s\" % (i, rate))\n",
    "\n",
    "print(\"\\nTrue positive rate by label:\")\n",
    "for i, rate in enumerate(trainingSummary2.truePositiveRateByLabel):\n",
    "    print(\"label %d: %s\" % (i, rate))\n",
    "\n",
    "print(\"\\nPrecision by label:\")\n",
    "for i, prec in enumerate(trainingSummary2.precisionByLabel):\n",
    "    print(\"label %d: %s\" % (i, prec))\n",
    "\n",
    "print(\"\\nRecall by label:\")\n",
    "for i, rec in enumerate(trainingSummary2.recallByLabel):\n",
    "    print(\"label %d: %s\" % (i, rec))\n",
    "\n",
    "print(\"\\nF-measure by label:\")\n",
    "for i, f in enumerate(trainingSummary2.fMeasureByLabel()):\n",
    "    print(\"label %d: %s\" % (i, f))\n",
    "\n",
    "lr_train_accuracy2 = trainingSummary2.accuracy\n",
    "lr_train_falsePositiveRate2 = trainingSummary2.weightedFalsePositiveRate\n",
    "lr_train_truePositiveRate2 = trainingSummary2.weightedTruePositiveRate\n",
    "lr_train_fMeasure2 = trainingSummary2.weightedFMeasure()\n",
    "lr_train_precision2 = trainingSummary2.weightedPrecision\n",
    "lr_train_recall2 = trainingSummary2.weightedRecall\n",
    "print(\"\\nTrain Accuracy: %s\\n\\nTrain FPR: %s\\n\\nTrain TPR: %s\\n\\nTrain F-measure: %s\\n\\nTrain Precision: %s\\n\\nTrain Recall: %s\"\n",
    "      % (lr_train_accuracy2, lr_train_falsePositiveRate2, lr_train_truePositiveRate2, lr_train_fMeasure2, lr_train_precision2, lr_train_recall2))"
   ]
  },
  {
   "cell_type": "code",
   "execution_count": 49,
   "id": "fea4ab0c-0495-4131-a5fb-2e867fef00ab",
   "metadata": {},
   "outputs": [
    {
     "name": "stderr",
     "output_type": "stream",
     "text": [
      "[Stage 237:=============>                                         (4 + 12) / 16]\r"
     ]
    },
    {
     "name": "stdout",
     "output_type": "stream",
     "text": [
      "\n",
      "Test Accuracy: 0.9040982672138623\n",
      "\n",
      "Test FPR: 0.10442564884583345\n",
      "\n",
      "Test TPR: 0.9040982672138623\n",
      "\n",
      "Test F-measure: 0.9038999653108979\n",
      "\n",
      "Test Precision: 0.9039714262935772\n",
      "\n",
      "Test Recall: 0.9040982672138623\n"
     ]
    },
    {
     "name": "stderr",
     "output_type": "stream",
     "text": [
      "                                                                                \r"
     ]
    }
   ],
   "source": [
    "lr_test_accuracy2 = evaluator2.evaluate(predictionsTestData2, {evaluator2.metricName: \"accuracy\"})\n",
    "lr_test_falsePositiveRate2 = evaluator2.evaluate(predictionsTestData2, {evaluator2.metricName: \"weightedFalsePositiveRate\"})\n",
    "lr_test_truePositiveRate2 = evaluator2.evaluate(predictionsTestData2, {evaluator2.metricName: \"weightedTruePositiveRate\"})\n",
    "lr_test_fMeasure2 = evaluator2.evaluate(predictionsTestData2, {evaluator2.metricName: \"f1\"})\n",
    "lr_test_precision2 = evaluator2.evaluate(predictionsTestData2, {evaluator2.metricName: \"weightedPrecision\"})\n",
    "lr_test_recall2 = evaluator2.evaluate(predictionsTestData2, {evaluator2.metricName: \"weightedRecall\"})\n",
    "\n",
    "print(\"\\nTest Accuracy: %s\\n\\nTest FPR: %s\\n\\nTest TPR: %s\\n\\nTest F-measure: %s\\n\\nTest Precision: %s\\n\\nTest Recall: %s\"\n",
    "      % (lr_test_accuracy2, lr_test_falsePositiveRate2, lr_test_truePositiveRate2, lr_test_fMeasure2, lr_test_precision2, lr_test_recall2))"
   ]
  },
  {
   "cell_type": "code",
   "execution_count": 50,
   "id": "c089ae84-8228-4c3a-9e2c-f432cd0485bd",
   "metadata": {},
   "outputs": [
    {
     "name": "stderr",
     "output_type": "stream",
     "text": [
      "[Stage 260:============================================>          (13 + 3) / 16]\r"
     ]
    },
    {
     "name": "stdout",
     "output_type": "stream",
     "text": [
      "Train Accuracy Score: 0.9313939573386629\n",
      "Test Accuracy Score: 0.9040982672138623\n",
      "Train Precision Score: 0.9281408391566446\n",
      "Test Precision Score: 0.8978968556951482\n",
      "Train Recall Score: 0.9072174015009381\n",
      "Test Recall Score: 0.872285906945381\n",
      "Train F1 Score: 0.9175598547179602\n",
      "Test F1 Score: 0.8849061121182065\n"
     ]
    },
    {
     "name": "stderr",
     "output_type": "stream",
     "text": [
      "                                                                                \r"
     ]
    }
   ],
   "source": [
    "classificationMetrics(predictionsTrainingData2, predictionsTestData2)"
   ]
  },
  {
   "cell_type": "code",
   "execution_count": 51,
   "id": "9d8624c5-010c-4d16-88dd-9c22d27d7f06",
   "metadata": {},
   "outputs": [
    {
     "name": "stderr",
     "output_type": "stream",
     "text": [
      "                                                                                \r"
     ]
    }
   ],
   "source": [
    "pipeline3 = Pipeline(stages = [regexTokenizer, stopwordsRemover, word2vecVectors, label_stringIdx])\n",
    "\n",
    "pipelineFit3 = pipeline3.fit(df3)\n",
    "dataset3 = pipelineFit3.transform(df3)\n",
    "\n",
    "(trainingData3, testData3) = dataset3.randomSplit([0.7, 0.3], seed = 100)\n",
    "lr3 = LogisticRegression(maxIter = 20, regParam = 0.3, elasticNetParam = 0)\n",
    "lrModel3 = lr3.fit(trainingData3)\n",
    "\n",
    "predictionsTrainingData3 = lrModel3.transform(trainingData3)\n",
    "predictionsTestData3 = lrModel3.transform(testData3)"
   ]
  },
  {
   "cell_type": "code",
   "execution_count": 52,
   "id": "fdabad63-5996-4602-b886-93e8746e8396",
   "metadata": {},
   "outputs": [
    {
     "name": "stderr",
     "output_type": "stream",
     "text": [
      "[Stage 301:===================================================>   (15 + 1) / 16]\r"
     ]
    },
    {
     "name": "stdout",
     "output_type": "stream",
     "text": [
      "+------------------------------+---------+------------------------------+-----+----------+\n",
      "|                        review|sentiment|                   probability|label|prediction|\n",
      "+------------------------------+---------+------------------------------+-----+----------+\n",
      "|Lost my luggage and wouldn’...| Negative|[0.9209557359137404,0.07904...|  0.0|       0.0|\n",
      "|They charged my debit card ...| Negative|[0.9182893719187736,0.08171...|  0.0|       0.0|\n",
      "|They sent my bag to Vegas i...| Negative|[0.9169073802435783,0.08309...|  0.0|       0.0|\n",
      "|Horrible customer service. ...| Negative|[0.9153620389897382,0.08463...|  0.0|       0.0|\n",
      "|Upon arrival in DFW, I was ...| Negative|[0.9115435074222417,0.08845...|  0.0|       0.0|\n",
      "|I have been fighting with t...| Negative|[0.9114419128521798,0.08855...|  0.0|       0.0|\n",
      "|You literally have to pay f...| Negative|[0.9113915389920869,0.08860...|  0.0|       0.0|\n",
      "|I paid for 2 extra suitcase...| Negative|[0.9107618864828305,0.08923...|  0.0|       0.0|\n",
      "|I'm a disabled veteran and ...| Negative|[0.9085271165108371,0.09147...|  0.0|       0.0|\n",
      "|After cancelling our flight...| Negative|[0.9080418054871446,0.09195...|  0.0|       0.0|\n",
      "+------------------------------+---------+------------------------------+-----+----------+\n",
      "only showing top 10 rows\n",
      "\n"
     ]
    },
    {
     "name": "stderr",
     "output_type": "stream",
     "text": [
      "                                                                                \r"
     ]
    }
   ],
   "source": [
    "predictionsTrainingData3.filter(predictionsTrainingData3['prediction'] == 0).select(\"review\", \"sentiment\", \"probability\", \"label\", \"prediction\")\\\n",
    ".orderBy(\"probability\", ascending = False).show(n = 10, truncate = 30)"
   ]
  },
  {
   "cell_type": "code",
   "execution_count": 53,
   "id": "cd62c8e3-c4c0-4f38-a6e3-04f21bc9f29f",
   "metadata": {},
   "outputs": [
    {
     "name": "stderr",
     "output_type": "stream",
     "text": [
      "[Stage 302:=========================================>             (12 + 4) / 16]\r"
     ]
    },
    {
     "name": "stdout",
     "output_type": "stream",
     "text": [
      "+------------------------------+---------+------------------------------+-----+----------+\n",
      "|                        review|sentiment|                   probability|label|prediction|\n",
      "+------------------------------+---------+------------------------------+-----+----------+\n",
      "|Carry on luggage was well w...| Negative|[0.9175732491593497,0.08242...|  0.0|       0.0|\n",
      "|Refused to refund my refund...| Negative|[0.9108817780081074,0.08911...|  0.0|       0.0|\n",
      "|Unbelievable that they canc...| Negative|[0.9090213354101777,0.09097...|  0.0|       0.0|\n",
      "|I tried to pay for luggage ...| Negative|[0.9073249949964446,0.09267...|  0.0|       0.0|\n",
      "|I received an email from Vu...| Negative|[0.9060477269335775,0.09395...|  0.0|       0.0|\n",
      "|I paid for the ticket and a...| Negative|[0.9056515483504404,0.09434...|  0.0|       0.0|\n",
      "|Was on the phone for 5 hour...| Negative|[0.9042427413878247,0.09575...|  0.0|       0.0|\n",
      "|Was on hold for more than 2...| Negative|[0.9039842255392284,0.09601...|  0.0|       0.0|\n",
      "|I will never purchase a fli...| Negative|[0.9031393985725706,0.09686...|  0.0|       0.0|\n",
      "|Apart from the flight being...| Negative|[0.9026507723691811,0.09734...|  0.0|       0.0|\n",
      "+------------------------------+---------+------------------------------+-----+----------+\n",
      "only showing top 10 rows\n",
      "\n"
     ]
    },
    {
     "name": "stderr",
     "output_type": "stream",
     "text": [
      "                                                                                \r"
     ]
    }
   ],
   "source": [
    "predictionsTestData3.filter(predictionsTestData3['prediction'] == 0).select(\"review\", \"sentiment\", \"probability\", \"label\", \"prediction\")\\\n",
    ".orderBy(\"probability\", ascending = False).show(n = 10, truncate = 30)"
   ]
  },
  {
   "cell_type": "code",
   "execution_count": 54,
   "id": "4682fa85-94f1-4818-9d1f-c191239a44a2",
   "metadata": {},
   "outputs": [
    {
     "name": "stderr",
     "output_type": "stream",
     "text": [
      "[Stage 303:================================================>      (14 + 2) / 16]\r"
     ]
    },
    {
     "name": "stdout",
     "output_type": "stream",
     "text": [
      "+------------------------------+---------+------------------------------+-----+----------+\n",
      "|                        review|sentiment|                   probability|label|prediction|\n",
      "+------------------------------+---------+------------------------------+-----+----------+\n",
      "|Flew from Toronto to Paris ...| Negative|[0.4999927199994432,0.50000...|  0.0|       1.0|\n",
      "|Almost everything is perfec...| Positive|[0.4999663922674299,0.50003...|  1.0|       1.0|\n",
      "|Singapore to Nanjing. Scoot...| Negative|[0.499962791869799,0.500037...|  0.0|       1.0|\n",
      "|Round trip from San Francis...| Negative|[0.4999601623992386,0.50003...|  0.0|       1.0|\n",
      "|\"I am a frequent flyer with...| Negative|[0.49995182799699955,0.5000...|  0.0|       1.0|\n",
      "|\"Premium Economy pricey but...| Positive|[0.49994832258635624,0.5000...|  1.0|       1.0|\n",
      "|Stockholm to London Heathro...| Negative|[0.49993867886983256,0.5000...|  0.0|       1.0|\n",
      "|A bit of a wait at the Busi...| Negative|[0.49992732987593147,0.5000...|  0.0|       1.0|\n",
      "|Dallas to Frankfurt via Kef...| Negative|[0.4999264130042884,0.50007...|  0.0|       1.0|\n",
      "|JE352 and JE359. Although t...| Positive|[0.4999215511215149,0.50007...|  1.0|       1.0|\n",
      "+------------------------------+---------+------------------------------+-----+----------+\n",
      "only showing top 10 rows\n",
      "\n"
     ]
    },
    {
     "name": "stderr",
     "output_type": "stream",
     "text": [
      "                                                                                \r"
     ]
    }
   ],
   "source": [
    "predictionsTrainingData3.filter(predictionsTrainingData3['prediction'] == 1).select(\"review\", \"sentiment\", \"probability\", \"label\", \"prediction\")\\\n",
    ".orderBy(\"probability\", ascending = False).show(n = 10, truncate = 30)"
   ]
  },
  {
   "cell_type": "code",
   "execution_count": 55,
   "id": "056c2197-941d-45c4-8448-466b2b5c7ee8",
   "metadata": {},
   "outputs": [
    {
     "name": "stderr",
     "output_type": "stream",
     "text": [
      "[Stage 304:================================================>      (14 + 2) / 16]\r"
     ]
    },
    {
     "name": "stdout",
     "output_type": "stream",
     "text": [
      "+------------------------------+---------+------------------------------+-----+----------+\n",
      "|                        review|sentiment|                   probability|label|prediction|\n",
      "+------------------------------+---------+------------------------------+-----+----------+\n",
      "|Never again with British Ai...| Negative|[0.4999883774280106,0.50001...|  0.0|       1.0|\n",
      "|Flight to / from YQB winter...| Positive|[0.4999733710012511,0.50002...|  1.0|       1.0|\n",
      "|✅ , |  Istanbul to Almaty r...| Negative|[0.49994816115322604,0.5000...|  0.0|       1.0|\n",
      "|Flew Melbourne to Sydney. T...| Negative|[0.49988418829310277,0.5001...|  0.0|       1.0|\n",
      "|\"San Francisco to Cebu via ...| Negative|[0.499860500727523,0.500139...|  0.0|       1.0|\n",
      "|A completely full flight. D...| Positive|[0.49983187440239973,0.5001...|  1.0|       1.0|\n",
      "|Have flown with them on a n...| Positive|[0.4998315296604943,0.50016...|  1.0|       1.0|\n",
      "|\"Flew Toronto to Tampa retu...| Positive|[0.49982434521989605,0.5001...|  1.0|       1.0|\n",
      "|Cancun to Houston. Really p...| Negative|[0.4997784613619379,0.50022...|  0.0|       1.0|\n",
      "|Paris to Singapore. I was v...| Positive|[0.4997613314414916,0.50023...|  1.0|       1.0|\n",
      "+------------------------------+---------+------------------------------+-----+----------+\n",
      "only showing top 10 rows\n",
      "\n"
     ]
    },
    {
     "name": "stderr",
     "output_type": "stream",
     "text": [
      "                                                                                \r"
     ]
    }
   ],
   "source": [
    "predictionsTestData3.filter(predictionsTestData3['prediction'] == 1).select(\"review\", \"sentiment\", \"probability\", \"label\", \"prediction\")\\\n",
    ".orderBy(\"probability\", ascending = False).show(n = 10, truncate = 30)"
   ]
  },
  {
   "cell_type": "code",
   "execution_count": 56,
   "id": "1d961765-5df9-46b1-bb6f-04fd8b76b7f6",
   "metadata": {},
   "outputs": [
    {
     "name": "stderr",
     "output_type": "stream",
     "text": [
      "[Stage 305:==================================>                    (10 + 6) / 16]\r"
     ]
    },
    {
     "name": "stdout",
     "output_type": "stream",
     "text": [
      "0.7874752123399772\n"
     ]
    },
    {
     "name": "stderr",
     "output_type": "stream",
     "text": [
      "                                                                                \r"
     ]
    }
   ],
   "source": [
    "evaluator3 = MulticlassClassificationEvaluator(predictionCol = \"prediction\")\n",
    "lrTrainingAccuracy3 = evaluator3.evaluate(predictionsTrainingData3)\n",
    "print(lrTrainingAccuracy3)"
   ]
  },
  {
   "cell_type": "code",
   "execution_count": 57,
   "id": "47cca205-75e1-4ef5-a9ef-f335a97089d4",
   "metadata": {},
   "outputs": [
    {
     "name": "stderr",
     "output_type": "stream",
     "text": [
      "[Stage 307:===================================================>   (15 + 1) / 16]\r"
     ]
    },
    {
     "name": "stdout",
     "output_type": "stream",
     "text": [
      "0.7855577936803582\n"
     ]
    },
    {
     "name": "stderr",
     "output_type": "stream",
     "text": [
      "                                                                                \r"
     ]
    }
   ],
   "source": [
    "lrTestAccuracy3 = evaluator3.evaluate(predictionsTestData3)\n",
    "print(lrTestAccuracy3)"
   ]
  },
  {
   "cell_type": "code",
   "execution_count": 58,
   "id": "1db1682a-9a38-4876-b695-63dba66380c9",
   "metadata": {},
   "outputs": [
    {
     "name": "stdout",
     "output_type": "stream",
     "text": [
      "\n",
      "False positive rate by label:\n"
     ]
    },
    {
     "name": "stderr",
     "output_type": "stream",
     "text": [
      "[Stage 309:===============================>                        (9 + 7) / 16]\r"
     ]
    },
    {
     "name": "stdout",
     "output_type": "stream",
     "text": [
      "label 0: 0.30871833958724204\n",
      "label 1: 0.1387155181595484\n",
      "\n",
      "True positive rate by label:\n",
      "label 0: 0.8612844818404516\n",
      "label 1: 0.691281660412758\n",
      "\n",
      "Precision by label:\n",
      "label 0: 0.7933639431755749\n",
      "label 1: 0.7836041604359818\n",
      "\n",
      "Recall by label:\n",
      "label 0: 0.8612844818404516\n",
      "label 1: 0.691281660412758\n",
      "\n",
      "F-measure by label:\n",
      "label 0: 0.8259302004922938\n",
      "label 1: 0.7345533836928588\n",
      "\n",
      "Train Accuracy: 0.7897405529442244\n",
      "\n",
      "Train FPR: 0.2371744106910149\n",
      "\n",
      "Train TPR: 0.7897405529442245\n",
      "\n",
      "Train F-measure: 0.7874752123399772\n",
      "\n",
      "Train Precision: 0.7892566395643754\n",
      "\n",
      "Train Recall: 0.7897405529442245\n"
     ]
    },
    {
     "name": "stderr",
     "output_type": "stream",
     "text": [
      "                                                                                \r"
     ]
    }
   ],
   "source": [
    "trainingSummary3 = lrModel3.summary\n",
    "\n",
    "print(\"\\nFalse positive rate by label:\")\n",
    "for i, rate in enumerate(trainingSummary3.falsePositiveRateByLabel):\n",
    "    print(\"label %d: %s\" % (i, rate))\n",
    "\n",
    "print(\"\\nTrue positive rate by label:\")\n",
    "for i, rate in enumerate(trainingSummary3.truePositiveRateByLabel):\n",
    "    print(\"label %d: %s\" % (i, rate))\n",
    "\n",
    "print(\"\\nPrecision by label:\")\n",
    "for i, prec in enumerate(trainingSummary3.precisionByLabel):\n",
    "    print(\"label %d: %s\" % (i, prec))\n",
    "\n",
    "print(\"\\nRecall by label:\")\n",
    "for i, rec in enumerate(trainingSummary3.recallByLabel):\n",
    "    print(\"label %d: %s\" % (i, rec))\n",
    "\n",
    "print(\"\\nF-measure by label:\")\n",
    "for i, f in enumerate(trainingSummary3.fMeasureByLabel()):\n",
    "    print(\"label %d: %s\" % (i, f))\n",
    "\n",
    "lr_train_accuracy3 = trainingSummary3.accuracy\n",
    "lr_train_falsePositiveRate3 = trainingSummary3.weightedFalsePositiveRate\n",
    "lr_train_truePositiveRate3 = trainingSummary3.weightedTruePositiveRate\n",
    "lr_train_fMeasure3 = trainingSummary3.weightedFMeasure()\n",
    "lr_train_precision3 = trainingSummary3.weightedPrecision\n",
    "lr_train_recall3 = trainingSummary3.weightedRecall\n",
    "print(\"\\nTrain Accuracy: %s\\n\\nTrain FPR: %s\\n\\nTrain TPR: %s\\n\\nTrain F-measure: %s\\n\\nTrain Precision: %s\\n\\nTrain Recall: %s\"\n",
    "      % (lr_train_accuracy3, lr_train_falsePositiveRate3, lr_train_truePositiveRate3, lr_train_fMeasure3, lr_train_precision3, lr_train_recall3))"
   ]
  },
  {
   "cell_type": "code",
   "execution_count": 59,
   "id": "43b0f33f-f3be-4a74-b909-a0e30ced4b57",
   "metadata": {},
   "outputs": [
    {
     "name": "stderr",
     "output_type": "stream",
     "text": [
      "[Stage 321:=============>                                         (4 + 12) / 16]\r"
     ]
    },
    {
     "name": "stdout",
     "output_type": "stream",
     "text": [
      "\n",
      "Test Accuracy: 0.7877336981304149\n",
      "\n",
      "Test FPR: 0.23801436944616666\n",
      "\n",
      "Test TPR: 0.7877336981304149\n",
      "\n",
      "Test F-measure: 0.7855577936803582\n",
      "\n",
      "Test Precision: 0.7872182849046372\n",
      "\n",
      "Test Recall: 0.7877336981304149\n"
     ]
    },
    {
     "name": "stderr",
     "output_type": "stream",
     "text": [
      "                                                                                \r"
     ]
    }
   ],
   "source": [
    "lr_test_accuracy3 = evaluator3.evaluate(predictionsTestData3, {evaluator3.metricName: \"accuracy\"})\n",
    "lr_test_falsePositiveRate3 = evaluator3.evaluate(predictionsTestData3, {evaluator3.metricName: \"weightedFalsePositiveRate\"})\n",
    "lr_test_truePositiveRate3 = evaluator3.evaluate(predictionsTestData3, {evaluator3.metricName: \"weightedTruePositiveRate\"})\n",
    "lr_test_fMeasure3 = evaluator3.evaluate(predictionsTestData3, {evaluator3.metricName: \"f1\"})\n",
    "lr_test_precision3 = evaluator3.evaluate(predictionsTestData3, {evaluator3.metricName: \"weightedPrecision\"})\n",
    "lr_test_recall3 = evaluator3.evaluate(predictionsTestData3, {evaluator3.metricName: \"weightedRecall\"})\n",
    "\n",
    "print(\"\\nTest Accuracy: %s\\n\\nTest FPR: %s\\n\\nTest TPR: %s\\n\\nTest F-measure: %s\\n\\nTest Precision: %s\\n\\nTest Recall: %s\"\n",
    "      % (lr_test_accuracy3, lr_test_falsePositiveRate3, lr_test_truePositiveRate3, lr_test_fMeasure3, lr_test_precision3, lr_test_recall3))"
   ]
  },
  {
   "cell_type": "code",
   "execution_count": 60,
   "id": "e4e80ba2-d850-4819-bff4-30a1a5f22f7b",
   "metadata": {},
   "outputs": [
    {
     "name": "stderr",
     "output_type": "stream",
     "text": [
      "[Stage 344:=============>                                         (4 + 12) / 16]\r"
     ]
    },
    {
     "name": "stdout",
     "output_type": "stream",
     "text": [
      "Train Accuracy Score: 0.7897405529442244\n",
      "Test Accuracy Score: 0.7877336981304149\n",
      "Train Precision Score: 0.7836041604359818\n",
      "Test Precision Score: 0.7810691440755406\n",
      "Train Recall Score: 0.691281660412758\n",
      "Test Recall Score: 0.6916385704652731\n",
      "Train F1 Score: 0.7345533836928588\n",
      "Test F1 Score: 0.7336385094056219\n"
     ]
    },
    {
     "name": "stderr",
     "output_type": "stream",
     "text": [
      "                                                                                \r"
     ]
    }
   ],
   "source": [
    "classificationMetrics(predictionsTrainingData3, predictionsTestData3)"
   ]
  },
  {
   "cell_type": "code",
   "execution_count": 61,
   "id": "850fb359-e28b-4b67-9ea0-2adab0ff55e7",
   "metadata": {},
   "outputs": [
    {
     "name": "stderr",
     "output_type": "stream",
     "text": [
      "23/11/25 19:25:31 WARN org.apache.spark.scheduler.DAGScheduler: Broadcasting large task binary with size 1213.3 KiB\n",
      "23/11/25 19:25:49 WARN org.apache.spark.scheduler.DAGScheduler: Broadcasting large task binary with size 1214.1 KiB\n",
      "23/11/25 19:25:50 WARN org.apache.spark.scheduler.DAGScheduler: Broadcasting large task binary with size 1214.6 KiB\n",
      "                                                                                \r"
     ]
    }
   ],
   "source": [
    "trainingDataDT = trainingData2\n",
    "testDataDT = testData2\n",
    "\n",
    "dt = DecisionTreeClassifier(featuresCol = 'features', labelCol = 'label', maxDepth = 3)\n",
    "dtModel = dt.fit(trainingDataDT)\n",
    "\n",
    "predictionsTrainingDataDT = dtModel.transform(trainingDataDT)\n",
    "predictionsTestDataDT = dtModel.transform(testDataDT)"
   ]
  },
  {
   "cell_type": "code",
   "execution_count": 62,
   "id": "f2333613-c217-402d-b2ef-d7fa96f72a47",
   "metadata": {},
   "outputs": [
    {
     "name": "stderr",
     "output_type": "stream",
     "text": [
      "[Stage 357:=================================================>       (7 + 1) / 8]\r"
     ]
    },
    {
     "name": "stdout",
     "output_type": "stream",
     "text": [
      "+------------------------------+---------+------------------------------+-----+----------+\n",
      "|                        review|sentiment|                   probability|label|prediction|\n",
      "+------------------------------+---------+------------------------------+-----+----------+\n",
      "|Johannesburg to Dusseldorf ...| Negative|[0.8348214285714286,0.16517...|  0.0|       0.0|\n",
      "|\"Economy-plus from EWR-HKG....| Negative|[0.8348214285714286,0.16517...|  0.0|       0.0|\n",
      "|\"Fly the Friendly Skies of ...| Negative|[0.8348214285714286,0.16517...|  0.0|       0.0|\n",
      "|\"After a 20 min delay durin...| Negative|[0.8348214285714286,0.16517...|  0.0|       0.0|\n",
      "|This was my first time trav...| Negative|[0.8348214285714286,0.16517...|  0.0|       0.0|\n",
      "|Newark to Munich with Unite...| Negative|[0.8348214285714286,0.16517...|  0.0|       0.0|\n",
      "|Orlando to Newark. Flying w...| Negative|[0.8348214285714286,0.16517...|  0.0|       0.0|\n",
      "|The last several times I ha...| Negative|[0.8348214285714286,0.16517...|  0.0|       0.0|\n",
      "|That was by far my worst tr...| Negative|[0.8348214285714286,0.16517...|  0.0|       0.0|\n",
      "|As someone who attaches a l...| Positive|[0.8348214285714286,0.16517...|  1.0|       0.0|\n",
      "+------------------------------+---------+------------------------------+-----+----------+\n",
      "only showing top 10 rows\n",
      "\n"
     ]
    },
    {
     "name": "stderr",
     "output_type": "stream",
     "text": [
      "                                                                                \r"
     ]
    }
   ],
   "source": [
    "predictionsTrainingDataDT.filter(predictionsTrainingDataDT['prediction'] == 0).select(\"review\", \"sentiment\", \"probability\", \"label\", \"prediction\")\\\n",
    ".orderBy(\"probability\", ascending = False).show(n = 10, truncate = 30)"
   ]
  },
  {
   "cell_type": "code",
   "execution_count": 63,
   "id": "c42623ac-dc50-410b-a437-ad06a95e7256",
   "metadata": {},
   "outputs": [
    {
     "name": "stderr",
     "output_type": "stream",
     "text": [
      "[Stage 358:=================================================>       (7 + 1) / 8]\r"
     ]
    },
    {
     "name": "stdout",
     "output_type": "stream",
     "text": [
      "+------------------------------+---------+------------------------------+-----+----------+\n",
      "|                        review|sentiment|                   probability|label|prediction|\n",
      "+------------------------------+---------+------------------------------+-----+----------+\n",
      "|Worst airline ever. This wa...| Negative|[0.8348214285714286,0.16517...|  0.0|       0.0|\n",
      "|This was my first time flyi...| Negative|[0.8348214285714286,0.16517...|  0.0|       0.0|\n",
      "|I read other messages on th...| Positive|[0.8348214285714286,0.16517...|  1.0|       0.0|\n",
      "|My husband and I recently f...| Negative|[0.8348214285714286,0.16517...|  0.0|       0.0|\n",
      "|Delhi to Chennai. Check in ...| Negative|[0.8348214285714286,0.16517...|  0.0|       0.0|\n",
      "|London to Orlando via Chica...| Negative|[0.8348214285714286,0.16517...|  0.0|       0.0|\n",
      "|New York to Buffalo. The wo...| Negative|[0.8348214285714286,0.16517...|  0.0|       0.0|\n",
      "|Flew from Warsaw to Frankfu...| Negative|[0.8348214285714286,0.16517...|  0.0|       0.0|\n",
      "|Avoid Istanbul airport, it ...| Negative|[0.8348214285714286,0.16517...|  0.0|       0.0|\n",
      "|I flew Palermo to Paris las...| Positive|[0.8348214285714286,0.16517...|  1.0|       0.0|\n",
      "+------------------------------+---------+------------------------------+-----+----------+\n",
      "only showing top 10 rows\n",
      "\n"
     ]
    },
    {
     "name": "stderr",
     "output_type": "stream",
     "text": [
      "                                                                                \r"
     ]
    }
   ],
   "source": [
    "predictionsTestDataDT.filter(predictionsTestDataDT['prediction'] == 0).select(\"review\", \"sentiment\", \"probability\", \"label\", \"prediction\")\\\n",
    ".orderBy(\"probability\", ascending = False).show(n = 10, truncate = 30)"
   ]
  },
  {
   "cell_type": "code",
   "execution_count": 64,
   "id": "dc049761-3a5c-41b2-8d5d-8459daf883d5",
   "metadata": {},
   "outputs": [
    {
     "name": "stderr",
     "output_type": "stream",
     "text": [
      "[Stage 359:============================>                            (4 + 4) / 8]\r"
     ]
    },
    {
     "name": "stdout",
     "output_type": "stream",
     "text": [
      "+------------------------------+---------+------------------------------+-----+----------+\n",
      "|                        review|sentiment|                   probability|label|prediction|\n",
      "+------------------------------+---------+------------------------------+-----+----------+\n",
      "|I flew from Helsinki to Ist...| Negative|[0.3643724696356275,0.63562...|  0.0|       1.0|\n",
      "|This was the fourth of four...| Negative|[0.3643724696356275,0.63562...|  0.0|       1.0|\n",
      "|New York to Doha via Istanb...| Negative|[0.3643724696356275,0.63562...|  0.0|       1.0|\n",
      "|Flight 71 Hong Kong to Ista...| Positive|[0.3643724696356275,0.63562...|  1.0|       1.0|\n",
      "|Tampa to San Francisco. I h...| Negative|[0.3643724696356275,0.63562...|  0.0|       1.0|\n",
      "|We flew from Las Vegas to V...| Positive|[0.3643724696356275,0.63562...|  1.0|       1.0|\n",
      "|Edinburgh to Cape Town via ...| Positive|[0.3643724696356275,0.63562...|  1.0|       1.0|\n",
      "|\"WJ used to be a very good ...| Negative|[0.3643724696356275,0.63562...|  0.0|       1.0|\n",
      "|We flew from Salt Lake City...| Positive|[0.3643724696356275,0.63562...|  1.0|       1.0|\n",
      "|Travelled out on Wizz Air's...| Positive|[0.3643724696356275,0.63562...|  1.0|       1.0|\n",
      "+------------------------------+---------+------------------------------+-----+----------+\n",
      "only showing top 10 rows\n",
      "\n"
     ]
    },
    {
     "name": "stderr",
     "output_type": "stream",
     "text": [
      "                                                                                \r"
     ]
    }
   ],
   "source": [
    "predictionsTrainingDataDT.filter(predictionsTrainingDataDT['prediction'] == 1).select(\"review\", \"sentiment\", \"probability\", \"label\", \"prediction\")\\\n",
    ".orderBy(\"probability\", ascending = False).show(n = 10, truncate = 30)"
   ]
  },
  {
   "cell_type": "code",
   "execution_count": 65,
   "id": "af06e07c-2547-4cd4-822e-365d09c2c1bd",
   "metadata": {},
   "outputs": [
    {
     "name": "stderr",
     "output_type": "stream",
     "text": [
      "[Stage 360:============================>                            (4 + 4) / 8]\r"
     ]
    },
    {
     "name": "stdout",
     "output_type": "stream",
     "text": [
      "+------------------------------+---------+------------------------------+-----+----------+\n",
      "|                        review|sentiment|                   probability|label|prediction|\n",
      "+------------------------------+---------+------------------------------+-----+----------+\n",
      "|JL PY cabin LHR/HND departi...| Positive|[0.3643724696356275,0.63562...|  1.0|       1.0|\n",
      "|Auckland to London Heathrow...| Negative|[0.3643724696356275,0.63562...|  0.0|       1.0|\n",
      "|✅ , | Taipei to Moscow via ...| Positive|[0.3643724696356275,0.63562...|  1.0|       1.0|\n",
      "|MAD-CPH-MAD. Outbound fligh...| Positive|[0.3643724696356275,0.63562...|  1.0|       1.0|\n",
      "|I have had the opportunity ...| Positive|[0.3643724696356275,0.63562...|  1.0|       1.0|\n",
      "|\"Flew from Istanbul to Kual...| Positive|[0.3643724696356275,0.63562...|  1.0|       1.0|\n",
      "|Vienna to Palau via Taipei....| Positive|[0.3643724696356275,0.63562...|  1.0|       1.0|\n",
      "|This week will be the last ...| Negative|[0.3643724696356275,0.63562...|  0.0|       1.0|\n",
      "|I have traveled this airlin...| Negative|[0.3643724696356275,0.63562...|  0.0|       1.0|\n",
      "|AKL-SIN-KUL return. Flight ...| Positive|[0.3643724696356275,0.63562...|  1.0|       1.0|\n",
      "+------------------------------+---------+------------------------------+-----+----------+\n",
      "only showing top 10 rows\n",
      "\n"
     ]
    },
    {
     "name": "stderr",
     "output_type": "stream",
     "text": [
      "                                                                                \r"
     ]
    }
   ],
   "source": [
    "predictionsTestDataDT.filter(predictionsTestDataDT['prediction'] == 1).select(\"review\", \"sentiment\", \"probability\", \"label\", \"prediction\")\\\n",
    ".orderBy(\"probability\", ascending = False).show(n = 10, truncate = 30)"
   ]
  },
  {
   "cell_type": "code",
   "execution_count": 66,
   "id": "d5cd038d-98f2-426f-b38a-1f66bb3cb576",
   "metadata": {},
   "outputs": [
    {
     "name": "stderr",
     "output_type": "stream",
     "text": [
      "[Stage 361:=================================================>       (7 + 1) / 8]\r"
     ]
    },
    {
     "name": "stdout",
     "output_type": "stream",
     "text": [
      "0.7715309179514233\n"
     ]
    },
    {
     "name": "stderr",
     "output_type": "stream",
     "text": [
      "                                                                                \r"
     ]
    }
   ],
   "source": [
    "evaluatorDT = MulticlassClassificationEvaluator(predictionCol = \"prediction\")\n",
    "dtTrainingAccuracy = evaluatorDT.evaluate(predictionsTrainingDataDT)\n",
    "print(dtTrainingAccuracy)"
   ]
  },
  {
   "cell_type": "code",
   "execution_count": 67,
   "id": "9652be86-98d8-4a84-867d-8ba4c117c66d",
   "metadata": {},
   "outputs": [
    {
     "name": "stderr",
     "output_type": "stream",
     "text": [
      "[Stage 363:============================>                            (4 + 4) / 8]\r"
     ]
    },
    {
     "name": "stdout",
     "output_type": "stream",
     "text": [
      "0.7722961366226657\n"
     ]
    },
    {
     "name": "stderr",
     "output_type": "stream",
     "text": [
      "                                                                                \r"
     ]
    }
   ],
   "source": [
    "dtTestAccuracy = evaluatorDT.evaluate(predictionsTestDataDT)\n",
    "print(dtTestAccuracy)"
   ]
  },
  {
   "cell_type": "code",
   "execution_count": 68,
   "id": "b363a93f-53c2-444a-a03a-ab001b65dbba",
   "metadata": {},
   "outputs": [
    {
     "name": "stderr",
     "output_type": "stream",
     "text": [
      "[Stage 375:============================>                            (4 + 4) / 8]\r"
     ]
    },
    {
     "name": "stdout",
     "output_type": "stream",
     "text": [
      "\n",
      "Train Accuracy: 0.7755765819041986\n",
      "\n",
      "Train FPR: 0.26011766130686736\n",
      "\n",
      "Train TPR: 0.7755765819041986\n",
      "\n",
      "Train F-measure: 0.7715309179514233\n",
      "\n",
      "Train Precision: 0.7763169716184262\n",
      "\n",
      "Train Recall: 0.7755765819041986\n"
     ]
    },
    {
     "name": "stderr",
     "output_type": "stream",
     "text": [
      "                                                                                \r"
     ]
    }
   ],
   "source": [
    "dt_train_accuracy = evaluatorDT.evaluate(predictionsTrainingDataDT, {evaluatorDT.metricName: \"accuracy\"})\n",
    "dt_train_falsePositiveRate = evaluatorDT.evaluate(predictionsTrainingDataDT, {evaluatorDT.metricName: \"weightedFalsePositiveRate\"})\n",
    "dt_train_truePositiveRate = evaluatorDT.evaluate(predictionsTrainingDataDT, {evaluatorDT.metricName: \"weightedTruePositiveRate\"})\n",
    "dt_train_fMeasure = evaluatorDT.evaluate(predictionsTrainingDataDT, {evaluatorDT.metricName: \"f1\"})\n",
    "dt_train_precision = evaluatorDT.evaluate(predictionsTrainingDataDT, {evaluatorDT.metricName: \"weightedPrecision\"})\n",
    "dt_train_recall = evaluatorDT.evaluate(predictionsTrainingDataDT, {evaluatorDT.metricName: \"weightedRecall\"})\n",
    "\n",
    "print(\"\\nTrain Accuracy: %s\\n\\nTrain FPR: %s\\n\\nTrain TPR: %s\\n\\nTrain F-measure: %s\\n\\nTrain Precision: %s\\n\\nTrain Recall: %s\"\n",
    "      % (dt_train_accuracy, dt_train_falsePositiveRate, dt_train_truePositiveRate, dt_train_fMeasure, dt_train_precision, dt_train_recall))"
   ]
  },
  {
   "cell_type": "code",
   "execution_count": 69,
   "id": "1b0aaaa1-b6e8-4209-ab61-f505bc1cb5d6",
   "metadata": {},
   "outputs": [
    {
     "name": "stderr",
     "output_type": "stream",
     "text": [
      "[Stage 387:============================>                            (4 + 4) / 8]\r"
     ]
    },
    {
     "name": "stdout",
     "output_type": "stream",
     "text": [
      "\n",
      "Test Accuracy: 0.7763387368842383\n",
      "\n",
      "Test FPR: 0.25768889194506606\n",
      "\n",
      "Test TPR: 0.7763387368842382\n",
      "\n",
      "Test F-measure: 0.7722961366226657\n",
      "\n",
      "Test Precision: 0.777613740183716\n",
      "\n",
      "Test Recall: 0.7763387368842382\n"
     ]
    },
    {
     "name": "stderr",
     "output_type": "stream",
     "text": [
      "                                                                                \r"
     ]
    }
   ],
   "source": [
    "dt_test_accuracy = evaluatorDT.evaluate(predictionsTestDataDT, {evaluatorDT.metricName: \"accuracy\"})\n",
    "dt_test_falsePositiveRate = evaluatorDT.evaluate(predictionsTestDataDT, {evaluatorDT.metricName: \"weightedFalsePositiveRate\"})\n",
    "dt_test_truePositiveRate = evaluatorDT.evaluate(predictionsTestDataDT, {evaluatorDT.metricName: \"weightedTruePositiveRate\"})\n",
    "dt_test_fMeasure = evaluatorDT.evaluate(predictionsTestDataDT, {evaluatorDT.metricName: \"f1\"})\n",
    "dt_test_precision = evaluatorDT.evaluate(predictionsTestDataDT, {evaluatorDT.metricName: \"weightedPrecision\"})\n",
    "dt_test_recall = evaluatorDT.evaluate(predictionsTestDataDT, {evaluatorDT.metricName: \"weightedRecall\"})\n",
    "\n",
    "print(\"\\nTest Accuracy: %s\\n\\nTest FPR: %s\\n\\nTest TPR: %s\\n\\nTest F-measure: %s\\n\\nTest Precision: %s\\n\\nTest Recall: %s\"\n",
    "      % (dt_test_accuracy, dt_test_falsePositiveRate, dt_test_truePositiveRate, dt_test_fMeasure, dt_test_precision, dt_test_recall))"
   ]
  },
  {
   "cell_type": "code",
   "execution_count": 70,
   "id": "7f72d44b-7d85-40db-9fa9-06a5d894e0a5",
   "metadata": {},
   "outputs": [
    {
     "name": "stderr",
     "output_type": "stream",
     "text": [
      "[Stage 410:============================>                            (4 + 4) / 8]\r"
     ]
    },
    {
     "name": "stdout",
     "output_type": "stream",
     "text": [
      "Train Accuracy Score: 0.7755765819041986\n",
      "Test Accuracy Score: 0.7763387368842383\n",
      "Train Precision Score: 0.7821764601455707\n",
      "Test Precision Score: 0.787354436608168\n",
      "Train Recall Score: 0.6458327225821583\n",
      "Test Recall Score: 0.647360258917133\n",
      "Train F1 Score: 0.7074956644614298\n",
      "Test F1 Score: 0.710527289546716\n"
     ]
    },
    {
     "name": "stderr",
     "output_type": "stream",
     "text": [
      "                                                                                \r"
     ]
    }
   ],
   "source": [
    "classificationMetrics(predictionsTrainingDataDT, predictionsTestDataDT)"
   ]
  },
  {
   "cell_type": "code",
   "execution_count": 71,
   "id": "890b3e4c-2c28-44d6-a14c-7b617f8229a0",
   "metadata": {},
   "outputs": [
    {
     "name": "stderr",
     "output_type": "stream",
     "text": [
      "23/11/25 19:28:49 WARN org.apache.spark.scheduler.DAGScheduler: Broadcasting large task binary with size 1288.6 KiB\n",
      "23/11/25 19:29:07 WARN org.apache.spark.scheduler.DAGScheduler: Broadcasting large task binary with size 1387.0 KiB\n",
      "23/11/25 19:29:09 WARN org.apache.spark.scheduler.DAGScheduler: Broadcasting large task binary with size 1561.3 KiB\n",
      "23/11/25 19:29:13 WARN org.apache.spark.scheduler.DAGScheduler: Broadcasting large task binary with size 1844.5 KiB\n",
      "                                                                                \r"
     ]
    }
   ],
   "source": [
    "trainingDataRF = trainingData2\n",
    "testDataRF = testData2\n",
    "\n",
    "rf = RandomForestClassifier(labelCol = \"label\", \\\n",
    "                            featuresCol = \"features\", \\\n",
    "                            numTrees = 100, \\\n",
    "                            maxDepth = 4, \\\n",
    "                            maxBins = 32)\n",
    "\n",
    "rfModel = rf.fit(trainingDataRF)\n",
    "\n",
    "predictionsTrainingDataRF = rfModel.transform(trainingDataRF)\n",
    "predictionsTestDataRF = rfModel.transform(testDataRF)"
   ]
  },
  {
   "cell_type": "code",
   "execution_count": 72,
   "id": "d3ba2b14-b127-4aac-bcce-9411a8967f32",
   "metadata": {},
   "outputs": [
    {
     "name": "stderr",
     "output_type": "stream",
     "text": [
      "[Stage 425:============================>                            (4 + 4) / 8]\r"
     ]
    },
    {
     "name": "stdout",
     "output_type": "stream",
     "text": [
      "+------------------------------+---------+------------------------------+-----+----------+\n",
      "|                        review|sentiment|                   probability|label|prediction|\n",
      "+------------------------------+---------+------------------------------+-----+----------+\n",
      "|Worst airline ever. Started...| Negative|[0.7120497712716427,0.28795...|  0.0|       0.0|\n",
      "|Seattle to Baltimore Washin...| Negative|[0.7069680267891991,0.29303...|  0.0|       0.0|\n",
      "|I have flown many times ove...| Negative|[0.7001356952806223,0.29986...|  0.0|       0.0|\n",
      "|Both flights of my trip wer...| Negative|[0.6967344342378479,0.30326...|  0.0|       0.0|\n",
      "|Vancouver to Delhi via Lond...| Negative|[0.6957653836179005,0.30423...|  0.0|       0.0|\n",
      "|✅ , |  I booked a round tri...| Negative|[0.6947450473731656,0.30525...|  0.0|       0.0|\n",
      "|Ho Chi Minh City to Hai Pho...| Negative|[0.694556747025347,0.305443...|  0.0|       0.0|\n",
      "|I booked a flight from Medi...| Negative|[0.6943455802965759,0.30565...|  0.0|       0.0|\n",
      "|. Terrible experience! Flig...| Negative|[0.6934018282887899,0.30659...|  0.0|       0.0|\n",
      "|I’ve grown up flying freque...| Negative|[0.6929463427240488,0.30705...|  0.0|       0.0|\n",
      "+------------------------------+---------+------------------------------+-----+----------+\n",
      "only showing top 10 rows\n",
      "\n"
     ]
    },
    {
     "name": "stderr",
     "output_type": "stream",
     "text": [
      "                                                                                \r"
     ]
    }
   ],
   "source": [
    "predictionsTrainingDataRF.filter(predictionsTrainingDataRF['prediction'] == 0).select(\"review\", \"sentiment\", \"probability\", \"label\", \"prediction\")\\\n",
    ".orderBy(\"probability\", ascending = False).show(n = 10, truncate = 30)"
   ]
  },
  {
   "cell_type": "code",
   "execution_count": 73,
   "id": "7e88645c-c0f4-4655-bfc5-8b3afaf3710d",
   "metadata": {},
   "outputs": [
    {
     "name": "stderr",
     "output_type": "stream",
     "text": [
      "[Stage 426:============================>                            (4 + 4) / 8]\r"
     ]
    },
    {
     "name": "stdout",
     "output_type": "stream",
     "text": [
      "+------------------------------+---------+------------------------------+-----+----------+\n",
      "|                        review|sentiment|                   probability|label|prediction|\n",
      "+------------------------------+---------+------------------------------+-----+----------+\n",
      "|This was my family’s first ...| Negative|[0.7005664182881071,0.29943...|  0.0|       0.0|\n",
      "|My daughter and I were head...| Negative|[0.6937306055435247,0.30626...|  0.0|       0.0|\n",
      "|Boston to Madrid via Philad...| Negative|[0.6926581166853855,0.30734...|  0.0|       0.0|\n",
      "|Today, while I was at work,...| Negative|[0.6912904176022953,0.30870...|  0.0|       0.0|\n",
      "|Bottom line up front, Front...| Negative|[0.6902743021334099,0.30972...|  0.0|       0.0|\n",
      "|My first encounter with LIA...| Negative|[0.6890674987498435,0.31093...|  0.0|       0.0|\n",
      "|Awful. Used to be my prefer...| Negative|[0.6887474590487002,0.31125...|  0.0|       0.0|\n",
      "|Seattle to Portland. Terrib...| Negative|[0.6885389729904591,0.31146...|  0.0|       0.0|\n",
      "|Philadelphia to Denver. My ...| Negative|[0.6880574162180774,0.31194...|  0.0|       0.0|\n",
      "|The fares are low and it’s ...| Negative|[0.6860726289775253,0.31392...|  0.0|       0.0|\n",
      "+------------------------------+---------+------------------------------+-----+----------+\n",
      "only showing top 10 rows\n",
      "\n"
     ]
    },
    {
     "name": "stderr",
     "output_type": "stream",
     "text": [
      "                                                                                \r"
     ]
    }
   ],
   "source": [
    "predictionsTestDataRF.filter(predictionsTestDataRF['prediction'] == 0).select(\"review\", \"sentiment\", \"probability\", \"label\", \"prediction\")\\\n",
    ".orderBy(\"probability\", ascending = False).show(n = 10, truncate = 30)"
   ]
  },
  {
   "cell_type": "code",
   "execution_count": 74,
   "id": "687152b8-adb4-4aca-922d-bc08099a603b",
   "metadata": {},
   "outputs": [
    {
     "name": "stderr",
     "output_type": "stream",
     "text": [
      "[Stage 427:============================>                            (4 + 4) / 8]\r"
     ]
    },
    {
     "name": "stdout",
     "output_type": "stream",
     "text": [
      "+------------------------------+---------+------------------------------+-----+----------+\n",
      "|                        review|sentiment|                   probability|label|prediction|\n",
      "+------------------------------+---------+------------------------------+-----+----------+\n",
      "|Amsterdam to Lima return vi...| Negative|[0.49999688375538043,0.5000...|  0.0|       1.0|\n",
      "|Zurich - Bangkok Bangkok - ...| Positive|[0.4999850912952677,0.50001...|  1.0|       1.0|\n",
      "|Bangkok to Jakarta. It was ...| Positive|[0.49998239648611464,0.5000...|  1.0|       1.0|\n",
      "|PER-JNB-MRU return. A340-20...| Positive|[0.49997830293019097,0.5000...|  1.0|       1.0|\n",
      "|JFK-DEL-JFK in Economy over...| Positive|[0.4999747836596156,0.50002...|  1.0|       1.0|\n",
      "|Sydney to Singapore. Flying...| Positive|[0.4999742574705152,0.50002...|  1.0|       1.0|\n",
      "|Traveled with Bangkok Airwa...| Positive|[0.49995309212166394,0.5000...|  1.0|       1.0|\n",
      "|BR35 from YYZ to TPE. Havin...| Positive|[0.49994688592143066,0.5000...|  1.0|       1.0|\n",
      "|Gatwick to Mauritius return...| Positive|[0.49993884300544056,0.5000...|  1.0|       1.0|\n",
      "|Flew out economy but paid e...| Positive|[0.4999348782169995,0.50006...|  1.0|       1.0|\n",
      "+------------------------------+---------+------------------------------+-----+----------+\n",
      "only showing top 10 rows\n",
      "\n"
     ]
    },
    {
     "name": "stderr",
     "output_type": "stream",
     "text": [
      "                                                                                \r"
     ]
    }
   ],
   "source": [
    "predictionsTrainingDataRF.filter(predictionsTrainingDataRF['prediction'] == 1).select(\"review\", \"sentiment\", \"probability\", \"label\", \"prediction\")\\\n",
    ".orderBy(\"probability\", ascending = False).show(n = 10, truncate = 30)"
   ]
  },
  {
   "cell_type": "code",
   "execution_count": 75,
   "id": "d63a03d3-003d-45ca-9aa3-aedc41d89721",
   "metadata": {},
   "outputs": [
    {
     "name": "stderr",
     "output_type": "stream",
     "text": [
      "[Stage 428:============================>                            (4 + 4) / 8]\r"
     ]
    },
    {
     "name": "stdout",
     "output_type": "stream",
     "text": [
      "+------------------------------+---------+------------------------------+-----+----------+\n",
      "|                        review|sentiment|                   probability|label|prediction|\n",
      "+------------------------------+---------+------------------------------+-----+----------+\n",
      "|Seoul to Jakarta. Garuda In...| Positive|[0.499998851430385,0.500001...|  1.0|       1.0|\n",
      "|BUD-ZRH-HKG-ZRH-BUD I had s...| Positive|[0.4999895968434295,0.50001...|  1.0|       1.0|\n",
      "|Tokyo to London via Seoul. ...| Positive|[0.49995119417914735,0.5000...|  1.0|       1.0|\n",
      "|GLA-FCO and return. Very fr...| Positive|[0.49994690983977996,0.5000...|  1.0|       1.0|\n",
      "|Lounge access with JAL prem...| Positive|[0.49993533647618976,0.5000...|  1.0|       1.0|\n",
      "|✅ , |  Flew Qatar Airways f...| Positive|[0.49987644468678755,0.5001...|  1.0|       1.0|\n",
      "|I was flying from Frankfurt...| Positive|[0.4998695350614697,0.50013...|  1.0|       1.0|\n",
      "|This return trip, London St...| Positive|[0.4998433978410157,0.50015...|  1.0|       1.0|\n",
      "|San Francisco to New York J...| Positive|[0.49981864170940354,0.5001...|  1.0|       1.0|\n",
      "|London Heathrow to New Orle...| Positive|[0.499809248181804,0.500190...|  1.0|       1.0|\n",
      "+------------------------------+---------+------------------------------+-----+----------+\n",
      "only showing top 10 rows\n",
      "\n"
     ]
    },
    {
     "name": "stderr",
     "output_type": "stream",
     "text": [
      "                                                                                \r"
     ]
    }
   ],
   "source": [
    "predictionsTestDataRF.filter(predictionsTestDataRF['prediction'] == 1).select(\"review\", \"sentiment\", \"probability\", \"label\", \"prediction\")\\\n",
    ".orderBy(\"probability\", ascending = False).show(n = 10, truncate = 30)"
   ]
  },
  {
   "cell_type": "code",
   "execution_count": 76,
   "id": "dd1748c1-4e06-42c1-9f85-06b73962df72",
   "metadata": {},
   "outputs": [
    {
     "name": "stderr",
     "output_type": "stream",
     "text": [
      "[Stage 429:============================>                            (4 + 4) / 8]\r"
     ]
    },
    {
     "name": "stdout",
     "output_type": "stream",
     "text": [
      "0.47589184663639533\n"
     ]
    },
    {
     "name": "stderr",
     "output_type": "stream",
     "text": [
      "                                                                                \r"
     ]
    }
   ],
   "source": [
    "evaluatorRF = MulticlassClassificationEvaluator(predictionCol = \"prediction\")\n",
    "rfTrainingAccuracy = evaluatorRF.evaluate(predictionsTrainingDataRF)\n",
    "print(rfTrainingAccuracy)"
   ]
  },
  {
   "cell_type": "code",
   "execution_count": 77,
   "id": "4943a508-7cf4-4e3a-86a5-5206eb8a0ac1",
   "metadata": {},
   "outputs": [
    {
     "name": "stderr",
     "output_type": "stream",
     "text": [
      "[Stage 431:============================>                            (4 + 4) / 8]\r"
     ]
    },
    {
     "name": "stdout",
     "output_type": "stream",
     "text": [
      "0.47041480584372125\n"
     ]
    },
    {
     "name": "stderr",
     "output_type": "stream",
     "text": [
      "                                                                                \r"
     ]
    }
   ],
   "source": [
    "rfTestAccuracy = evaluatorRF.evaluate(predictionsTestDataRF)\n",
    "print(rfTestAccuracy)"
   ]
  },
  {
   "cell_type": "code",
   "execution_count": 78,
   "id": "06792b46-baf8-49cf-9207-b6054482d854",
   "metadata": {},
   "outputs": [
    {
     "name": "stderr",
     "output_type": "stream",
     "text": [
      "[Stage 443:============================>                            (4 + 4) / 8]\r"
     ]
    },
    {
     "name": "stdout",
     "output_type": "stream",
     "text": [
      "\n",
      "Train Accuracy: 0.6024295288783758\n",
      "\n",
      "Train FPR: 0.5479666898294258\n",
      "\n",
      "Train TPR: 0.6024295288783758\n",
      "\n",
      "Train F-measure: 0.47589184663639533\n",
      "\n",
      "Train Precision: 0.7511840278422938\n",
      "\n",
      "Train Recall: 0.6024295288783758\n"
     ]
    },
    {
     "name": "stderr",
     "output_type": "stream",
     "text": [
      "                                                                                \r"
     ]
    }
   ],
   "source": [
    "rf_train_accuracy = evaluatorRF.evaluate(predictionsTrainingDataRF, {evaluatorRF.metricName: \"accuracy\"})\n",
    "rf_train_falsePositiveRate = evaluatorRF.evaluate(predictionsTrainingDataRF, {evaluatorRF.metricName: \"weightedFalsePositiveRate\"})\n",
    "rf_train_truePositiveRate = evaluatorRF.evaluate(predictionsTrainingDataRF, {evaluatorRF.metricName: \"weightedTruePositiveRate\"})\n",
    "rf_train_fMeasure = evaluatorRF.evaluate(predictionsTrainingDataRF, {evaluatorRF.metricName: \"f1\"})\n",
    "rf_train_precision = evaluatorRF.evaluate(predictionsTrainingDataRF, {evaluatorRF.metricName: \"weightedPrecision\"})\n",
    "rf_train_recall = evaluatorRF.evaluate(predictionsTrainingDataRF, {evaluatorRF.metricName: \"weightedRecall\"})\n",
    "\n",
    "print(\"\\nTrain Accuracy: %s\\n\\nTrain FPR: %s\\n\\nTrain TPR: %s\\n\\nTrain F-measure: %s\\n\\nTrain Precision: %s\\n\\nTrain Recall: %s\"\n",
    "      % (rf_train_accuracy, rf_train_falsePositiveRate, rf_train_truePositiveRate, rf_train_fMeasure, rf_train_precision, rf_train_recall))"
   ]
  },
  {
   "cell_type": "code",
   "execution_count": 79,
   "id": "d227d4a7-7ab7-4a00-83e5-b58558f158b6",
   "metadata": {},
   "outputs": [
    {
     "name": "stderr",
     "output_type": "stream",
     "text": [
      "[Stage 455:============================>                            (4 + 4) / 8]\r"
     ]
    },
    {
     "name": "stdout",
     "output_type": "stream",
     "text": [
      "\n",
      "Test Accuracy: 0.5981930983217543\n",
      "\n",
      "Test FPR: 0.5453225400132783\n",
      "\n",
      "Test TPR: 0.5981930983217543\n",
      "\n",
      "Test F-measure: 0.47041480584372125\n",
      "\n",
      "Test Precision: 0.7496141425812886\n",
      "\n",
      "Test Recall: 0.5981930983217543\n"
     ]
    },
    {
     "name": "stderr",
     "output_type": "stream",
     "text": [
      "                                                                                \r"
     ]
    }
   ],
   "source": [
    "rf_test_accuracy = evaluatorRF.evaluate(predictionsTestDataRF, {evaluatorRF.metricName: \"accuracy\"})\n",
    "rf_test_falsePositiveRate = evaluatorRF.evaluate(predictionsTestDataRF, {evaluatorRF.metricName: \"weightedFalsePositiveRate\"})\n",
    "rf_test_truePositiveRate = evaluatorRF.evaluate(predictionsTestDataRF, {evaluatorRF.metricName: \"weightedTruePositiveRate\"})\n",
    "rf_test_fMeasure = evaluatorRF.evaluate(predictionsTestDataRF, {evaluatorRF.metricName: \"f1\"})\n",
    "rf_test_precision = evaluatorRF.evaluate(predictionsTestDataRF, {evaluatorRF.metricName: \"weightedPrecision\"})\n",
    "rf_test_recall = evaluatorRF.evaluate(predictionsTestDataRF, {evaluatorRF.metricName: \"weightedRecall\"})\n",
    "\n",
    "print(\"\\nTest Accuracy: %s\\n\\nTest FPR: %s\\n\\nTest TPR: %s\\n\\nTest F-measure: %s\\n\\nTest Precision: %s\\n\\nTest Recall: %s\"\n",
    "      % (rf_test_accuracy, rf_test_falsePositiveRate, rf_test_truePositiveRate, rf_test_fMeasure, rf_test_precision, rf_test_recall))"
   ]
  },
  {
   "cell_type": "code",
   "execution_count": 80,
   "id": "d0d32011-8707-48cf-878e-6bdc493e9752",
   "metadata": {},
   "outputs": [
    {
     "name": "stderr",
     "output_type": "stream",
     "text": [
      "[Stage 478:============================>                            (4 + 4) / 8]\r"
     ]
    },
    {
     "name": "stdout",
     "output_type": "stream",
     "text": [
      "Train Accuracy Score: 0.6024295288783758\n",
      "Test Accuracy Score: 0.5981930983217543\n",
      "Train Precision Score: 0.9689251146204788\n",
      "Test Precision Score: 0.9675090252707581\n",
      "Train Recall Score: 0.05575913928058398\n",
      "Test Recall Score: 0.054210774728608996\n",
      "Train F1 Score: 0.10544990852137275\n",
      "Test F1 Score: 0.10266888009194229\n"
     ]
    },
    {
     "name": "stderr",
     "output_type": "stream",
     "text": [
      "                                                                                \r"
     ]
    }
   ],
   "source": [
    "classificationMetrics(predictionsTrainingDataRF, predictionsTestDataRF)"
   ]
  },
  {
   "cell_type": "code",
   "execution_count": 81,
   "id": "1a03ef38-e172-4754-a399-508df177ce2d",
   "metadata": {},
   "outputs": [
    {
     "name": "stderr",
     "output_type": "stream",
     "text": [
      "                                                                                \r"
     ]
    }
   ],
   "source": [
    "trainingDataNB = trainingData1\n",
    "testDataNB = testData1\n",
    "\n",
    "nb = NaiveBayes(smoothing = 1)\n",
    "nbModel = nb.fit(trainingDataNB)\n",
    "\n",
    "predictionsTrainingDataNB = nbModel.transform(trainingDataNB)\n",
    "predictionsTestDataNB = nbModel.transform(testDataNB)"
   ]
  },
  {
   "cell_type": "code",
   "execution_count": 82,
   "id": "2af384f9-6461-4c02-afc4-b3792f6c0525",
   "metadata": {},
   "outputs": [
    {
     "name": "stderr",
     "output_type": "stream",
     "text": [
      "[Stage 484:=================================================>       (7 + 1) / 8]\r"
     ]
    },
    {
     "name": "stdout",
     "output_type": "stream",
     "text": [
      "+------------------------------+---------+----------------------------+-----+----------+\n",
      "|                        review|sentiment|                 probability|label|prediction|\n",
      "+------------------------------+---------+----------------------------+-----+----------+\n",
      "|Its amazing to find out on ...| Negative| [1.0,1.109722076859271E-16]|  0.0|       0.0|\n",
      "|I did not actually fly beca...| Negative|[1.0,1.1061138754871115E-16]|  0.0|       0.0|\n",
      "|Aruba to Detroit via Ft Lau...| Negative|[1.0,1.1019464022710804E-16]|  0.0|       0.0|\n",
      "|Miami-Nassau-Havana. Check ...| Negative| [1.0,1.099053121016792E-16]|  0.0|       0.0|\n",
      "|My flight to Budapest was c...| Negative| [1.0,1.097816367268789E-16]|  0.0|       0.0|\n",
      "|Avoid American Airlines if ...| Negative|[1.0,1.0977211145000272E-16]|  0.0|       0.0|\n",
      "|Hopeless customer service a...| Negative|[1.0,1.0975786117719522E-16]|  0.0|       0.0|\n",
      "|Toronto to Edmonton. I arri...| Negative|[1.0,1.0975680954478313E-16]|  0.0|       0.0|\n",
      "|Frankfurt to Baltimore via ...| Negative|[1.0,1.0938394584727998E-16]|  0.0|       0.0|\n",
      "|Flight to Johannesburg. Exp...| Negative|[1.0,1.0882377873419723E-16]|  0.0|       0.0|\n",
      "+------------------------------+---------+----------------------------+-----+----------+\n",
      "only showing top 10 rows\n",
      "\n"
     ]
    },
    {
     "name": "stderr",
     "output_type": "stream",
     "text": [
      "                                                                                \r"
     ]
    }
   ],
   "source": [
    "predictionsTrainingDataNB.filter(predictionsTrainingDataNB['prediction'] == 0).select(\"review\", \"sentiment\", \"probability\", \"label\", \"prediction\")\\\n",
    ".orderBy(\"probability\", ascending = False).show(n = 10, truncate = 30)"
   ]
  },
  {
   "cell_type": "code",
   "execution_count": 83,
   "id": "9d2a0c04-6f04-42ed-b21a-5601207fd97f",
   "metadata": {},
   "outputs": [
    {
     "name": "stderr",
     "output_type": "stream",
     "text": [
      "[Stage 485:=================================================>       (7 + 1) / 8]\r"
     ]
    },
    {
     "name": "stdout",
     "output_type": "stream",
     "text": [
      "+------------------------------+---------+----------------------------+-----+----------+\n",
      "|                        review|sentiment|                 probability|label|prediction|\n",
      "+------------------------------+---------+----------------------------+-----+----------+\n",
      "|✅ , |  We travelled home fr...| Negative|[1.0,1.1080901878196092E-16]|  0.0|       0.0|\n",
      "|Unfortunately I left my pho...| Negative|[1.0,1.1029688594681506E-16]|  0.0|       0.0|\n",
      "|Flight 1660 from Denver to ...| Negative|[1.0,1.0931069498391386E-16]|  0.0|       0.0|\n",
      "|Mexico City to Toronto. Thi...| Negative|[1.0,1.0838386064179515E-16]|  0.0|       0.0|\n",
      "|Delhi to Toronto. My husban...| Negative|[1.0,1.0834308881413551E-16]|  0.0|       0.0|\n",
      "|Spirit is deceptive in its ...| Negative|[1.0,1.0823992930016013E-16]|  0.0|       0.0|\n",
      "|Just arrived back from a tr...| Negative| [1.0,1.069856141958615E-16]|  0.0|       0.0|\n",
      "|The Addis Ababa to Durban l...| Negative|[1.0,1.0678870762559037E-16]|  0.0|       0.0|\n",
      "|Denpasar to Vilnius via Ist...| Negative|[1.0,1.0481512401110509E-16]|  0.0|       0.0|\n",
      "|\"Toronto to Orlando. The pl...| Negative|[1.0,1.0447085994985055E-16]|  0.0|       0.0|\n",
      "+------------------------------+---------+----------------------------+-----+----------+\n",
      "only showing top 10 rows\n",
      "\n"
     ]
    },
    {
     "name": "stderr",
     "output_type": "stream",
     "text": [
      "                                                                                \r"
     ]
    }
   ],
   "source": [
    "predictionsTestDataNB.filter(predictionsTestDataNB['prediction'] == 0).select(\"review\", \"sentiment\", \"probability\", \"label\", \"prediction\")\\\n",
    ".orderBy(\"probability\", ascending = False).show(n = 10, truncate = 30)"
   ]
  },
  {
   "cell_type": "code",
   "execution_count": 84,
   "id": "0fac7a1e-9239-4715-aef6-bbe23d0f75f9",
   "metadata": {},
   "outputs": [
    {
     "name": "stderr",
     "output_type": "stream",
     "text": [
      "[Stage 486:============================>                            (4 + 4) / 8]\r"
     ]
    },
    {
     "name": "stdout",
     "output_type": "stream",
     "text": [
      "+------------------------------+---------+------------------------------+-----+----------+\n",
      "|                        review|sentiment|                   probability|label|prediction|\n",
      "+------------------------------+---------+------------------------------+-----+----------+\n",
      "|Venice to Frankfurt. 55euro...| Negative|[0.4998379522178986,0.50016...|  0.0|       1.0|\n",
      "|Bangalore to Bangkok. Bad s...| Negative|[0.4994282755806257,0.50057...|  0.0|       1.0|\n",
      "|Flew on a charter flight fr...| Negative|[0.4993126311082838,0.50068...|  0.0|       1.0|\n",
      "|Newark to Honolulu. Simply ...| Negative|[0.4992894193826343,0.50071...|  0.0|       1.0|\n",
      "|IAD to Orly was diverted to...| Negative|[0.49911973966474915,0.5008...|  0.0|       1.0|\n",
      "|Houston to Denver. No frill...| Positive|[0.4990070971742238,0.50099...|  1.0|       1.0|\n",
      "|I have travelled extensivel...| Negative|[0.4985146117565894,0.50148...|  0.0|       1.0|\n",
      "|We flew to and from Havana ...| Negative|[0.4983024092789816,0.50169...|  0.0|       1.0|\n",
      "|London to Stockholm. Unjust...| Negative|[0.4982719049099095,0.50172...|  0.0|       1.0|\n",
      "|Flew from Prestwick to Palm...| Positive|[0.49826511642205384,0.5017...|  1.0|       1.0|\n",
      "+------------------------------+---------+------------------------------+-----+----------+\n",
      "only showing top 10 rows\n",
      "\n"
     ]
    },
    {
     "name": "stderr",
     "output_type": "stream",
     "text": [
      "                                                                                \r"
     ]
    }
   ],
   "source": [
    "predictionsTrainingDataNB.filter(predictionsTrainingDataNB['prediction'] == 1).select(\"review\", \"sentiment\", \"probability\", \"label\", \"prediction\")\\\n",
    ".orderBy(\"probability\", ascending = False).show(n = 10, truncate = 30)"
   ]
  },
  {
   "cell_type": "code",
   "execution_count": 85,
   "id": "74c7d342-a9c1-4058-b972-585c7127a0ce",
   "metadata": {},
   "outputs": [
    {
     "name": "stderr",
     "output_type": "stream",
     "text": [
      "[Stage 487:=================================================>       (7 + 1) / 8]\r"
     ]
    },
    {
     "name": "stdout",
     "output_type": "stream",
     "text": [
      "+------------------------------+---------+------------------------------+-----+----------+\n",
      "|                        review|sentiment|                   probability|label|prediction|\n",
      "+------------------------------+---------+------------------------------+-----+----------+\n",
      "|London to Budapest and back...| Negative|[0.4995917943104755,0.50040...|  0.0|       1.0|\n",
      "|Amsterdam to Helsinki. Amou...| Negative|[0.49882828018981534,0.5011...|  0.0|       1.0|\n",
      "|Luanda to Rome via Frankfur...| Negative|[0.49706005237990764,0.5029...|  0.0|       1.0|\n",
      "|Departing from Washington D...| Negative|[0.4966999738409337,0.50330...|  0.0|       1.0|\n",
      "|Flew Thomson Airways from M...| Negative|[0.49617171096373613,0.5038...|  0.0|       1.0|\n",
      "|Tallin to Riga, this specif...| Positive|[0.4957424421085678,0.50425...|  1.0|       1.0|\n",
      "|My flight from LA to Manila...| Negative|[0.495188958159349,0.504811...|  0.0|       1.0|\n",
      "|Cairns to Sydney Via Brisba...| Positive|[0.4943249015865425,0.50567...|  1.0|       1.0|\n",
      "|I was apprehensive before m...| Positive|[0.4940333899432417,0.50596...|  1.0|       1.0|\n",
      "|New Orleans to Denver. Grea...| Positive|[0.4939293186478386,0.50607...|  1.0|       1.0|\n",
      "+------------------------------+---------+------------------------------+-----+----------+\n",
      "only showing top 10 rows\n",
      "\n"
     ]
    },
    {
     "name": "stderr",
     "output_type": "stream",
     "text": [
      "                                                                                \r"
     ]
    }
   ],
   "source": [
    "predictionsTestDataNB.filter(predictionsTestDataNB['prediction'] == 1).select(\"review\", \"sentiment\", \"probability\", \"label\", \"prediction\")\\\n",
    ".orderBy(\"probability\", ascending = False).show(n = 10, truncate = 30)"
   ]
  },
  {
   "cell_type": "code",
   "execution_count": 86,
   "id": "55986b15-b14f-4fb6-84ab-7bf06a1a8663",
   "metadata": {},
   "outputs": [
    {
     "name": "stderr",
     "output_type": "stream",
     "text": [
      "[Stage 488:============================>                            (4 + 4) / 8]\r"
     ]
    },
    {
     "name": "stdout",
     "output_type": "stream",
     "text": [
      "0.85901945243038\n"
     ]
    },
    {
     "name": "stderr",
     "output_type": "stream",
     "text": [
      "                                                                                \r"
     ]
    }
   ],
   "source": [
    "evaluatorNB = MulticlassClassificationEvaluator(predictionCol = \"prediction\")\n",
    "nbTrainingAccuracy = evaluatorNB.evaluate(predictionsTrainingDataNB)\n",
    "print(nbTrainingAccuracy)"
   ]
  },
  {
   "cell_type": "code",
   "execution_count": 87,
   "id": "91ca9e13-75b0-4c6c-a50a-44d818046751",
   "metadata": {},
   "outputs": [
    {
     "name": "stderr",
     "output_type": "stream",
     "text": [
      "[Stage 490:============================>                            (4 + 4) / 8]\r"
     ]
    },
    {
     "name": "stdout",
     "output_type": "stream",
     "text": [
      "0.854578818159649\n"
     ]
    },
    {
     "name": "stderr",
     "output_type": "stream",
     "text": [
      "                                                                                \r"
     ]
    }
   ],
   "source": [
    "nbTestAccuracy = evaluatorNB.evaluate(predictionsTestDataNB)\n",
    "print(nbTestAccuracy)"
   ]
  },
  {
   "cell_type": "code",
   "execution_count": 88,
   "id": "956d90a6-07fd-4429-a264-979c1fe0c05a",
   "metadata": {},
   "outputs": [
    {
     "name": "stderr",
     "output_type": "stream",
     "text": [
      "[Stage 502:============================>                            (4 + 4) / 8]\r"
     ]
    },
    {
     "name": "stdout",
     "output_type": "stream",
     "text": [
      "\n",
      "Train Accuracy: 0.8581830277942046\n",
      "\n",
      "Train FPR: 0.13061017990936394\n",
      "\n",
      "Train TPR: 0.8581830277942046\n",
      "\n",
      "Train F-measure: 0.85901945243038\n",
      "\n",
      "Train Precision: 0.8654019874231136\n",
      "\n",
      "Train Recall: 0.8581830277942046\n"
     ]
    },
    {
     "name": "stderr",
     "output_type": "stream",
     "text": [
      "                                                                                \r"
     ]
    }
   ],
   "source": [
    "nb_train_accuracy = evaluatorNB.evaluate(predictionsTrainingDataNB, {evaluatorNB.metricName: \"accuracy\"})\n",
    "nb_train_falsePositiveRate = evaluatorNB.evaluate(predictionsTrainingDataNB, {evaluatorNB.metricName: \"weightedFalsePositiveRate\"})\n",
    "nb_train_truePositiveRate = evaluatorNB.evaluate(predictionsTrainingDataNB, {evaluatorNB.metricName: \"weightedTruePositiveRate\"})\n",
    "nb_train_fMeasure = evaluatorNB.evaluate(predictionsTrainingDataNB, {evaluatorNB.metricName: \"f1\"})\n",
    "nb_train_precision = evaluatorNB.evaluate(predictionsTrainingDataNB, {evaluatorNB.metricName: \"weightedPrecision\"})\n",
    "nb_train_recall = evaluatorNB.evaluate(predictionsTrainingDataNB, {evaluatorNB.metricName: \"weightedRecall\"})\n",
    "\n",
    "print(\"\\nTrain Accuracy: %s\\n\\nTrain FPR: %s\\n\\nTrain TPR: %s\\n\\nTrain F-measure: %s\\n\\nTrain Precision: %s\\n\\nTrain Recall: %s\"\n",
    "      % (nb_train_accuracy, nb_train_falsePositiveRate, nb_train_truePositiveRate, nb_train_fMeasure, nb_train_precision, nb_train_recall))"
   ]
  },
  {
   "cell_type": "code",
   "execution_count": 89,
   "id": "3f9f4748-c28b-4f64-ad90-ca286c02a876",
   "metadata": {},
   "outputs": [
    {
     "name": "stderr",
     "output_type": "stream",
     "text": [
      "[Stage 514:============================>                            (4 + 4) / 8]\r"
     ]
    },
    {
     "name": "stdout",
     "output_type": "stream",
     "text": [
      "\n",
      "Test Accuracy: 0.8537896331875232\n",
      "\n",
      "Test FPR: 0.13590278154207128\n",
      "\n",
      "Test TPR: 0.8537896331875232\n",
      "\n",
      "Test F-measure: 0.854578818159649\n",
      "\n",
      "Test Precision: 0.8605963606401938\n",
      "\n",
      "Test Recall: 0.8537896331875232\n"
     ]
    },
    {
     "name": "stderr",
     "output_type": "stream",
     "text": [
      "                                                                                \r"
     ]
    }
   ],
   "source": [
    "nb_test_accuracy = evaluatorNB.evaluate(predictionsTestDataNB, {evaluatorNB.metricName: \"accuracy\"})\n",
    "nb_test_falsePositiveRate = evaluatorNB.evaluate(predictionsTestDataNB, {evaluatorNB.metricName: \"weightedFalsePositiveRate\"})\n",
    "nb_test_truePositiveRate = evaluatorNB.evaluate(predictionsTestDataNB, {evaluatorNB.metricName: \"weightedTruePositiveRate\"})\n",
    "nb_test_fMeasure = evaluatorNB.evaluate(predictionsTestDataNB, {evaluatorNB.metricName: \"f1\"})\n",
    "nb_test_precision = evaluatorNB.evaluate(predictionsTestDataNB, {evaluatorNB.metricName: \"weightedPrecision\"})\n",
    "nb_test_recall = evaluatorNB.evaluate(predictionsTestDataNB, {evaluatorNB.metricName: \"weightedRecall\"})\n",
    "\n",
    "print(\"\\nTest Accuracy: %s\\n\\nTest FPR: %s\\n\\nTest TPR: %s\\n\\nTest F-measure: %s\\n\\nTest Precision: %s\\n\\nTest Recall: %s\"\n",
    "      % (nb_test_accuracy, nb_test_falsePositiveRate, nb_test_truePositiveRate, nb_test_fMeasure, nb_test_precision, nb_test_recall))"
   ]
  },
  {
   "cell_type": "code",
   "execution_count": 90,
   "id": "34344538-bca5-42d0-9d50-c5ddb838325a",
   "metadata": {},
   "outputs": [
    {
     "name": "stderr",
     "output_type": "stream",
     "text": [
      "[Stage 537:=================================================>       (7 + 1) / 8]\r"
     ]
    },
    {
     "name": "stdout",
     "output_type": "stream",
     "text": [
      "Train Accuracy Score: 0.8581830277942046\n",
      "Test Accuracy Score: 0.8537896331875232\n",
      "Train Precision Score: 0.7917936270206063\n",
      "Test Precision Score: 0.7897656110216497\n",
      "Train Recall Score: 0.8989182375186889\n",
      "Test Recall Score: 0.8928595509405974\n",
      "Train F1 Score: 0.8419621895465217\n",
      "Test F1 Score: 0.8381543135641497\n"
     ]
    },
    {
     "name": "stderr",
     "output_type": "stream",
     "text": [
      "                                                                                \r"
     ]
    }
   ],
   "source": [
    "classificationMetrics(predictionsTrainingDataNB, predictionsTestDataNB)"
   ]
  },
  {
   "cell_type": "code",
   "execution_count": 91,
   "id": "f14025e8-33fb-4393-a23b-eb8210c855c6",
   "metadata": {},
   "outputs": [],
   "source": [
    "model = ['Logistic Regression', 'Decision Tree', 'Naive Bayes', 'Random Forest',]\n",
    "accuracy = [lrTestAccuracy2, dtTestAccuracy, nbTestAccuracy, rfTestAccuracy]\n",
    "f1 = [lr_test_fMeasure2, dt_test_fMeasure, nb_test_fMeasure, rf_test_fMeasure]"
   ]
  },
  {
   "cell_type": "code",
   "execution_count": 92,
   "id": "9878a1d9-26b9-4f51-b962-07c94a58361b",
   "metadata": {},
   "outputs": [
    {
     "data": {
      "image/png": "[encoded data removed]",
      "text/plain": [
       "<Figure size 640x480 with 1 Axes>"
      ]
     },
     "metadata": {},
     "output_type": "display_data"
    }
   ],
   "source": [
    "index = np.arange(len(model))\n",
    "plt.bar(index, accuracy)\n",
    "plt.xlabel('Models', fontsize = 10)\n",
    "plt.ylabel('Prediction Accuracy', fontsize = 10)\n",
    "plt.xticks(index, model, fontsize = 10, rotation = 30)\n",
    "plt.title('Accuracy Comparison')\n",
    "plt.show()"
   ]
  },
  {
   "cell_type": "code",
   "execution_count": 93,
   "id": "37351fcc-1c78-4ab0-ae05-13574a4c64b3",
   "metadata": {},
   "outputs": [
    {
     "data": {
      "image/png": "[encoded data removed]",
      "text/plain": [
       "<Figure size 640x480 with 1 Axes>"
      ]
     },
     "metadata": {},
     "output_type": "display_data"
    }
   ],
   "source": [
    "index = np.arange(len(model))\n",
    "plt.bar(index, f1)\n",
    "plt.xlabel('Models', fontsize = 10)\n",
    "plt.ylabel('F1 Score', fontsize = 10)\n",
    "plt.xticks(index, model, fontsize = 10, rotation = 30)\n",
    "plt.title('F1 Score Comparison')\n",
    "plt.show()"
   ]
  },
  {
   "cell_type": "code",
   "execution_count": 94,
   "id": "45cfd96f-1e64-4c4d-bfbd-4d7dd26d215a",
   "metadata": {},
   "outputs": [],
   "source": [
    "vectorizer = ['Count Vector', 'TF-IDF Vector', 'Word2Vec']\n",
    "accuracy = [lrTestAccuracy1, lrTestAccuracy2, lrTestAccuracy3]\n",
    "f1 = [lr_test_fMeasure1, lr_test_fMeasure2, lr_test_fMeasure3]"
   ]
  },
  {
   "cell_type": "code",
   "execution_count": 95,
   "id": "6b82f89d-b1de-4608-8de5-9199269f6fc2",
   "metadata": {},
   "outputs": [
    {
     "data": {
      "image/png": "[encoded data removed]",
      "text/plain": [
       "<Figure size 640x480 with 1 Axes>"
      ]
     },
     "metadata": {},
     "output_type": "display_data"
    }
   ],
   "source": [
    "index = np.arange(len(vectorizer))\n",
    "plt.bar(vectorizer, accuracy)\n",
    "plt.xlabel('Models', fontsize = 10)\n",
    "plt.ylabel('Accuracy', fontsize = 10)\n",
    "plt.xticks(index, vectorizer, fontsize = 10, rotation = 30)\n",
    "plt.title('Accuracy Comparison')\n",
    "plt.show()"
   ]
  },
  {
   "cell_type": "code",
   "execution_count": 106,
   "id": "84df6be4-56ef-4f39-95be-66cfd7b1d594",
   "metadata": {},
   "outputs": [
    {
     "data": {
      "image/png": "[encoded data removed]",
      "text/plain": [
       "<Figure size 1000x300 with 1 Axes>"
      ]
     },
     "metadata": {},
     "output_type": "display_data"
    }
   ],
   "source": [
    "plt.figure(figsize = [10, 3])\n",
    "index = np.arange(len(vectorizer))\n",
    "plt.bar(vectorizer, f1)\n",
    "plt.xlabel('Logistic Regression Models', fontsize = 10)\n",
    "plt.ylabel('F1 Score', fontsize = 10)\n",
    "plt.xticks(index, vectorizer, fontsize = 10)\n",
    "plt.show()"
   ]
  },
  {
   "cell_type": "code",
   "execution_count": null,
   "id": "14aab14f-0320-4b68-9341-439cb8f27019",
   "metadata": {},
   "outputs": [],
   "source": [
    "predictionsTrainingData1[['review', 'sentiment', 'prediction']].head(5)"
   ]
  },
  {
   "cell_type": "code",
   "execution_count": null,
   "id": "cb0a3a86-5e3f-4934-934a-8a657743053e",
   "metadata": {},
   "outputs": [],
   "source": [
    "lrModel1.write().overwrite().save(f'gs://msca-bdp-student-gcs/Group7_Final_Project/airline_reviews/airline_reviews_sentiment_analysis_logistic_regression1')\n",
    "lrModel2.write().overwrite().save(f'gs://msca-bdp-student-gcs/Group7_Final_Project/airline_reviews/airline_reviews_sentiment_analysis_logistic_regression2')\n",
    "lrModel3.write().overwrite().save(f'gs://msca-bdp-student-gcs/Group7_Final_Project/airline_reviews/airline_reviews_sentiment_analysis_logistic_regression3')"
   ]
  },
  {
   "cell_type": "code",
   "execution_count": null,
   "id": "e672b598-7779-4edd-843e-1906cfe1cecf",
   "metadata": {},
   "outputs": [],
   "source": [
    "dtModel.write().overwrite().save(f'gs://msca-bdp-student-gcs/Group7_Final_Project/airline_reviews/airline_reviews_sentiment_analysis_decision_tree')\n",
    "rfModel.write().overwrite().save(f'gs://msca-bdp-student-gcs/Group7_Final_Project/airline_reviews/airline_reviews_sentiment_analysis_random_forest')\n",
    "nbModel.write().overwrite().save(f'gs://msca-bdp-student-gcs/Group7_Final_Project/airline_reviews/airline_reviews_sentiment_analysis_naive_bayes')"
   ]
  },
  {
   "cell_type": "code",
   "execution_count": null,
   "id": "5f7697a6-925e-4e03-a099-7055a4bc17f5",
   "metadata": {},
   "outputs": [],
   "source": []
  }
 ],
 "metadata": {
  "kernelspec": {
   "display_name": "PySpark",
   "language": "python",
   "name": "pyspark"
  },
  "language_info": {
   "codemirror_mode": {
    "name": "ipython",
    "version": 3
   },
   "file_extension": ".py",
   "mimetype": "text/x-python",
   "name": "python",
   "nbconvert_exporter": "python",
   "pygments_lexer": "ipython3",
   "version": "3.8.15"
  }
 },
 "nbformat": 4,
 "nbformat_minor": 5
}
