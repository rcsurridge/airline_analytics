{
 "cells": [
  {
   "cell_type": "code",
   "execution_count": 1,
   "id": "d2c1f162-dd5a-40b6-b582-55979fa8f13e",
   "metadata": {},
   "outputs": [],
   "source": [
    "from pyspark.sql.functions import *\n",
    "from pyspark.sql.types import *\n",
    "from pyspark.ml import Pipeline\n",
    "from pyspark.ml.feature import RegexTokenizer, StopWordsRemover, Normalizer, OneHotEncoder, StringIndexer, VectorAssembler\n",
    "from pyspark.ml.feature import CountVectorizer, HashingTF, IDF, Word2Vec\n",
    "from pyspark.ml.classification import LogisticRegression, DecisionTreeClassifier, NaiveBayes, RandomForestClassifier\n",
    "from pyspark.ml.evaluation import MulticlassClassificationEvaluator\n",
    "from pyspark.ml.tuning import ParamGridBuilder, CrossValidator\n",
    "import sparknlp\n",
    "from sparknlp.pretrained import PretrainedPipeline\n",
    "from sparknlp.base import DocumentAssembler, Finisher\n",
    "from sparknlp.annotator import Tokenizer, Normalizer, LemmatizerModel, StopWordsCleaner, NGramGenerator, PerceptronModel\n",
    "import matplotlib.pyplot as plt\n",
    "import numpy as np"
   ]
  },
  {
   "cell_type": "code",
   "execution_count": 2,
   "id": "67a6a255-f6fb-4ce9-903d-ba79ee15fdf1",
   "metadata": {},
   "outputs": [
    {
     "name": "stderr",
     "output_type": "stream",
     "text": [
      "                                                                                \r"
     ]
    }
   ],
   "source": [
    "df = spark.read.csv(\"gs://msca-bdp-student-gcs/Group7_Final_Project/airline_reviews/airline_reviews_preprocessed.csv\", \n",
    "                                     header = True, inferSchema = True)"
   ]
  },
  {
   "cell_type": "code",
   "execution_count": 3,
   "id": "018ec08c-e412-41c5-b5ae-d59845fcaf3d",
   "metadata": {},
   "outputs": [
    {
     "data": {
      "text/plain": [
       "121296"
      ]
     },
     "execution_count": 3,
     "metadata": {},
     "output_type": "execute_result"
    }
   ],
   "source": [
    "df.count()"
   ]
  },
  {
   "cell_type": "code",
   "execution_count": 5,
   "id": "5e2e9b62-82f1-4ddb-9235-0fa878436223",
   "metadata": {},
   "outputs": [],
   "source": [
    "df2 = df.where('overall_score is not null')\n",
    "df3 = df2.where('review is not null')"
   ]
  },
  {
   "cell_type": "code",
   "execution_count": 6,
   "id": "48f6d1f6-f877-4836-839b-4bf9bcdcef7e",
   "metadata": {},
   "outputs": [
    {
     "name": "stderr",
     "output_type": "stream",
     "text": [
      "                                                                                \r"
     ]
    },
    {
     "data": {
      "text/plain": [
       "116145"
      ]
     },
     "execution_count": 6,
     "metadata": {},
     "output_type": "execute_result"
    }
   ],
   "source": [
    "df3.count()"
   ]
  },
  {
   "cell_type": "code",
   "execution_count": 10,
   "id": "a112b65c-d96e-498c-81a3-cc222ed4ecac",
   "metadata": {},
   "outputs": [
    {
     "data": {
      "text/html": [
       "<div>\n",
       "<style scoped>\n",
       "    .dataframe tbody tr th:only-of-type {\n",
       "        vertical-align: middle;\n",
       "    }\n",
       "\n",
       "    .dataframe tbody tr th {\n",
       "        vertical-align: top;\n",
       "    }\n",
       "\n",
       "    .dataframe thead th {\n",
       "        text-align: right;\n",
       "    }\n",
       "</style>\n",
       "<table border=\"1\" class=\"dataframe\">\n",
       "  <thead>\n",
       "    <tr style=\"text-align: right;\">\n",
       "      <th></th>\n",
       "      <th>sentiment</th>\n",
       "      <th>count</th>\n",
       "      <th>pct</th>\n",
       "    </tr>\n",
       "  </thead>\n",
       "  <tbody>\n",
       "    <tr>\n",
       "      <th>0</th>\n",
       "      <td>Positive</td>\n",
       "      <td>48942</td>\n",
       "      <td>0.421387</td>\n",
       "    </tr>\n",
       "    <tr>\n",
       "      <th>1</th>\n",
       "      <td>Negative</td>\n",
       "      <td>67203</td>\n",
       "      <td>0.578613</td>\n",
       "    </tr>\n",
       "  </tbody>\n",
       "</table>\n",
       "</div>"
      ],
      "text/plain": [
       "  sentiment  count       pct\n",
       "0  Positive  48942  0.421387\n",
       "1  Negative  67203  0.578613"
      ]
     },
     "execution_count": 10,
     "metadata": {},
     "output_type": "execute_result"
    }
   ],
   "source": [
    "df3 = df3.withColumn('sentiment', lit(None))\n",
    "df3 = df3.withColumn('sentiment', when((col('overall_score') >= 1) & (col('overall_score') <= 5), \"Negative\").otherwise(col('sentiment')))\n",
    "df3 = df3.withColumn('sentiment', when((col('overall_score') >= 6) & (col('overall_score') <= 10), \"Positive\").otherwise(col('sentiment')))\n",
    "sentiment_dist = df3.groupBy('sentiment').count()\n",
    "sentiment_dist = sentiment_dist.withColumn('pct', col('count')/116145)\n",
    "sentiment_dist.toPandas()"
   ]
  },
  {
   "cell_type": "code",
   "execution_count": 11,
   "id": "5810d051-c8d6-435e-b9f9-bc55baf4f6f0",
   "metadata": {},
   "outputs": [
    {
     "name": "stderr",
     "output_type": "stream",
     "text": [
      "                                                                                \r"
     ]
    },
    {
     "data": {
      "text/html": [
       "<div>\n",
       "<style scoped>\n",
       "    .dataframe tbody tr th:only-of-type {\n",
       "        vertical-align: middle;\n",
       "    }\n",
       "\n",
       "    .dataframe tbody tr th {\n",
       "        vertical-align: top;\n",
       "    }\n",
       "\n",
       "    .dataframe thead th {\n",
       "        text-align: right;\n",
       "    }\n",
       "</style>\n",
       "<table border=\"1\" class=\"dataframe\">\n",
       "  <thead>\n",
       "    <tr style=\"text-align: right;\">\n",
       "      <th></th>\n",
       "      <th>review</th>\n",
       "      <th>sentiment</th>\n",
       "    </tr>\n",
       "  </thead>\n",
       "  <tbody>\n",
       "    <tr>\n",
       "      <th>0</th>\n",
       "      <td>The customer service rep I spoke to was incred...</td>\n",
       "      <td>Negative</td>\n",
       "    </tr>\n",
       "    <tr>\n",
       "      <th>1</th>\n",
       "      <td>Last year my family and I took a trip to NY on...</td>\n",
       "      <td>Positive</td>\n",
       "    </tr>\n",
       "    <tr>\n",
       "      <th>2</th>\n",
       "      <td>JFK-RDU: First time flying this carrier. They ...</td>\n",
       "      <td>Positive</td>\n",
       "    </tr>\n",
       "    <tr>\n",
       "      <th>3</th>\n",
       "      <td>All round good airline and nice flight. The se...</td>\n",
       "      <td>Positive</td>\n",
       "    </tr>\n",
       "    <tr>\n",
       "      <th>4</th>\n",
       "      <td>JFK-FLL roundtrip. FLL bound on E190. Spacious...</td>\n",
       "      <td>Positive</td>\n",
       "    </tr>\n",
       "    <tr>\n",
       "      <th>...</th>\n",
       "      <td>...</td>\n",
       "      <td>...</td>\n",
       "    </tr>\n",
       "    <tr>\n",
       "      <th>116140</th>\n",
       "      <td>Treviso to Lviv. Seemed like a new plane. Very...</td>\n",
       "      <td>Positive</td>\n",
       "    </tr>\n",
       "    <tr>\n",
       "      <th>116141</th>\n",
       "      <td>Rome to Prague. Was very happy with the flight...</td>\n",
       "      <td>Positive</td>\n",
       "    </tr>\n",
       "    <tr>\n",
       "      <th>116142</th>\n",
       "      <td>We often fly with Wizzair to/from Charleroi/Bu...</td>\n",
       "      <td>Positive</td>\n",
       "    </tr>\n",
       "    <tr>\n",
       "      <th>116143</th>\n",
       "      <td>PRG-LTN and LTN-PRG were rather good flights. ...</td>\n",
       "      <td>Negative</td>\n",
       "    </tr>\n",
       "    <tr>\n",
       "      <th>116144</th>\n",
       "      <td>London - Kiev. First problem started a few wee...</td>\n",
       "      <td>Negative</td>\n",
       "    </tr>\n",
       "  </tbody>\n",
       "</table>\n",
       "<p>116145 rows × 2 columns</p>\n",
       "</div>"
      ],
      "text/plain": [
       "                                                   review sentiment\n",
       "0       The customer service rep I spoke to was incred...  Negative\n",
       "1       Last year my family and I took a trip to NY on...  Positive\n",
       "2       JFK-RDU: First time flying this carrier. They ...  Positive\n",
       "3       All round good airline and nice flight. The se...  Positive\n",
       "4       JFK-FLL roundtrip. FLL bound on E190. Spacious...  Positive\n",
       "...                                                   ...       ...\n",
       "116140  Treviso to Lviv. Seemed like a new plane. Very...  Positive\n",
       "116141  Rome to Prague. Was very happy with the flight...  Positive\n",
       "116142  We often fly with Wizzair to/from Charleroi/Bu...  Positive\n",
       "116143  PRG-LTN and LTN-PRG were rather good flights. ...  Negative\n",
       "116144  London - Kiev. First problem started a few wee...  Negative\n",
       "\n",
       "[116145 rows x 2 columns]"
      ]
     },
     "execution_count": 11,
     "metadata": {},
     "output_type": "execute_result"
    }
   ],
   "source": [
    "df3[['review', 'sentiment']].toPandas()"
   ]
  },
  {
   "cell_type": "code",
   "execution_count": 12,
   "id": "722a5ee8-de69-463a-ae72-02d16aff1e01",
   "metadata": {},
   "outputs": [],
   "source": [
    "add_stopwords = [\n",
    "\"0o\", \"0s\", \"3a\", \"3b\", \"3d\", \"6b\", \"6o\", \"a\", \"a1\", \"a2\", \"a3\", \"a4\", \"ab\", \"able\", \"about\", \"above\", \"abst\", \"ac\", \"accordance\", \"according\", \"accordingly\", \"across\", \"act\", \"actually\", \"ad\", \"added\", \"adj\", \"ae\", \"af\", \"affected\", \"affecting\", \"affects\", \"after\", \"afterwards\", \"ag\", \"again\", \"against\", \"ah\", \"ain\", \"ain't\", \"aj\", \"al\", \"all\", \"allow\", \"allows\", \"almost\", \"alone\", \"along\", \"already\", \"also\", \"although\", \"always\", \"am\", \"among\", \"amongst\", \"amoungst\", \"amount\", \"an\", \"and\", \"announce\", \"another\", \"any\", \"anybody\", \"anyhow\", \"anymore\", \"anyone\", \"anything\", \"anyway\", \"anyways\", \"anywhere\", \"ao\", \"ap\", \"apart\", \"apparently\", \"appear\", \"appreciate\", \"appropriate\", \"approximately\", \"ar\", \"are\", \"aren\", \"arent\", \"aren't\", \"arise\", \"around\", \"as\", \"a's\", \"aside\", \"ask\", \"asking\", \"associated\", \"at\", \"au\", \"auth\", \"av\", \"available\", \"aw\", \"away\", \"awfully\", \"ax\", \"ay\", \"az\", \"b\", \"b1\", \"b2\", \"b3\", \"ba\", \"back\", \"bc\", \"bd\", \"be\", \"became\", \"because\", \"become\", \"becomes\", \"becoming\", \"been\", \"before\", \"beforehand\", \"begin\", \"beginning\", \"beginnings\", \"begins\", \"behind\", \"being\", \"believe\", \"below\", \"beside\", \"besides\", \"best\", \"better\", \"between\", \"beyond\", \"bi\", \"bill\", \"biol\", \"bj\", \"bk\", \"bl\", \"bn\", \"both\", \"bottom\", \"bp\", \"br\", \"brief\", \"briefly\", \"bs\", \"bt\", \"bu\", \"but\", \"bx\", \"by\", \"c\", \"c1\", \"c2\", \"c3\", \"ca\", \"call\", \"came\", \"can\", \"cannot\", \"cant\", \"can't\", \"cause\", \"causes\", \"cc\", \"cd\", \"ce\", \"certain\", \"certainly\", \"cf\", \"cg\", \"ch\", \"changes\", \"ci\", \"cit\", \"cj\", \"cl\", \"clearly\", \"cm\", \"c'mon\", \"cn\", \"co\", \"com\", \"come\", \"comes\", \"con\", \"concerning\", \"consequently\", \"consider\", \"considering\", \"contain\", \"containing\", \"contains\", \"corresponding\", \"could\", \"couldn\", \"couldnt\", \"couldn't\", \"course\", \"cp\", \"cq\", \"cr\", \"cry\", \"cs\", \"c's\", \"ct\", \"cu\", \"currently\", \"cv\", \"cx\", \"cy\", \"cz\", \"d\", \"d2\", \"da\", \"date\", \"dc\", \"dd\", \"de\", \"definitely\", \"describe\", \"described\", \"despite\", \"detail\", \"df\", \"di\", \"did\", \"didn\", \"didn't\", \"different\", \"dj\", \"dk\", \"dl\", \"do\", \"does\", \"doesn\", \"doesn't\", \"doing\", \"don\", \"done\", \"don't\", \"down\", \"downwards\", \"dp\", \"dr\", \"ds\", \"dt\", \"du\", \"due\", \"during\", \"dx\", \"dy\", \"e\", \"e2\", \"e3\", \"ea\", \"each\", \"ec\", \"ed\", \"edu\", \"ee\", \"ef\", \"effect\", \"eg\", \"ei\", \"eight\", \"eighty\", \"either\", \"ej\", \"el\", \"eleven\", \"else\", \"elsewhere\", \"em\", \"empty\", \"en\", \"end\", \"ending\", \"enough\", \"entirely\", \"eo\", \"ep\", \"eq\", \"er\", \"es\", \"especially\", \"est\", \"et\", \"et-al\", \"etc\", \"eu\", \"ev\", \"even\", \"ever\", \"every\", \"everybody\", \"everyone\", \"everything\", \"everywhere\", \"ex\", \"exactly\", \"example\", \"except\", \"ey\", \"f\", \"f2\", \"fa\", \"far\", \"fc\", \"few\", \"ff\", \"fi\", \"fifteen\", \"fifth\", \"fify\", \"fill\", \"find\", \"fire\", \"first\", \"five\", \"fix\", \"fj\", \"fl\", \"fn\", \"fo\", \"followed\", \"following\", \"follows\", \"for\", \"former\", \"formerly\", \"forth\", \"forty\", \"found\", \"four\", \"fr\", \"from\", \"front\", \"fs\", \"ft\", \"fu\", \"full\", \"further\", \"furthermore\", \"fy\", \"g\", \"ga\", \"gave\", \"ge\", \"get\", \"gets\", \"getting\", \"gi\", \"give\", \"given\", \"gives\", \"giving\", \"gj\", \"gl\", \"go\", \"goes\", \"going\", \"gone\", \"got\", \"gotten\", \"gr\", \"greetings\", \"gs\", \"gy\", \"h\", \"h2\", \"h3\", \"had\", \"hadn\", \"hadn't\", \"happens\", \"hardly\", \"has\", \"hasn\", \"hasnt\", \"hasn't\", \"have\", \"haven\", \"haven't\", \"having\", \"he\", \"hed\", \"he'd\", \"he'll\", \"hello\", \"help\", \"hence\", \"her\", \"here\", \"hereafter\", \"hereby\", \"herein\", \"heres\", \"here's\", \"hereupon\", \"hers\", \"herself\", \"hes\", \"he's\", \"hh\", \"hi\", \"hid\", \"him\", \"himself\", \"his\", \"hither\", \"hj\", \"ho\", \"home\", \"hopefully\", \"how\", \"howbeit\", \"however\", \"how's\", \"hr\", \"hs\", \"http\", \"hu\", \"hundred\", \"hy\", \"i\", \"i2\", \"i3\", \"i4\", \"i6\", \"i7\", \"i8\", \"ia\", \"ib\", \"ibid\", \"ic\", \"id\", \"i'd\", \"ie\", \"if\", \"ig\", \"ignored\", \"ih\", \"ii\", \"ij\", \"il\", \"i'll\", \"im\", \"i'm\", \"immediate\", \"immediately\", \"importance\", \"important\", \"in\", \"inasmuch\", \"inc\", \"indeed\", \"index\", \"indicate\", \"indicated\", \"indicates\", \"information\", \"inner\", \"insofar\", \"instead\", \"interest\", \"into\", \"invention\", \"inward\", \"io\", \"ip\", \"iq\", \"ir\", \"is\", \"isn\", \"isn't\", \"it\", \"itd\", \"it'd\", \"it'll\", \"its\", \"it's\", \"itself\", \"iv\", \"i've\", \"ix\", \"iy\", \"iz\", \"j\", \"jj\", \"jr\", \"js\", \"jt\", \"ju\", \"just\", \"k\", \"ke\", \"keep\", \"keeps\", \"kept\", \"kg\", \"kj\", \"km\", \"know\", \"known\", \"knows\", \"ko\", \"l\", \"l2\", \"la\", \"largely\", \"last\", \"lately\", \"later\", \"latter\", \"latterly\", \"lb\", \"lc\", \"le\", \"least\", \"les\", \"less\", \"lest\", \"let\", \"lets\", \"let's\", \"lf\", \"like\", \"liked\", \"likely\", \"line\", \"little\", \"lj\", \"ll\", \"ll\", \"ln\", \"lo\", \"look\", \"looking\", \"looks\", \"los\", \"lr\", \"ls\", \"lt\", \"ltd\", \"m\", \"m2\", \"ma\", \"made\", \"mainly\", \"make\", \"makes\", \"many\", \"may\", \"maybe\", \"me\", \"mean\", \"means\", \"meantime\", \"meanwhile\", \"merely\", \"mg\", \"might\", \"mightn\", \"mightn't\", \"mill\", \"million\", \"mine\", \"miss\", \"ml\", \"mn\", \"mo\", \"more\", \"moreover\", \"most\", \"mostly\", \"move\", \"mr\", \"mrs\", \"ms\", \"mt\", \"mu\", \"much\", \"mug\", \"must\", \"mustn\", \"mustn't\", \"my\", \"myself\", \"n\", \"n2\", \"na\", \"name\", \"namely\", \"nay\", \"nc\", \"nd\", \"ne\", \"near\", \"nearly\", \"necessarily\", \"necessary\", \"need\", \"needn\", \"needn't\", \"needs\", \"neither\", \"never\", \"nevertheless\", \"new\", \"next\", \"ng\", \"ni\", \"nine\", \"ninety\", \"nj\", \"nl\", \"nn\", \"no\", \"nobody\", \"non\", \"none\", \"nonetheless\", \"noone\", \"nor\", \"normally\", \"nos\", \"not\", \"noted\", \"nothing\", \"novel\", \"now\", \"nowhere\", \"nr\", \"ns\", \"nt\", \"ny\", \"o\", \"oa\", \"ob\", \"obtain\", \"obtained\", \"obviously\", \"oc\", \"od\", \"of\", \"off\", \"often\", \"og\", \"oh\", \"oi\", \"oj\", \"ok\", \"okay\", \"ol\", \"old\", \"om\", \"omitted\", \"on\", \"once\", \"one\", \"ones\", \"only\", \"onto\", \"oo\", \"op\", \"oq\", \"or\", \"ord\", \"os\", \"ot\", \"other\", \"others\", \"otherwise\", \"ou\", \"ought\", \"our\", \"ours\", \"ourselves\", \"out\", \"outside\", \"over\", \"overall\", \"ow\", \"owing\", \"own\", \"ox\", \"oz\", \"p\", \"p1\", \"p2\", \"p3\", \"page\", \"pagecount\", \"pages\", \"par\", \"part\", \"particular\", \"particularly\", \"pas\", \"past\", \"pc\", \"pd\", \"pe\", \"per\", \"perhaps\", \"pf\", \"ph\", \"pi\", \"pj\", \"pk\", \"pl\", \"placed\", \"please\", \"plus\", \"pm\", \"pn\", \"po\", \"poorly\", \"possible\", \"possibly\", \"potentially\", \"pp\", \"pq\", \"pr\", \"predominantly\", \"present\", \"presumably\", \"previously\", \"primarily\", \"probably\", \"promptly\", \"proud\", \"provides\", \"ps\", \"pt\", \"pu\", \"put\", \"py\", \"q\", \"qj\", \"qu\", \"que\", \"quickly\", \"quite\", \"qv\", \"r\", \"r2\", \"ra\", \"ran\", \"rather\", \"rc\", \"rd\", \"re\", \"readily\", \"really\", \"reasonably\", \"recent\", \"recently\", \"ref\", \"refs\", \"regarding\", \"regardless\", \"regards\", \"related\", \"relatively\", \"research\", \"research-articl\", \"respectively\", \"resulted\", \"resulting\", \"results\", \"rf\", \"rh\", \"ri\", \"right\", \"rj\", \"rl\", \"rm\", \"rn\", \"ro\", \"rq\", \"rr\", \"rs\", \"rt\", \"ru\", \"run\", \"rv\", \"ry\", \"s\", \"s2\", \"sa\", \"said\", \"same\", \"saw\", \"say\", \"saying\", \"says\", \"sc\", \"sd\", \"se\", \"sec\", \"second\", \"secondly\", \"section\", \"see\", \"seeing\", \"seem\", \"seemed\", \"seeming\", \"seems\", \"seen\", \"self\", \"selves\", \"sensible\", \"sent\", \"serious\", \"seriously\", \"seven\", \"several\", \"sf\", \"shall\", \"shan\", \"shan't\", \"she\", \"shed\", \"she'd\", \"she'll\", \"shes\", \"she's\", \"should\", \"shouldn\", \"shouldn't\", \"should've\", \"show\", \"showed\", \"shown\", \"showns\", \"shows\", \"si\", \"side\", \"significant\", \"significantly\", \"similar\", \"similarly\", \"since\", \"sincere\", \"six\", \"sixty\", \"sj\", \"sl\", \"slightly\", \"sm\", \"sn\", \"so\", \"some\", \"somebody\", \"somehow\", \"someone\", \"somethan\", \"something\", \"sometime\", \"sometimes\", \"somewhat\", \"somewhere\", \"soon\", \"sorry\", \"sp\", \"specifically\", \"specified\", \"specify\", \"specifying\", \"sq\", \"sr\", \"ss\", \"st\", \"still\", \"stop\", \"strongly\", \"sub\", \"substantially\", \"successfully\", \"such\", \"sufficiently\", \"suggest\", \"sup\", \"sure\", \"sy\", \"system\", \"sz\", \"t\", \"t1\", \"t2\", \"t3\", \"take\", \"taken\", \"taking\", \"tb\", \"tc\", \"td\", \"te\", \"tell\", \"ten\", \"tends\", \"tf\", \"th\", \"than\", \"thank\", \"thanks\", \"thanx\", \"that\", \"that'll\", \"thats\", \"that's\", \"that've\", \"the\", \"their\", \"theirs\", \"them\", \"themselves\", \"then\", \"thence\", \"there\", \"thereafter\", \"thereby\", \"thered\", \"therefore\", \"therein\", \"there'll\", \"thereof\", \"therere\", \"theres\", \"there's\", \"thereto\", \"thereupon\", \"there've\", \"these\", \"they\", \"theyd\", \"they'd\", \"they'll\", \"theyre\", \"they're\", \"they've\", \"thickv\", \"thin\", \"think\", \"third\", \"this\", \"thorough\", \"thoroughly\", \"those\", \"thou\", \"though\", \"thoughh\", \"thousand\", \"three\", \"throug\", \"through\", \"throughout\", \"thru\", \"thus\", \"ti\", \"til\", \"tip\", \"tj\", \"tl\", \"tm\", \"tn\", \"to\", \"together\", \"too\", \"took\", \"top\", \"toward\", \"towards\", \"tp\", \"tq\", \"tr\", \"tried\", \"tries\", \"truly\", \"try\", \"trying\", \"ts\", \"t's\", \"tt\", \"tv\", \"twelve\", \"twenty\", \"twice\", \"two\", \"tx\", \"u\", \"u201d\", \"ue\", \"ui\", \"uj\", \"uk\", \"um\", \"un\", \"under\", \"unfortunately\", \"unless\", \"unlike\", \"unlikely\", \"until\", \"unto\", \"uo\", \"up\", \"upon\", \"ups\", \"ur\", \"us\", \"use\", \"used\", \"useful\", \"usefully\", \"usefulness\", \"uses\", \"using\", \"usually\", \"ut\", \"v\", \"va\", \"value\", \"various\", \"vd\", \"ve\", \"ve\", \"very\", \"via\", \"viz\", \"vj\", \"vo\", \"vol\", \"vols\", \"volumtype\", \"vq\", \"vs\", \"vt\", \"vu\", \"w\", \"wa\", \"want\", \"wants\", \"was\", \"wasn\", \"wasnt\", \"wasn't\", \"way\", \"we\", \"wed\", \"we'd\", \"welcome\", \"well\", \"we'll\", \"well-b\", \"went\", \"were\", \"we're\", \"weren\", \"werent\", \"weren't\", \"we've\", \"what\", \"whatever\", \"what'll\", \"whats\", \"what's\", \"when\", \"whence\", \"whenever\", \"when's\", \"where\", \"whereafter\", \"whereas\", \"whereby\", \"wherein\", \"wheres\", \"where's\", \"whereupon\", \"wherever\", \"whether\", \"which\", \"while\", \"whim\", \"whither\", \"who\", \"whod\", \"whoever\", \"whole\", \"who'll\", \"whom\", \"whomever\", \"whos\", \"who's\", \"whose\", \"why\", \"why's\", \"wi\", \"widely\", \"will\", \"willing\", \"wish\", \"with\", \"within\", \"without\", \"wo\", \"won\", \"wonder\", \"wont\", \"won't\", \"words\", \"world\", \"would\", \"wouldn\", \"wouldnt\", \"wouldn't\", \"www\", \"x\", \"x1\", \"x2\", \"x3\", \"xf\", \"xi\", \"xj\", \"xk\", \"xl\", \"xn\", \"xo\", \"xs\", \"xt\", \"xv\", \"xx\", \"y\", \"y2\", \"yes\", \"yet\", \"yj\", \"yl\", \"you\", \"youd\", \"you'd\", \"you'll\", \"your\", \"youre\", \"you're\", \"yours\", \"yourself\", \"yourselves\", \"you've\", \"yr\", \"ys\", \"yt\", \"z\", \"zero\", \"zi\", \"zz\",]\n"
   ]
  },
  {
   "cell_type": "code",
   "execution_count": 13,
   "id": "af831f0e-61f6-436d-ae5d-a634410cbbbf",
   "metadata": {},
   "outputs": [],
   "source": [
    "regexTokenizer = RegexTokenizer(inputCol = \"review\", outputCol = \"words\", pattern = \"\\\\W\")\n",
    "stopwordsRemover = StopWordsRemover(inputCol = \"words\", outputCol = \"filtered\").setStopWords(add_stopwords)\n",
    "countVectors = CountVectorizer(inputCol = \"filtered\", outputCol = \"features\", vocabSize = 30000, minDF = 5)\n",
    "hashingTF = HashingTF(inputCol = \"filtered\", outputCol = \"rawFeatures\", numFeatures = 30000)\n",
    "idf = IDF(inputCol = \"rawFeatures\", outputCol = \"features\", minDocFreq = 5)\n",
    "word2vecVectors = Word2Vec(inputCol = \"filtered\", outputCol = \"features\", vectorSize = 5)"
   ]
  },
  {
   "cell_type": "code",
   "execution_count": 15,
   "id": "922bfbed-3619-4e72-9eb5-1331940b6afc",
   "metadata": {},
   "outputs": [
    {
     "name": "stderr",
     "output_type": "stream",
     "text": [
      "                                                                                \r"
     ]
    }
   ],
   "source": [
    "label_stringIdx = StringIndexer(inputCol = \"sentiment\", outputCol = \"label\")\n",
    "\n",
    "pipeline1 = Pipeline(stages = [regexTokenizer, stopwordsRemover, countVectors, label_stringIdx])\n",
    "\n",
    "pipelineFit1 = pipeline1.fit(df3)\n",
    "dataset1 = pipelineFit1.transform(df3)"
   ]
  },
  {
   "cell_type": "code",
   "execution_count": 16,
   "id": "3d5cd9a3-68a1-4a09-911a-5d6be4824d8a",
   "metadata": {},
   "outputs": [
    {
     "data": {
      "text/plain": [
       "116145"
      ]
     },
     "execution_count": 16,
     "metadata": {},
     "output_type": "execute_result"
    }
   ],
   "source": [
    "dataset1.count()"
   ]
  },
  {
   "cell_type": "code",
   "execution_count": 17,
   "id": "1e38fd24-d349-4ca1-b172-a0ca22b58e73",
   "metadata": {},
   "outputs": [
    {
     "name": "stdout",
     "output_type": "stream",
     "text": [
      "root\n",
      " |-- aircraft: string (nullable = true)\n",
      " |-- airline_name: string (nullable = true)\n",
      " |-- cabin_type: string (nullable = true)\n",
      " |-- date_flown: string (nullable = true)\n",
      " |-- date_pub: string (nullable = true)\n",
      " |-- entertainment_rating: integer (nullable = true)\n",
      " |-- food_rating: integer (nullable = true)\n",
      " |-- ground_service_rating: integer (nullable = true)\n",
      " |-- origin_country: string (nullable = true)\n",
      " |-- overall_score: integer (nullable = true)\n",
      " |-- recommended: string (nullable = true)\n",
      " |-- review: string (nullable = true)\n",
      " |-- route: string (nullable = true)\n",
      " |-- seat_comfort_rating: integer (nullable = true)\n",
      " |-- service_rating: integer (nullable = true)\n",
      " |-- slug: string (nullable = true)\n",
      " |-- title: string (nullable = true)\n",
      " |-- travel_type: string (nullable = true)\n",
      " |-- trip_verified: string (nullable = true)\n",
      " |-- value_rating: integer (nullable = true)\n",
      " |-- wifi_rating: integer (nullable = true)\n",
      " |-- unique_id: string (nullable = true)\n",
      " |-- day_pub: string (nullable = true)\n",
      " |-- month_pub: string (nullable = true)\n",
      " |-- year_pub: integer (nullable = true)\n",
      " |-- month_flown: string (nullable = true)\n",
      " |-- year_flown: integer (nullable = true)\n",
      " |-- day_pub_2: string (nullable = true)\n",
      " |-- month_pub_2: integer (nullable = true)\n",
      " |-- month_flown_2: integer (nullable = true)\n",
      " |-- date_pub_2: string (nullable = true)\n",
      " |-- date_flown_2: string (nullable = true)\n",
      " |-- sentiment: string (nullable = true)\n",
      " |-- words: array (nullable = true)\n",
      " |    |-- element: string (containsNull = true)\n",
      " |-- filtered: array (nullable = true)\n",
      " |    |-- element: string (containsNull = true)\n",
      " |-- features: vector (nullable = true)\n",
      " |-- label: double (nullable = false)\n",
      "\n"
     ]
    }
   ],
   "source": [
    "dataset1.printSchema()"
   ]
  },
  {
   "cell_type": "code",
   "execution_count": 19,
   "id": "e8b7ae03-8939-4e6c-a6a1-e678d86180f8",
   "metadata": {},
   "outputs": [
    {
     "name": "stderr",
     "output_type": "stream",
     "text": [
      "                                                                                \r"
     ]
    },
    {
     "name": "stdout",
     "output_type": "stream",
     "text": [
      "Training Dataset Count: 81247\n"
     ]
    },
    {
     "name": "stderr",
     "output_type": "stream",
     "text": [
      "[Stage 28:==============>                                           (1 + 3) / 4]\r"
     ]
    },
    {
     "name": "stdout",
     "output_type": "stream",
     "text": [
      "Test Dataset Count: 34898\n"
     ]
    },
    {
     "name": "stderr",
     "output_type": "stream",
     "text": [
      "                                                                                \r"
     ]
    }
   ],
   "source": [
    "trainingData1, testData1 = dataset1.randomSplit([0.7, 0.3], seed = 100)\n",
    "print(\"Training Dataset Count: \" + str(trainingData1.count()))\n",
    "print(\"Test Dataset Count: \" + str(testData1.count()))"
   ]
  },
  {
   "cell_type": "code",
   "execution_count": 20,
   "id": "8d3bcff1-04d8-4e3b-8f35-eaec26e5be62",
   "metadata": {},
   "outputs": [
    {
     "name": "stderr",
     "output_type": "stream",
     "text": [
      "23/11/24 02:59:02 WARN com.github.fommil.netlib.BLAS: Failed to load implementation from: com.github.fommil.netlib.NativeSystemBLAS\n",
      "23/11/24 02:59:02 WARN com.github.fommil.netlib.BLAS: Failed to load implementation from: com.github.fommil.netlib.NativeRefBLAS\n",
      "                                                                                \r"
     ]
    }
   ],
   "source": [
    "lr1 = LogisticRegression(maxIter = 20, regParam = 0.3, elasticNetParam = 0)\n",
    "lrModel1 = lr1.fit(trainingData1)\n",
    "\n",
    "predictionsTrainingData1 = lrModel1.transform(trainingData1)\n",
    "predictionsTestData1 = lrModel1.transform(testData1)"
   ]
  },
  {
   "cell_type": "code",
   "execution_count": 21,
   "id": "20cc3f1f-cebc-4a60-ab86-2aa940912a27",
   "metadata": {},
   "outputs": [
    {
     "name": "stderr",
     "output_type": "stream",
     "text": [
      "[Stage 54:==============>                                           (1 + 3) / 4]\r"
     ]
    },
    {
     "name": "stdout",
     "output_type": "stream",
     "text": [
      "+------------------------------+---------+------------------------------+-----+----------+\n",
      "|                        review|sentiment|                   probability|label|prediction|\n",
      "+------------------------------+---------+------------------------------+-----+----------+\n",
      "|Newark to Minneapolis. Neit...| Negative|[0.9999979875840674,2.01241...|  0.0|       0.0|\n",
      "|Worst airline ever. Started...| Negative|[0.9999938093592942,6.19064...|  0.0|       0.0|\n",
      "|Vancouver to Delhi via Lond...| Negative|[0.9999912537686817,8.74623...|  0.0|       0.0|\n",
      "|Newark to Melbourne via Los...| Negative|[0.9999907158477449,9.28415...|  0.0|       0.0|\n",
      "|Boston to Bozeman. My wife ...| Negative|[0.9999898076499906,1.01923...|  0.0|       0.0|\n",
      "|At 3am the day of our 6pm f...| Negative|[0.9999882943642839,1.17056...|  0.0|       0.0|\n",
      "|Tirana to Toronto via Warsa...| Negative|[0.9999861611643027,1.38388...|  0.0|       0.0|\n",
      "|With a very heavy heart I d...| Negative|[0.9999841003083103,1.58996...|  0.0|       0.0|\n",
      "|New York to Cartagena. We b...| Negative|[0.9999830896291408,1.69103...|  0.0|       0.0|\n",
      "|We flew from Dubrovonik to ...| Negative|[0.9999822581776053,1.77418...|  0.0|       0.0|\n",
      "+------------------------------+---------+------------------------------+-----+----------+\n",
      "only showing top 10 rows\n",
      "\n"
     ]
    },
    {
     "name": "stderr",
     "output_type": "stream",
     "text": [
      "                                                                                \r"
     ]
    }
   ],
   "source": [
    "predictionsTrainingData1.filter(predictionsTrainingData1['prediction'] == 0).select(\"review\", \"sentiment\", \"probability\", \"label\", \"prediction\")\\\n",
    ".orderBy(\"probability\", ascending = False).show(n = 10, truncate = 30)"
   ]
  },
  {
   "cell_type": "code",
   "execution_count": 22,
   "id": "2010411f-d597-4ddd-9c11-6bf3b41ab6a7",
   "metadata": {},
   "outputs": [
    {
     "name": "stderr",
     "output_type": "stream",
     "text": [
      "[Stage 55:==============>                                           (1 + 3) / 4]\r"
     ]
    },
    {
     "name": "stdout",
     "output_type": "stream",
     "text": [
      "+------------------------------+---------+------------------------------+-----+----------+\n",
      "|                        review|sentiment|                   probability|label|prediction|\n",
      "+------------------------------+---------+------------------------------+-----+----------+\n",
      "|This airline is by far the ...| Negative|[0.9999962638738659,3.73612...|  0.0|       0.0|\n",
      "|TAP was responsible for the...| Negative|[0.9999955827363908,4.41726...|  0.0|       0.0|\n",
      "|Extremely dissatisfied with...| Negative|[0.9999925060184227,7.49398...|  0.0|       0.0|\n",
      "|Toronto to Haiti via Miami....| Negative|[0.9999919646255805,8.03537...|  0.0|       0.0|\n",
      "|The coronavirus-related com...| Negative|[0.9999915434961413,8.45650...|  0.0|       0.0|\n",
      "|American Airlines is a hot ...| Negative|[0.9999880104343564,1.19895...|  0.0|       0.0|\n",
      "|Kuala Lumpur to Istanbul re...| Negative|[0.9999864101736976,1.35898...|  0.0|       0.0|\n",
      "|So, I tried to heed the man...| Negative|[0.9999856144213467,1.43855...|  0.0|       0.0|\n",
      "|Cape Town to Windhoek. Neve...| Negative|[0.9999855148290357,1.44851...|  0.0|       0.0|\n",
      "|Porter Airlines delayed my ...| Negative|[0.9999852129574721,1.47870...|  0.0|       0.0|\n",
      "+------------------------------+---------+------------------------------+-----+----------+\n",
      "only showing top 10 rows\n",
      "\n"
     ]
    },
    {
     "name": "stderr",
     "output_type": "stream",
     "text": [
      "                                                                                \r"
     ]
    }
   ],
   "source": [
    "predictionsTestData1.filter(predictionsTestData1['prediction'] == 0).select(\"review\", \"sentiment\", \"probability\", \"label\", \"prediction\")\\\n",
    ".orderBy(\"probability\", ascending = False).show(n = 10, truncate = 30)"
   ]
  },
  {
   "cell_type": "code",
   "execution_count": 23,
   "id": "57b9ad20-91c7-4cd6-bbb6-a3f87e92d675",
   "metadata": {},
   "outputs": [
    {
     "name": "stderr",
     "output_type": "stream",
     "text": [
      "[Stage 56:==============>                                           (1 + 3) / 4]\r"
     ]
    },
    {
     "name": "stdout",
     "output_type": "stream",
     "text": [
      "+------------------------------+---------+------------------------------+-----+----------+\n",
      "|                        review|sentiment|                   probability|label|prediction|\n",
      "+------------------------------+---------+------------------------------+-----+----------+\n",
      "|The service and capability ...| Positive|[0.49992645449152695,0.5000...|  1.0|       1.0|\n",
      "|Shenzhen to Singapore. The ...| Negative|[0.49985990603577085,0.5001...|  0.0|       1.0|\n",
      "|Qatar-Seychelles QR703 1 Au...| Positive|[0.49985855132931156,0.5001...|  1.0|       1.0|\n",
      "|Third return flight with LH...| Positive|[0.49983859492636223,0.5001...|  1.0|       1.0|\n",
      "|Porto to Barcelona. My husb...| Negative|[0.4998239104637538,0.50017...|  0.0|       1.0|\n",
      "|My first trip to NZ what a ...| Positive|[0.4998015666227922,0.50019...|  1.0|       1.0|\n",
      "|Melbourne to Sydney. I’m a ...| Positive|[0.4997983616200504,0.50020...|  1.0|       1.0|\n",
      "|Bangkok to Auckland and bac...| Negative|[0.49977976548928876,0.5002...|  0.0|       1.0|\n",
      "|If you really need to save ...| Positive|[0.4997569321999683,0.50024...|  1.0|       1.0|\n",
      "|✅ , |  Rolled off the pad a...| Negative|[0.4997367454383336,0.50026...|  0.0|       1.0|\n",
      "+------------------------------+---------+------------------------------+-----+----------+\n",
      "only showing top 10 rows\n",
      "\n"
     ]
    },
    {
     "name": "stderr",
     "output_type": "stream",
     "text": [
      "                                                                                \r"
     ]
    }
   ],
   "source": [
    "predictionsTrainingData1.filter(predictionsTrainingData1['prediction'] == 1).select(\"review\", \"sentiment\", \"probability\", \"label\", \"prediction\")\\\n",
    ".orderBy(\"probability\", ascending = False).show(n = 10, truncate = 30)"
   ]
  },
  {
   "cell_type": "code",
   "execution_count": 26,
   "id": "8448d276-b758-4ec4-80e8-367f3fc6861e",
   "metadata": {},
   "outputs": [
    {
     "name": "stderr",
     "output_type": "stream",
     "text": [
      "[Stage 57:===========================================>              (3 + 1) / 4]\r"
     ]
    },
    {
     "name": "stdout",
     "output_type": "stream",
     "text": [
      "+------------------------------+---------+------------------------------+-----+----------+\n",
      "|                        review|sentiment|                   probability|label|prediction|\n",
      "+------------------------------+---------+------------------------------+-----+----------+\n",
      "|Quiet aircraft even if some...| Positive|[0.499969666866304,0.500030...|  1.0|       1.0|\n",
      "|I've flown Meridiana a few ...| Positive|[0.49986360075374137,0.5001...|  1.0|       1.0|\n",
      "|Melbourne to Denpasar via S...| Positive|[0.4997948425663474,0.50020...|  1.0|       1.0|\n",
      "|South Bend to St Pete–Clear...| Positive|[0.49972393886800814,0.5002...|  1.0|       1.0|\n",
      "|London to Sydney return via...| Positive|[0.49971578517495596,0.5002...|  1.0|       1.0|\n",
      "|Recently took a holiday to ...| Positive|[0.4996006637891745,0.50039...|  1.0|       1.0|\n",
      "|Manchester to Tenerife. On ...| Positive|[0.49958198027899026,0.5004...|  1.0|       1.0|\n",
      "|Three of us travelled round...| Positive|[0.49950942676776,0.5004905...|  1.0|       1.0|\n",
      "|SIN-CGK on new B737-900. Bo...| Negative|[0.49940660466424586,0.5005...|  0.0|       1.0|\n",
      "|My flight to Houston was ca...| Positive|[0.4994021319217875,0.50059...|  1.0|       1.0|\n",
      "+------------------------------+---------+------------------------------+-----+----------+\n",
      "only showing top 10 rows\n",
      "\n"
     ]
    },
    {
     "name": "stderr",
     "output_type": "stream",
     "text": [
      "                                                                                \r"
     ]
    }
   ],
   "source": [
    "predictionsTestData1.filter(predictionsTestData1['prediction'] == 1).select(\"review\", \"sentiment\", \"probability\", \"label\", \"prediction\")\\\n",
    ".orderBy(\"probability\", ascending = False).show(n = 10, truncate = 30)"
   ]
  },
  {
   "cell_type": "code",
   "execution_count": 27,
   "id": "0d49566f-6a80-4fc8-9dcc-e1987f2825c9",
   "metadata": {},
   "outputs": [
    {
     "name": "stderr",
     "output_type": "stream",
     "text": [
      "[Stage 58:==============>                                           (1 + 3) / 4]\r"
     ]
    },
    {
     "name": "stdout",
     "output_type": "stream",
     "text": [
      "0.9369615302941003\n"
     ]
    },
    {
     "name": "stderr",
     "output_type": "stream",
     "text": [
      "                                                                                \r"
     ]
    }
   ],
   "source": [
    "evaluator1 = MulticlassClassificationEvaluator(predictionCol = \"prediction\")\n",
    "lrTrainingAccuracy1 = evaluator1.evaluate(predictionsTrainingData1)\n",
    "print(lrTrainingAccuracy1)"
   ]
  },
  {
   "cell_type": "code",
   "execution_count": 29,
   "id": "42c8f210-4398-4816-8d68-fde070a8532b",
   "metadata": {},
   "outputs": [
    {
     "name": "stderr",
     "output_type": "stream",
     "text": [
      "[Stage 60:==============>                                           (1 + 3) / 4]\r"
     ]
    },
    {
     "name": "stdout",
     "output_type": "stream",
     "text": [
      "0.9095681151304507\n"
     ]
    },
    {
     "name": "stderr",
     "output_type": "stream",
     "text": [
      "                                                                                \r"
     ]
    }
   ],
   "source": [
    "lrTestAccuracy1 = evaluator1.evaluate(predictionsTestData1)\n",
    "print(lrTestAccuracy1)"
   ]
  },
  {
   "cell_type": "code",
   "execution_count": 33,
   "id": "2e9e1a44-398b-4baf-853a-e31c133474c1",
   "metadata": {},
   "outputs": [
    {
     "name": "stdout",
     "output_type": "stream",
     "text": [
      "\n",
      "False positive rate by label:\n",
      "label 0: 0.08398557734587987\n",
      "label 1: 0.047736241354436285\n",
      "\n",
      "True positive rate by label:\n",
      "label 0: 0.9522637586455637\n",
      "label 1: 0.9160144226541201\n",
      "\n",
      "Precision by label:\n",
      "label 0: 0.9399987434291818\n",
      "label 1: 0.9328318108543794\n",
      "\n",
      "Recall by label:\n",
      "label 0: 0.9522637586455637\n",
      "label 1: 0.9160144226541201\n",
      "\n",
      "F-measure by label:\n",
      "label 0: 0.9460915021658252\n",
      "label 1: 0.9243466299862448\n",
      "\n",
      "Train Accuracy: 0.9370438293106207\n",
      "\n",
      "Train FPR: 0.06876564801093685\n",
      "\n",
      "Train TPR: 0.9370438293106207\n",
      "\n",
      "Train F-measure: 0.9369615302941003\n",
      "\n",
      "Train Precision: 0.9369895791409713\n",
      "\n",
      "Train Recall: 0.9370438293106207\n"
     ]
    }
   ],
   "source": [
    "lrTrainingSummary1 = lrModel1.summary\n",
    "\n",
    "print(\"\\nFalse positive rate by label:\")\n",
    "for i, rate in enumerate(lrTrainingSummary1.falsePositiveRateByLabel):\n",
    "    print(\"label %d: %s\" % (i, rate))\n",
    "\n",
    "print(\"\\nTrue positive rate by label:\")\n",
    "for i, rate in enumerate(lrTrainingSummary1.truePositiveRateByLabel):\n",
    "    print(\"label %d: %s\" % (i, rate))\n",
    "\n",
    "print(\"\\nPrecision by label:\")\n",
    "for i, prec in enumerate(lrTrainingSummary1.precisionByLabel):\n",
    "    print(\"label %d: %s\" % (i, prec))\n",
    "\n",
    "print(\"\\nRecall by label:\")\n",
    "for i, rec in enumerate(lrTrainingSummary1.recallByLabel):\n",
    "    print(\"label %d: %s\" % (i, rec))\n",
    "\n",
    "print(\"\\nF-measure by label:\")\n",
    "for i, f in enumerate(lrTrainingSummary1.fMeasureByLabel()):\n",
    "    print(\"label %d: %s\" % (i, f))\n",
    "\n",
    "lr_train_accuracy1 = lrTrainingSummary1.accuracy\n",
    "lr_train_falsePositiveRate1 = lrTrainingSummary1.weightedFalsePositiveRate\n",
    "lr_train_truePositiveRate1 = lrTrainingSummary1.weightedTruePositiveRate\n",
    "lr_train_fMeasure1 = lrTrainingSummary1.weightedFMeasure()\n",
    "lr_train_precision1 = lrTrainingSummary1.weightedPrecision\n",
    "lr_train_recall1 = lrTrainingSummary1.weightedRecall\n",
    "print(\"\\nTrain Accuracy: %s\\n\\nTrain FPR: %s\\n\\nTrain TPR: %s\\n\\nTrain F-measure: %s\\n\\nTrain Precision: %s\\n\\nTrain Recall: %s\"\n",
    "      % (lr_train_accuracy1, lr_train_falsePositiveRate1, lr_train_truePositiveRate1, lr_train_fMeasure1, lr_train_precision1, lr_train_recall1))"
   ]
  },
  {
   "cell_type": "code",
   "execution_count": 37,
   "id": "6fac9bda-e612-4489-add8-80e07d2f4df5",
   "metadata": {},
   "outputs": [
    {
     "name": "stderr",
     "output_type": "stream",
     "text": [
      "[Stage 74:==============>                                           (1 + 3) / 4]\r"
     ]
    },
    {
     "name": "stdout",
     "output_type": "stream",
     "text": [
      "\n",
      "Test Accuracy: 0.909794257550576\n",
      "\n",
      "Test FPR: 0.09890973685619003\n",
      "\n",
      "Test TPR: 0.909794257550576\n",
      "\n",
      "Test F-measure: 0.9095681151304507\n",
      "\n",
      "Test Precision: 0.9097506753214377\n",
      "\n",
      "Test Recall: 0.909794257550576\n"
     ]
    },
    {
     "name": "stderr",
     "output_type": "stream",
     "text": [
      "                                                                                \r"
     ]
    }
   ],
   "source": [
    "lr_test_accuracy1 = evaluator1.evaluate(predictionsTestData1, {evaluator1.metricName: \"accuracy\"})\n",
    "lr_test_falsePositiveRate1 = evaluator1.evaluate(predictionsTestData1, {evaluator1.metricName: \"weightedFalsePositiveRate\"})\n",
    "lr_test_truePositiveRate1 = evaluator1.evaluate(predictionsTestData1, {evaluator1.metricName: \"weightedTruePositiveRate\"})\n",
    "lr_test_fMeasure1 = evaluator1.evaluate(predictionsTestData1, {evaluator1.metricName: \"f1\"})\n",
    "lr_test_precision1 = evaluator1.evaluate(predictionsTestData1, {evaluator1.metricName: \"weightedPrecision\"})\n",
    "lr_test_recall1 = evaluator1.evaluate(predictionsTestData1, {evaluator1.metricName: \"weightedRecall\"})\n",
    "\n",
    "print(\"\\nTest Accuracy: %s\\n\\nTest FPR: %s\\n\\nTest TPR: %s\\n\\nTest F-measure: %s\\n\\nTest Precision: %s\\n\\nTest Recall: %s\"\n",
    "      % (lr_test_accuracy1, lr_test_falsePositiveRate1, lr_test_truePositiveRate1, lr_test_fMeasure1, lr_test_precision1, lr_test_recall1))"
   ]
  },
  {
   "cell_type": "code",
   "execution_count": 38,
   "id": "feaab2e4-1d0f-4f57-81ea-83b457d67a13",
   "metadata": {},
   "outputs": [
    {
     "name": "stderr",
     "output_type": "stream",
     "text": [
      "                                                                                \r"
     ]
    }
   ],
   "source": [
    "pipeline2 = Pipeline(stages = [regexTokenizer, stopwordsRemover, hashingTF, idf, label_stringIdx])\n",
    "\n",
    "pipelineFit2 = pipeline2.fit(df3)\n",
    "dataset2 = pipelineFit2.transform(df3)\n",
    "\n",
    "trainingData2, testData2 = dataset2.randomSplit([0.7, 0.3], seed = 100)\n",
    "lr2 = LogisticRegression(maxIter = 20, regParam = 0.3, elasticNetParam = 0)\n",
    "lrModel2 = lr2.fit(trainingData2)\n",
    "\n",
    "predictionsTrainingData2 = lrModel2.transform(trainingData2)\n",
    "predictionsTestData2 = lrModel2.transform(testData2)"
   ]
  },
  {
   "cell_type": "code",
   "execution_count": 39,
   "id": "069c3803-5e60-4d0a-ab4b-9a7e15736bf5",
   "metadata": {},
   "outputs": [
    {
     "name": "stderr",
     "output_type": "stream",
     "text": [
      "[Stage 104:==============>                                          (1 + 3) / 4]\r"
     ]
    },
    {
     "name": "stdout",
     "output_type": "stream",
     "text": [
      "+------------------------------+---------+------------------------------+-----+----------+\n",
      "|                        review|sentiment|                   probability|label|prediction|\n",
      "+------------------------------+---------+------------------------------+-----+----------+\n",
      "|Newark to Minneapolis. Neit...| Negative|[0.9999976389776262,2.36102...|  0.0|       0.0|\n",
      "|Newark to Melbourne via Los...| Negative|[0.9999955880557208,4.41194...|  0.0|       0.0|\n",
      "|Worst airline ever. Started...| Negative|[0.999991049536082,8.950463...|  0.0|       0.0|\n",
      "|With a very heavy heart I d...| Negative|[0.9999897161045586,1.02838...|  0.0|       0.0|\n",
      "|Toronto to Rome via London....| Negative|[0.9999859696990854,1.40303...|  0.0|       0.0|\n",
      "|Kiev to Male via Istanbul. ...| Negative|[0.9999859202058821,1.40797...|  0.0|       0.0|\n",
      "|Vancouver to Delhi via Lond...| Negative|[0.9999840909104044,1.59090...|  0.0|       0.0|\n",
      "|What has happened to Britis...| Negative|[0.9999833352365353,1.66647...|  0.0|       0.0|\n",
      "|I have only flown AA twice....| Negative|[0.9999812865293256,1.87134...|  0.0|       0.0|\n",
      "|I traveled with Phuket Airl...| Negative|[0.9999797578358928,2.02421...|  0.0|       0.0|\n",
      "+------------------------------+---------+------------------------------+-----+----------+\n",
      "only showing top 10 rows\n",
      "\n"
     ]
    },
    {
     "name": "stderr",
     "output_type": "stream",
     "text": [
      "                                                                                \r"
     ]
    }
   ],
   "source": [
    "predictionsTrainingData2.filter(predictionsTrainingData2['prediction'] == 0).select(\"review\", \"sentiment\", \"probability\", \"label\", \"prediction\")\\\n",
    ".orderBy(\"probability\", ascending = False).show(n = 10, truncate = 30)"
   ]
  },
  {
   "cell_type": "code",
   "execution_count": 40,
   "id": "72fe7296-c87c-41ed-a1d7-52cc6b7d3830",
   "metadata": {},
   "outputs": [
    {
     "name": "stderr",
     "output_type": "stream",
     "text": [
      "                                                                                \r"
     ]
    },
    {
     "name": "stdout",
     "output_type": "stream",
     "text": [
      "+------------------------------+---------+------------------------------+-----+----------+\n",
      "|                        review|sentiment|                   probability|label|prediction|\n",
      "+------------------------------+---------+------------------------------+-----+----------+\n",
      "|The coronavirus-related com...| Negative|[0.9999875246957214,1.24753...|  0.0|       0.0|\n",
      "|The fares are low and it’s ...| Negative|[0.9999874492973716,1.25507...|  0.0|       0.0|\n",
      "|TAP was responsible for the...| Negative|[0.9999855991764556,1.44008...|  0.0|       0.0|\n",
      "|Porter Airlines delayed my ...| Negative|[0.9999838391301814,1.61608...|  0.0|       0.0|\n",
      "|This airline is by far the ...| Negative|[0.9999744240032136,2.55759...|  0.0|       0.0|\n",
      "|\"I bought return tickets fo...| Negative|[0.999974181618021,2.581838...|  0.0|       0.0|\n",
      "|Cape Town to Windhoek. Neve...| Negative|[0.9999708988502255,2.91011...|  0.0|       0.0|\n",
      "|Taipei to Brisbane via Kual...| Negative|[0.9999639970320596,3.60029...|  0.0|       0.0|\n",
      "|Toronto to Haiti via Miami....| Negative|[0.9999624556902228,3.75443...|  0.0|       0.0|\n",
      "|Vancouver to Rome via Montr...| Negative|[0.9999604692489338,3.95307...|  0.0|       0.0|\n",
      "+------------------------------+---------+------------------------------+-----+----------+\n",
      "only showing top 10 rows\n",
      "\n"
     ]
    }
   ],
   "source": [
    "predictionsTestData2.filter(predictionsTestData2['prediction'] == 0).select(\"review\", \"sentiment\", \"probability\", \"label\", \"prediction\")\\\n",
    ".orderBy(\"probability\", ascending = False).show(n = 10, truncate = 30)"
   ]
  },
  {
   "cell_type": "code",
   "execution_count": 43,
   "id": "1e5c7a11-f515-43e3-83f3-276dfe5b4d44",
   "metadata": {},
   "outputs": [
    {
     "name": "stderr",
     "output_type": "stream",
     "text": [
      "[Stage 107:==============>                                          (1 + 3) / 4]\r"
     ]
    },
    {
     "name": "stdout",
     "output_type": "stream",
     "text": [
      "+------------------------------+---------+------------------------------+-----+----------+\n",
      "|                        review|sentiment|                   probability|label|prediction|\n",
      "+------------------------------+---------+------------------------------+-----+----------+\n",
      "|I was supposed to fly from ...| Positive|[0.4999980042850007,0.50000...|  1.0|       1.0|\n",
      "|My husband and I returned f...| Positive|[0.4999620501239706,0.50003...|  1.0|       1.0|\n",
      "|LAX-TAO MNL-LAX return. Gre...| Positive|[0.4999063578828664,0.50009...|  1.0|       1.0|\n",
      "|Flew from Manchester to San...| Negative|[0.4999043796049061,0.50009...|  0.0|       1.0|\n",
      "|I came from Japan and had a...| Positive|[0.4998843405219744,0.50011...|  1.0|       1.0|\n",
      "|I started using RBA in 2012...| Positive|[0.4998737375464267,0.50012...|  1.0|       1.0|\n",
      "|\"Very disappointed with my ...| Positive|[0.49983965382505857,0.5001...|  1.0|       1.0|\n",
      "|London to Addis and interna...| Negative|[0.49983253972529607,0.5001...|  0.0|       1.0|\n",
      "|Aer Lingus flight EI120 fro...| Positive|[0.4998224462518427,0.50017...|  1.0|       1.0|\n",
      "|I bought the tickets becaus...| Positive|[0.4998135688693282,0.50018...|  1.0|       1.0|\n",
      "+------------------------------+---------+------------------------------+-----+----------+\n",
      "only showing top 10 rows\n",
      "\n"
     ]
    },
    {
     "name": "stderr",
     "output_type": "stream",
     "text": [
      "                                                                                \r"
     ]
    }
   ],
   "source": [
    "predictionsTrainingData2.filter(predictionsTrainingData2['prediction'] == 1).select(\"review\", \"sentiment\", \"probability\", \"label\", \"prediction\")\\\n",
    ".orderBy(\"probability\", ascending = False).show(n = 10, truncate = 30)"
   ]
  },
  {
   "cell_type": "code",
   "execution_count": 44,
   "id": "e2daf43d-1c8c-48d0-8454-daffeaa05b02",
   "metadata": {},
   "outputs": [
    {
     "name": "stderr",
     "output_type": "stream",
     "text": [
      "[Stage 108:==============>                                          (1 + 3) / 4]\r"
     ]
    },
    {
     "name": "stdout",
     "output_type": "stream",
     "text": [
      "+------------------------------+---------+------------------------------+-----+----------+\n",
      "|                        review|sentiment|                   probability|label|prediction|\n",
      "+------------------------------+---------+------------------------------+-----+----------+\n",
      "|Catania to Manchester via B...| Positive|[0.49996243410134983,0.5000...|  1.0|       1.0|\n",
      "|London to Beirut, an excell...| Positive|[0.49991712602023625,0.5000...|  1.0|       1.0|\n",
      "|My thanks to staff from Mum...| Positive|[0.4999042824071497,0.50009...|  1.0|       1.0|\n",
      "|Nadi to Adelaide. Ground se...| Negative|[0.4998019200122067,0.50019...|  0.0|       1.0|\n",
      "|14/7/14 Trinidad-St Lucia-L...| Positive|[0.4997933620291698,0.50020...|  1.0|       1.0|\n",
      "|I was expecting the worst p...| Positive|[0.4997585931978709,0.50024...|  1.0|       1.0|\n",
      "|Mid-afternoon flight out of...| Positive|[0.49974812479943737,0.5002...|  1.0|       1.0|\n",
      "|Flew FlySafair from Johanne...| Negative|[0.4996694580248749,0.50033...|  0.0|       1.0|\n",
      "|Service was ok, on time boa...| Positive|[0.4996582026190289,0.50034...|  1.0|       1.0|\n",
      "|Flew Business from Vegas to...| Negative|[0.4996514248875775,0.50034...|  0.0|       1.0|\n",
      "+------------------------------+---------+------------------------------+-----+----------+\n",
      "only showing top 10 rows\n",
      "\n"
     ]
    },
    {
     "name": "stderr",
     "output_type": "stream",
     "text": [
      "                                                                                \r"
     ]
    }
   ],
   "source": [
    "predictionsTestData2.filter(predictionsTestData2['prediction'] == 1).select(\"review\", \"sentiment\", \"probability\", \"label\", \"prediction\")\\\n",
    ".orderBy(\"probability\", ascending = False).show(n = 10, truncate = 30)"
   ]
  },
  {
   "cell_type": "code",
   "execution_count": 45,
   "id": "fa030f3d-33f6-4599-846d-65b1b1ab2e52",
   "metadata": {},
   "outputs": [
    {
     "name": "stderr",
     "output_type": "stream",
     "text": [
      "[Stage 109:==============>                                          (1 + 3) / 4]\r"
     ]
    },
    {
     "name": "stdout",
     "output_type": "stream",
     "text": [
      "0.9309998594130033\n"
     ]
    },
    {
     "name": "stderr",
     "output_type": "stream",
     "text": [
      "                                                                                \r"
     ]
    }
   ],
   "source": [
    "evaluator2 = MulticlassClassificationEvaluator(predictionCol = \"prediction\")\n",
    "lrTrainingAccuracy2 = evaluator2.evaluate(predictionsTrainingData2)\n",
    "print(lrTrainingAccuracy2)"
   ]
  },
  {
   "cell_type": "code",
   "execution_count": 47,
   "id": "97c6c068-4d7b-4890-921c-dc18aba1cbe4",
   "metadata": {},
   "outputs": [
    {
     "name": "stderr",
     "output_type": "stream",
     "text": [
      "[Stage 111:==============>                                          (1 + 3) / 4]\r"
     ]
    },
    {
     "name": "stdout",
     "output_type": "stream",
     "text": [
      "0.9070828440567384\n"
     ]
    },
    {
     "name": "stderr",
     "output_type": "stream",
     "text": [
      "                                                                                \r"
     ]
    }
   ],
   "source": [
    "lrTestAccuracy2 = evaluator2.evaluate(predictionsTestData2)\n",
    "print(lrTestAccuracy2)"
   ]
  },
  {
   "cell_type": "code",
   "execution_count": 48,
   "id": "c497e669-ae4f-4e62-b935-47d25f45c71b",
   "metadata": {},
   "outputs": [
    {
     "name": "stdout",
     "output_type": "stream",
     "text": [
      "\n",
      "False positive rate by label:\n"
     ]
    },
    {
     "name": "stderr",
     "output_type": "stream",
     "text": [
      "                                                                                \r"
     ]
    },
    {
     "name": "stdout",
     "output_type": "stream",
     "text": [
      "label 0: 0.09307302201506756\n",
      "label 1: 0.05138541180464208\n",
      "\n",
      "True positive rate by label:\n",
      "label 0: 0.9486145881953579\n",
      "label 1: 0.9069269779849324\n",
      "\n",
      "Precision by label:\n",
      "label 0: 0.9336980808987826\n",
      "label 1: 0.9273980815347722\n",
      "\n",
      "Recall by label:\n",
      "label 0: 0.9486145881953579\n",
      "label 1: 0.9069269779849324\n",
      "\n",
      "F-measure by label:\n",
      "label 0: 0.94109723113838\n",
      "label 1: 0.9170483008018023\n",
      "\n",
      "Train Accuracy: 0.9311113025711718\n",
      "\n",
      "Train FPR: 0.0755697363908815\n",
      "\n",
      "Train TPR: 0.9311113025711719\n",
      "\n",
      "Train F-measure: 0.9309998594130033\n",
      "\n",
      "Train Precision: 0.9310529139596404\n",
      "\n",
      "Train Recall: 0.9311113025711719\n"
     ]
    }
   ],
   "source": [
    "trainingSummary2 = lrModel2.summary\n",
    "\n",
    "print(\"\\nFalse positive rate by label:\")\n",
    "for i, rate in enumerate(trainingSummary2.falsePositiveRateByLabel):\n",
    "    print(\"label %d: %s\" % (i, rate))\n",
    "\n",
    "print(\"\\nTrue positive rate by label:\")\n",
    "for i, rate in enumerate(trainingSummary2.truePositiveRateByLabel):\n",
    "    print(\"label %d: %s\" % (i, rate))\n",
    "\n",
    "print(\"\\nPrecision by label:\")\n",
    "for i, prec in enumerate(trainingSummary2.precisionByLabel):\n",
    "    print(\"label %d: %s\" % (i, prec))\n",
    "\n",
    "print(\"\\nRecall by label:\")\n",
    "for i, rec in enumerate(trainingSummary2.recallByLabel):\n",
    "    print(\"label %d: %s\" % (i, rec))\n",
    "\n",
    "print(\"\\nF-measure by label:\")\n",
    "for i, f in enumerate(trainingSummary2.fMeasureByLabel()):\n",
    "    print(\"label %d: %s\" % (i, f))\n",
    "\n",
    "lr_train_accuracy2 = trainingSummary2.accuracy\n",
    "lr_train_falsePositiveRate2 = trainingSummary2.weightedFalsePositiveRate\n",
    "lr_train_truePositiveRate2 = trainingSummary2.weightedTruePositiveRate\n",
    "lr_train_fMeasure2 = trainingSummary2.weightedFMeasure()\n",
    "lr_train_precision2 = trainingSummary2.weightedPrecision\n",
    "lr_train_recall2 = trainingSummary2.weightedRecall\n",
    "print(\"\\nTrain Accuracy: %s\\n\\nTrain FPR: %s\\n\\nTrain TPR: %s\\n\\nTrain F-measure: %s\\n\\nTrain Precision: %s\\n\\nTrain Recall: %s\"\n",
    "      % (lr_train_accuracy2, lr_train_falsePositiveRate2, lr_train_truePositiveRate2, lr_train_fMeasure2, lr_train_precision2, lr_train_recall2))"
   ]
  },
  {
   "cell_type": "code",
   "execution_count": 49,
   "id": "fea4ab0c-0495-4131-a5fb-2e867fef00ab",
   "metadata": {},
   "outputs": [
    {
     "name": "stderr",
     "output_type": "stream",
     "text": [
      "[Stage 125:==============>                                          (1 + 3) / 4]\r"
     ]
    },
    {
     "name": "stdout",
     "output_type": "stream",
     "text": [
      "\n",
      "Test Accuracy: 0.9073585878846925\n",
      "\n",
      "Test FPR: 0.102223686126697\n",
      "\n",
      "Test TPR: 0.9073585878846925\n",
      "\n",
      "Test F-measure: 0.9070828440567384\n",
      "\n",
      "Test Precision: 0.9073645685301059\n",
      "\n",
      "Test Recall: 0.9073585878846925\n"
     ]
    },
    {
     "name": "stderr",
     "output_type": "stream",
     "text": [
      "                                                                                \r"
     ]
    }
   ],
   "source": [
    "lr_test_accuracy2 = evaluator2.evaluate(predictionsTestData2, {evaluator2.metricName: \"accuracy\"})\n",
    "lr_test_falsePositiveRate2 = evaluator2.evaluate(predictionsTestData2, {evaluator2.metricName: \"weightedFalsePositiveRate\"})\n",
    "lr_test_truePositiveRate2 = evaluator2.evaluate(predictionsTestData2, {evaluator2.metricName: \"weightedTruePositiveRate\"})\n",
    "lr_test_fMeasure2 = evaluator2.evaluate(predictionsTestData2, {evaluator2.metricName: \"f1\"})\n",
    "lr_test_precision2 = evaluator2.evaluate(predictionsTestData2, {evaluator2.metricName: \"weightedPrecision\"})\n",
    "lr_test_recall2 = evaluator2.evaluate(predictionsTestData2, {evaluator2.metricName: \"weightedRecall\"})\n",
    "\n",
    "print(\"\\nTest Accuracy: %s\\n\\nTest FPR: %s\\n\\nTest TPR: %s\\n\\nTest F-measure: %s\\n\\nTest Precision: %s\\n\\nTest Recall: %s\"\n",
    "      % (lr_test_accuracy2, lr_test_falsePositiveRate2, lr_test_truePositiveRate2, lr_test_fMeasure2, lr_test_precision2, lr_test_recall2))"
   ]
  },
  {
   "cell_type": "code",
   "execution_count": 50,
   "id": "9d8624c5-010c-4d16-88dd-9c22d27d7f06",
   "metadata": {},
   "outputs": [
    {
     "name": "stderr",
     "output_type": "stream",
     "text": [
      "                                                                                \r"
     ]
    }
   ],
   "source": [
    "pipeline3 = Pipeline(stages = [regexTokenizer, stopwordsRemover, word2vecVectors, label_stringIdx])\n",
    "\n",
    "pipelineFit3 = pipeline3.fit(df3)\n",
    "dataset3 = pipelineFit3.transform(df3)\n",
    "\n",
    "(trainingData3, testData3) = dataset3.randomSplit([0.7, 0.3], seed = 100)\n",
    "lr3 = LogisticRegression(maxIter = 20, regParam = 0.3, elasticNetParam = 0)\n",
    "lrModel3 = lr3.fit(trainingData3)\n",
    "\n",
    "predictionsTrainingData3 = lrModel3.transform(trainingData3)\n",
    "predictionsTestData3 = lrModel3.transform(testData3)"
   ]
  },
  {
   "cell_type": "code",
   "execution_count": 51,
   "id": "fdabad63-5996-4602-b886-93e8746e8396",
   "metadata": {},
   "outputs": [
    {
     "name": "stderr",
     "output_type": "stream",
     "text": [
      "[Stage 150:==============>                                          (1 + 3) / 4]\r"
     ]
    },
    {
     "name": "stdout",
     "output_type": "stream",
     "text": [
      "+------------------------------+---------+------------------------------+-----+----------+\n",
      "|                        review|sentiment|                   probability|label|prediction|\n",
      "+------------------------------+---------+------------------------------+-----+----------+\n",
      "|Lost my luggage and wouldn’...| Negative|[0.9508501616023414,0.04914...|  0.0|       0.0|\n",
      "|Refused to refund my refund...| Negative|[0.9436126834933531,0.05638...|  0.0|       0.0|\n",
      "|They charged my debit card ...| Negative|[0.9432419064539221,0.05675...|  0.0|       0.0|\n",
      "|I suggest never booking a f...| Negative|[0.9414604355698398,0.05853...|  0.0|       0.0|\n",
      "|I tried to pay for luggage ...| Negative|[0.9374590307921623,0.06254...|  0.0|       0.0|\n",
      "|I have been fighting with t...| Negative|[0.937428160129359,0.062571...|  0.0|       0.0|\n",
      "|They sent my bag to Vegas i...| Negative|[0.935961101778557,0.064038...|  0.0|       0.0|\n",
      "|After several times contact...| Negative|[0.9338368015130136,0.06616...|  0.0|       0.0|\n",
      "|Their customer support is s...| Negative|[0.9326368299363993,0.06736...|  0.0|       0.0|\n",
      "|Horrible ground service. I ...| Negative|[0.9321258403410123,0.06787...|  0.0|       0.0|\n",
      "+------------------------------+---------+------------------------------+-----+----------+\n",
      "only showing top 10 rows\n",
      "\n"
     ]
    },
    {
     "name": "stderr",
     "output_type": "stream",
     "text": [
      "                                                                                \r"
     ]
    }
   ],
   "source": [
    "predictionsTrainingData3.filter(predictionsTrainingData3['prediction'] == 0).select(\"review\", \"sentiment\", \"probability\", \"label\", \"prediction\")\\\n",
    ".orderBy(\"probability\", ascending = False).show(n = 10, truncate = 30)"
   ]
  },
  {
   "cell_type": "code",
   "execution_count": 52,
   "id": "cd62c8e3-c4c0-4f38-a6e3-04f21bc9f29f",
   "metadata": {},
   "outputs": [
    {
     "name": "stderr",
     "output_type": "stream",
     "text": [
      "[Stage 151:==============>                                          (1 + 3) / 4]\r"
     ]
    },
    {
     "name": "stdout",
     "output_type": "stream",
     "text": [
      "+------------------------------+---------+------------------------------+-----+----------+\n",
      "|                        review|sentiment|                   probability|label|prediction|\n",
      "+------------------------------+---------+------------------------------+-----+----------+\n",
      "|Carry on luggage was well w...| Negative|[0.9396444313464511,0.06035...|  0.0|       0.0|\n",
      "|I received an email from Vu...| Negative|[0.9394836854883257,0.06051...|  0.0|       0.0|\n",
      "|I will never purchase a fli...| Negative|[0.9391149885489654,0.06088...|  0.0|       0.0|\n",
      "|Horrible customer service. ...| Negative|[0.9352816736293347,0.06471...|  0.0|       0.0|\n",
      "|Wizz cancelled our flight j...| Negative|[0.9342389302173792,0.06576...|  0.0|       0.0|\n",
      "|They refuse to answer your ...| Negative|[0.9327322120428821,0.06726...|  0.0|       0.0|\n",
      "|Volaris airline never calle...| Negative|[0.9324242850769873,0.06757...|  0.0|       0.0|\n",
      "|I paid for 2 extra suitcase...| Negative|[0.9318585340535939,0.06814...|  0.0|       0.0|\n",
      "|Warsaw to Malaga via Prague...| Negative|[0.9318010068689788,0.06819...|  0.0|       0.0|\n",
      "|Since the beginning of this...| Negative|[0.9306509887435661,0.06934...|  0.0|       0.0|\n",
      "+------------------------------+---------+------------------------------+-----+----------+\n",
      "only showing top 10 rows\n",
      "\n"
     ]
    },
    {
     "name": "stderr",
     "output_type": "stream",
     "text": [
      "                                                                                \r"
     ]
    }
   ],
   "source": [
    "predictionsTestData3.filter(predictionsTestData3['prediction'] == 0).select(\"review\", \"sentiment\", \"probability\", \"label\", \"prediction\")\\\n",
    ".orderBy(\"probability\", ascending = False).show(n = 10, truncate = 30)"
   ]
  },
  {
   "cell_type": "code",
   "execution_count": null,
   "id": "4682fa85-94f1-4818-9d1f-c191239a44a2",
   "metadata": {},
   "outputs": [
    {
     "name": "stderr",
     "output_type": "stream",
     "text": [
      "[Stage 152:==============>                                          (1 + 3) / 4]\r"
     ]
    },
    {
     "name": "stdout",
     "output_type": "stream",
     "text": [
      "+------------------------------+---------+------------------------------+-----+----------+\n",
      "|                        review|sentiment|                   probability|label|prediction|\n",
      "+------------------------------+---------+------------------------------+-----+----------+\n",
      "|Hong Kong to London Heathro...| Positive|[0.4999976833635784,0.50000...|  1.0|       1.0|\n",
      "|Return flights from BRU to ...| Positive|[0.49997811493308536,0.5000...|  1.0|       1.0|\n",
      "|Have flown with them on a n...| Positive|[0.4999620658072663,0.50003...|  1.0|       1.0|\n",
      "|A mediocre flight, and fran...| Negative|[0.49995117314036736,0.5000...|  0.0|       1.0|\n",
      "|I am Malaysian and I love m...| Negative|[0.4999477699327521,0.50005...|  0.0|       1.0|\n",
      "|I was very frustrated, not ...| Negative|[0.4999457427414605,0.50005...|  0.0|       1.0|\n",
      "|Flew with 2 others from KUL...| Positive|[0.499940969833421,0.500059...|  1.0|       1.0|\n",
      "|Melbourne to Los Angeles. A...| Negative|[0.49993511952542413,0.5000...|  0.0|       1.0|\n",
      "|Booked SAS PLUS for HEL-CPH...| Positive|[0.49991468778278414,0.5000...|  1.0|       1.0|\n",
      "|New York to Cairo. The crew...| Positive|[0.49991091109042773,0.5000...|  1.0|       1.0|\n",
      "+------------------------------+---------+------------------------------+-----+----------+\n",
      "only showing top 10 rows\n",
      "\n"
     ]
    },
    {
     "name": "stderr",
     "output_type": "stream",
     "text": [
      "                                                                                \r"
     ]
    }
   ],
   "source": [
    "predictionsTrainingData3.filter(predictionsTrainingData3['prediction'] == 1).select(\"review\", \"sentiment\", \"probability\", \"label\", \"prediction\")\\\n",
    ".orderBy(\"probability\", ascending = False).show(n = 10, truncate = 30)"
   ]
  },
  {
   "cell_type": "code",
   "execution_count": null,
   "id": "056c2197-941d-45c4-8448-466b2b5c7ee8",
   "metadata": {},
   "outputs": [
    {
     "name": "stderr",
     "output_type": "stream",
     "text": [
      "[Stage 153:==============>                                          (1 + 3) / 4]\r"
     ]
    },
    {
     "name": "stdout",
     "output_type": "stream",
     "text": [
      "+------------------------------+---------+------------------------------+-----+----------+\n",
      "|                        review|sentiment|                   probability|label|prediction|\n",
      "+------------------------------+---------+------------------------------+-----+----------+\n",
      "|London to Bangkok via Cairo...| Positive|[0.499991631540962,0.500008...|  1.0|       1.0|\n",
      "|Athens to Rome, and my thir...| Positive|[0.4999647190191001,0.50003...|  1.0|       1.0|\n",
      "|This was our first experien...| Positive|[0.49996427064220544,0.5000...|  1.0|       1.0|\n",
      "|EY12, 27/5/15. EY460, 28/5/...| Positive|[0.4999120620910321,0.50008...|  1.0|       1.0|\n",
      "|Gatwick to Tenerife South. ...| Positive|[0.4998764193275244,0.50012...|  1.0|       1.0|\n",
      "|This review relates to the ...| Positive|[0.4998675402393762,0.50013...|  1.0|       1.0|\n",
      "|\"We used the Dreamliner fro...| Positive|[0.4998040743042494,0.50019...|  1.0|       1.0|\n",
      "|Traveled from Long Beach to...| Positive|[0.49979737464488505,0.5002...|  1.0|       1.0|\n",
      "|Houston to Los Angeles. Exc...| Positive|[0.49977447376962103,0.5002...|  1.0|       1.0|\n",
      "|This is the first time I've...| Positive|[0.4997743399448214,0.50022...|  1.0|       1.0|\n",
      "+------------------------------+---------+------------------------------+-----+----------+\n",
      "only showing top 10 rows\n",
      "\n"
     ]
    },
    {
     "name": "stderr",
     "output_type": "stream",
     "text": [
      "                                                                                \r"
     ]
    }
   ],
   "source": [
    "predictionsTestData3.filter(predictionsTestData3['prediction'] == 1).select(\"review\", \"sentiment\", \"probability\", \"label\", \"prediction\")\\\n",
    ".orderBy(\"probability\", ascending = False).show(n = 10, truncate = 30)"
   ]
  },
  {
   "cell_type": "code",
   "execution_count": null,
   "id": "1d961765-5df9-46b1-bb6f-04fd8b76b7f6",
   "metadata": {},
   "outputs": [
    {
     "name": "stderr",
     "output_type": "stream",
     "text": [
      "[Stage 154:==============>                                          (1 + 3) / 4]\r"
     ]
    },
    {
     "name": "stdout",
     "output_type": "stream",
     "text": [
      "0.7900524464453833\n"
     ]
    },
    {
     "name": "stderr",
     "output_type": "stream",
     "text": [
      "                                                                                \r"
     ]
    }
   ],
   "source": [
    "evaluator3 = MulticlassClassificationEvaluator(predictionCol = \"prediction\")\n",
    "lrTrainingAccuracy3 = evaluator3.evaluate(predictionsTrainingData3)\n",
    "print(lrTrainingAccuracy3)"
   ]
  },
  {
   "cell_type": "code",
   "execution_count": null,
   "id": "47cca205-75e1-4ef5-a9ef-f335a97089d4",
   "metadata": {},
   "outputs": [
    {
     "name": "stderr",
     "output_type": "stream",
     "text": [
      "[Stage 156:==========================================>              (3 + 1) / 4]\r"
     ]
    },
    {
     "name": "stdout",
     "output_type": "stream",
     "text": [
      "0.7922486853943587\n"
     ]
    },
    {
     "name": "stderr",
     "output_type": "stream",
     "text": [
      "                                                                                \r"
     ]
    }
   ],
   "source": [
    "lrTestAccuracy3 = evaluator3.evaluate(predictionsTestData3)\n",
    "print(lrTestAccuracy3)"
   ]
  },
  {
   "cell_type": "code",
   "execution_count": 57,
   "id": "1db1682a-9a38-4876-b695-63dba66380c9",
   "metadata": {},
   "outputs": [
    {
     "name": "stdout",
     "output_type": "stream",
     "text": [
      "\n",
      "False positive rate by label:\n"
     ]
    },
    {
     "name": "stderr",
     "output_type": "stream",
     "text": [
      "[Stage 158:==========================================>              (3 + 1) / 4]\r"
     ]
    },
    {
     "name": "stdout",
     "output_type": "stream",
     "text": [
      "label 0: 0.295166065722745\n",
      "label 1: 0.14530911868290405\n",
      "\n",
      "True positive rate by label:\n",
      "label 0: 0.8546908813170959\n",
      "label 1: 0.704833934277255\n",
      "\n",
      "Precision by label:\n",
      "label 0: 0.800035746911864\n",
      "label 1: 0.778299291101544\n",
      "\n",
      "Recall by label:\n",
      "label 0: 0.8546908813170959\n",
      "label 1: 0.704833934277255\n",
      "\n",
      "F-measure by label:\n",
      "label 0: 0.8264606925980633\n",
      "label 1: 0.7397471002676675\n",
      "\n",
      "Train Accuracy: 0.7917707730746981\n",
      "\n",
      "Train FPR: 0.2322459574803472\n",
      "\n",
      "Train TPR: 0.7917707730746981\n",
      "\n",
      "Train F-measure: 0.7900524464453833\n",
      "\n",
      "Train Precision: 0.790909308802673\n",
      "\n",
      "Train Recall: 0.7917707730746981\n"
     ]
    },
    {
     "name": "stderr",
     "output_type": "stream",
     "text": [
      "                                                                                \r"
     ]
    }
   ],
   "source": [
    "trainingSummary3 = lrModel3.summary\n",
    "\n",
    "print(\"\\nFalse positive rate by label:\")\n",
    "for i, rate in enumerate(trainingSummary3.falsePositiveRateByLabel):\n",
    "    print(\"label %d: %s\" % (i, rate))\n",
    "\n",
    "print(\"\\nTrue positive rate by label:\")\n",
    "for i, rate in enumerate(trainingSummary3.truePositiveRateByLabel):\n",
    "    print(\"label %d: %s\" % (i, rate))\n",
    "\n",
    "print(\"\\nPrecision by label:\")\n",
    "for i, prec in enumerate(trainingSummary3.precisionByLabel):\n",
    "    print(\"label %d: %s\" % (i, prec))\n",
    "\n",
    "print(\"\\nRecall by label:\")\n",
    "for i, rec in enumerate(trainingSummary3.recallByLabel):\n",
    "    print(\"label %d: %s\" % (i, rec))\n",
    "\n",
    "print(\"\\nF-measure by label:\")\n",
    "for i, f in enumerate(trainingSummary3.fMeasureByLabel()):\n",
    "    print(\"label %d: %s\" % (i, f))\n",
    "\n",
    "lr_train_accuracy3 = trainingSummary3.accuracy\n",
    "lr_train_falsePositiveRate3 = trainingSummary3.weightedFalsePositiveRate\n",
    "lr_train_truePositiveRate3 = trainingSummary3.weightedTruePositiveRate\n",
    "lr_train_fMeasure3 = trainingSummary3.weightedFMeasure()\n",
    "lr_train_precision3 = trainingSummary3.weightedPrecision\n",
    "lr_train_recall3 = trainingSummary3.weightedRecall\n",
    "print(\"\\nTrain Accuracy: %s\\n\\nTrain FPR: %s\\n\\nTrain TPR: %s\\n\\nTrain F-measure: %s\\n\\nTrain Precision: %s\\n\\nTrain Recall: %s\"\n",
    "      % (lr_train_accuracy3, lr_train_falsePositiveRate3, lr_train_truePositiveRate3, lr_train_fMeasure3, lr_train_precision3, lr_train_recall3))"
   ]
  },
  {
   "cell_type": "code",
   "execution_count": 58,
   "id": "43b0f33f-f3be-4a74-b909-a0e30ced4b57",
   "metadata": {},
   "outputs": [
    {
     "name": "stderr",
     "output_type": "stream",
     "text": [
      "[Stage 170:==============>                                          (1 + 3) / 4]\r"
     ]
    },
    {
     "name": "stdout",
     "output_type": "stream",
     "text": [
      "\n",
      "Test Accuracy: 0.7941142758897358\n",
      "\n",
      "Test FPR: 0.2291260115329959\n",
      "\n",
      "Test TPR: 0.7941142758897358\n",
      "\n",
      "Test F-measure: 0.7922486853943587\n",
      "\n",
      "Test Precision: 0.7936774575334644\n",
      "\n",
      "Test Recall: 0.7941142758897358\n"
     ]
    },
    {
     "name": "stderr",
     "output_type": "stream",
     "text": [
      "                                                                                \r"
     ]
    }
   ],
   "source": [
    "lr_test_accuracy3 = evaluator3.evaluate(predictionsTestData3, {evaluator3.metricName: \"accuracy\"})\n",
    "lr_test_falsePositiveRate3 = evaluator3.evaluate(predictionsTestData3, {evaluator3.metricName: \"weightedFalsePositiveRate\"})\n",
    "lr_test_truePositiveRate3 = evaluator3.evaluate(predictionsTestData3, {evaluator3.metricName: \"weightedTruePositiveRate\"})\n",
    "lr_test_fMeasure3 = evaluator3.evaluate(predictionsTestData3, {evaluator3.metricName: \"f1\"})\n",
    "lr_test_precision3 = evaluator3.evaluate(predictionsTestData3, {evaluator3.metricName: \"weightedPrecision\"})\n",
    "lr_test_recall3 = evaluator3.evaluate(predictionsTestData3, {evaluator3.metricName: \"weightedRecall\"})\n",
    "\n",
    "print(\"\\nTest Accuracy: %s\\n\\nTest FPR: %s\\n\\nTest TPR: %s\\n\\nTest F-measure: %s\\n\\nTest Precision: %s\\n\\nTest Recall: %s\"\n",
    "      % (lr_test_accuracy3, lr_test_falsePositiveRate3, lr_test_truePositiveRate3, lr_test_fMeasure3, lr_test_precision3, lr_test_recall3))"
   ]
  },
  {
   "cell_type": "code",
   "execution_count": 59,
   "id": "850fb359-e28b-4b67-9ea0-2adab0ff55e7",
   "metadata": {},
   "outputs": [
    {
     "name": "stderr",
     "output_type": "stream",
     "text": [
      "23/11/24 03:25:44 WARN org.apache.spark.scheduler.DAGScheduler: Broadcasting large task binary with size 1215.8 KiB\n",
      "23/11/24 03:26:28 WARN org.apache.spark.scheduler.DAGScheduler: Broadcasting large task binary with size 1216.7 KiB\n",
      "23/11/24 03:26:35 WARN org.apache.spark.scheduler.DAGScheduler: Broadcasting large task binary with size 1217.1 KiB\n",
      "                                                                                \r"
     ]
    }
   ],
   "source": [
    "trainingDataDT = trainingData2\n",
    "testDataDT = testData2\n",
    "\n",
    "dt = DecisionTreeClassifier(featuresCol = 'features', labelCol = 'label', maxDepth = 3)\n",
    "dtModel = dt.fit(trainingDataDT)\n",
    "\n",
    "predictionsTrainingDataDT = dtModel.transform(trainingDataDT)\n",
    "predictionsTestDataDT = dtModel.transform(testDataDT)"
   ]
  },
  {
   "cell_type": "code",
   "execution_count": 60,
   "id": "f2333613-c217-402d-b2ef-d7fa96f72a47",
   "metadata": {},
   "outputs": [
    {
     "name": "stderr",
     "output_type": "stream",
     "text": [
      "[Stage 182:==========================================>              (3 + 1) / 4]\r"
     ]
    },
    {
     "name": "stdout",
     "output_type": "stream",
     "text": [
      "+------------------------------+---------+------------------------------+-----+----------+\n",
      "|                        review|sentiment|                   probability|label|prediction|\n",
      "+------------------------------+---------+------------------------------+-----+----------+\n",
      "|\"Spirit Airlines is the wor...| Negative|[0.8428571428571429,0.15714...|  0.0|       0.0|\n",
      "|\"After a 20 min delay durin...| Negative|[0.8428571428571429,0.15714...|  0.0|       0.0|\n",
      "|\"This round-trip flight was...| Negative|[0.8428571428571429,0.15714...|  0.0|       0.0|\n",
      "|Flew Spirit from Los Angele...| Negative|[0.8428571428571429,0.15714...|  0.0|       0.0|\n",
      "|Seattle to Fort Lauderdale....| Negative|[0.8428571428571429,0.15714...|  0.0|       0.0|\n",
      "|Very frustrating experience...| Negative|[0.8428571428571429,0.15714...|  0.0|       0.0|\n",
      "|To be fair, I don't know wh...| Negative|[0.8428571428571429,0.15714...|  0.0|       0.0|\n",
      "|BKK-SYD was one of the wors...| Negative|[0.8428571428571429,0.15714...|  0.0|       0.0|\n",
      "|I always travelled with the...| Negative|[0.8428571428571429,0.15714...|  0.0|       0.0|\n",
      "|Johannesburg to Dusseldorf ...| Negative|[0.8428571428571429,0.15714...|  0.0|       0.0|\n",
      "+------------------------------+---------+------------------------------+-----+----------+\n",
      "only showing top 10 rows\n",
      "\n"
     ]
    },
    {
     "name": "stderr",
     "output_type": "stream",
     "text": [
      "                                                                                \r"
     ]
    }
   ],
   "source": [
    "predictionsTrainingDataDT.filter(predictionsTrainingDataDT['prediction'] == 0).select(\"review\", \"sentiment\", \"probability\", \"label\", \"prediction\")\\\n",
    ".orderBy(\"probability\", ascending = False).show(n = 10, truncate = 30)"
   ]
  },
  {
   "cell_type": "code",
   "execution_count": 61,
   "id": "c42623ac-dc50-410b-a437-ad06a95e7256",
   "metadata": {},
   "outputs": [
    {
     "name": "stderr",
     "output_type": "stream",
     "text": [
      "[Stage 183:==========================================>              (3 + 1) / 4]\r"
     ]
    },
    {
     "name": "stdout",
     "output_type": "stream",
     "text": [
      "+------------------------------+---------+------------------------------+-----+----------+\n",
      "|                        review|sentiment|                   probability|label|prediction|\n",
      "+------------------------------+---------+------------------------------+-----+----------+\n",
      "|Atlanta to Boston. Worst ai...| Negative|[0.8428571428571429,0.15714...|  0.0|       0.0|\n",
      "|LHR-La Coruna-LHR. Great to...| Positive|[0.8428571428571429,0.15714...|  1.0|       0.0|\n",
      "|MEL-SYD return. Flew with a...| Positive|[0.8428571428571429,0.15714...|  1.0|       0.0|\n",
      "|Avoid Istanbul airport, it ...| Negative|[0.8428571428571429,0.15714...|  0.0|       0.0|\n",
      "|Cabin crew on all flights w...| Negative|[0.8428571428571429,0.15714...|  0.0|       0.0|\n",
      "|Orlando to Newark. Flying w...| Negative|[0.8428571428571429,0.15714...|  0.0|       0.0|\n",
      "|The last several times I ha...| Negative|[0.8428571428571429,0.15714...|  0.0|       0.0|\n",
      "|That was by far my worst tr...| Negative|[0.8428571428571429,0.15714...|  0.0|       0.0|\n",
      "|\"Economy-plus from EWR-HKG....| Negative|[0.8428571428571429,0.15714...|  0.0|       0.0|\n",
      "|Upgraded my seats to find o...| Negative|[0.8428571428571429,0.15714...|  0.0|       0.0|\n",
      "+------------------------------+---------+------------------------------+-----+----------+\n",
      "only showing top 10 rows\n",
      "\n"
     ]
    },
    {
     "name": "stderr",
     "output_type": "stream",
     "text": [
      "                                                                                \r"
     ]
    }
   ],
   "source": [
    "predictionsTestDataDT.filter(predictionsTestDataDT['prediction'] == 0).select(\"review\", \"sentiment\", \"probability\", \"label\", \"prediction\")\\\n",
    ".orderBy(\"probability\", ascending = False).show(n = 10, truncate = 30)"
   ]
  },
  {
   "cell_type": "code",
   "execution_count": 62,
   "id": "dc049761-3a5c-41b2-8d5d-8459daf883d5",
   "metadata": {},
   "outputs": [
    {
     "name": "stderr",
     "output_type": "stream",
     "text": [
      "[Stage 184:==============>                                          (1 + 3) / 4]\r"
     ]
    },
    {
     "name": "stdout",
     "output_type": "stream",
     "text": [
      "+------------------------------+---------+-----------+-----+----------+\n",
      "|                        review|sentiment|probability|label|prediction|\n",
      "+------------------------------+---------+-----------+-----+----------+\n",
      "|Flew with Jet2.com on 4th O...| Negative|[0.28,0.72]|  0.0|       1.0|\n",
      "|\"LCY-AMS-LCY Economy. Great...| Negative|[0.28,0.72]|  0.0|       1.0|\n",
      "|BOM-ZRH-ORD. A decent produ...| Positive|[0.28,0.72]|  1.0|       1.0|\n",
      "|TG 920 FRA to BKK. Business...| Positive|[0.28,0.72]|  1.0|       1.0|\n",
      "|Melbourne to Bangkok was la...| Negative|[0.28,0.72]|  0.0|       1.0|\n",
      "|\"We recently holidayed in C...| Positive|[0.28,0.72]|  1.0|       1.0|\n",
      "|\"Looks as if I travelled on...| Positive|[0.28,0.72]|  1.0|       1.0|\n",
      "|Flight from Sal to Amsterda...| Positive|[0.28,0.72]|  1.0|       1.0|\n",
      "|Recently flew Istanbul to N...| Negative|[0.28,0.72]|  0.0|       1.0|\n",
      "|Flight 71 Hong Kong to Ista...| Positive|[0.28,0.72]|  1.0|       1.0|\n",
      "+------------------------------+---------+-----------+-----+----------+\n",
      "only showing top 10 rows\n",
      "\n"
     ]
    },
    {
     "name": "stderr",
     "output_type": "stream",
     "text": [
      "                                                                                \r"
     ]
    }
   ],
   "source": [
    "predictionsTrainingDataDT.filter(predictionsTrainingDataDT['prediction'] == 1).select(\"review\", \"sentiment\", \"probability\", \"label\", \"prediction\")\\\n",
    ".orderBy(\"probability\", ascending = False).show(n = 10, truncate = 30)"
   ]
  },
  {
   "cell_type": "code",
   "execution_count": 63,
   "id": "af06e07c-2547-4cd4-822e-365d09c2c1bd",
   "metadata": {},
   "outputs": [
    {
     "name": "stderr",
     "output_type": "stream",
     "text": [
      "[Stage 185:==============>                                          (1 + 3) / 4]\r"
     ]
    },
    {
     "name": "stdout",
     "output_type": "stream",
     "text": [
      "+------------------------------+---------+-----------+-----+----------+\n",
      "|                        review|sentiment|probability|label|prediction|\n",
      "+------------------------------+---------+-----------+-----+----------+\n",
      "|I have been a loyal custome...| Negative|[0.28,0.72]|  0.0|       1.0|\n",
      "|Flew Virgin Upper Class fro...| Negative|[0.28,0.72]|  0.0|       1.0|\n",
      "|Flew with them March 6th 20...| Positive|[0.28,0.72]|  1.0|       1.0|\n",
      "|Flew on the B787 from Gatwi...| Positive|[0.28,0.72]|  1.0|       1.0|\n",
      "|We were telephoned by First...| Negative|[0.28,0.72]|  0.0|       1.0|\n",
      "|We left East Midlands on 14...| Positive|[0.28,0.72]|  1.0|       1.0|\n",
      "|LHR-DME-SVX Decided on Tran...| Negative|[0.28,0.72]|  0.0|       1.0|\n",
      "|I have just returned from h...| Positive|[0.28,0.72]|  1.0|       1.0|\n",
      "|Flight from Manchester UK U...| Negative|[0.28,0.72]|  0.0|       1.0|\n",
      "|After reading many reviews ...| Negative|[0.28,0.72]|  0.0|       1.0|\n",
      "+------------------------------+---------+-----------+-----+----------+\n",
      "only showing top 10 rows\n",
      "\n"
     ]
    },
    {
     "name": "stderr",
     "output_type": "stream",
     "text": [
      "                                                                                \r"
     ]
    }
   ],
   "source": [
    "predictionsTestDataDT.filter(predictionsTestDataDT['prediction'] == 1).select(\"review\", \"sentiment\", \"probability\", \"label\", \"prediction\")\\\n",
    ".orderBy(\"probability\", ascending = False).show(n = 10, truncate = 30)"
   ]
  },
  {
   "cell_type": "code",
   "execution_count": 64,
   "id": "d5cd038d-98f2-426f-b38a-1f66bb3cb576",
   "metadata": {},
   "outputs": [
    {
     "name": "stderr",
     "output_type": "stream",
     "text": [
      "[Stage 186:==========================================>              (3 + 1) / 4]\r"
     ]
    },
    {
     "name": "stdout",
     "output_type": "stream",
     "text": [
      "0.771593152252591\n"
     ]
    },
    {
     "name": "stderr",
     "output_type": "stream",
     "text": [
      "                                                                                \r"
     ]
    }
   ],
   "source": [
    "evaluatorDT = MulticlassClassificationEvaluator(predictionCol = \"prediction\")\n",
    "dtTrainingAccuracy = evaluatorDT.evaluate(predictionsTrainingDataDT)\n",
    "print(dtTrainingAccuracy)"
   ]
  },
  {
   "cell_type": "code",
   "execution_count": 66,
   "id": "9652be86-98d8-4a84-867d-8ba4c117c66d",
   "metadata": {},
   "outputs": [
    {
     "name": "stderr",
     "output_type": "stream",
     "text": [
      "[Stage 188:==============>                                          (1 + 3) / 4]\r"
     ]
    },
    {
     "name": "stdout",
     "output_type": "stream",
     "text": [
      "0.7726756404951314\n"
     ]
    },
    {
     "name": "stderr",
     "output_type": "stream",
     "text": [
      "                                                                                \r"
     ]
    }
   ],
   "source": [
    "dtTestAccuracy = evaluatorDT.evaluate(predictionsTestDataDT)\n",
    "print(dtTestAccuracy)"
   ]
  },
  {
   "cell_type": "code",
   "execution_count": 69,
   "id": "b363a93f-53c2-444a-a03a-ab001b65dbba",
   "metadata": {},
   "outputs": [
    {
     "name": "stderr",
     "output_type": "stream",
     "text": [
      "[Stage 200:==============>                                          (1 + 3) / 4]\r"
     ]
    },
    {
     "name": "stdout",
     "output_type": "stream",
     "text": [
      "\n",
      "Train Accuracy: 0.7756471008160302\n",
      "\n",
      "Train FPR: 0.2602576146381309\n",
      "\n",
      "Train TPR: 0.7756471008160302\n",
      "\n",
      "Train F-measure: 0.771593152252591\n",
      "\n",
      "Train Precision: 0.7763563876713493\n",
      "\n",
      "Train Recall: 0.7756471008160302\n"
     ]
    },
    {
     "name": "stderr",
     "output_type": "stream",
     "text": [
      "                                                                                \r"
     ]
    }
   ],
   "source": [
    "dt_train_accuracy = evaluatorDT.evaluate(predictionsTrainingDataDT, {evaluatorDT.metricName: \"accuracy\"})\n",
    "dt_train_falsePositiveRate = evaluatorDT.evaluate(predictionsTrainingDataDT, {evaluatorDT.metricName: \"weightedFalsePositiveRate\"})\n",
    "dt_train_truePositiveRate = evaluatorDT.evaluate(predictionsTrainingDataDT, {evaluatorDT.metricName: \"weightedTruePositiveRate\"})\n",
    "dt_train_fMeasure = evaluatorDT.evaluate(predictionsTrainingDataDT, {evaluatorDT.metricName: \"f1\"})\n",
    "dt_train_precision = evaluatorDT.evaluate(predictionsTrainingDataDT, {evaluatorDT.metricName: \"weightedPrecision\"})\n",
    "dt_train_recall = evaluatorDT.evaluate(predictionsTrainingDataDT, {evaluatorDT.metricName: \"weightedRecall\"})\n",
    "\n",
    "print(\"\\nTrain Accuracy: %s\\n\\nTrain FPR: %s\\n\\nTrain TPR: %s\\n\\nTrain F-measure: %s\\n\\nTrain Precision: %s\\n\\nTrain Recall: %s\"\n",
    "      % (dt_train_accuracy, dt_train_falsePositiveRate, dt_train_truePositiveRate, dt_train_fMeasure, dt_train_precision, dt_train_recall))"
   ]
  },
  {
   "cell_type": "code",
   "execution_count": 70,
   "id": "1b0aaaa1-b6e8-4209-ab61-f505bc1cb5d6",
   "metadata": {},
   "outputs": [
    {
     "name": "stderr",
     "output_type": "stream",
     "text": [
      "[Stage 212:==============>                                          (1 + 3) / 4]\r"
     ]
    },
    {
     "name": "stdout",
     "output_type": "stream",
     "text": [
      "\n",
      "Test Accuracy: 0.7768353487305862\n",
      "\n",
      "Test FPR: 0.2572998448097128\n",
      "\n",
      "Test TPR: 0.7768353487305862\n",
      "\n",
      "Test F-measure: 0.7726756404951314\n",
      "\n",
      "Test Precision: 0.7784535840069302\n",
      "\n",
      "Test Recall: 0.7768353487305862\n"
     ]
    },
    {
     "name": "stderr",
     "output_type": "stream",
     "text": [
      "                                                                                \r"
     ]
    }
   ],
   "source": [
    "dt_test_accuracy = evaluatorDT.evaluate(predictionsTestDataDT, {evaluatorDT.metricName: \"accuracy\"})\n",
    "dt_test_falsePositiveRate = evaluatorDT.evaluate(predictionsTestDataDT, {evaluatorDT.metricName: \"weightedFalsePositiveRate\"})\n",
    "dt_test_truePositiveRate = evaluatorDT.evaluate(predictionsTestDataDT, {evaluatorDT.metricName: \"weightedTruePositiveRate\"})\n",
    "dt_test_fMeasure = evaluatorDT.evaluate(predictionsTestDataDT, {evaluatorDT.metricName: \"f1\"})\n",
    "dt_test_precision = evaluatorDT.evaluate(predictionsTestDataDT, {evaluatorDT.metricName: \"weightedPrecision\"})\n",
    "dt_test_recall = evaluatorDT.evaluate(predictionsTestDataDT, {evaluatorDT.metricName: \"weightedRecall\"})\n",
    "\n",
    "print(\"\\nTest Accuracy: %s\\n\\nTest FPR: %s\\n\\nTest TPR: %s\\n\\nTest F-measure: %s\\n\\nTest Precision: %s\\n\\nTest Recall: %s\"\n",
    "      % (dt_test_accuracy, dt_test_falsePositiveRate, dt_test_truePositiveRate, dt_test_fMeasure, dt_test_precision, dt_test_recall))"
   ]
  },
  {
   "cell_type": "code",
   "execution_count": 71,
   "id": "890b3e4c-2c28-44d6-a14c-7b617f8229a0",
   "metadata": {},
   "outputs": [
    {
     "name": "stderr",
     "output_type": "stream",
     "text": [
      "23/11/24 03:32:56 WARN org.apache.spark.scheduler.DAGScheduler: Broadcasting large task binary with size 1288.3 KiB\n",
      "23/11/24 03:33:39 WARN org.apache.spark.scheduler.DAGScheduler: Broadcasting large task binary with size 1386.7 KiB\n",
      "23/11/24 03:33:48 WARN org.apache.spark.scheduler.DAGScheduler: Broadcasting large task binary with size 1555.2 KiB\n",
      "23/11/24 03:33:57 WARN org.apache.spark.scheduler.DAGScheduler: Broadcasting large task binary with size 1828.0 KiB\n",
      "                                                                                \r"
     ]
    }
   ],
   "source": [
    "trainingDataRF = trainingData2\n",
    "testDataRF = testData2\n",
    "\n",
    "rf = RandomForestClassifier(labelCol = \"label\", \\\n",
    "                            featuresCol = \"features\", \\\n",
    "                            numTrees = 100, \\\n",
    "                            maxDepth = 4, \\\n",
    "                            maxBins = 32)\n",
    "\n",
    "rfModel = rf.fit(trainingDataRF)\n",
    "\n",
    "predictionsTrainingDataRF = rfModel.transform(trainingDataRF)\n",
    "predictionsTestDataRF = rfModel.transform(testDataRF)"
   ]
  },
  {
   "cell_type": "code",
   "execution_count": 72,
   "id": "d3ba2b14-b127-4aac-bcce-9411a8967f32",
   "metadata": {},
   "outputs": [
    {
     "name": "stderr",
     "output_type": "stream",
     "text": [
      "[Stage 226:==============>                                          (1 + 3) / 4]\r"
     ]
    },
    {
     "name": "stdout",
     "output_type": "stream",
     "text": [
      "+------------------------------+---------+------------------------------+-----+----------+\n",
      "|                        review|sentiment|                   probability|label|prediction|\n",
      "+------------------------------+---------+------------------------------+-----+----------+\n",
      "|Worst airline ever. Started...| Negative|[0.7247950580480069,0.27520...|  0.0|       0.0|\n",
      "|Seattle to Baltimore Washin...| Negative|[0.7073476058163634,0.29265...|  0.0|       0.0|\n",
      "|\"Detroit to Fort Lauderdale...| Negative|[0.6996745821006565,0.30032...|  0.0|       0.0|\n",
      "|One of the worst airlines I...| Negative|[0.6937270518575093,0.30627...|  0.0|       0.0|\n",
      "|Never flying them again and...| Negative|[0.6931105282104864,0.30688...|  0.0|       0.0|\n",
      "|Worst airline ever. We were...| Negative|[0.6923331711166707,0.30766...|  0.0|       0.0|\n",
      "|This was the worst flight e...| Negative|[0.6922046557665972,0.30779...|  0.0|       0.0|\n",
      "|I’ve grown up flying freque...| Negative|[0.6915054018237937,0.30849...|  0.0|       0.0|\n",
      "|✅ , |  San Diego to Los Cab...| Negative|[0.691443225072944,0.308556...|  0.0|       0.0|\n",
      "|This was, hands down, the m...| Negative|[0.6914228913527161,0.30857...|  0.0|       0.0|\n",
      "+------------------------------+---------+------------------------------+-----+----------+\n",
      "only showing top 10 rows\n",
      "\n"
     ]
    },
    {
     "name": "stderr",
     "output_type": "stream",
     "text": [
      "                                                                                \r"
     ]
    }
   ],
   "source": [
    "predictionsTrainingDataRF.filter(predictionsTrainingDataRF['prediction'] == 0).select(\"review\", \"sentiment\", \"probability\", \"label\", \"prediction\")\\\n",
    ".orderBy(\"probability\", ascending = False).show(n = 10, truncate = 30)"
   ]
  },
  {
   "cell_type": "code",
   "execution_count": 73,
   "id": "7e88645c-c0f4-4655-bfc5-8b3afaf3710d",
   "metadata": {},
   "outputs": [
    {
     "name": "stderr",
     "output_type": "stream",
     "text": [
      "[Stage 227:==============>                                          (1 + 3) / 4]\r"
     ]
    },
    {
     "name": "stdout",
     "output_type": "stream",
     "text": [
      "+------------------------------+---------+------------------------------+-----+----------+\n",
      "|                        review|sentiment|                   probability|label|prediction|\n",
      "+------------------------------+---------+------------------------------+-----+----------+\n",
      "|I have flown many times ove...| Negative|[0.701464917969796,0.298535...|  0.0|       0.0|\n",
      "|This airline is by far the ...| Negative|[0.6981996503450346,0.30180...|  0.0|       0.0|\n",
      "|Talk about poor customer se...| Negative|[0.6973745727110918,0.30262...|  0.0|       0.0|\n",
      "|This was the worst flying e...| Negative|[0.6948292565316393,0.30517...|  0.0|       0.0|\n",
      "|I had a flight Helsinki to ...| Negative|[0.6898211781467152,0.31017...|  0.0|       0.0|\n",
      "|Vancouver to Rome via Montr...| Negative|[0.6895798874433596,0.31042...|  0.0|       0.0|\n",
      "|Worst airline experience ev...| Negative|[0.6877797050007508,0.31222...|  0.0|       0.0|\n",
      "|Madrid to Toronto via Lisbo...| Negative|[0.6873053200642428,0.31269...|  0.0|       0.0|\n",
      "|Today July 19, 2021 I was s...| Negative|[0.687054136933471,0.312945...|  0.0|       0.0|\n",
      "|I have had the absolute wor...| Negative|[0.6867356776855004,0.31326...|  0.0|       0.0|\n",
      "+------------------------------+---------+------------------------------+-----+----------+\n",
      "only showing top 10 rows\n",
      "\n"
     ]
    },
    {
     "name": "stderr",
     "output_type": "stream",
     "text": [
      "                                                                                \r"
     ]
    }
   ],
   "source": [
    "predictionsTestDataRF.filter(predictionsTestDataRF['prediction'] == 0).select(\"review\", \"sentiment\", \"probability\", \"label\", \"prediction\")\\\n",
    ".orderBy(\"probability\", ascending = False).show(n = 10, truncate = 30)"
   ]
  },
  {
   "cell_type": "code",
   "execution_count": 74,
   "id": "687152b8-adb4-4aca-922d-bc08099a603b",
   "metadata": {},
   "outputs": [
    {
     "name": "stderr",
     "output_type": "stream",
     "text": [
      "[Stage 228:==========================================>              (3 + 1) / 4]\r"
     ]
    },
    {
     "name": "stdout",
     "output_type": "stream",
     "text": [
      "+------------------------------+---------+------------------------------+-----+----------+\n",
      "|                        review|sentiment|                   probability|label|prediction|\n",
      "+------------------------------+---------+------------------------------+-----+----------+\n",
      "|I was pleasantly surprised ...| Positive|[0.499998654517686,0.500001...|  1.0|       1.0|\n",
      "|Flew from Chicago to Incheo...| Positive|[0.4999613750214077,0.50003...|  1.0|       1.0|\n",
      "|Perth to Brisbane. No servi...| Positive|[0.49996091505997753,0.5000...|  1.0|       1.0|\n",
      "|Seoul to Paris round trip. ...| Positive|[0.4999438318941906,0.50005...|  1.0|       1.0|\n",
      "|Delhi to Bangkok. I found t...| Positive|[0.4999377731495298,0.50006...|  1.0|       1.0|\n",
      "|I like Delta a lot especial...| Positive|[0.499927812545635,0.500072...|  1.0|       1.0|\n",
      "|Lisbon to Ponta Delgada. To...| Positive|[0.4999218463281098,0.50007...|  1.0|       1.0|\n",
      "|Larnaca to Munich  via Buch...| Positive|[0.49991903522035847,0.5000...|  1.0|       1.0|\n",
      "|I flew Sydney to Bali and r...| Positive|[0.49991500583487786,0.5000...|  1.0|       1.0|\n",
      "|✅ , | We flew Melbourne to ...| Positive|[0.499914099567576,0.500085...|  1.0|       1.0|\n",
      "+------------------------------+---------+------------------------------+-----+----------+\n",
      "only showing top 10 rows\n",
      "\n"
     ]
    },
    {
     "name": "stderr",
     "output_type": "stream",
     "text": [
      "                                                                                \r"
     ]
    }
   ],
   "source": [
    "predictionsTrainingDataRF.filter(predictionsTrainingDataRF['prediction'] == 1).select(\"review\", \"sentiment\", \"probability\", \"label\", \"prediction\")\\\n",
    ".orderBy(\"probability\", ascending = False).show(n = 10, truncate = 30)"
   ]
  },
  {
   "cell_type": "code",
   "execution_count": 75,
   "id": "d63a03d3-003d-45ca-9aa3-aedc41d89721",
   "metadata": {},
   "outputs": [
    {
     "name": "stderr",
     "output_type": "stream",
     "text": [
      "[Stage 229:==============>                                          (1 + 3) / 4]\r"
     ]
    },
    {
     "name": "stdout",
     "output_type": "stream",
     "text": [
      "+------------------------------+---------+------------------------------+-----+----------+\n",
      "|                        review|sentiment|                   probability|label|prediction|\n",
      "+------------------------------+---------+------------------------------+-----+----------+\n",
      "|10 May 2014 LHR-CMB-MAA. LH...| Positive|[0.4999588531078745,0.50004...|  1.0|       1.0|\n",
      "|Flew Swiss Intl Air Lines f...| Positive|[0.4999314910195499,0.50006...|  1.0|       1.0|\n",
      "|Milan to Kuala Lumpur via R...| Positive|[0.49986424063226514,0.5001...|  1.0|       1.0|\n",
      "|Return from Taipei to Frank...| Positive|[0.4997725713994513,0.50022...|  1.0|       1.0|\n",
      "|B777 1-2-1 Q-Suite configur...| Positive|[0.4997212153946849,0.50027...|  1.0|       1.0|\n",
      "|Moscow to Guangzhou. Termin...| Positive|[0.49968360145044927,0.5003...|  1.0|       1.0|\n",
      "|Malaysia Airlines, Kuala Lu...| Positive|[0.49967890258679626,0.5003...|  1.0|       1.0|\n",
      "|I flew with Thomson Airways...| Positive|[0.49965354528702155,0.5003...|  1.0|       1.0|\n",
      "|DEL-LHR on Dreamliner. This...| Positive|[0.49964533179713266,0.5003...|  1.0|       1.0|\n",
      "|LAX-NADI. Business. What a ...| Positive|[0.4996409905740493,0.50035...|  1.0|       1.0|\n",
      "+------------------------------+---------+------------------------------+-----+----------+\n",
      "only showing top 10 rows\n",
      "\n"
     ]
    },
    {
     "name": "stderr",
     "output_type": "stream",
     "text": [
      "                                                                                \r"
     ]
    }
   ],
   "source": [
    "predictionsTestDataRF.filter(predictionsTestDataRF['prediction'] == 1).select(\"review\", \"sentiment\", \"probability\", \"label\", \"prediction\")\\\n",
    ".orderBy(\"probability\", ascending = False).show(n = 10, truncate = 30)"
   ]
  },
  {
   "cell_type": "code",
   "execution_count": 76,
   "id": "dd1748c1-4e06-42c1-9f85-06b73962df72",
   "metadata": {},
   "outputs": [
    {
     "name": "stderr",
     "output_type": "stream",
     "text": [
      "[Stage 230:==============>                                          (1 + 3) / 4]\r"
     ]
    },
    {
     "name": "stdout",
     "output_type": "stream",
     "text": [
      "0.4488524034479675\n"
     ]
    },
    {
     "name": "stderr",
     "output_type": "stream",
     "text": [
      "                                                                                \r"
     ]
    }
   ],
   "source": [
    "evaluatorRF = MulticlassClassificationEvaluator(predictionCol = \"prediction\")\n",
    "rfTrainingAccuracy = evaluatorRF.evaluate(predictionsTrainingDataRF)\n",
    "print(rfTrainingAccuracy)"
   ]
  },
  {
   "cell_type": "code",
   "execution_count": 77,
   "id": "4943a508-7cf4-4e3a-86a5-5206eb8a0ac1",
   "metadata": {},
   "outputs": [
    {
     "name": "stderr",
     "output_type": "stream",
     "text": [
      "[Stage 232:==============>                                          (1 + 3) / 4]\r"
     ]
    },
    {
     "name": "stdout",
     "output_type": "stream",
     "text": [
      "0.44334874349508707\n"
     ]
    },
    {
     "name": "stderr",
     "output_type": "stream",
     "text": [
      "                                                                                \r"
     ]
    }
   ],
   "source": [
    "rfTestAccuracy = evaluatorRF.evaluate(predictionsTestDataRF)\n",
    "print(rfTestAccuracy)"
   ]
  },
  {
   "cell_type": "code",
   "execution_count": 79,
   "id": "06792b46-baf8-49cf-9207-b6054482d854",
   "metadata": {},
   "outputs": [
    {
     "name": "stderr",
     "output_type": "stream",
     "text": [
      "[Stage 248:==============>                                          (1 + 3) / 4]\r"
     ]
    },
    {
     "name": "stdout",
     "output_type": "stream",
     "text": [
      "\n",
      "Train Accuracy: 0.5902864105751597\n",
      "\n",
      "Train FPR: 0.5659887067948287\n",
      "\n",
      "Train TPR: 0.5902864105751597\n",
      "\n",
      "Train F-measure: 0.4488524034479675\n",
      "\n",
      "Train Precision: 0.752999907513968\n",
      "\n",
      "Train Recall: 0.5902864105751597\n"
     ]
    },
    {
     "name": "stderr",
     "output_type": "stream",
     "text": [
      "                                                                                \r"
     ]
    }
   ],
   "source": [
    "rf_train_accuracy = evaluatorRF.evaluate(predictionsTrainingDataRF, {evaluatorRF.metricName: \"accuracy\"})\n",
    "rf_train_falsePositiveRate = evaluatorRF.evaluate(predictionsTrainingDataRF, {evaluatorRF.metricName: \"weightedFalsePositiveRate\"})\n",
    "rf_train_truePositiveRate = evaluatorRF.evaluate(predictionsTrainingDataRF, {evaluatorRF.metricName: \"weightedTruePositiveRate\"})\n",
    "rf_train_fMeasure = evaluatorRF.evaluate(predictionsTrainingDataRF, {evaluatorRF.metricName: \"f1\"})\n",
    "rf_train_precision = evaluatorRF.evaluate(predictionsTrainingDataRF, {evaluatorRF.metricName: \"weightedPrecision\"})\n",
    "rf_train_recall = evaluatorRF.evaluate(predictionsTrainingDataRF, {evaluatorRF.metricName: \"weightedRecall\"})\n",
    "\n",
    "print(\"\\nTrain Accuracy: %s\\n\\nTrain FPR: %s\\n\\nTrain TPR: %s\\n\\nTrain F-measure: %s\\n\\nTrain Precision: %s\\n\\nTrain Recall: %s\"\n",
    "      % (rf_train_accuracy, rf_train_falsePositiveRate, rf_train_truePositiveRate, rf_train_fMeasure, rf_train_precision, rf_train_recall))"
   ]
  },
  {
   "cell_type": "code",
   "execution_count": 80,
   "id": "d227d4a7-7ab7-4a00-83e5-b58558f158b6",
   "metadata": {},
   "outputs": [
    {
     "name": "stderr",
     "output_type": "stream",
     "text": [
      "[Stage 260:==============>                                          (1 + 3) / 4]\r"
     ]
    },
    {
     "name": "stdout",
     "output_type": "stream",
     "text": [
      "\n",
      "Test Accuracy: 0.5854490228666399\n",
      "\n",
      "Test FPR: 0.5608965382984381\n",
      "\n",
      "Test TPR: 0.5854490228666399\n",
      "\n",
      "Test F-measure: 0.44334874349508707\n",
      "\n",
      "Test Precision: 0.7501313780437231\n",
      "\n",
      "Test Recall: 0.5854490228666399\n"
     ]
    },
    {
     "name": "stderr",
     "output_type": "stream",
     "text": [
      "                                                                                \r"
     ]
    }
   ],
   "source": [
    "rf_test_accuracy = evaluatorRF.evaluate(predictionsTestDataRF, {evaluatorRF.metricName: \"accuracy\"})\n",
    "rf_test_falsePositiveRate = evaluatorRF.evaluate(predictionsTestDataRF, {evaluatorRF.metricName: \"weightedFalsePositiveRate\"})\n",
    "rf_test_truePositiveRate = evaluatorRF.evaluate(predictionsTestDataRF, {evaluatorRF.metricName: \"weightedTruePositiveRate\"})\n",
    "rf_test_fMeasure = evaluatorRF.evaluate(predictionsTestDataRF, {evaluatorRF.metricName: \"f1\"})\n",
    "rf_test_precision = evaluatorRF.evaluate(predictionsTestDataRF, {evaluatorRF.metricName: \"weightedPrecision\"})\n",
    "rf_test_recall = evaluatorRF.evaluate(predictionsTestDataRF, {evaluatorRF.metricName: \"weightedRecall\"})\n",
    "\n",
    "print(\"\\nTest Accuracy: %s\\n\\nTest FPR: %s\\n\\nTest TPR: %s\\n\\nTest F-measure: %s\\n\\nTest Precision: %s\\n\\nTest Recall: %s\"\n",
    "      % (rf_test_accuracy, rf_test_falsePositiveRate, rf_test_truePositiveRate, rf_test_fMeasure, rf_test_precision, rf_test_recall))"
   ]
  },
  {
   "cell_type": "code",
   "execution_count": 81,
   "id": "1a03ef38-e172-4754-a399-508df177ce2d",
   "metadata": {},
   "outputs": [
    {
     "name": "stderr",
     "output_type": "stream",
     "text": [
      "                                                                                \r"
     ]
    }
   ],
   "source": [
    "trainingDataNB = trainingData1\n",
    "testDataNB = testData1\n",
    "\n",
    "nb = NaiveBayes(smoothing = 1)\n",
    "nbModel = nb.fit(trainingDataNB)\n",
    "\n",
    "predictionsTrainingDataNB = nbModel.transform(trainingDataNB)\n",
    "predictionsTestDataNB = nbModel.transform(testDataNB)"
   ]
  },
  {
   "cell_type": "code",
   "execution_count": 86,
   "id": "2af384f9-6461-4c02-afc4-b3792f6c0525",
   "metadata": {},
   "outputs": [
    {
     "name": "stderr",
     "output_type": "stream",
     "text": [
      "[Stage 265:==============>                                          (1 + 3) / 4]\r"
     ]
    },
    {
     "name": "stdout",
     "output_type": "stream",
     "text": [
      "+------------------------------+---------+----------------------------+-----+----------+\n",
      "|                        review|sentiment|                 probability|label|prediction|\n",
      "+------------------------------+---------+----------------------------+-----+----------+\n",
      "|Delayed my first flight fro...| Negative|[1.0,1.1075295951875263E-16]|  0.0|       0.0|\n",
      "|Toronto to Casablanca via L...| Negative|[1.0,1.1055920805309128E-16]|  0.0|       0.0|\n",
      "|Orlando to Lafayette. Lafay...| Positive|[1.0,1.1053077088596668E-16]|  1.0|       0.0|\n",
      "|Lost luggage containing ess...| Negative|[1.0,1.1017603231869484E-16]|  0.0|       0.0|\n",
      "|Not much different from eas...| Negative|[1.0,1.0995234463938946E-16]|  0.0|       0.0|\n",
      "|Montreal to Toronto. After ...| Negative|[1.0,1.0979605709109888E-16]|  0.0|       0.0|\n",
      "|✅ , |  I've flown Qatar Air...| Negative|[1.0,1.0972968562707955E-16]|  0.0|       0.0|\n",
      "|Booked the flight, Vancouve...| Negative|[1.0,1.0948948488946347E-16]|  0.0|       0.0|\n",
      "|✅ , | Budapest to Malta wit...| Negative|[1.0,1.0899089251442116E-16]|  0.0|       0.0|\n",
      "|When I arrived in Istanbul,...| Negative|[1.0,1.0848849555546831E-16]|  0.0|       0.0|\n",
      "+------------------------------+---------+----------------------------+-----+----------+\n",
      "only showing top 10 rows\n",
      "\n"
     ]
    },
    {
     "name": "stderr",
     "output_type": "stream",
     "text": [
      "                                                                                \r"
     ]
    }
   ],
   "source": [
    "predictionsTrainingDataNB.filter(predictionsTrainingDataNB['prediction'] == 0).select(\"review\", \"sentiment\", \"probability\", \"label\", \"prediction\")\\\n",
    ".orderBy(\"probability\", ascending = False).show(n = 10, truncate = 30)"
   ]
  },
  {
   "cell_type": "code",
   "execution_count": 87,
   "id": "9d2a0c04-6f04-42ed-b21a-5601207fd97f",
   "metadata": {},
   "outputs": [
    {
     "name": "stderr",
     "output_type": "stream",
     "text": [
      "[Stage 266:==============>                                          (1 + 3) / 4]\r"
     ]
    },
    {
     "name": "stdout",
     "output_type": "stream",
     "text": [
      "+------------------------------+---------+----------------------------+-----+----------+\n",
      "|                        review|sentiment|                 probability|label|prediction|\n",
      "+------------------------------+---------+----------------------------+-----+----------+\n",
      "|I attempted to book a ticke...| Positive| [1.0,1.099007002889289E-16]|  1.0|       0.0|\n",
      "|Possibly the worst flight e...| Negative|[1.0,1.0920707722357278E-16]|  0.0|       0.0|\n",
      "|Salt Lake City to Chicago. ...| Negative|[1.0,1.0919491444211114E-16]|  0.0|       0.0|\n",
      "|Tehran to Toronto via Paris...| Negative|[1.0,1.0873478826962083E-16]|  0.0|       0.0|\n",
      "|We booked 5 tickets for a f...| Negative|[1.0,1.0820277832852087E-16]|  0.0|       0.0|\n",
      "|The counter staff at Pittsb...| Negative|   [1.0,1.0749316186123E-16]|  0.0|       0.0|\n",
      "|This airline would rather f...| Negative|[1.0,1.0708193525100158E-16]|  0.0|       0.0|\n",
      "|Flew from WA to Houston wit...| Negative|[1.0,1.0702831464472969E-16]|  0.0|       0.0|\n",
      "|The worst customer service ...| Negative|[1.0,1.0551492328547838E-16]|  0.0|       0.0|\n",
      "|I am a medical student in O...| Negative|[1.0,1.0512158727969134E-16]|  0.0|       0.0|\n",
      "+------------------------------+---------+----------------------------+-----+----------+\n",
      "only showing top 10 rows\n",
      "\n"
     ]
    },
    {
     "name": "stderr",
     "output_type": "stream",
     "text": [
      "                                                                                \r"
     ]
    }
   ],
   "source": [
    "predictionsTestDataNB.filter(predictionsTestDataNB['prediction'] == 0).select(\"review\", \"sentiment\", \"probability\", \"label\", \"prediction\")\\\n",
    ".orderBy(\"probability\", ascending = False).show(n = 10, truncate = 30)"
   ]
  },
  {
   "cell_type": "code",
   "execution_count": 88,
   "id": "0fac7a1e-9239-4715-aef6-bbe23d0f75f9",
   "metadata": {},
   "outputs": [
    {
     "name": "stderr",
     "output_type": "stream",
     "text": [
      "[Stage 267:==============>                                          (1 + 3) / 4]\r"
     ]
    },
    {
     "name": "stdout",
     "output_type": "stream",
     "text": [
      "+------------------------------+---------+------------------------------+-----+----------+\n",
      "|                        review|sentiment|                   probability|label|prediction|\n",
      "+------------------------------+---------+------------------------------+-----+----------+\n",
      "|Copenhagen to Berlin. Delay...| Negative|[0.4997852172285938,0.50021...|  0.0|       1.0|\n",
      "|Phoenix to Detroit. Very go...| Positive|[0.4995638517441184,0.50043...|  1.0|       1.0|\n",
      "|\"PVC - BOS. Arrived at the ...| Positive|[0.49947553825776314,0.5005...|  1.0|       1.0|\n",
      "|We travelled in April 2015 ...| Positive|[0.49932596035504595,0.5006...|  1.0|       1.0|\n",
      "|Ft Lauderdale to Orlando. I...| Positive|[0.4992632488648513,0.50073...|  1.0|       1.0|\n",
      "|We were impressed with this...| Positive|[0.49910270908199195,0.5008...|  1.0|       1.0|\n",
      "|First time flying SZ. Flew ...| Negative|[0.4974879147771037,0.50251...|  0.0|       1.0|\n",
      "|Barcelona to Vienna with Ai...| Negative|[0.4973294033552987,0.50267...|  0.0|       1.0|\n",
      "|Flew Birmingham to Delhi wi...| Negative|[0.49723497265415767,0.5027...|  0.0|       1.0|\n",
      "|Recently flew from Boston t...| Positive|[0.4971895310909334,0.50281...|  1.0|       1.0|\n",
      "+------------------------------+---------+------------------------------+-----+----------+\n",
      "only showing top 10 rows\n",
      "\n"
     ]
    },
    {
     "name": "stderr",
     "output_type": "stream",
     "text": [
      "                                                                                \r"
     ]
    }
   ],
   "source": [
    "predictionsTrainingDataNB.filter(predictionsTrainingDataNB['prediction'] == 1).select(\"review\", \"sentiment\", \"probability\", \"label\", \"prediction\")\\\n",
    ".orderBy(\"probability\", ascending = False).show(n = 10, truncate = 30)"
   ]
  },
  {
   "cell_type": "code",
   "execution_count": 89,
   "id": "74c7d342-a9c1-4058-b972-585c7127a0ce",
   "metadata": {},
   "outputs": [
    {
     "name": "stderr",
     "output_type": "stream",
     "text": [
      "[Stage 268:==============>                                          (1 + 3) / 4]\r"
     ]
    },
    {
     "name": "stdout",
     "output_type": "stream",
     "text": [
      "+------------------------------+---------+------------------------------+-----+----------+\n",
      "|                        review|sentiment|                   probability|label|prediction|\n",
      "+------------------------------+---------+------------------------------+-----+----------+\n",
      "|Flew from LHR to LIS and ba...| Positive|[0.4999014822464675,0.50009...|  1.0|       1.0|\n",
      "|My wife and I booked a roun...| Positive|[0.4997575135017736,0.50024...|  1.0|       1.0|\n",
      "|Bahrain to Abu Dhabi on Eti...| Positive|[0.49874138119056166,0.5012...|  1.0|       1.0|\n",
      "|London to Lahore return. I ...| Negative|[0.49841034416136815,0.5015...|  0.0|       1.0|\n",
      "|I traveled from Addis Ababa...| Positive|[0.4979448643068882,0.50205...|  1.0|       1.0|\n",
      "|This is my return flight fr...| Negative|[0.4978931526387954,0.50210...|  0.0|       1.0|\n",
      "|I regularly travel China So...| Negative|[0.49625154490343554,0.5037...|  0.0|       1.0|\n",
      "|PER-KUL-AMS in January. The...| Negative|[0.4957424446406129,0.50425...|  0.0|       1.0|\n",
      "|Poor safety skills from the...| Negative|[0.4952124734718695,0.50478...|  0.0|       1.0|\n",
      "|✅ , |  Since 2009 flying on...| Positive|[0.4941979072826739,0.50580...|  1.0|       1.0|\n",
      "+------------------------------+---------+------------------------------+-----+----------+\n",
      "only showing top 10 rows\n",
      "\n"
     ]
    },
    {
     "name": "stderr",
     "output_type": "stream",
     "text": [
      "                                                                                \r"
     ]
    }
   ],
   "source": [
    "predictionsTestDataNB.filter(predictionsTestDataNB['prediction'] == 1).select(\"review\", \"sentiment\", \"probability\", \"label\", \"prediction\")\\\n",
    ".orderBy(\"probability\", ascending = False).show(n = 10, truncate = 30)"
   ]
  },
  {
   "cell_type": "code",
   "execution_count": 92,
   "id": "55986b15-b14f-4fb6-84ab-7bf06a1a8663",
   "metadata": {},
   "outputs": [
    {
     "name": "stderr",
     "output_type": "stream",
     "text": [
      "[Stage 271:==============>                                          (1 + 3) / 4]\r"
     ]
    },
    {
     "name": "stdout",
     "output_type": "stream",
     "text": [
      "0.8579580007620748\n"
     ]
    },
    {
     "name": "stderr",
     "output_type": "stream",
     "text": [
      "                                                                                \r"
     ]
    }
   ],
   "source": [
    "evaluatorNB = MulticlassClassificationEvaluator(predictionCol = \"prediction\")\n",
    "nbTrainingAccuracy = evaluatorNB.evaluate(predictionsTrainingDataNB)\n",
    "print(nbTrainingAccuracy)"
   ]
  },
  {
   "cell_type": "code",
   "execution_count": 94,
   "id": "91ca9e13-75b0-4c6c-a50a-44d818046751",
   "metadata": {},
   "outputs": [
    {
     "name": "stderr",
     "output_type": "stream",
     "text": [
      "[Stage 273:==============>                                          (1 + 3) / 4]\r"
     ]
    },
    {
     "name": "stdout",
     "output_type": "stream",
     "text": [
      "0.8564266184646289\n"
     ]
    },
    {
     "name": "stderr",
     "output_type": "stream",
     "text": [
      "                                                                                \r"
     ]
    }
   ],
   "source": [
    "nbTestAccuracy = evaluatorNB.evaluate(predictionsTestDataNB)\n",
    "print(nbTestAccuracy)"
   ]
  },
  {
   "cell_type": "code",
   "execution_count": 95,
   "id": "956d90a6-07fd-4429-a264-979c1fe0c05a",
   "metadata": {},
   "outputs": [
    {
     "name": "stderr",
     "output_type": "stream",
     "text": [
      "[Stage 285:==============>                                          (1 + 3) / 4]\r"
     ]
    },
    {
     "name": "stdout",
     "output_type": "stream",
     "text": [
      "\n",
      "Train Accuracy: 0.8571024160892095\n",
      "\n",
      "Train FPR: 0.13140080741993423\n",
      "\n",
      "Train TPR: 0.8571024160892095\n",
      "\n",
      "Train F-measure: 0.8579580007620748\n",
      "\n",
      "Train Precision: 0.8645468810145653\n",
      "\n",
      "Train Recall: 0.8571024160892095\n"
     ]
    },
    {
     "name": "stderr",
     "output_type": "stream",
     "text": [
      "                                                                                \r"
     ]
    }
   ],
   "source": [
    "nb_train_accuracy = evaluatorNB.evaluate(predictionsTrainingDataNB, {evaluatorNB.metricName: \"accuracy\"})\n",
    "nb_train_falsePositiveRate = evaluatorNB.evaluate(predictionsTrainingDataNB, {evaluatorNB.metricName: \"weightedFalsePositiveRate\"})\n",
    "nb_train_truePositiveRate = evaluatorNB.evaluate(predictionsTrainingDataNB, {evaluatorNB.metricName: \"weightedTruePositiveRate\"})\n",
    "nb_train_fMeasure = evaluatorNB.evaluate(predictionsTrainingDataNB, {evaluatorNB.metricName: \"f1\"})\n",
    "nb_train_precision = evaluatorNB.evaluate(predictionsTrainingDataNB, {evaluatorNB.metricName: \"weightedPrecision\"})\n",
    "nb_train_recall = evaluatorNB.evaluate(predictionsTrainingDataNB, {evaluatorNB.metricName: \"weightedRecall\"})\n",
    "\n",
    "print(\"\\nTrain Accuracy: %s\\n\\nTrain FPR: %s\\n\\nTrain TPR: %s\\n\\nTrain F-measure: %s\\n\\nTrain Precision: %s\\n\\nTrain Recall: %s\"\n",
    "      % (nb_train_accuracy, nb_train_falsePositiveRate, nb_train_truePositiveRate, nb_train_fMeasure, nb_train_precision, nb_train_recall))"
   ]
  },
  {
   "cell_type": "code",
   "execution_count": 96,
   "id": "3f9f4748-c28b-4f64-ad90-ca286c02a876",
   "metadata": {},
   "outputs": [
    {
     "name": "stderr",
     "output_type": "stream",
     "text": [
      "[Stage 297:==============>                                          (1 + 3) / 4]\r"
     ]
    },
    {
     "name": "stdout",
     "output_type": "stream",
     "text": [
      "\n",
      "Test Accuracy: 0.8556650810934724\n",
      "\n",
      "Test FPR: 0.1341342397635769\n",
      "\n",
      "Test TPR: 0.8556650810934724\n",
      "\n",
      "Test F-measure: 0.8564266184646289\n",
      "\n",
      "Test Precision: 0.8623383436583423\n",
      "\n",
      "Test Recall: 0.8556650810934724\n"
     ]
    },
    {
     "name": "stderr",
     "output_type": "stream",
     "text": [
      "                                                                                \r"
     ]
    }
   ],
   "source": [
    "nb_test_accuracy = evaluatorNB.evaluate(predictionsTestDataNB, {evaluatorNB.metricName: \"accuracy\"})\n",
    "nb_test_falsePositiveRate = evaluatorNB.evaluate(predictionsTestDataNB, {evaluatorNB.metricName: \"weightedFalsePositiveRate\"})\n",
    "nb_test_truePositiveRate = evaluatorNB.evaluate(predictionsTestDataNB, {evaluatorNB.metricName: \"weightedTruePositiveRate\"})\n",
    "nb_test_fMeasure = evaluatorNB.evaluate(predictionsTestDataNB, {evaluatorNB.metricName: \"f1\"})\n",
    "nb_test_precision = evaluatorNB.evaluate(predictionsTestDataNB, {evaluatorNB.metricName: \"weightedPrecision\"})\n",
    "nb_test_recall = evaluatorNB.evaluate(predictionsTestDataNB, {evaluatorNB.metricName: \"weightedRecall\"})\n",
    "\n",
    "print(\"\\nTest Accuracy: %s\\n\\nTest FPR: %s\\n\\nTest TPR: %s\\n\\nTest F-measure: %s\\n\\nTest Precision: %s\\n\\nTest Recall: %s\"\n",
    "      % (nb_test_accuracy, nb_test_falsePositiveRate, nb_test_truePositiveRate, nb_test_fMeasure, nb_test_precision, nb_test_recall))"
   ]
  },
  {
   "cell_type": "code",
   "execution_count": 102,
   "id": "f14025e8-33fb-4393-a23b-eb8210c855c6",
   "metadata": {},
   "outputs": [],
   "source": [
    "model = ['Logistic Regression', 'Decision Tree', 'Naive Bayes', 'Random Forest',]\n",
    "accuracy = [lrTestAccuracy2, dtTestAccuracy, nbTestAccuracy, rfTestAccuracy]\n",
    "f1 = [lr_test_fMeasure2, dt_test_fMeasure, nb_test_fMeasure, rf_test_fMeasure]"
   ]
  },
  {
   "cell_type": "code",
   "execution_count": 103,
   "id": "9878a1d9-26b9-4f51-b962-07c94a58361b",
   "metadata": {},
   "outputs": [
    {
     "data": {
      "image/png": "[encoded data removed]",
      "text/plain": [
       "<Figure size 640x480 with 1 Axes>"
      ]
     },
     "metadata": {},
     "output_type": "display_data"
    }
   ],
   "source": [
    "index = np.arange(len(model))\n",
    "plt.bar(index, accuracy)\n",
    "plt.xlabel('Models', fontsize = 10)\n",
    "plt.ylabel('Prediction Accuracy', fontsize = 10)\n",
    "plt.xticks(index, model, fontsize = 10, rotation = 30)\n",
    "plt.title('Accuracy Comparison')\n",
    "plt.show()"
   ]
  },
  {
   "cell_type": "code",
   "execution_count": 104,
   "id": "37351fcc-1c78-4ab0-ae05-13574a4c64b3",
   "metadata": {},
   "outputs": [
    {
     "data": {
      "image/png": "[encoded data removed]",
      "text/plain": [
       "<Figure size 640x480 with 1 Axes>"
      ]
     },
     "metadata": {},
     "output_type": "display_data"
    }
   ],
   "source": [
    "index = np.arange(len(model))\n",
    "plt.bar(index, f1)\n",
    "plt.xlabel('Models', fontsize = 10)\n",
    "plt.ylabel('F1 Score', fontsize = 10)\n",
    "plt.xticks(index, model, fontsize = 10, rotation = 30)\n",
    "plt.title('F1 Score Comparison')\n",
    "plt.show()"
   ]
  },
  {
   "cell_type": "code",
   "execution_count": 105,
   "id": "45cfd96f-1e64-4c4d-bfbd-4d7dd26d215a",
   "metadata": {},
   "outputs": [],
   "source": [
    "vectorizer = ['Count Vector', 'TF-IDF Vector', 'Word2Vec']\n",
    "accuracy = [lrTestAccuracy1, lrTestAccuracy2, lrTestAccuracy3]\n",
    "f1 = [lr_test_fMeasure1, lr_test_fMeasure2, lr_test_fMeasure3]"
   ]
  },
  {
   "cell_type": "code",
   "execution_count": 107,
   "id": "6b82f89d-b1de-4608-8de5-9199269f6fc2",
   "metadata": {},
   "outputs": [
    {
     "data": {
      "image/png": "[encoded data removed]",
      "text/plain": [
       "<Figure size 640x480 with 1 Axes>"
      ]
     },
     "metadata": {},
     "output_type": "display_data"
    }
   ],
   "source": [
    "index = np.arange(len(vectorizer))\n",
    "plt.bar(vectorizer, accuracy)\n",
    "plt.xlabel('Models', fontsize = 10)\n",
    "plt.ylabel('Accuracy', fontsize = 10)\n",
    "plt.xticks(index, vectorizer, fontsize = 10, rotation = 30)\n",
    "plt.title('Accuracy Comparison')\n",
    "plt.show()"
   ]
  },
  {
   "cell_type": "code",
   "execution_count": 108,
   "id": "84df6be4-56ef-4f39-95be-66cfd7b1d594",
   "metadata": {},
   "outputs": [
    {
     "data": {
      "image/png": "[encoded data removed]",
      "text/plain": [
       "<Figure size 640x480 with 1 Axes>"
      ]
     },
     "metadata": {},
     "output_type": "display_data"
    }
   ],
   "source": [
    "index = np.arange(len(vectorizer))\n",
    "plt.bar(vectorizer, f1)\n",
    "plt.xlabel('Models', fontsize = 10)\n",
    "plt.ylabel('F1 Score', fontsize = 10)\n",
    "plt.xticks(index, vectorizer, fontsize = 10, rotation = 30)\n",
    "plt.title('F1 Score Comparison')\n",
    "plt.show()"
   ]
  },
  {
   "cell_type": "code",
   "execution_count": 112,
   "id": "14aab14f-0320-4b68-9341-439cb8f27019",
   "metadata": {},
   "outputs": [
    {
     "name": "stderr",
     "output_type": "stream",
     "text": [
      "                                                                                \r"
     ]
    },
    {
     "data": {
      "text/plain": [
       "[Row(review=\"ATL-DUB Delta 176 in business class leaving Atlanta on November 22 and returning November 30 Delta 177. The food was fantastic and filling. I liked the fact that there was a great selection of entrees both for the main meal and the meal prior to landing. The seat sort of reminded me of L'Espace Affaires on Air France in 2007. That said it was very comfortable. The only downside is that I was unable to sleep. The flight crew going to Dublin was nothing short of fantastic. The flight crew returning was great but not as good as the outgoing crew. The in- flight entertainment was OK. While I didn't explore as much on the outgoing flight I was able to watch 3 movies I had not seen on the return flight. The only real downside is that it cost me nearly double the frequent flier miles to fly for free than it had cost me when I flew Delta to Dublin in 2000. All in all a very positive experience.\", sentiment='Positive', prediction=1.0),\n",
       " Row(review=\"Business Elite MSP-SEA-PEK-SEA-MSP. All Sectors were excellent. International Service was fine. Food was good. All Flights were on time and had a chance to use the new immigration Kiosk's. It was a little faster. Not sure why but got a hand written note from the purser thanking me for my business. I see a definite improvement with Delta. I hope it continues.\", sentiment='Positive', prediction=1.0),\n",
       " Row(review=\"BusinessElite SIN-NRT-HNL. Choose Delta only because it offered completely flat beds. B777-200LR flying from SIN-NRT- SIN offers ample legroom when in full recline. However the 767-300 planes NRT-HNL-NRT falls short for anyone over 6’. In full bed mode the ‘seat’ tucks into the narrow space of the seat in front of you. My main gripe was the cleanliness of the cabin. Dirtiest Business Class I've ever flown! Cabin Staff were ok not overly friendly. Pales to any Asian flight crew.\", sentiment='Negative', prediction=1.0),\n",
       " Row(review=\"We flew paid business class fares in Delta's Business Elite LAX to SYD and SYD to LAX in the forward B/E cabin on Delta's 777-200LR. We checked in using the kiosks in Delta's terminal and went through security quickly (we are both Global Entry/Precheck). The Delta SkyClub at LAX which doubles as Delta's business class lounge was crowded noisy and inferior in all respects to the business class lounges operated by other carriers to Australia we've flown on (ANZ and QF). For what it's worth Delta uses the ANZ business class lounge in Sydney and in all respects it's superior to Delta's SkyClub. The flight was delayed. Despite Delta's explanations the real reason for the constant late departures is that Sydney's airport operates under a curfew. It's the same problem coming back to LAX as ICE/Customs don't start clearing baggage/passengers until 8am - resulting in people sitting on the plane for a fair amount of time following arrival. Once in the air the flight itself was OK. The Delta flatbed seat on the 777-200 is adequate but inferior to the seats on ANZ's 777 and the QF A380 - both of those airlines provide business class passengers with a mattress that is laid over the top of the seat when reclined. The meal service both directions was in all respects inferior to business class meal services on ANZ QF and CX. The portions are tiny and the food itself is mediocre. The cabin crew LAX to SYD was OK but the crew returning SYD- LAX was disorganized distracted and not terribly personable. Delta's AVOD system on its 777 aircraft is antiquated. The pop-out monitors will not stay upright - many passengers around us had this problem. The moving map and flight information displays need to be updated. The headphones provided by Delta are supposed to be noise cancelling but don't work well (we both use Bose Quiet Comfort 15 headphones so it really didn't matter). Given the cost of business class tickets and all things being equal the only thing Delta has going for it on its 777 service to/from SYD is the privacy and relative quiet of its herringbone seating arrangement. Otherwise based on any other criteria you choose to use Delta's product is inferior compared to the other carriers we have flown on to/from Australia and New Zealand (ANZ QF and CX). We can't recommend Delta for business class to/from Sydney.\", sentiment='Negative', prediction=0.0),\n",
       " Row(review='JFK-FCO return Business class on Sept. 25 - Oct. 5. on A330 - this is the best business class seat by far. Seats newly configured 1-2-1 with easy aisle access. Seat controls entertainment system electronics all user friendly. Lots of entertainment options viewed on a 16-inch flat panel screen. Exceptional service and excellent meal choices.', sentiment='Positive', prediction=1.0)]"
      ]
     },
     "execution_count": 112,
     "metadata": {},
     "output_type": "execute_result"
    }
   ],
   "source": [
    "predictionsTrainingData1[['review', 'sentiment', 'prediction']].head(5)"
   ]
  },
  {
   "cell_type": "code",
   "execution_count": 113,
   "id": "cb0a3a86-5e3f-4934-934a-8a657743053e",
   "metadata": {},
   "outputs": [
    {
     "name": "stderr",
     "output_type": "stream",
     "text": [
      "                                                                                \r"
     ]
    }
   ],
   "source": [
    "lrModel1.write().overwrite().save(f'gs://msca-bdp-student-gcs/Group7_Final_Project/airline_reviews/airline_reviews_sentiment_analysis_logistic_regression1')\n",
    "lrModel2.write().overwrite().save(f'gs://msca-bdp-student-gcs/Group7_Final_Project/airline_reviews/airline_reviews_sentiment_analysis_logistic_regression2')\n",
    "lrModel3.write().overwrite().save(f'gs://msca-bdp-student-gcs/Group7_Final_Project/airline_reviews/airline_reviews_sentiment_analysis_logistic_regression3')"
   ]
  },
  {
   "cell_type": "code",
   "execution_count": 114,
   "id": "e672b598-7779-4edd-843e-1906cfe1cecf",
   "metadata": {},
   "outputs": [
    {
     "name": "stderr",
     "output_type": "stream",
     "text": [
      "                                                                                \r"
     ]
    }
   ],
   "source": [
    "dtModel.write().overwrite().save(f'gs://msca-bdp-student-gcs/Group7_Final_Project/airline_reviews/airline_reviews_sentiment_analysis_decision_tree')\n",
    "rfModel.write().overwrite().save(f'gs://msca-bdp-student-gcs/Group7_Final_Project/airline_reviews/airline_reviews_sentiment_analysis_random_forest')\n",
    "nbModel.write().overwrite().save(f'gs://msca-bdp-student-gcs/Group7_Final_Project/airline_reviews/airline_reviews_sentiment_analysis_naive_bayes')"
   ]
  },
  {
   "cell_type": "code",
   "execution_count": null,
   "id": "859147a7-7bff-451b-838f-e799c1504d39",
   "metadata": {},
   "outputs": [],
   "source": []
  }
 ],
 "metadata": {
  "kernelspec": {
   "display_name": "PySpark",
   "language": "python",
   "name": "pyspark"
  },
  "language_info": {
   "codemirror_mode": {
    "name": "ipython",
    "version": 3
   },
   "file_extension": ".py",
   "mimetype": "text/x-python",
   "name": "python",
   "nbconvert_exporter": "python",
   "pygments_lexer": "ipython3",
   "version": "3.8.15"
  }
 },
 "nbformat": 4,
 "nbformat_minor": 5
}
