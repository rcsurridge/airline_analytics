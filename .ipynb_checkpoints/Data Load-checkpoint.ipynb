{
 "cells": [
  {
   "cell_type": "markdown",
   "id": "a98d915f-b5ce-4148-a836-d2abd2970505",
   "metadata": {},
   "source": [
    "Create a Spark application"
   ]
  },
  {
   "cell_type": "code",
   "execution_count": 16,
   "id": "8fcf8c5d-4e92-4938-b5f8-56f09e2d568d",
   "metadata": {},
   "outputs": [],
   "source": [
    "from pyspark.sql import SparkSession\n",
    "\n",
    "spark = SparkSession.builder.appName(\"DataAssessment\").config(\"spark.sql.legacy.timeParserPolicy\", \"LEGACY\").getOrCreate()"
   ]
  },
  {
   "cell_type": "markdown",
   "id": "72e05dc5-237e-4e08-8207-cc34110f2c4f",
   "metadata": {},
   "source": [
    "Change configuration settings on Spark "
   ]
  },
  {
   "cell_type": "code",
   "execution_count": 17,
   "id": "4dade711-7069-41a1-ae8f-9cdb05774d1e",
   "metadata": {},
   "outputs": [],
   "source": [
    "conf = spark.sparkContext._conf.setAll([('spark.executor.memory', '4g'), ('spark.app.name', 'Spark Updated Conf'), ('spark.executor.cores', '4'), ('spark.cores.max', '4'), ('spark.driver.memory','4g')])"
   ]
  },
  {
   "cell_type": "markdown",
   "id": "40019dd0-8151-42e1-981b-d84bc02723e8",
   "metadata": {},
   "source": [
    "Store the Spark Context in a variable. Sometimes the Context is provided directly from the environment"
   ]
  },
  {
   "cell_type": "code",
   "execution_count": 18,
   "id": "451b3807-38ba-46b7-ba5c-2870b4f73eda",
   "metadata": {},
   "outputs": [],
   "source": [
    "sc = spark.sparkContext"
   ]
  },
  {
   "cell_type": "markdown",
   "id": "d68c66e2-c291-4448-b119-3365c6b2a151",
   "metadata": {},
   "source": [
    "Load the Data"
   ]
  },
  {
   "cell_type": "code",
   "execution_count": 19,
   "id": "a5afe143-081c-45bf-a453-09269840bba9",
   "metadata": {},
   "outputs": [
    {
     "name": "stderr",
     "output_type": "stream",
     "text": [
      "                                                                                \r"
     ]
    }
   ],
   "source": [
    "flight_df = spark.read.csv(\"gs://msca-bdp-student-gcs/itineraries.csv\", header=True, inferSchema=True)"
   ]
  },
  {
   "cell_type": "markdown",
   "id": "1abb4f3a-335b-4d86-9b88-7d56bf42340c",
   "metadata": {},
   "source": [
    "Initial Data Inspection"
   ]
  },
  {
   "cell_type": "code",
   "execution_count": 20,
   "id": "4f54bd3d-81d0-4e55-9f29-d83d4f1b8b47",
   "metadata": {},
   "outputs": [
    {
     "name": "stdout",
     "output_type": "stream",
     "text": [
      "+--------------------+----------+----------+---------------+------------------+-------------+--------------+-----------+--------------+------------+---------+--------+---------+--------------+-------------------+---------------------------------+------------------------+-------------------------------+----------------------+--------------------------+----------------------------+-------------------+-------------------+----------------------------+-------------------------+----------------+-----------------+\n",
      "|               legId|searchDate|flightDate|startingAirport|destinationAirport|fareBasisCode|travelDuration|elapsedDays|isBasicEconomy|isRefundable|isNonStop|baseFare|totalFare|seatsRemaining|totalTravelDistance|segmentsDepartureTimeEpochSeconds|segmentsDepartureTimeRaw|segmentsArrivalTimeEpochSeconds|segmentsArrivalTimeRaw|segmentsArrivalAirportCode|segmentsDepartureAirportCode|segmentsAirlineName|segmentsAirlineCode|segmentsEquipmentDescription|segmentsDurationInSeconds|segmentsDistance|segmentsCabinCode|\n",
      "+--------------------+----------+----------+---------------+------------------+-------------+--------------+-----------+--------------+------------+---------+--------+---------+--------------+-------------------+---------------------------------+------------------------+-------------------------------+----------------------+--------------------------+----------------------------+-------------------+-------------------+----------------------------+-------------------------+----------------+-----------------+\n",
      "|9ca0e81111c683bec...|2022-04-16|2022-04-17|            ATL|               BOS|     LA0NX0MC|       PT2H29M|          0|         false|       false|     true|  217.67|    248.6|             9|                947|                       1650214620|     2022-04-17 16:57:00|                     1650223560|   2022-04-17 19:26:00|                       BOS|                         ATL|              Delta|                 DL|                 Airbus A321|                     8940|             947|            coach|\n",
      "|98685953630e772a0...|2022-04-16|2022-04-17|            ATL|               BOS|     LA0NX0MC|       PT2H30M|          0|         false|       false|     true|  217.67|    248.6|             4|                947|                       1650191400|     2022-04-17 10:30:00|                     1650200400|   2022-04-17 13:00:00|                       BOS|                         ATL|              Delta|                 DL|                 Airbus A321|                     9000|             947|            coach|\n",
      "|98d90cbc32bfbb05c...|2022-04-16|2022-04-17|            ATL|               BOS|     LA0NX0MC|       PT2H30M|          0|         false|       false|     true|  217.67|    248.6|             9|                947|                       1650209700|     2022-04-17 15:35:00|                     1650218700|   2022-04-17 18:05:00|                       BOS|                         ATL|              Delta|                 DL|              Boeing 757-200|                     9000|             947|            coach|\n",
      "|969a269d38eae583f...|2022-04-16|2022-04-17|            ATL|               BOS|     LA0NX0MC|       PT2H32M|          0|         false|       false|     true|  217.67|    248.6|             8|                947|                       1650218340|     2022-04-17 17:59:00|                     1650227460|   2022-04-17 20:31:00|                       BOS|                         ATL|              Delta|                 DL|                 Airbus A321|                     9120|             947|            coach|\n",
      "|980370cf27c89b40d...|2022-04-16|2022-04-17|            ATL|               BOS|     LA0NX0MC|       PT2H34M|          0|         false|       false|     true|  217.67|    248.6|             9|                947|                       1650203940|     2022-04-17 13:59:00|                     1650213180|   2022-04-17 16:33:00|                       BOS|                         ATL|              Delta|                 DL|                 Airbus A321|                     9240|             947|            coach|\n",
      "+--------------------+----------+----------+---------------+------------------+-------------+--------------+-----------+--------------+------------+---------+--------+---------+--------------+-------------------+---------------------------------+------------------------+-------------------------------+----------------------+--------------------------+----------------------------+-------------------+-------------------+----------------------------+-------------------------+----------------+-----------------+\n",
      "only showing top 5 rows\n",
      "\n"
     ]
    }
   ],
   "source": [
    "flight_df.show(5)"
   ]
  },
  {
   "cell_type": "markdown",
   "id": "502c6566-a58d-42f3-8c70-0292db8c5dbb",
   "metadata": {},
   "source": [
    "Data Schema"
   ]
  },
  {
   "cell_type": "code",
   "execution_count": 21,
   "id": "c1285574-e1b8-4817-a975-f1f39cc66fc5",
   "metadata": {},
   "outputs": [
    {
     "name": "stdout",
     "output_type": "stream",
     "text": [
      "root\n",
      " |-- legId: string (nullable = true)\n",
      " |-- searchDate: string (nullable = true)\n",
      " |-- flightDate: string (nullable = true)\n",
      " |-- startingAirport: string (nullable = true)\n",
      " |-- destinationAirport: string (nullable = true)\n",
      " |-- fareBasisCode: string (nullable = true)\n",
      " |-- travelDuration: string (nullable = true)\n",
      " |-- elapsedDays: integer (nullable = true)\n",
      " |-- isBasicEconomy: boolean (nullable = true)\n",
      " |-- isRefundable: boolean (nullable = true)\n",
      " |-- isNonStop: boolean (nullable = true)\n",
      " |-- baseFare: double (nullable = true)\n",
      " |-- totalFare: double (nullable = true)\n",
      " |-- seatsRemaining: integer (nullable = true)\n",
      " |-- totalTravelDistance: integer (nullable = true)\n",
      " |-- segmentsDepartureTimeEpochSeconds: string (nullable = true)\n",
      " |-- segmentsDepartureTimeRaw: timestamp (nullable = true)\n",
      " |-- segmentsArrivalTimeEpochSeconds: string (nullable = true)\n",
      " |-- segmentsArrivalTimeRaw: timestamp (nullable = true)\n",
      " |-- segmentsArrivalAirportCode: string (nullable = true)\n",
      " |-- segmentsDepartureAirportCode: string (nullable = true)\n",
      " |-- segmentsAirlineName: string (nullable = true)\n",
      " |-- segmentsAirlineCode: string (nullable = true)\n",
      " |-- segmentsEquipmentDescription: string (nullable = true)\n",
      " |-- segmentsDurationInSeconds: string (nullable = true)\n",
      " |-- segmentsDistance: string (nullable = true)\n",
      " |-- segmentsCabinCode: string (nullable = true)\n",
      "\n"
     ]
    }
   ],
   "source": [
    "flight_df.printSchema()"
   ]
  },
  {
   "cell_type": "markdown",
   "id": "29d892a7-c9fb-428a-a2a6-8f51f88da0bc",
   "metadata": {},
   "source": [
    "Convert columns to Datetime and Timestamp"
   ]
  },
  {
   "cell_type": "code",
   "execution_count": 22,
   "id": "c578123f-ea61-43dd-9873-64490c233ba3",
   "metadata": {},
   "outputs": [],
   "source": [
    "from pyspark.sql.functions import to_date, to_timestamp\n",
    "\n",
    "flight_df = flight_df.withColumn(\"flightDate\", to_date(flight_df[\"flightDate\"], \"yyyy-MM-dd\"))\n",
    "flight_df = flight_df.withColumn(\"searchDate\", to_date(flight_df[\"searchDate\"], \"yyyy-MM-dd\"))\n",
    "flight_df = flight_df.withColumn(\"segmentsDepartureTimeRaw\", to_timestamp(flight_df[\"segmentsDepartureTimeRaw\"], \"yyyy-MM-dd'T'HH:mm:ss.SSSXXX\"))\n",
    "flight_df = flight_df.withColumn(\"segmentsArrivalTimeRaw\", to_timestamp(flight_df[\"segmentsArrivalTimeRaw\"], \"yyyy-MM-dd'T'HH:mm:ss.SSSXXX\"))"
   ]
  },
  {
   "cell_type": "markdown",
   "id": "e5fac993-7538-4e46-a10d-9dcb837e5da5",
   "metadata": {},
   "source": [
    "Verify Datetime and Timestamp columns"
   ]
  },
  {
   "cell_type": "code",
   "execution_count": 23,
   "id": "31426caf-4444-45b6-8f52-faec3086cbc9",
   "metadata": {},
   "outputs": [
    {
     "name": "stdout",
     "output_type": "stream",
     "text": [
      "root\n",
      " |-- legId: string (nullable = true)\n",
      " |-- searchDate: date (nullable = true)\n",
      " |-- flightDate: date (nullable = true)\n",
      " |-- startingAirport: string (nullable = true)\n",
      " |-- destinationAirport: string (nullable = true)\n",
      " |-- fareBasisCode: string (nullable = true)\n",
      " |-- travelDuration: string (nullable = true)\n",
      " |-- elapsedDays: integer (nullable = true)\n",
      " |-- isBasicEconomy: boolean (nullable = true)\n",
      " |-- isRefundable: boolean (nullable = true)\n",
      " |-- isNonStop: boolean (nullable = true)\n",
      " |-- baseFare: double (nullable = true)\n",
      " |-- totalFare: double (nullable = true)\n",
      " |-- seatsRemaining: integer (nullable = true)\n",
      " |-- totalTravelDistance: integer (nullable = true)\n",
      " |-- segmentsDepartureTimeEpochSeconds: string (nullable = true)\n",
      " |-- segmentsDepartureTimeRaw: timestamp (nullable = true)\n",
      " |-- segmentsArrivalTimeEpochSeconds: string (nullable = true)\n",
      " |-- segmentsArrivalTimeRaw: timestamp (nullable = true)\n",
      " |-- segmentsArrivalAirportCode: string (nullable = true)\n",
      " |-- segmentsDepartureAirportCode: string (nullable = true)\n",
      " |-- segmentsAirlineName: string (nullable = true)\n",
      " |-- segmentsAirlineCode: string (nullable = true)\n",
      " |-- segmentsEquipmentDescription: string (nullable = true)\n",
      " |-- segmentsDurationInSeconds: string (nullable = true)\n",
      " |-- segmentsDistance: string (nullable = true)\n",
      " |-- segmentsCabinCode: string (nullable = true)\n",
      "\n",
      "+----------+----------+------------------------+----------------------+\n",
      "|flightDate|searchDate|segmentsDepartureTimeRaw|segmentsArrivalTimeRaw|\n",
      "+----------+----------+------------------------+----------------------+\n",
      "|2022-04-17|2022-04-16|     2022-04-17 16:57:00|   2022-04-17 19:26:00|\n",
      "|2022-04-17|2022-04-16|     2022-04-17 10:30:00|   2022-04-17 13:00:00|\n",
      "|2022-04-17|2022-04-16|     2022-04-17 15:35:00|   2022-04-17 18:05:00|\n",
      "|2022-04-17|2022-04-16|     2022-04-17 17:59:00|   2022-04-17 20:31:00|\n",
      "|2022-04-17|2022-04-16|     2022-04-17 13:59:00|   2022-04-17 16:33:00|\n",
      "+----------+----------+------------------------+----------------------+\n",
      "only showing top 5 rows\n",
      "\n"
     ]
    }
   ],
   "source": [
    "flight_df.printSchema()\n",
    "flight_df.select(\"flightDate\", \"searchDate\", \"segmentsDepartureTimeRaw\", \"segmentsArrivalTimeRaw\").show(5)"
   ]
  },
  {
   "cell_type": "markdown",
   "id": "0e37bf03-d998-4d55-8436-b6e555c89110",
   "metadata": {},
   "source": [
    "Summary Statistics"
   ]
  },
  {
   "cell_type": "code",
   "execution_count": 24,
   "id": "b4770918-12ba-4071-85c9-132da7edf2df",
   "metadata": {},
   "outputs": [
    {
     "name": "stderr",
     "output_type": "stream",
     "text": [
      "                                                                                \r"
     ]
    },
    {
     "name": "stdout",
     "output_type": "stream",
     "text": [
      "+-------+--------------------+---------------+------------------+-------------+--------------+-------------------+------------------+------------------+------------------+-------------------+---------------------------------+-------------------------------+--------------------------+----------------------------+--------------------+-------------------+----------------------------+-------------------------+--------------------+--------------------+\n",
      "|summary|               legId|startingAirport|destinationAirport|fareBasisCode|travelDuration|        elapsedDays|          baseFare|         totalFare|    seatsRemaining|totalTravelDistance|segmentsDepartureTimeEpochSeconds|segmentsArrivalTimeEpochSeconds|segmentsArrivalAirportCode|segmentsDepartureAirportCode| segmentsAirlineName|segmentsAirlineCode|segmentsEquipmentDescription|segmentsDurationInSeconds|    segmentsDistance|   segmentsCabinCode|\n",
      "+-------+--------------------+---------------+------------------+-------------+--------------+-------------------+------------------+------------------+------------------+-------------------+---------------------------------+-------------------------------+--------------------------+----------------------------+--------------------+-------------------+----------------------------+-------------------------+--------------------+--------------------+\n",
      "|  count|            82138753|       82138753|          82138753|     82138753|      82138753|           82138753|          82138753|          82138753|          82138753|           76044221|                         82138753|                       82138753|                  82138753|                    82138753|            82138753|           82138753|                    80581161|                 82138753|            82138753|            82138753|\n",
      "|   mean|            Infinity|           null|              null|         null|          null|0.14965308762357277| 292.6628527106182| 340.3868491397909| 5.976311522528228| 1609.9033457519408|              1.659846032615496E9|           1.6598569010045705E9|                      null|                        null|                null|               null|                        null|        10868.38907416397|    1080.01151040869|                null|\n",
      "| stddev|                 NaN|           null|              null|         null|          null| 0.3567567481729478|183.18878337398354|196.02950991170573|2.8805671114637614|  857.3257345475683|                4270465.930143042|              4270425.505023337|                      null|                        null|                null|               null|                        null|        5085.887365887634|   722.8982954209072|                null|\n",
      "|    min|000000fac72024c36...|            ATL|               ATL|     A0ATZNFC|           P1D|                  0|              0.01|             19.59|                 0|                 89|                       1650177000|                     1650186900|                  ABE||ATL|                         ATL|     Alaska Airlines|         4B||4B||AA|        AIRBUS INDUSTRIE ...|                    10020|          1003||1110|            business|\n",
      "|    max|ffffffc70e6f33139...|            SFO|               SFO|     ZVFHZNN3|        PT9H9M|                  2|           7662.33|           8260.61|                10|               7252|             1672034340||16720...|           1672050600||16720...|             XNA||ORD||DTW|                    TTN||RSW|United||United||U...|     UA||UA||UA||UA|         ||||Embraer EMB-145|         9960||9960||8160|None||None||None|...|premium coach||pr...|\n",
      "+-------+--------------------+---------------+------------------+-------------+--------------+-------------------+------------------+------------------+------------------+-------------------+---------------------------------+-------------------------------+--------------------------+----------------------------+--------------------+-------------------+----------------------------+-------------------------+--------------------+--------------------+\n",
      "\n"
     ]
    }
   ],
   "source": [
    "flight_df.describe().show()"
   ]
  },
  {
   "cell_type": "markdown",
   "id": "65ca192b-5c25-431f-834e-adac0bb50596",
   "metadata": {},
   "source": [
    "Missing Values"
   ]
  },
  {
   "cell_type": "code",
   "execution_count": 25,
   "id": "3ecd7a0e-2222-49e1-8d5c-f01a5a73c9f0",
   "metadata": {},
   "outputs": [
    {
     "name": "stderr",
     "output_type": "stream",
     "text": [
      "[Stage 16:=====================================================>(231 + 1) / 232]\r"
     ]
    },
    {
     "name": "stdout",
     "output_type": "stream",
     "text": [
      "+-----+----------+----------+---------------+------------------+-------------+--------------+-----------+--------------+------------+---------+--------+---------+--------------+-------------------+---------------------------------+------------------------+-------------------------------+----------------------+--------------------------+----------------------------+-------------------+-------------------+----------------------------+-------------------------+----------------+-----------------+\n",
      "|legId|searchDate|flightDate|startingAirport|destinationAirport|fareBasisCode|travelDuration|elapsedDays|isBasicEconomy|isRefundable|isNonStop|baseFare|totalFare|seatsRemaining|totalTravelDistance|segmentsDepartureTimeEpochSeconds|segmentsDepartureTimeRaw|segmentsArrivalTimeEpochSeconds|segmentsArrivalTimeRaw|segmentsArrivalAirportCode|segmentsDepartureAirportCode|segmentsAirlineName|segmentsAirlineCode|segmentsEquipmentDescription|segmentsDurationInSeconds|segmentsDistance|segmentsCabinCode|\n",
      "+-----+----------+----------+---------------+------------------+-------------+--------------+-----------+--------------+------------+---------+--------+---------+--------------+-------------------+---------------------------------+------------------------+-------------------------------+----------------------+--------------------------+----------------------------+-------------------+-------------------+----------------------------+-------------------------+----------------+-----------------+\n",
      "|    0|         0|         0|              0|                 0|            0|             0|          0|             0|           0|        0|       0|        0|             0|            6094532|                                0|                       0|                              0|                     0|                         0|                           0|                  0|                  0|                     1557592|                        0|               0|                0|\n",
      "+-----+----------+----------+---------------+------------------+-------------+--------------+-----------+--------------+------------+---------+--------+---------+--------------+-------------------+---------------------------------+------------------------+-------------------------------+----------------------+--------------------------+----------------------------+-------------------+-------------------+----------------------------+-------------------------+----------------+-----------------+\n",
      "\n"
     ]
    },
    {
     "name": "stderr",
     "output_type": "stream",
     "text": [
      "                                                                                \r"
     ]
    }
   ],
   "source": [
    "from pyspark.sql.functions import col, isnan, when, count\n",
    "\n",
    "missing_values = flight_df.select([count(when(col(c).isNull(), c)).alias(c) for c in flight_df.columns])\n",
    "missing_values.show()"
   ]
  },
  {
   "cell_type": "markdown",
   "id": "04689fc7-e8e7-4233-9507-1f97bc6004a6",
   "metadata": {},
   "source": [
    "Unique Values"
   ]
  },
  {
   "cell_type": "code",
   "execution_count": 28,
   "id": "59c6ea19-0264-4b4d-a0e1-6059114e783a",
   "metadata": {},
   "outputs": [
    {
     "name": "stderr",
     "output_type": "stream",
     "text": [
      "[Stage 21:=================================================>      (35 + 5) / 40]\r"
     ]
    },
    {
     "name": "stdout",
     "output_type": "stream",
     "text": [
      "+---------------+------------------+-------------+-----------------+\n",
      "|startingAirport|destinationAirport|fareBasisCode|segmentsCabinCode|\n",
      "+---------------+------------------+-------------+-----------------+\n",
      "|             16|                16|        21062|               71|\n",
      "+---------------+------------------+-------------+-----------------+\n",
      "\n"
     ]
    },
    {
     "name": "stderr",
     "output_type": "stream",
     "text": [
      "                                                                                \r"
     ]
    }
   ],
   "source": [
    "from pyspark.sql.functions import countDistinct, col\n",
    "\n",
    "categorical_columns = [\"startingAirport\", \"destinationAirport\", \"fareBasisCode\", \"segmentsCabinCode\"]\n",
    "unique_values = flight_df.agg(*[countDistinct(col(c)).alias(c) for c in flight_df.columns if c in categorical_columns])\n",
    "unique_values.show()"
   ]
  },
  {
   "cell_type": "markdown",
   "id": "0cc0240a-20fa-4d28-9837-a42c0503ba0b",
   "metadata": {},
   "source": [
    "Date Correlations"
   ]
  },
  {
   "cell_type": "code",
   "execution_count": null,
   "id": "f8678a4e-c618-4696-9b9c-0ac4bab58350",
   "metadata": {},
   "outputs": [
    {
     "name": "stderr",
     "output_type": "stream",
     "text": [
      "Exception in thread \"IPC Parameter Sending Thread #5\" java.lang.OutOfMemoryError: GC overhead limit exceeded\n",
      "\tat java.util.concurrent.locks.AbstractQueuedSynchronizer.enq(AbstractQueuedSynchronizer.java:587)\n",
      "\tat java.util.concurrent.locks.AbstractQueuedSynchronizer.addWaiter(AbstractQueuedSynchronizer.java:616)\n",
      "\tat java.util.concurrent.locks.AbstractQueuedSynchronizer.acquire(AbstractQueuedSynchronizer.java:1199)\n",
      "\tat java.util.concurrent.locks.ReentrantLock$NonfairSync.lock(ReentrantLock.java:209)\n",
      "\tat java.util.concurrent.locks.ReentrantLock.lock(ReentrantLock.java:285)\n",
      "\tat java.util.concurrent.ThreadPoolExecutor.processWorkerExit(ThreadPoolExecutor.java:1006)\n",
      "\tat java.util.concurrent.ThreadPoolExecutor.runWorker(ThreadPoolExecutor.java:1167)\n",
      "\tat java.util.concurrent.ThreadPoolExecutor$Worker.run(ThreadPoolExecutor.java:624)\n",
      "\tat java.lang.Thread.run(Thread.java:750)\n",
      "23/11/07 20:58:11 ERROR com.codahale.metrics.ScheduledReporter: Exception thrown from StatsdReporter#report. Exception was suppressed.\n",
      "java.lang.OutOfMemoryError: GC overhead limit exceeded\n",
      "\tat java.util.TreeMap.entrySet(TreeMap.java:889)\n",
      "\tat java.util.Collections$UnmodifiableMap.entrySet(Collections.java:1483)\n",
      "\tat org.apache.spark.metrics.sink.StatsdReporter.$anonfun$report$7(StatsdReporter.scala:76)\n",
      "\tat org.apache.spark.metrics.sink.StatsdReporter$$Lambda$1696/1749838529.apply$mcV$sp(Unknown Source)\n",
      "\tat scala.runtime.java8.JFunction0$mcV$sp.apply(JFunction0$mcV$sp.java:23)\n",
      "\tat scala.util.Try$.apply(Try.scala:213)\n",
      "\tat org.apache.spark.metrics.sink.StatsdReporter.report(StatsdReporter.scala:75)\n",
      "\tat com.codahale.metrics.ScheduledReporter.report(ScheduledReporter.java:237)\n",
      "\tat com.codahale.metrics.ScheduledReporter.lambda$start$0(ScheduledReporter.java:177)\n",
      "\tat com.codahale.metrics.ScheduledReporter$$Lambda$898/597819623.run(Unknown Source)\n",
      "\tat java.util.concurrent.Executors$RunnableAdapter.call(Executors.java:511)\n",
      "\tat java.util.concurrent.FutureTask.runAndReset(FutureTask.java:308)\n",
      "\tat java.util.concurrent.ScheduledThreadPoolExecutor$ScheduledFutureTask.access$301(ScheduledThreadPoolExecutor.java:180)\n",
      "\tat java.util.concurrent.ScheduledThreadPoolExecutor$ScheduledFutureTask.run(ScheduledThreadPoolExecutor.java:294)\n",
      "\tat java.util.concurrent.ThreadPoolExecutor.runWorker(ThreadPoolExecutor.java:1149)\n",
      "\tat java.util.concurrent.ThreadPoolExecutor$Worker.run(ThreadPoolExecutor.java:624)\n",
      "\tat java.lang.Thread.run(Thread.java:750)\n",
      "23/11/07 20:58:11 WARN org.apache.spark.HeartbeatReceiver: Removing executor 57 with no recent heartbeats: 128927 ms exceeds timeout 120000 ms\n",
      "23/11/07 20:58:11 WARN org.apache.spark.HeartbeatReceiver: Removing executor 54 with no recent heartbeats: 128817 ms exceeds timeout 120000 ms\n",
      "23/11/07 20:58:11 WARN org.apache.spark.HeartbeatReceiver: Removing executor 53 with no recent heartbeats: 134078 ms exceeds timeout 120000 ms\n",
      "23/11/07 20:58:11 WARN org.apache.spark.HeartbeatReceiver: Removing executor 56 with no recent heartbeats: 128929 ms exceeds timeout 120000 ms\n",
      "23/11/07 20:58:11 WARN org.apache.spark.HeartbeatReceiver: Removing executor 52 with no recent heartbeats: 138347 ms exceeds timeout 120000 ms\n",
      "23/11/07 20:58:11 WARN org.apache.spark.HeartbeatReceiver: Removing executor 55 with no recent heartbeats: 133780 ms exceeds timeout 120000 ms\n",
      "23/11/07 20:58:11 WARN org.apache.spark.HeartbeatReceiver: Removing executor 49 with no recent heartbeats: 128928 ms exceeds timeout 120000 ms\n",
      "23/11/07 20:58:11 WARN org.apache.spark.HeartbeatReceiver: Removing executor 58 with no recent heartbeats: 128929 ms exceeds timeout 120000 ms\n",
      "23/11/07 20:58:11 ERROR org.apache.spark.scheduler.cluster.YarnScheduler: Lost executor 58 on hub-msca-bdp-dphub-students-rcsurridge-w-1.c.msca-bdp-student-ap.internal: Executor heartbeat timed out after 128929 ms\n"
     ]
    },
    {
     "ename": "Py4JJavaError",
     "evalue": "An error occurred while calling o838.collectToPython.\n: java.lang.OutOfMemoryError: GC overhead limit exceeded\n",
     "output_type": "error",
     "traceback": [
      "\u001b[0;31m---------------------------------------------------------------------------\u001b[0m",
      "\u001b[0;31mPy4JJavaError\u001b[0m                             Traceback (most recent call last)",
      "Cell \u001b[0;32mIn[29], line 2\u001b[0m\n\u001b[1;32m      1\u001b[0m numerical_columns \u001b[38;5;241m=\u001b[39m [\u001b[38;5;124m\"\u001b[39m\u001b[38;5;124mtravelDuration\u001b[39m\u001b[38;5;124m\"\u001b[39m, \u001b[38;5;124m\"\u001b[39m\u001b[38;5;124melapsedDays\u001b[39m\u001b[38;5;124m\"\u001b[39m, \u001b[38;5;124m\"\u001b[39m\u001b[38;5;124mbaseFare\u001b[39m\u001b[38;5;124m\"\u001b[39m, \u001b[38;5;124m\"\u001b[39m\u001b[38;5;124mtotalFare\u001b[39m\u001b[38;5;124m\"\u001b[39m, \u001b[38;5;124m\"\u001b[39m\u001b[38;5;124mseatsRemaining\u001b[39m\u001b[38;5;124m\"\u001b[39m, \u001b[38;5;124m\"\u001b[39m\u001b[38;5;124mtotalTravelDistance\u001b[39m\u001b[38;5;124m\"\u001b[39m]\n\u001b[0;32m----> 2\u001b[0m correlation_matrix \u001b[38;5;241m=\u001b[39m \u001b[43mflight_df\u001b[49m\u001b[38;5;241;43m.\u001b[39;49m\u001b[43mselect\u001b[49m\u001b[43m(\u001b[49m\u001b[38;5;241;43m*\u001b[39;49m\u001b[43mnumerical_columns\u001b[49m\u001b[43m)\u001b[49m\u001b[38;5;241;43m.\u001b[39;49m\u001b[43mtoPandas\u001b[49m\u001b[43m(\u001b[49m\u001b[43m)\u001b[49m\u001b[38;5;241m.\u001b[39mcorr()\n",
      "File \u001b[0;32m/usr/lib/spark/python/pyspark/sql/pandas/conversion.py:141\u001b[0m, in \u001b[0;36mPandasConversionMixin.toPandas\u001b[0;34m(self)\u001b[0m\n\u001b[1;32m    138\u001b[0m             \u001b[38;5;28;01mraise\u001b[39;00m\n\u001b[1;32m    140\u001b[0m \u001b[38;5;66;03m# Below is toPandas without Arrow optimization.\u001b[39;00m\n\u001b[0;32m--> 141\u001b[0m pdf \u001b[38;5;241m=\u001b[39m pd\u001b[38;5;241m.\u001b[39mDataFrame\u001b[38;5;241m.\u001b[39mfrom_records(\u001b[38;5;28;43mself\u001b[39;49m\u001b[38;5;241;43m.\u001b[39;49m\u001b[43mcollect\u001b[49m\u001b[43m(\u001b[49m\u001b[43m)\u001b[49m, columns\u001b[38;5;241m=\u001b[39m\u001b[38;5;28mself\u001b[39m\u001b[38;5;241m.\u001b[39mcolumns)\n\u001b[1;32m    142\u001b[0m column_counter \u001b[38;5;241m=\u001b[39m Counter(\u001b[38;5;28mself\u001b[39m\u001b[38;5;241m.\u001b[39mcolumns)\n\u001b[1;32m    144\u001b[0m dtype \u001b[38;5;241m=\u001b[39m [\u001b[38;5;28;01mNone\u001b[39;00m] \u001b[38;5;241m*\u001b[39m \u001b[38;5;28mlen\u001b[39m(\u001b[38;5;28mself\u001b[39m\u001b[38;5;241m.\u001b[39mschema)\n",
      "File \u001b[0;32m/usr/lib/spark/python/pyspark/sql/dataframe.py:677\u001b[0m, in \u001b[0;36mDataFrame.collect\u001b[0;34m(self)\u001b[0m\n\u001b[1;32m    667\u001b[0m \u001b[38;5;250m\u001b[39m\u001b[38;5;124;03m\"\"\"Returns all the records as a list of :class:`Row`.\u001b[39;00m\n\u001b[1;32m    668\u001b[0m \n\u001b[1;32m    669\u001b[0m \u001b[38;5;124;03m.. versionadded:: 1.3.0\u001b[39;00m\n\u001b[0;32m   (...)\u001b[0m\n\u001b[1;32m    674\u001b[0m \u001b[38;5;124;03m[Row(age=2, name='Alice'), Row(age=5, name='Bob')]\u001b[39;00m\n\u001b[1;32m    675\u001b[0m \u001b[38;5;124;03m\"\"\"\u001b[39;00m\n\u001b[1;32m    676\u001b[0m \u001b[38;5;28;01mwith\u001b[39;00m SCCallSiteSync(\u001b[38;5;28mself\u001b[39m\u001b[38;5;241m.\u001b[39m_sc) \u001b[38;5;28;01mas\u001b[39;00m css:\n\u001b[0;32m--> 677\u001b[0m     sock_info \u001b[38;5;241m=\u001b[39m \u001b[38;5;28;43mself\u001b[39;49m\u001b[38;5;241;43m.\u001b[39;49m\u001b[43m_jdf\u001b[49m\u001b[38;5;241;43m.\u001b[39;49m\u001b[43mcollectToPython\u001b[49m\u001b[43m(\u001b[49m\u001b[43m)\u001b[49m\n\u001b[1;32m    678\u001b[0m \u001b[38;5;28;01mreturn\u001b[39;00m \u001b[38;5;28mlist\u001b[39m(_load_from_socket(sock_info, BatchedSerializer(PickleSerializer())))\n",
      "File \u001b[0;32m/usr/lib/spark/python/lib/py4j-0.10.9-src.zip/py4j/java_gateway.py:1304\u001b[0m, in \u001b[0;36mJavaMember.__call__\u001b[0;34m(self, *args)\u001b[0m\n\u001b[1;32m   1298\u001b[0m command \u001b[38;5;241m=\u001b[39m proto\u001b[38;5;241m.\u001b[39mCALL_COMMAND_NAME \u001b[38;5;241m+\u001b[39m\\\n\u001b[1;32m   1299\u001b[0m     \u001b[38;5;28mself\u001b[39m\u001b[38;5;241m.\u001b[39mcommand_header \u001b[38;5;241m+\u001b[39m\\\n\u001b[1;32m   1300\u001b[0m     args_command \u001b[38;5;241m+\u001b[39m\\\n\u001b[1;32m   1301\u001b[0m     proto\u001b[38;5;241m.\u001b[39mEND_COMMAND_PART\n\u001b[1;32m   1303\u001b[0m answer \u001b[38;5;241m=\u001b[39m \u001b[38;5;28mself\u001b[39m\u001b[38;5;241m.\u001b[39mgateway_client\u001b[38;5;241m.\u001b[39msend_command(command)\n\u001b[0;32m-> 1304\u001b[0m return_value \u001b[38;5;241m=\u001b[39m \u001b[43mget_return_value\u001b[49m\u001b[43m(\u001b[49m\n\u001b[1;32m   1305\u001b[0m \u001b[43m    \u001b[49m\u001b[43manswer\u001b[49m\u001b[43m,\u001b[49m\u001b[43m \u001b[49m\u001b[38;5;28;43mself\u001b[39;49m\u001b[38;5;241;43m.\u001b[39;49m\u001b[43mgateway_client\u001b[49m\u001b[43m,\u001b[49m\u001b[43m \u001b[49m\u001b[38;5;28;43mself\u001b[39;49m\u001b[38;5;241;43m.\u001b[39;49m\u001b[43mtarget_id\u001b[49m\u001b[43m,\u001b[49m\u001b[43m \u001b[49m\u001b[38;5;28;43mself\u001b[39;49m\u001b[38;5;241;43m.\u001b[39;49m\u001b[43mname\u001b[49m\u001b[43m)\u001b[49m\n\u001b[1;32m   1307\u001b[0m \u001b[38;5;28;01mfor\u001b[39;00m temp_arg \u001b[38;5;129;01min\u001b[39;00m temp_args:\n\u001b[1;32m   1308\u001b[0m     temp_arg\u001b[38;5;241m.\u001b[39m_detach()\n",
      "File \u001b[0;32m/usr/lib/spark/python/pyspark/sql/utils.py:111\u001b[0m, in \u001b[0;36mcapture_sql_exception.<locals>.deco\u001b[0;34m(*a, **kw)\u001b[0m\n\u001b[1;32m    109\u001b[0m \u001b[38;5;28;01mdef\u001b[39;00m \u001b[38;5;21mdeco\u001b[39m(\u001b[38;5;241m*\u001b[39ma, \u001b[38;5;241m*\u001b[39m\u001b[38;5;241m*\u001b[39mkw):\n\u001b[1;32m    110\u001b[0m     \u001b[38;5;28;01mtry\u001b[39;00m:\n\u001b[0;32m--> 111\u001b[0m         \u001b[38;5;28;01mreturn\u001b[39;00m \u001b[43mf\u001b[49m\u001b[43m(\u001b[49m\u001b[38;5;241;43m*\u001b[39;49m\u001b[43ma\u001b[49m\u001b[43m,\u001b[49m\u001b[43m \u001b[49m\u001b[38;5;241;43m*\u001b[39;49m\u001b[38;5;241;43m*\u001b[39;49m\u001b[43mkw\u001b[49m\u001b[43m)\u001b[49m\n\u001b[1;32m    112\u001b[0m     \u001b[38;5;28;01mexcept\u001b[39;00m py4j\u001b[38;5;241m.\u001b[39mprotocol\u001b[38;5;241m.\u001b[39mPy4JJavaError \u001b[38;5;28;01mas\u001b[39;00m e:\n\u001b[1;32m    113\u001b[0m         converted \u001b[38;5;241m=\u001b[39m convert_exception(e\u001b[38;5;241m.\u001b[39mjava_exception)\n",
      "File \u001b[0;32m/usr/lib/spark/python/lib/py4j-0.10.9-src.zip/py4j/protocol.py:326\u001b[0m, in \u001b[0;36mget_return_value\u001b[0;34m(answer, gateway_client, target_id, name)\u001b[0m\n\u001b[1;32m    324\u001b[0m value \u001b[38;5;241m=\u001b[39m OUTPUT_CONVERTER[\u001b[38;5;28mtype\u001b[39m](answer[\u001b[38;5;241m2\u001b[39m:], gateway_client)\n\u001b[1;32m    325\u001b[0m \u001b[38;5;28;01mif\u001b[39;00m answer[\u001b[38;5;241m1\u001b[39m] \u001b[38;5;241m==\u001b[39m REFERENCE_TYPE:\n\u001b[0;32m--> 326\u001b[0m     \u001b[38;5;28;01mraise\u001b[39;00m Py4JJavaError(\n\u001b[1;32m    327\u001b[0m         \u001b[38;5;124m\"\u001b[39m\u001b[38;5;124mAn error occurred while calling \u001b[39m\u001b[38;5;132;01m{0}\u001b[39;00m\u001b[38;5;132;01m{1}\u001b[39;00m\u001b[38;5;132;01m{2}\u001b[39;00m\u001b[38;5;124m.\u001b[39m\u001b[38;5;130;01m\\n\u001b[39;00m\u001b[38;5;124m\"\u001b[39m\u001b[38;5;241m.\u001b[39m\n\u001b[1;32m    328\u001b[0m         \u001b[38;5;28mformat\u001b[39m(target_id, \u001b[38;5;124m\"\u001b[39m\u001b[38;5;124m.\u001b[39m\u001b[38;5;124m\"\u001b[39m, name), value)\n\u001b[1;32m    329\u001b[0m \u001b[38;5;28;01melse\u001b[39;00m:\n\u001b[1;32m    330\u001b[0m     \u001b[38;5;28;01mraise\u001b[39;00m Py4JError(\n\u001b[1;32m    331\u001b[0m         \u001b[38;5;124m\"\u001b[39m\u001b[38;5;124mAn error occurred while calling \u001b[39m\u001b[38;5;132;01m{0}\u001b[39;00m\u001b[38;5;132;01m{1}\u001b[39;00m\u001b[38;5;132;01m{2}\u001b[39;00m\u001b[38;5;124m. Trace:\u001b[39m\u001b[38;5;130;01m\\n\u001b[39;00m\u001b[38;5;132;01m{3}\u001b[39;00m\u001b[38;5;130;01m\\n\u001b[39;00m\u001b[38;5;124m\"\u001b[39m\u001b[38;5;241m.\u001b[39m\n\u001b[1;32m    332\u001b[0m         \u001b[38;5;28mformat\u001b[39m(target_id, \u001b[38;5;124m\"\u001b[39m\u001b[38;5;124m.\u001b[39m\u001b[38;5;124m\"\u001b[39m, name, value))\n",
      "\u001b[0;31mPy4JJavaError\u001b[0m: An error occurred while calling o838.collectToPython.\n: java.lang.OutOfMemoryError: GC overhead limit exceeded\n"
     ]
    }
   ],
   "source": [
    "numerical_columns = [\"travelDuration\", \"elapsedDays\", \"baseFare\", \"totalFare\", \"seatsRemaining\", \"totalTravelDistance\"]\n",
    "correlation_matrix = flight_df.select(*numerical_columns).toPandas().corr()"
   ]
  },
  {
   "cell_type": "markdown",
   "id": "2fb14287-8218-4433-ac15-4f79d11233be",
   "metadata": {},
   "source": [
    "Histogram of baseFare Distribution"
   ]
  },
  {
   "cell_type": "code",
   "execution_count": null,
   "id": "fd4e6146-1372-4b12-97be-2e8ed26b3ead",
   "metadata": {},
   "outputs": [
    {
     "name": "stderr",
     "output_type": "stream",
     "text": [
      "                                                                                \r"
     ]
    }
   ],
   "source": [
    "import matplotlib.pyplot as plt\n",
    "import seaborn as sns\n",
    "\n",
    "pandas_df = flight_df.select(\"baseFare\").toPandas()\n",
    "\n",
    "# Plot a histogram of the 'baseFare' column\n",
    "plt.figure(figsize=(8, 6))\n",
    "sns.histplot(pandas_df['baseFare'], bins=20, kde=True)\n",
    "plt.title(\"Distribution of Base Fare\")\n",
    "plt.xlabel(\"Base Fare\")\n",
    "plt.ylabel(\"Frequency\")\n",
    "plt.show()"
   ]
  },
  {
   "cell_type": "markdown",
   "id": "6ba496a0-9083-4913-9d20-15706a70de58",
   "metadata": {},
   "source": [
    "Box Plot of totalFare by isBasicEconomy"
   ]
  },
  {
   "cell_type": "code",
   "execution_count": null,
   "id": "033cdbb8-d1d4-4084-b101-1ab9e6d057fe",
   "metadata": {},
   "outputs": [],
   "source": [
    "pandas_df = flight_df.select(\"isBasicEconomy\", \"totalFare\").toPandas()\n",
    "\n",
    "# Plot a box plot of 'totalFare' by 'isBasicEconomy'\n",
    "plt.figure(figsize=(8, 6))\n",
    "sns.boxplot(data=pandas_df, x=\"isBasicEconomy\", y=\"totalFare\")\n",
    "plt.title(\"Total Fare by Basic Economy\")\n",
    "plt.xlabel(\"Is Basic Economy\")\n",
    "plt.ylabel(\"Total Fare\")\n",
    "plt.show()"
   ]
  },
  {
   "cell_type": "markdown",
   "id": "a4323041-8a75-442d-9093-c2d08fae8e52",
   "metadata": {},
   "source": [
    "Scatter Plot of totalTravelDistance vs. travelDuration"
   ]
  },
  {
   "cell_type": "code",
   "execution_count": null,
   "id": "094c80ff-68ee-45c9-b89b-f84c31595cab",
   "metadata": {},
   "outputs": [],
   "source": [
    "pandas_df = flight_df.select(\"totalTravelDistance\", \"travelDuration\").toPandas()\n",
    "\n",
    "# Plot a scatter plot of 'totalTravelDistance' vs. 'travelDuration'\n",
    "plt.figure(figsize=(8, 6))\n",
    "plt.scatter(pandas_df['totalTravelDistance'], pandas_df['travelDuration'], alpha=0.5)\n",
    "plt.title(\"Total Travel Distance vs. Travel Duration\")\n",
    "plt.xlabel(\"Total Travel Distance\")\n",
    "plt.ylabel(\"Travel Duration\")\n",
    "plt.show()"
   ]
  },
  {
   "cell_type": "code",
   "execution_count": null,
   "id": "936cdff5-f8fd-45b8-8548-43d15565d4e0",
   "metadata": {},
   "outputs": [],
   "source": []
  }
 ],
 "metadata": {
  "kernelspec": {
   "display_name": "PySpark",
   "language": "python",
   "name": "pyspark"
  },
  "language_info": {
   "codemirror_mode": {
    "name": "ipython",
    "version": 3
   },
   "file_extension": ".py",
   "mimetype": "text/x-python",
   "name": "python",
   "nbconvert_exporter": "python",
   "pygments_lexer": "ipython3",
   "version": "3.8.15"
  }
 },
 "nbformat": 4,
 "nbformat_minor": 5
}
