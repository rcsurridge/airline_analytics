{
 "cells": [
  {
   "cell_type": "code",
   "execution_count": 1,
   "id": "0e6aeb75-4215-4a44-b719-f9308b85bce4",
   "metadata": {},
   "outputs": [],
   "source": [
    "from pyspark.sql import functions as F\n",
    "from pyspark.sql.functions import *\n",
    "from pyspark.sql.types import *\n",
    "import pandas as pd\n",
    "import numpy as np\n",
    "from pyspark.sql import SparkSession\n",
    "import matplotlib.pyplot as plt\n",
    "import seaborn as sns"
   ]
  },
  {
   "cell_type": "code",
   "execution_count": 2,
   "id": "ebf403dd-5d88-441d-b9ba-4798f1a27a1c",
   "metadata": {},
   "outputs": [
    {
     "data": {
      "text/html": [
       "\n",
       "        <div>\n",
       "            <p><b>SparkContext</b></p>\n",
       "\n",
       "            <p><a href=\"http://hub-msca-bdp-dphub-students-rcsurridge-m.c.msca-bdp-student-ap.internal:42045\">Spark UI</a></p>\n",
       "\n",
       "            <dl>\n",
       "              <dt>Version</dt>\n",
       "                <dd><code>v3.1.3</code></dd>\n",
       "              <dt>Master</dt>\n",
       "                <dd><code>yarn</code></dd>\n",
       "              <dt>AppName</dt>\n",
       "                <dd><code>PySparkShell</code></dd>\n",
       "            </dl>\n",
       "        </div>\n",
       "        "
      ],
      "text/plain": [
       "<SparkContext master=yarn appName=PySparkShell>"
      ]
     },
     "execution_count": 2,
     "metadata": {},
     "output_type": "execute_result"
    }
   ],
   "source": [
    "spark = SparkSession.builder.appName(\"AirlineFlightPrep\").getOrCreate() \n",
    "spark.sparkContext"
   ]
  },
  {
   "cell_type": "code",
   "execution_count": 3,
   "id": "13fe6c27-25cb-4765-b65e-1c84de591e0d",
   "metadata": {},
   "outputs": [
    {
     "name": "stderr",
     "output_type": "stream",
     "text": [
      "                                                                                \r"
     ]
    }
   ],
   "source": [
    "price_df = spark.read.parquet(\"gs://msca-bdp-student-gcs/Group7_Final_Project/flight_pricing/itineraries.parquet\", \n",
    "                                     header = True, inferSchema = True)"
   ]
  },
  {
   "cell_type": "code",
   "execution_count": 4,
   "id": "6ba86309-caf8-4521-8994-aa2e0914bbf6",
   "metadata": {},
   "outputs": [
    {
     "name": "stderr",
     "output_type": "stream",
     "text": [
      "23/11/15 20:11:32 WARN org.apache.spark.sql.catalyst.util.package: Truncated the string representation of a plan since it was too large. This behavior can be adjusted by setting 'spark.sql.debug.maxToStringFields'.\n",
      "[Stage 1:>                                                          (0 + 1) / 1]\r"
     ]
    },
    {
     "name": "stdout",
     "output_type": "stream",
     "text": [
      "+--------------------+----------+----------+---------------+------------------+-------------+--------------+-----------+--------------+------------+---------+--------+---------+--------------+-------------------+---------------------------------+------------------------+-------------------------------+----------------------+--------------------------+----------------------------+--------------------+-------------------+----------------------------+-------------------------+----------------+-----------------+\n",
      "|               legId|searchDate|flightDate|startingAirport|destinationAirport|fareBasisCode|travelDuration|elapsedDays|isBasicEconomy|isRefundable|isNonStop|baseFare|totalFare|seatsRemaining|totalTravelDistance|segmentsDepartureTimeEpochSeconds|segmentsDepartureTimeRaw|segmentsArrivalTimeEpochSeconds|segmentsArrivalTimeRaw|segmentsArrivalAirportCode|segmentsDepartureAirportCode| segmentsAirlineName|segmentsAirlineCode|segmentsEquipmentDescription|segmentsDurationInSeconds|segmentsDistance|segmentsCabinCode|\n",
      "+--------------------+----------+----------+---------------+------------------+-------------+--------------+-----------+--------------+------------+---------+--------+---------+--------------+-------------------+---------------------------------+------------------------+-------------------------------+----------------------+--------------------------+----------------------------+--------------------+-------------------+----------------------------+-------------------------+----------------+-----------------+\n",
      "|8ed6dd65e00f159d7...|2022-05-13|2022-05-29|            LAX|               ORD|       RA14NR|      PT13H55M|          1|         false|       false|    false|   346.0|   453.58|             0|               null|             1653891480||16539...|    2022-05-29T23:18:...|           1653907200||16539...|  2022-05-30T06:40:...|                  ATL||ORD|                    LAX||ATL|Spirit Airlines||...|             NK||NK|               ||Airbus A319|              15720||7680|      None||None|     coach||coach|\n",
      "+--------------------+----------+----------+---------------+------------------+-------------+--------------+-----------+--------------+------------+---------+--------+---------+--------------+-------------------+---------------------------------+------------------------+-------------------------------+----------------------+--------------------------+----------------------------+--------------------+-------------------+----------------------------+-------------------------+----------------+-----------------+\n",
      "only showing top 1 row\n",
      "\n"
     ]
    },
    {
     "name": "stderr",
     "output_type": "stream",
     "text": [
      "                                                                                \r"
     ]
    }
   ],
   "source": [
    "price_df.show(1)"
   ]
  },
  {
   "cell_type": "code",
   "execution_count": 5,
   "id": "240e7c8e-de6c-450d-a392-44d647e79b5b",
   "metadata": {},
   "outputs": [
    {
     "name": "stdout",
     "output_type": "stream",
     "text": [
      "root\n",
      " |-- legId: string (nullable = true)\n",
      " |-- searchDate: string (nullable = true)\n",
      " |-- flightDate: string (nullable = true)\n",
      " |-- startingAirport: string (nullable = true)\n",
      " |-- destinationAirport: string (nullable = true)\n",
      " |-- fareBasisCode: string (nullable = true)\n",
      " |-- travelDuration: string (nullable = true)\n",
      " |-- elapsedDays: integer (nullable = true)\n",
      " |-- isBasicEconomy: boolean (nullable = true)\n",
      " |-- isRefundable: boolean (nullable = true)\n",
      " |-- isNonStop: boolean (nullable = true)\n",
      " |-- baseFare: double (nullable = true)\n",
      " |-- totalFare: double (nullable = true)\n",
      " |-- seatsRemaining: integer (nullable = true)\n",
      " |-- totalTravelDistance: integer (nullable = true)\n",
      " |-- segmentsDepartureTimeEpochSeconds: string (nullable = true)\n",
      " |-- segmentsDepartureTimeRaw: string (nullable = true)\n",
      " |-- segmentsArrivalTimeEpochSeconds: string (nullable = true)\n",
      " |-- segmentsArrivalTimeRaw: string (nullable = true)\n",
      " |-- segmentsArrivalAirportCode: string (nullable = true)\n",
      " |-- segmentsDepartureAirportCode: string (nullable = true)\n",
      " |-- segmentsAirlineName: string (nullable = true)\n",
      " |-- segmentsAirlineCode: string (nullable = true)\n",
      " |-- segmentsEquipmentDescription: string (nullable = true)\n",
      " |-- segmentsDurationInSeconds: string (nullable = true)\n",
      " |-- segmentsDistance: string (nullable = true)\n",
      " |-- segmentsCabinCode: string (nullable = true)\n",
      "\n"
     ]
    }
   ],
   "source": [
    "price_df.printSchema()"
   ]
  },
  {
   "cell_type": "code",
   "execution_count": 6,
   "id": "fd8c5d62-7a27-45e7-811e-39d953dd5f45",
   "metadata": {},
   "outputs": [],
   "source": [
    "price_df = price_df.drop(\"legId\", \"searchDate\")"
   ]
  },
  {
   "cell_type": "code",
   "execution_count": 7,
   "id": "a16770dc-2a48-46a9-8e2d-808d8532bab5",
   "metadata": {},
   "outputs": [],
   "source": [
    "price_df = (price_df.withColumnRenamed('flightDate', 'flight_date')\n",
    "                    .withColumnRenamed('startingAirport', 'origin')\n",
    "                    .withColumnRenamed('destinationAirport', 'destination')\n",
    "                    .withColumnRenamed('fareBasisCode', 'fare_basis_code')\n",
    "                    .withColumnRenamed('travelDuration', 'travel_duration')\n",
    "                    .withColumnRenamed('elapsedDays', 'elapsed_days')\n",
    "                    .withColumnRenamed('isBasicEconomy', 'is_basic_economy')\n",
    "                    .withColumnRenamed('isRefundable', 'is_refundable')\n",
    "                    .withColumnRenamed('isNonStop', 'is_nonstop')\n",
    "                    .withColumnRenamed('baseFare', 'base_fare')\n",
    "                    .withColumnRenamed('totalFare', 'total_fare')\n",
    "                    .withColumnRenamed('seatsRemaining', 'seats_remaining')\n",
    "                    .withColumnRenamed('totalTravelDistance', 'total_distance')\n",
    "                    .withColumnRenamed('segmentsDepartureTimeEpochSeconds','departure_time_seconds')\n",
    "                    .withColumnRenamed('segmentsDepartureTimeRaw', 'departure_time')\n",
    "                    .withColumnRenamed('segmentsArrivalTimeEpochSeconds','arrival_time_seconds')\n",
    "                    .withColumnRenamed('segmentsArrivalTimeRaw', 'arrival_time')\n",
    "                    .withColumnRenamed('segmentsArrivalAirportCode', 'arrival_airport')\n",
    "                    .withColumnRenamed('segmentsDepartureAirportCode', 'departure_airport')\n",
    "                    .withColumnRenamed('segmentsAirlineName', 'airline_name')\n",
    "                    .withColumnRenamed('segmentsAirlineCode', 'airline_code')\n",
    "                    .withColumnRenamed('segmentsEquipmentDescription', 'equipment_description')\n",
    "                    .withColumnRenamed('segmentsDurationInSeconds', 'duration_seconds')\n",
    "                    .withColumnRenamed('segmentsDistance', 'distance')\n",
    "                    .withColumnRenamed('segmentsCabinCode', 'cabin_code'))"
   ]
  },
  {
   "cell_type": "code",
   "execution_count": 8,
   "id": "0b2299d7-6bd3-4a79-9230-1e90f102f79c",
   "metadata": {},
   "outputs": [],
   "source": [
    "price_df = price_df.withColumn(\"flight_date\", to_date(price_df[\"flight_date\"], \"yyyy-MM-dd\"))"
   ]
  },
  {
   "cell_type": "code",
   "execution_count": 9,
   "id": "13a03b4b-09d5-41af-bbea-1e6878df87c2",
   "metadata": {},
   "outputs": [
    {
     "name": "stderr",
     "output_type": "stream",
     "text": [
      "[Stage 2:>                                                          (0 + 1) / 1]\r"
     ]
    },
    {
     "name": "stdout",
     "output_type": "stream",
     "text": [
      "+-----------+------+-----------+---------------+---------------+------------+----------------+-------------+----------+---------+----------+---------------+--------------+----------------------+--------------------+--------------------+--------------------+---------------+-----------------+--------------------+------------+---------------------+----------------+----------+------------+-----------+------------+----------+\n",
      "|flight_date|origin|destination|fare_basis_code|travel_duration|elapsed_days|is_basic_economy|is_refundable|is_nonstop|base_fare|total_fare|seats_remaining|total_distance|departure_time_seconds|      departure_time|arrival_time_seconds|        arrival_time|arrival_airport|departure_airport|        airline_name|airline_code|equipment_description|duration_seconds|  distance|  cabin_code|flight_year|flight_month|flight_day|\n",
      "+-----------+------+-----------+---------------+---------------+------------+----------------+-------------+----------+---------+----------+---------------+--------------+----------------------+--------------------+--------------------+--------------------+---------------+-----------------+--------------------+------------+---------------------+----------------+----------+------------+-----------+------------+----------+\n",
      "| 2022-05-29|   LAX|        ORD|         RA14NR|       PT13H55M|           1|           false|        false|     false|    346.0|    453.58|              0|          null|  1653891480||16539...|2022-05-29T23:18:...|1653907200||16539...|2022-05-30T06:40:...|       ATL||ORD|         LAX||ATL|Spirit Airlines||...|      NK||NK|        ||Airbus A319|     15720||7680|None||None|coach||coach|       2022|           5|        29|\n",
      "+-----------+------+-----------+---------------+---------------+------------+----------------+-------------+----------+---------+----------+---------------+--------------+----------------------+--------------------+--------------------+--------------------+---------------+-----------------+--------------------+------------+---------------------+----------------+----------+------------+-----------+------------+----------+\n",
      "only showing top 1 row\n",
      "\n"
     ]
    },
    {
     "name": "stderr",
     "output_type": "stream",
     "text": [
      "                                                                                \r"
     ]
    }
   ],
   "source": [
    "price_df = price_df.withColumn(\"flight_year\", year(col(\"flight_date\")))\n",
    "price_df = price_df.withColumn(\"flight_month\", month(col(\"flight_date\")))\n",
    "price_df = price_df.withColumn(\"flight_day\", dayofmonth(col(\"flight_date\")))\n",
    "\n",
    "price_df.show(1)"
   ]
  },
  {
   "cell_type": "code",
   "execution_count": 35,
   "id": "c15c5a65-dfc0-4017-bfec-3923eab7f562",
   "metadata": {},
   "outputs": [
    {
     "name": "stderr",
     "output_type": "stream",
     "text": [
      "[Stage 116:>                                                        (0 + 1) / 1]\r"
     ]
    },
    {
     "name": "stdout",
     "output_type": "stream",
     "text": [
      "+-----------+------+-----------+---------------+---------------+------------+----------------+-------------+----------+---------+----------+---------------+--------------+----------------------+--------------------+--------------------+--------------------+---------------+-----------------+--------------------+------------+---------------------+----------------+----------+------------+-----------+------------+----------+-----------------------+-----------------------+\n",
      "|flight_date|origin|destination|fare_basis_code|travel_duration|elapsed_days|is_basic_economy|is_refundable|is_nonstop|base_fare|total_fare|seats_remaining|total_distance|departure_time_seconds|      departure_time|arrival_time_seconds|        arrival_time|arrival_airport|departure_airport|        airline_name|airline_code|equipment_description|duration_seconds|  distance|  cabin_code|flight_year|flight_month|flight_day|travel_duration_minutes|travel_duration_seconds|\n",
      "+-----------+------+-----------+---------------+---------------+------------+----------------+-------------+----------+---------+----------+---------------+--------------+----------------------+--------------------+--------------------+--------------------+---------------+-----------------+--------------------+------------+---------------------+----------------+----------+------------+-----------+------------+----------+-----------------------+-----------------------+\n",
      "| 2022-05-29|   LAX|        ORD|         RA14NR|       PT13H55M|           1|           false|        false|     false|    346.0|    453.58|              0|          null|  1653891480||16539...|2022-05-29T23:18:...|1653907200||16539...|2022-05-30T06:40:...|       ATL||ORD|         LAX||ATL|Spirit Airlines||...|      NK||NK|        ||Airbus A319|     15720||7680|None||None|coach||coach|       2022|           5|        29|                    835|                  50100|\n",
      "+-----------+------+-----------+---------------+---------------+------------+----------------+-------------+----------+---------+----------+---------------+--------------+----------------------+--------------------+--------------------+--------------------+---------------+-----------------+--------------------+------------+---------------------+----------------+----------+------------+-----------+------------+----------+-----------------------+-----------------------+\n",
      "only showing top 1 row\n",
      "\n"
     ]
    },
    {
     "name": "stderr",
     "output_type": "stream",
     "text": [
      "                                                                                \r"
     ]
    }
   ],
   "source": [
    "from pyspark.sql import functions as F\n",
    "from pyspark.sql.types import IntegerType\n",
    "\n",
    "# Define UDF for minutes\n",
    "@F.pandas_udf(IntegerType())\n",
    "def parse_iso8601_duration_minutes(str_duration: pd.Series) -> pd.Series:\n",
    "    return str_duration.apply(lambda duration: 1440 + pd.Timedelta(duration).seconds // 60 if duration.startswith('P1D') else pd.Timedelta(duration).seconds // 60)\n",
    "\n",
    "# Define UDF for seconds\n",
    "@F.pandas_udf(IntegerType())\n",
    "def parse_iso8601_duration_seconds(str_duration: pd.Series) -> pd.Series:\n",
    "    return str_duration.apply(lambda duration: 86400 if duration.startswith('P1D') else pd.Timedelta(duration).seconds)\n",
    "\n",
    "# Apply UDFs to create new columns\n",
    "price_df = price_df.withColumn(\"travel_duration_minutes\", parse_iso8601_duration_minutes(F.col(\"travel_duration\")))\n",
    "price_df = price_df.withColumn(\"travel_duration_seconds\", parse_iso8601_duration_seconds(F.col(\"travel_duration\")))\n",
    "\n",
    "# Show the updated DataFrame\n",
    "price_df.show(1)"
   ]
  },
  {
   "cell_type": "code",
   "execution_count": 52,
   "id": "1fbc7b62-f2ef-4f83-8056-b1b87ce4748a",
   "metadata": {},
   "outputs": [
    {
     "name": "stderr",
     "output_type": "stream",
     "text": [
      "[Stage 182:>                                                        (0 + 1) / 1]\r"
     ]
    },
    {
     "name": "stdout",
     "output_type": "stream",
     "text": [
      "+-----------+------+-----------+---------------+---------------+------------+----------------+-------------+----------+---------+----------+---------------+--------------+----------------------+--------------------+--------------------+--------------------+---------------+-----------------+--------------------+------------+---------------------+----------------+----------+------------+-----------+------------+----------+-----------------------+-----------------------+---------+\n",
      "|flight_date|origin|destination|fare_basis_code|travel_duration|elapsed_days|is_basic_economy|is_refundable|is_nonstop|base_fare|total_fare|seats_remaining|total_distance|departure_time_seconds|      departure_time|arrival_time_seconds|        arrival_time|arrival_airport|departure_airport|        airline_name|airline_code|equipment_description|duration_seconds|  distance|  cabin_code|flight_year|flight_month|flight_day|travel_duration_minutes|travel_duration_seconds|num_stops|\n",
      "+-----------+------+-----------+---------------+---------------+------------+----------------+-------------+----------+---------+----------+---------------+--------------+----------------------+--------------------+--------------------+--------------------+---------------+-----------------+--------------------+------------+---------------------+----------------+----------+------------+-----------+------------+----------+-----------------------+-----------------------+---------+\n",
      "| 2022-05-29|   LAX|        ORD|         RA14NR|       PT13H55M|           1|           false|        false|     false|    346.0|    453.58|              0|          null|  1653891480||16539...|2022-05-29T23:18:...|1653907200||16539...|2022-05-30T06:40:...|       ATL||ORD|         LAX||ATL|Spirit Airlines||...|      NK||NK|        ||Airbus A319|     15720||7680|None||None|coach||coach|       2022|           5|        29|                    835|                  50100|        1|\n",
      "| 2022-05-29|   LAX|        ORD|       QH7OAVMN|        PT6H44M|           0|           false|        false|     false|   407.44|     461.6|              3|          2206|  1653837600||16538...|2022-05-29T08:20:...|1653848700||16538...|2022-05-29T13:25:...|       AUS||ORD|         LAX||AUS|Alaska Airlines||...|      AS||UA| Embraer 175||Airb...|     11100||9840| 1236||970|coach||coach|       2022|           5|        29|                    404|                  24240|        1|\n",
      "| 2022-05-29|   LAX|        ORD|       MATOA0MQ|        PT6H12M|           0|           false|        false|     false|   432.56|     488.6|              9|          1810|  1653856800||16538...|2022-05-29T13:40:...|1653862920||16538...|2022-05-29T16:22:...|       SLC||ORD|         ONT||SLC|        Delta||Delta|      DL||DL|     Boeing 737-800|||     6120||11220| 559||1251|coach||coach|       2022|           5|        29|                    372|                  22320|        1|\n",
      "| 2022-05-29|   LAX|        ORD|       LH4OASMN|       PT13H12M|           1|           false|        false|     false|   444.65|     507.2|              4|          2681|  1653883380||16539...|2022-05-29T21:03:...|1653892980||16539...|2022-05-29T23:43:...|       SEA||ORD|         ONT||SEA|Alaska Airlines||...|      AS||AS| Boeing 737-900||B...|     9600||15000| 958||1723|coach||coach|       2022|           5|        29|                    792|                  47520|        1|\n",
      "| 2022-05-29|   LAX|        ORD|       NH4OAVMN|       PT12H44M|           1|           false|        false|     false|   463.25|    527.19|              2|          2186|  1653889200||16539...|2022-05-29T22:40:...|1653893940||16539...|2022-05-29T23:59:...|       SFO||ORD|         LAX||SFO|Alaska Airlines||...|      AS||AS| Embraer 175||Airb...|     4740||15840| 339||1847|coach||coach|       2022|           5|        29|                    764|                  45840|        1|\n",
      "+-----------+------+-----------+---------------+---------------+------------+----------------+-------------+----------+---------+----------+---------------+--------------+----------------------+--------------------+--------------------+--------------------+---------------+-----------------+--------------------+------------+---------------------+----------------+----------+------------+-----------+------------+----------+-----------------------+-----------------------+---------+\n",
      "only showing top 5 rows\n",
      "\n"
     ]
    },
    {
     "name": "stderr",
     "output_type": "stream",
     "text": [
      "                                                                                \r"
     ]
    }
   ],
   "source": [
    "# Count the number of '||' delimiters\n",
    "stop_count = F.size(F.split(price_df['duration_seconds'], '\\|\\|')) - 1\n",
    "\n",
    "# Add the count as a new column\n",
    "price_df = price_df.withColumn(\"num_stops\", stop_count)\n",
    "\n",
    "# Show the updated DataFrame\n",
    "price_df.show(5)"
   ]
  },
  {
   "cell_type": "code",
   "execution_count": 13,
   "id": "16ea423a-2e99-4a0c-a055-1c26429e1363",
   "metadata": {},
   "outputs": [
    {
     "name": "stdout",
     "output_type": "stream",
     "text": [
      "root\n",
      " |-- flight_date: date (nullable = true)\n",
      " |-- origin: string (nullable = true)\n",
      " |-- destination: string (nullable = true)\n",
      " |-- fare_basis_code: string (nullable = true)\n",
      " |-- travel_duration: string (nullable = true)\n",
      " |-- elapsed_days: integer (nullable = true)\n",
      " |-- is_basic_economy: boolean (nullable = true)\n",
      " |-- is_refundable: boolean (nullable = true)\n",
      " |-- is_nonstop: boolean (nullable = true)\n",
      " |-- base_fare: double (nullable = true)\n",
      " |-- total_fare: double (nullable = true)\n",
      " |-- seats_remaining: integer (nullable = true)\n",
      " |-- total_distance: integer (nullable = true)\n",
      " |-- departure_time_seconds: string (nullable = true)\n",
      " |-- departure_time: string (nullable = true)\n",
      " |-- arrival_time_seconds: string (nullable = true)\n",
      " |-- arrival_time: string (nullable = true)\n",
      " |-- arrival_airport: string (nullable = true)\n",
      " |-- departure_airport: string (nullable = true)\n",
      " |-- airline_name: string (nullable = true)\n",
      " |-- airline_code: string (nullable = true)\n",
      " |-- equipment_description: string (nullable = true)\n",
      " |-- duration_seconds: string (nullable = true)\n",
      " |-- distance: string (nullable = true)\n",
      " |-- cabin_code: string (nullable = true)\n",
      " |-- flight_year: integer (nullable = true)\n",
      " |-- flight_month: integer (nullable = true)\n",
      " |-- flight_day: integer (nullable = true)\n",
      " |-- travel_duration_minutes: integer (nullable = true)\n",
      " |-- travel_duration_seconds: integer (nullable = true)\n",
      "\n"
     ]
    }
   ],
   "source": [
    "price_df.printSchema()"
   ]
  },
  {
   "cell_type": "code",
   "execution_count": 14,
   "id": "90312568-32cd-4060-add3-9c490378201d",
   "metadata": {},
   "outputs": [
    {
     "name": "stderr",
     "output_type": "stream",
     "text": [
      "[Stage 9:=======================================================> (75 + 2) / 77]\r"
     ]
    },
    {
     "name": "stdout",
     "output_type": "stream",
     "text": [
      "Number of rows before dropping empty rows: 82138753\n",
      "Number of rows after dropping empty rows: 74754290\n",
      "There were 7384463 empty rows in the DataFrame.\n"
     ]
    },
    {
     "name": "stderr",
     "output_type": "stream",
     "text": [
      "                                                                                \r"
     ]
    }
   ],
   "source": [
    "price_df_clean = price_df.dropna()\n",
    "\n",
    "num_rows_before = price_df.count()\n",
    "num_rows_after = price_df_clean.count()\n",
    "diff = num_rows_before - num_rows_after\n",
    "\n",
    "print(f\"Number of rows before dropping empty rows: {num_rows_before}\")\n",
    "print(f\"Number of rows after dropping empty rows: {num_rows_after}\")\n",
    "\n",
    "if num_rows_before != num_rows_after:\n",
    "    print(f\"There were {diff} empty rows in the DataFrame.\")\n",
    "else:\n",
    "    print(\"No empty rows in the DataFrame.\")"
   ]
  },
  {
   "cell_type": "code",
   "execution_count": 15,
   "id": "277ea9fc-6e19-42e1-b1f2-852acf9aca56",
   "metadata": {},
   "outputs": [
    {
     "name": "stderr",
     "output_type": "stream",
     "text": [
      "                                                                                \r"
     ]
    },
    {
     "data": {
      "text/plain": [
       "82138753"
      ]
     },
     "execution_count": 15,
     "metadata": {},
     "output_type": "execute_result"
    }
   ],
   "source": [
    "price_df.count()"
   ]
  },
  {
   "cell_type": "code",
   "execution_count": 16,
   "id": "614e7500-6d18-4fcf-96eb-54449a7ed6ca",
   "metadata": {},
   "outputs": [
    {
     "name": "stderr",
     "output_type": "stream",
     "text": [
      "                                                                                \r"
     ]
    },
    {
     "data": {
      "text/html": [
       "<div>\n",
       "<style scoped>\n",
       "    .dataframe tbody tr th:only-of-type {\n",
       "        vertical-align: middle;\n",
       "    }\n",
       "\n",
       "    .dataframe tbody tr th {\n",
       "        vertical-align: top;\n",
       "    }\n",
       "\n",
       "    .dataframe thead th {\n",
       "        text-align: right;\n",
       "    }\n",
       "</style>\n",
       "<table border=\"1\" class=\"dataframe\">\n",
       "  <thead>\n",
       "    <tr style=\"text-align: right;\">\n",
       "      <th></th>\n",
       "      <th>flight_date</th>\n",
       "      <th>count</th>\n",
       "    </tr>\n",
       "  </thead>\n",
       "  <tbody>\n",
       "    <tr>\n",
       "      <th>0</th>\n",
       "      <td>2022-08-30</td>\n",
       "      <td>729117</td>\n",
       "    </tr>\n",
       "    <tr>\n",
       "      <th>1</th>\n",
       "      <td>2022-09-07</td>\n",
       "      <td>695010</td>\n",
       "    </tr>\n",
       "    <tr>\n",
       "      <th>2</th>\n",
       "      <td>2022-09-13</td>\n",
       "      <td>690912</td>\n",
       "    </tr>\n",
       "    <tr>\n",
       "      <th>3</th>\n",
       "      <td>2022-09-08</td>\n",
       "      <td>671131</td>\n",
       "    </tr>\n",
       "    <tr>\n",
       "      <th>4</th>\n",
       "      <td>2022-08-31</td>\n",
       "      <td>667996</td>\n",
       "    </tr>\n",
       "    <tr>\n",
       "      <th>...</th>\n",
       "      <td>...</td>\n",
       "      <td>...</td>\n",
       "    </tr>\n",
       "    <tr>\n",
       "      <th>212</th>\n",
       "      <td>2022-11-18</td>\n",
       "      <td>36571</td>\n",
       "    </tr>\n",
       "    <tr>\n",
       "      <th>213</th>\n",
       "      <td>2022-04-19</td>\n",
       "      <td>30702</td>\n",
       "    </tr>\n",
       "    <tr>\n",
       "      <th>214</th>\n",
       "      <td>2022-11-19</td>\n",
       "      <td>21923</td>\n",
       "    </tr>\n",
       "    <tr>\n",
       "      <th>215</th>\n",
       "      <td>2022-04-18</td>\n",
       "      <td>16524</td>\n",
       "    </tr>\n",
       "    <tr>\n",
       "      <th>216</th>\n",
       "      <td>2022-04-17</td>\n",
       "      <td>8258</td>\n",
       "    </tr>\n",
       "  </tbody>\n",
       "</table>\n",
       "<p>217 rows × 2 columns</p>\n",
       "</div>"
      ],
      "text/plain": [
       "    flight_date   count\n",
       "0    2022-08-30  729117\n",
       "1    2022-09-07  695010\n",
       "2    2022-09-13  690912\n",
       "3    2022-09-08  671131\n",
       "4    2022-08-31  667996\n",
       "..          ...     ...\n",
       "212  2022-11-18   36571\n",
       "213  2022-04-19   30702\n",
       "214  2022-11-19   21923\n",
       "215  2022-04-18   16524\n",
       "216  2022-04-17    8258\n",
       "\n",
       "[217 rows x 2 columns]"
      ]
     },
     "execution_count": 16,
     "metadata": {},
     "output_type": "execute_result"
    }
   ],
   "source": [
    "price_df.groupBy('flight_date').count().orderBy('count', ascending=False).toPandas()"
   ]
  },
  {
   "cell_type": "code",
   "execution_count": 17,
   "id": "8c8d4484-0207-4a8a-b2f5-b3a03dcaa2c0",
   "metadata": {},
   "outputs": [
    {
     "name": "stderr",
     "output_type": "stream",
     "text": [
      "                                                                                \r"
     ]
    },
    {
     "data": {
      "text/html": [
       "<div>\n",
       "<style scoped>\n",
       "    .dataframe tbody tr th:only-of-type {\n",
       "        vertical-align: middle;\n",
       "    }\n",
       "\n",
       "    .dataframe tbody tr th {\n",
       "        vertical-align: top;\n",
       "    }\n",
       "\n",
       "    .dataframe thead th {\n",
       "        text-align: right;\n",
       "    }\n",
       "</style>\n",
       "<table border=\"1\" class=\"dataframe\">\n",
       "  <thead>\n",
       "    <tr style=\"text-align: right;\">\n",
       "      <th></th>\n",
       "      <th>is_basic_economy</th>\n",
       "      <th>count</th>\n",
       "    </tr>\n",
       "  </thead>\n",
       "  <tbody>\n",
       "    <tr>\n",
       "      <th>0</th>\n",
       "      <td>False</td>\n",
       "      <td>70313487</td>\n",
       "    </tr>\n",
       "    <tr>\n",
       "      <th>1</th>\n",
       "      <td>True</td>\n",
       "      <td>11825266</td>\n",
       "    </tr>\n",
       "  </tbody>\n",
       "</table>\n",
       "</div>"
      ],
      "text/plain": [
       "   is_basic_economy     count\n",
       "0             False  70313487\n",
       "1              True  11825266"
      ]
     },
     "execution_count": 17,
     "metadata": {},
     "output_type": "execute_result"
    }
   ],
   "source": [
    "price_df.groupBy('is_basic_economy').count().orderBy('count', ascending=False).toPandas()"
   ]
  },
  {
   "cell_type": "code",
   "execution_count": 18,
   "id": "af9818d7-22a0-44a1-a7a8-3959f1455b96",
   "metadata": {},
   "outputs": [
    {
     "name": "stderr",
     "output_type": "stream",
     "text": [
      "                                                                                \r"
     ]
    },
    {
     "data": {
      "text/html": [
       "<div>\n",
       "<style scoped>\n",
       "    .dataframe tbody tr th:only-of-type {\n",
       "        vertical-align: middle;\n",
       "    }\n",
       "\n",
       "    .dataframe tbody tr th {\n",
       "        vertical-align: top;\n",
       "    }\n",
       "\n",
       "    .dataframe thead th {\n",
       "        text-align: right;\n",
       "    }\n",
       "</style>\n",
       "<table border=\"1\" class=\"dataframe\">\n",
       "  <thead>\n",
       "    <tr style=\"text-align: right;\">\n",
       "      <th></th>\n",
       "      <th>is_refundable</th>\n",
       "      <th>count</th>\n",
       "    </tr>\n",
       "  </thead>\n",
       "  <tbody>\n",
       "    <tr>\n",
       "      <th>0</th>\n",
       "      <td>False</td>\n",
       "      <td>82137421</td>\n",
       "    </tr>\n",
       "    <tr>\n",
       "      <th>1</th>\n",
       "      <td>True</td>\n",
       "      <td>1332</td>\n",
       "    </tr>\n",
       "  </tbody>\n",
       "</table>\n",
       "</div>"
      ],
      "text/plain": [
       "   is_refundable     count\n",
       "0          False  82137421\n",
       "1           True      1332"
      ]
     },
     "execution_count": 18,
     "metadata": {},
     "output_type": "execute_result"
    }
   ],
   "source": [
    "price_df.groupBy('is_refundable').count().orderBy('count', ascending=False).toPandas()"
   ]
  },
  {
   "cell_type": "code",
   "execution_count": 19,
   "id": "29d61623-9ee7-49ba-a5c5-86f8c4fbef07",
   "metadata": {},
   "outputs": [
    {
     "name": "stderr",
     "output_type": "stream",
     "text": [
      "                                                                                \r"
     ]
    },
    {
     "data": {
      "text/html": [
       "<div>\n",
       "<style scoped>\n",
       "    .dataframe tbody tr th:only-of-type {\n",
       "        vertical-align: middle;\n",
       "    }\n",
       "\n",
       "    .dataframe tbody tr th {\n",
       "        vertical-align: top;\n",
       "    }\n",
       "\n",
       "    .dataframe thead th {\n",
       "        text-align: right;\n",
       "    }\n",
       "</style>\n",
       "<table border=\"1\" class=\"dataframe\">\n",
       "  <thead>\n",
       "    <tr style=\"text-align: right;\">\n",
       "      <th></th>\n",
       "      <th>is_nonstop</th>\n",
       "      <th>count</th>\n",
       "    </tr>\n",
       "  </thead>\n",
       "  <tbody>\n",
       "    <tr>\n",
       "      <th>0</th>\n",
       "      <td>False</td>\n",
       "      <td>60071865</td>\n",
       "    </tr>\n",
       "    <tr>\n",
       "      <th>1</th>\n",
       "      <td>True</td>\n",
       "      <td>22066888</td>\n",
       "    </tr>\n",
       "  </tbody>\n",
       "</table>\n",
       "</div>"
      ],
      "text/plain": [
       "   is_nonstop     count\n",
       "0       False  60071865\n",
       "1        True  22066888"
      ]
     },
     "execution_count": 19,
     "metadata": {},
     "output_type": "execute_result"
    }
   ],
   "source": [
    "price_df.groupBy('is_nonstop').count().orderBy('count', ascending=False).toPandas()"
   ]
  },
  {
   "cell_type": "code",
   "execution_count": 20,
   "id": "05222494-b9e1-42d4-b232-f68c8b9508fc",
   "metadata": {},
   "outputs": [
    {
     "name": "stderr",
     "output_type": "stream",
     "text": [
      "                                                                                \r"
     ]
    },
    {
     "data": {
      "text/html": [
       "<div>\n",
       "<style scoped>\n",
       "    .dataframe tbody tr th:only-of-type {\n",
       "        vertical-align: middle;\n",
       "    }\n",
       "\n",
       "    .dataframe tbody tr th {\n",
       "        vertical-align: top;\n",
       "    }\n",
       "\n",
       "    .dataframe thead th {\n",
       "        text-align: right;\n",
       "    }\n",
       "</style>\n",
       "<table border=\"1\" class=\"dataframe\">\n",
       "  <thead>\n",
       "    <tr style=\"text-align: right;\">\n",
       "      <th></th>\n",
       "      <th>origin</th>\n",
       "      <th>count</th>\n",
       "    </tr>\n",
       "  </thead>\n",
       "  <tbody>\n",
       "    <tr>\n",
       "      <th>0</th>\n",
       "      <td>LAX</td>\n",
       "      <td>8073281</td>\n",
       "    </tr>\n",
       "    <tr>\n",
       "      <th>1</th>\n",
       "      <td>LGA</td>\n",
       "      <td>5919323</td>\n",
       "    </tr>\n",
       "    <tr>\n",
       "      <th>2</th>\n",
       "      <td>BOS</td>\n",
       "      <td>5883876</td>\n",
       "    </tr>\n",
       "    <tr>\n",
       "      <th>3</th>\n",
       "      <td>SFO</td>\n",
       "      <td>5706482</td>\n",
       "    </tr>\n",
       "    <tr>\n",
       "      <th>4</th>\n",
       "      <td>DFW</td>\n",
       "      <td>5674959</td>\n",
       "    </tr>\n",
       "    <tr>\n",
       "      <th>5</th>\n",
       "      <td>ORD</td>\n",
       "      <td>5503476</td>\n",
       "    </tr>\n",
       "    <tr>\n",
       "      <th>6</th>\n",
       "      <td>CLT</td>\n",
       "      <td>5494510</td>\n",
       "    </tr>\n",
       "    <tr>\n",
       "      <th>7</th>\n",
       "      <td>ATL</td>\n",
       "      <td>5312028</td>\n",
       "    </tr>\n",
       "    <tr>\n",
       "      <th>8</th>\n",
       "      <td>MIA</td>\n",
       "      <td>4930213</td>\n",
       "    </tr>\n",
       "    <tr>\n",
       "      <th>9</th>\n",
       "      <td>PHL</td>\n",
       "      <td>4726187</td>\n",
       "    </tr>\n",
       "    <tr>\n",
       "      <th>10</th>\n",
       "      <td>DEN</td>\n",
       "      <td>4697143</td>\n",
       "    </tr>\n",
       "    <tr>\n",
       "      <th>11</th>\n",
       "      <td>DTW</td>\n",
       "      <td>4547052</td>\n",
       "    </tr>\n",
       "    <tr>\n",
       "      <th>12</th>\n",
       "      <td>JFK</td>\n",
       "      <td>4425164</td>\n",
       "    </tr>\n",
       "    <tr>\n",
       "      <th>13</th>\n",
       "      <td>EWR</td>\n",
       "      <td>3970797</td>\n",
       "    </tr>\n",
       "    <tr>\n",
       "      <th>14</th>\n",
       "      <td>OAK</td>\n",
       "      <td>3809884</td>\n",
       "    </tr>\n",
       "    <tr>\n",
       "      <th>15</th>\n",
       "      <td>IAD</td>\n",
       "      <td>3464378</td>\n",
       "    </tr>\n",
       "  </tbody>\n",
       "</table>\n",
       "</div>"
      ],
      "text/plain": [
       "   origin    count\n",
       "0     LAX  8073281\n",
       "1     LGA  5919323\n",
       "2     BOS  5883876\n",
       "3     SFO  5706482\n",
       "4     DFW  5674959\n",
       "5     ORD  5503476\n",
       "6     CLT  5494510\n",
       "7     ATL  5312028\n",
       "8     MIA  4930213\n",
       "9     PHL  4726187\n",
       "10    DEN  4697143\n",
       "11    DTW  4547052\n",
       "12    JFK  4425164\n",
       "13    EWR  3970797\n",
       "14    OAK  3809884\n",
       "15    IAD  3464378"
      ]
     },
     "execution_count": 20,
     "metadata": {},
     "output_type": "execute_result"
    }
   ],
   "source": [
    "price_df.groupBy('origin').count().orderBy('count', ascending=False).toPandas()"
   ]
  },
  {
   "cell_type": "code",
   "execution_count": 21,
   "id": "9c096dea-f06f-48bc-9fdc-d2781f2835c2",
   "metadata": {},
   "outputs": [
    {
     "name": "stderr",
     "output_type": "stream",
     "text": [
      "                                                                                \r"
     ]
    },
    {
     "data": {
      "text/html": [
       "<div>\n",
       "<style scoped>\n",
       "    .dataframe tbody tr th:only-of-type {\n",
       "        vertical-align: middle;\n",
       "    }\n",
       "\n",
       "    .dataframe tbody tr th {\n",
       "        vertical-align: top;\n",
       "    }\n",
       "\n",
       "    .dataframe thead th {\n",
       "        text-align: right;\n",
       "    }\n",
       "</style>\n",
       "<table border=\"1\" class=\"dataframe\">\n",
       "  <thead>\n",
       "    <tr style=\"text-align: right;\">\n",
       "      <th></th>\n",
       "      <th>destination</th>\n",
       "      <th>count</th>\n",
       "    </tr>\n",
       "  </thead>\n",
       "  <tbody>\n",
       "    <tr>\n",
       "      <th>0</th>\n",
       "      <td>LAX</td>\n",
       "      <td>8006721</td>\n",
       "    </tr>\n",
       "    <tr>\n",
       "      <th>1</th>\n",
       "      <td>LGA</td>\n",
       "      <td>6093450</td>\n",
       "    </tr>\n",
       "    <tr>\n",
       "      <th>2</th>\n",
       "      <td>DFW</td>\n",
       "      <td>5957280</td>\n",
       "    </tr>\n",
       "    <tr>\n",
       "      <th>3</th>\n",
       "      <td>BOS</td>\n",
       "      <td>5801538</td>\n",
       "    </tr>\n",
       "    <tr>\n",
       "      <th>4</th>\n",
       "      <td>ORD</td>\n",
       "      <td>5717699</td>\n",
       "    </tr>\n",
       "    <tr>\n",
       "      <th>5</th>\n",
       "      <td>SFO</td>\n",
       "      <td>5586204</td>\n",
       "    </tr>\n",
       "    <tr>\n",
       "      <th>6</th>\n",
       "      <td>CLT</td>\n",
       "      <td>5411448</td>\n",
       "    </tr>\n",
       "    <tr>\n",
       "      <th>7</th>\n",
       "      <td>ATL</td>\n",
       "      <td>5211169</td>\n",
       "    </tr>\n",
       "    <tr>\n",
       "      <th>8</th>\n",
       "      <td>MIA</td>\n",
       "      <td>5103390</td>\n",
       "    </tr>\n",
       "    <tr>\n",
       "      <th>9</th>\n",
       "      <td>PHL</td>\n",
       "      <td>4703822</td>\n",
       "    </tr>\n",
       "    <tr>\n",
       "      <th>10</th>\n",
       "      <td>DEN</td>\n",
       "      <td>4630696</td>\n",
       "    </tr>\n",
       "    <tr>\n",
       "      <th>11</th>\n",
       "      <td>DTW</td>\n",
       "      <td>4456269</td>\n",
       "    </tr>\n",
       "    <tr>\n",
       "      <th>12</th>\n",
       "      <td>JFK</td>\n",
       "      <td>4413765</td>\n",
       "    </tr>\n",
       "    <tr>\n",
       "      <th>13</th>\n",
       "      <td>EWR</td>\n",
       "      <td>4074698</td>\n",
       "    </tr>\n",
       "    <tr>\n",
       "      <th>14</th>\n",
       "      <td>OAK</td>\n",
       "      <td>3657923</td>\n",
       "    </tr>\n",
       "    <tr>\n",
       "      <th>15</th>\n",
       "      <td>IAD</td>\n",
       "      <td>3312681</td>\n",
       "    </tr>\n",
       "  </tbody>\n",
       "</table>\n",
       "</div>"
      ],
      "text/plain": [
       "   destination    count\n",
       "0          LAX  8006721\n",
       "1          LGA  6093450\n",
       "2          DFW  5957280\n",
       "3          BOS  5801538\n",
       "4          ORD  5717699\n",
       "5          SFO  5586204\n",
       "6          CLT  5411448\n",
       "7          ATL  5211169\n",
       "8          MIA  5103390\n",
       "9          PHL  4703822\n",
       "10         DEN  4630696\n",
       "11         DTW  4456269\n",
       "12         JFK  4413765\n",
       "13         EWR  4074698\n",
       "14         OAK  3657923\n",
       "15         IAD  3312681"
      ]
     },
     "execution_count": 21,
     "metadata": {},
     "output_type": "execute_result"
    }
   ],
   "source": [
    "price_df.groupBy('destination').count().orderBy('count', ascending=False).toPandas()"
   ]
  },
  {
   "cell_type": "code",
   "execution_count": 22,
   "id": "0206795a-6522-4cce-bfa5-95abacb5245c",
   "metadata": {},
   "outputs": [
    {
     "name": "stderr",
     "output_type": "stream",
     "text": [
      "                                                                                \r"
     ]
    },
    {
     "data": {
      "text/html": [
       "<div>\n",
       "<style scoped>\n",
       "    .dataframe tbody tr th:only-of-type {\n",
       "        vertical-align: middle;\n",
       "    }\n",
       "\n",
       "    .dataframe tbody tr th {\n",
       "        vertical-align: top;\n",
       "    }\n",
       "\n",
       "    .dataframe thead th {\n",
       "        text-align: right;\n",
       "    }\n",
       "</style>\n",
       "<table border=\"1\" class=\"dataframe\">\n",
       "  <thead>\n",
       "    <tr style=\"text-align: right;\">\n",
       "      <th></th>\n",
       "      <th>flight_year</th>\n",
       "      <th>count</th>\n",
       "    </tr>\n",
       "  </thead>\n",
       "  <tbody>\n",
       "    <tr>\n",
       "      <th>0</th>\n",
       "      <td>2022</td>\n",
       "      <td>82138753</td>\n",
       "    </tr>\n",
       "  </tbody>\n",
       "</table>\n",
       "</div>"
      ],
      "text/plain": [
       "   flight_year     count\n",
       "0         2022  82138753"
      ]
     },
     "execution_count": 22,
     "metadata": {},
     "output_type": "execute_result"
    }
   ],
   "source": [
    "price_df.groupBy('flight_year').count().orderBy('count', ascending = False).toPandas()"
   ]
  },
  {
   "cell_type": "code",
   "execution_count": 23,
   "id": "6569d6d8-686a-4146-847b-89250966435c",
   "metadata": {},
   "outputs": [
    {
     "name": "stderr",
     "output_type": "stream",
     "text": [
      "                                                                                \r"
     ]
    },
    {
     "data": {
      "text/html": [
       "<div>\n",
       "<style scoped>\n",
       "    .dataframe tbody tr th:only-of-type {\n",
       "        vertical-align: middle;\n",
       "    }\n",
       "\n",
       "    .dataframe tbody tr th {\n",
       "        vertical-align: top;\n",
       "    }\n",
       "\n",
       "    .dataframe thead th {\n",
       "        text-align: right;\n",
       "    }\n",
       "</style>\n",
       "<table border=\"1\" class=\"dataframe\">\n",
       "  <thead>\n",
       "    <tr style=\"text-align: right;\">\n",
       "      <th></th>\n",
       "      <th>flight_month</th>\n",
       "      <th>count</th>\n",
       "    </tr>\n",
       "  </thead>\n",
       "  <tbody>\n",
       "    <tr>\n",
       "      <th>0</th>\n",
       "      <td>8</td>\n",
       "      <td>17678497</td>\n",
       "    </tr>\n",
       "    <tr>\n",
       "      <th>1</th>\n",
       "      <td>9</td>\n",
       "      <td>17285217</td>\n",
       "    </tr>\n",
       "    <tr>\n",
       "      <th>2</th>\n",
       "      <td>7</td>\n",
       "      <td>13492890</td>\n",
       "    </tr>\n",
       "    <tr>\n",
       "      <th>3</th>\n",
       "      <td>6</td>\n",
       "      <td>11774933</td>\n",
       "    </tr>\n",
       "    <tr>\n",
       "      <th>4</th>\n",
       "      <td>10</td>\n",
       "      <td>11044671</td>\n",
       "    </tr>\n",
       "    <tr>\n",
       "      <th>5</th>\n",
       "      <td>5</td>\n",
       "      <td>7440297</td>\n",
       "    </tr>\n",
       "    <tr>\n",
       "      <th>6</th>\n",
       "      <td>11</td>\n",
       "      <td>2503292</td>\n",
       "    </tr>\n",
       "    <tr>\n",
       "      <th>7</th>\n",
       "      <td>4</td>\n",
       "      <td>918956</td>\n",
       "    </tr>\n",
       "  </tbody>\n",
       "</table>\n",
       "</div>"
      ],
      "text/plain": [
       "   flight_month     count\n",
       "0             8  17678497\n",
       "1             9  17285217\n",
       "2             7  13492890\n",
       "3             6  11774933\n",
       "4            10  11044671\n",
       "5             5   7440297\n",
       "6            11   2503292\n",
       "7             4    918956"
      ]
     },
     "execution_count": 23,
     "metadata": {},
     "output_type": "execute_result"
    }
   ],
   "source": [
    "price_df.groupBy('flight_month').count().orderBy('count', ascending = False).toPandas()"
   ]
  },
  {
   "cell_type": "code",
   "execution_count": 24,
   "id": "6ceb2765-f07c-419d-b531-419bd5fe17c7",
   "metadata": {},
   "outputs": [
    {
     "name": "stderr",
     "output_type": "stream",
     "text": [
      "                                                                                \r"
     ]
    },
    {
     "data": {
      "text/html": [
       "<div>\n",
       "<style scoped>\n",
       "    .dataframe tbody tr th:only-of-type {\n",
       "        vertical-align: middle;\n",
       "    }\n",
       "\n",
       "    .dataframe tbody tr th {\n",
       "        vertical-align: top;\n",
       "    }\n",
       "\n",
       "    .dataframe thead th {\n",
       "        text-align: right;\n",
       "    }\n",
       "</style>\n",
       "<table border=\"1\" class=\"dataframe\">\n",
       "  <thead>\n",
       "    <tr style=\"text-align: right;\">\n",
       "      <th></th>\n",
       "      <th>flight_day</th>\n",
       "      <th>count</th>\n",
       "    </tr>\n",
       "  </thead>\n",
       "  <tbody>\n",
       "    <tr>\n",
       "      <th>0</th>\n",
       "      <td>4</td>\n",
       "      <td>2854018</td>\n",
       "    </tr>\n",
       "    <tr>\n",
       "      <th>1</th>\n",
       "      <td>8</td>\n",
       "      <td>2850675</td>\n",
       "    </tr>\n",
       "    <tr>\n",
       "      <th>2</th>\n",
       "      <td>7</td>\n",
       "      <td>2817599</td>\n",
       "    </tr>\n",
       "    <tr>\n",
       "      <th>3</th>\n",
       "      <td>27</td>\n",
       "      <td>2802314</td>\n",
       "    </tr>\n",
       "    <tr>\n",
       "      <th>4</th>\n",
       "      <td>3</td>\n",
       "      <td>2756642</td>\n",
       "    </tr>\n",
       "    <tr>\n",
       "      <th>5</th>\n",
       "      <td>29</td>\n",
       "      <td>2754363</td>\n",
       "    </tr>\n",
       "    <tr>\n",
       "      <th>6</th>\n",
       "      <td>26</td>\n",
       "      <td>2752687</td>\n",
       "    </tr>\n",
       "    <tr>\n",
       "      <th>7</th>\n",
       "      <td>1</td>\n",
       "      <td>2743256</td>\n",
       "    </tr>\n",
       "    <tr>\n",
       "      <th>8</th>\n",
       "      <td>5</td>\n",
       "      <td>2722845</td>\n",
       "    </tr>\n",
       "    <tr>\n",
       "      <th>9</th>\n",
       "      <td>9</td>\n",
       "      <td>2722114</td>\n",
       "    </tr>\n",
       "    <tr>\n",
       "      <th>10</th>\n",
       "      <td>24</td>\n",
       "      <td>2702786</td>\n",
       "    </tr>\n",
       "    <tr>\n",
       "      <th>11</th>\n",
       "      <td>6</td>\n",
       "      <td>2696232</td>\n",
       "    </tr>\n",
       "    <tr>\n",
       "      <th>12</th>\n",
       "      <td>20</td>\n",
       "      <td>2687033</td>\n",
       "    </tr>\n",
       "    <tr>\n",
       "      <th>13</th>\n",
       "      <td>28</td>\n",
       "      <td>2686070</td>\n",
       "    </tr>\n",
       "    <tr>\n",
       "      <th>14</th>\n",
       "      <td>2</td>\n",
       "      <td>2684060</td>\n",
       "    </tr>\n",
       "    <tr>\n",
       "      <th>15</th>\n",
       "      <td>10</td>\n",
       "      <td>2678693</td>\n",
       "    </tr>\n",
       "    <tr>\n",
       "      <th>16</th>\n",
       "      <td>30</td>\n",
       "      <td>2669506</td>\n",
       "    </tr>\n",
       "    <tr>\n",
       "      <th>17</th>\n",
       "      <td>17</td>\n",
       "      <td>2652266</td>\n",
       "    </tr>\n",
       "    <tr>\n",
       "      <th>18</th>\n",
       "      <td>12</td>\n",
       "      <td>2643881</td>\n",
       "    </tr>\n",
       "    <tr>\n",
       "      <th>19</th>\n",
       "      <td>19</td>\n",
       "      <td>2638155</td>\n",
       "    </tr>\n",
       "    <tr>\n",
       "      <th>20</th>\n",
       "      <td>13</td>\n",
       "      <td>2634888</td>\n",
       "    </tr>\n",
       "    <tr>\n",
       "      <th>21</th>\n",
       "      <td>21</td>\n",
       "      <td>2626589</td>\n",
       "    </tr>\n",
       "    <tr>\n",
       "      <th>22</th>\n",
       "      <td>22</td>\n",
       "      <td>2624472</td>\n",
       "    </tr>\n",
       "    <tr>\n",
       "      <th>23</th>\n",
       "      <td>23</td>\n",
       "      <td>2623310</td>\n",
       "    </tr>\n",
       "    <tr>\n",
       "      <th>24</th>\n",
       "      <td>14</td>\n",
       "      <td>2608670</td>\n",
       "    </tr>\n",
       "    <tr>\n",
       "      <th>25</th>\n",
       "      <td>25</td>\n",
       "      <td>2597644</td>\n",
       "    </tr>\n",
       "    <tr>\n",
       "      <th>26</th>\n",
       "      <td>15</td>\n",
       "      <td>2578502</td>\n",
       "    </tr>\n",
       "    <tr>\n",
       "      <th>27</th>\n",
       "      <td>11</td>\n",
       "      <td>2577507</td>\n",
       "    </tr>\n",
       "    <tr>\n",
       "      <th>28</th>\n",
       "      <td>16</td>\n",
       "      <td>2562325</td>\n",
       "    </tr>\n",
       "    <tr>\n",
       "      <th>29</th>\n",
       "      <td>18</td>\n",
       "      <td>2527161</td>\n",
       "    </tr>\n",
       "    <tr>\n",
       "      <th>30</th>\n",
       "      <td>31</td>\n",
       "      <td>1662490</td>\n",
       "    </tr>\n",
       "  </tbody>\n",
       "</table>\n",
       "</div>"
      ],
      "text/plain": [
       "    flight_day    count\n",
       "0            4  2854018\n",
       "1            8  2850675\n",
       "2            7  2817599\n",
       "3           27  2802314\n",
       "4            3  2756642\n",
       "5           29  2754363\n",
       "6           26  2752687\n",
       "7            1  2743256\n",
       "8            5  2722845\n",
       "9            9  2722114\n",
       "10          24  2702786\n",
       "11           6  2696232\n",
       "12          20  2687033\n",
       "13          28  2686070\n",
       "14           2  2684060\n",
       "15          10  2678693\n",
       "16          30  2669506\n",
       "17          17  2652266\n",
       "18          12  2643881\n",
       "19          19  2638155\n",
       "20          13  2634888\n",
       "21          21  2626589\n",
       "22          22  2624472\n",
       "23          23  2623310\n",
       "24          14  2608670\n",
       "25          25  2597644\n",
       "26          15  2578502\n",
       "27          11  2577507\n",
       "28          16  2562325\n",
       "29          18  2527161\n",
       "30          31  1662490"
      ]
     },
     "execution_count": 24,
     "metadata": {},
     "output_type": "execute_result"
    }
   ],
   "source": [
    "price_df.groupBy('flight_day').count().orderBy('count', ascending = False).toPandas()"
   ]
  },
  {
   "cell_type": "code",
   "execution_count": 25,
   "id": "8759dcfa-71b2-453e-863a-3bc3f4fa178f",
   "metadata": {},
   "outputs": [
    {
     "name": "stderr",
     "output_type": "stream",
     "text": [
      "                                                                                \r"
     ]
    },
    {
     "data": {
      "text/html": [
       "<div>\n",
       "<style scoped>\n",
       "    .dataframe tbody tr th:only-of-type {\n",
       "        vertical-align: middle;\n",
       "    }\n",
       "\n",
       "    .dataframe tbody tr th {\n",
       "        vertical-align: top;\n",
       "    }\n",
       "\n",
       "    .dataframe thead th {\n",
       "        text-align: right;\n",
       "    }\n",
       "</style>\n",
       "<table border=\"1\" class=\"dataframe\">\n",
       "  <thead>\n",
       "    <tr style=\"text-align: right;\">\n",
       "      <th></th>\n",
       "      <th>fare_basis_code</th>\n",
       "      <th>count</th>\n",
       "    </tr>\n",
       "  </thead>\n",
       "  <tbody>\n",
       "    <tr>\n",
       "      <th>0</th>\n",
       "      <td>QAA0OKEN</td>\n",
       "      <td>1386883</td>\n",
       "    </tr>\n",
       "    <tr>\n",
       "      <th>1</th>\n",
       "      <td>KAUOA0MQ</td>\n",
       "      <td>937072</td>\n",
       "    </tr>\n",
       "    <tr>\n",
       "      <th>2</th>\n",
       "      <td>V7AWZNN1</td>\n",
       "      <td>797408</td>\n",
       "    </tr>\n",
       "    <tr>\n",
       "      <th>3</th>\n",
       "      <td>QAA0OFEN</td>\n",
       "      <td>570964</td>\n",
       "    </tr>\n",
       "    <tr>\n",
       "      <th>4</th>\n",
       "      <td>HAA0OKEN</td>\n",
       "      <td>537443</td>\n",
       "    </tr>\n",
       "    <tr>\n",
       "      <th>...</th>\n",
       "      <td>...</td>\n",
       "      <td>...</td>\n",
       "    </tr>\n",
       "    <tr>\n",
       "      <th>21057</th>\n",
       "      <td>HAUOG3MQ</td>\n",
       "      <td>1</td>\n",
       "    </tr>\n",
       "    <tr>\n",
       "      <th>21058</th>\n",
       "      <td>KAV2X5M2</td>\n",
       "      <td>1</td>\n",
       "    </tr>\n",
       "    <tr>\n",
       "      <th>21059</th>\n",
       "      <td>TAVSA9M1</td>\n",
       "      <td>1</td>\n",
       "    </tr>\n",
       "    <tr>\n",
       "      <th>21060</th>\n",
       "      <td>LAU4KKDS</td>\n",
       "      <td>1</td>\n",
       "    </tr>\n",
       "    <tr>\n",
       "      <th>21061</th>\n",
       "      <td>SAA3JXES</td>\n",
       "      <td>1</td>\n",
       "    </tr>\n",
       "  </tbody>\n",
       "</table>\n",
       "<p>21062 rows × 2 columns</p>\n",
       "</div>"
      ],
      "text/plain": [
       "      fare_basis_code    count\n",
       "0            QAA0OKEN  1386883\n",
       "1            KAUOA0MQ   937072\n",
       "2            V7AWZNN1   797408\n",
       "3            QAA0OFEN   570964\n",
       "4            HAA0OKEN   537443\n",
       "...               ...      ...\n",
       "21057        HAUOG3MQ        1\n",
       "21058        KAV2X5M2        1\n",
       "21059        TAVSA9M1        1\n",
       "21060        LAU4KKDS        1\n",
       "21061        SAA3JXES        1\n",
       "\n",
       "[21062 rows x 2 columns]"
      ]
     },
     "execution_count": 25,
     "metadata": {},
     "output_type": "execute_result"
    }
   ],
   "source": [
    "price_df.groupBy('fare_basis_code').count().orderBy('count', ascending = False).toPandas()"
   ]
  },
  {
   "cell_type": "code",
   "execution_count": 53,
   "id": "029399aa-1f97-4066-ab44-d29ad1763e93",
   "metadata": {},
   "outputs": [
    {
     "name": "stderr",
     "output_type": "stream",
     "text": [
      "                                                                                \r"
     ]
    },
    {
     "data": {
      "text/html": [
       "<div>\n",
       "<style scoped>\n",
       "    .dataframe tbody tr th:only-of-type {\n",
       "        vertical-align: middle;\n",
       "    }\n",
       "\n",
       "    .dataframe tbody tr th {\n",
       "        vertical-align: top;\n",
       "    }\n",
       "\n",
       "    .dataframe thead th {\n",
       "        text-align: right;\n",
       "    }\n",
       "</style>\n",
       "<table border=\"1\" class=\"dataframe\">\n",
       "  <thead>\n",
       "    <tr style=\"text-align: right;\">\n",
       "      <th></th>\n",
       "      <th>num_stops</th>\n",
       "      <th>count</th>\n",
       "    </tr>\n",
       "  </thead>\n",
       "  <tbody>\n",
       "    <tr>\n",
       "      <th>0</th>\n",
       "      <td>1</td>\n",
       "      <td>52285467</td>\n",
       "    </tr>\n",
       "    <tr>\n",
       "      <th>1</th>\n",
       "      <td>0</td>\n",
       "      <td>22066888</td>\n",
       "    </tr>\n",
       "    <tr>\n",
       "      <th>2</th>\n",
       "      <td>2</td>\n",
       "      <td>7586488</td>\n",
       "    </tr>\n",
       "    <tr>\n",
       "      <th>3</th>\n",
       "      <td>3</td>\n",
       "      <td>199812</td>\n",
       "    </tr>\n",
       "    <tr>\n",
       "      <th>4</th>\n",
       "      <td>4</td>\n",
       "      <td>98</td>\n",
       "    </tr>\n",
       "  </tbody>\n",
       "</table>\n",
       "</div>"
      ],
      "text/plain": [
       "   num_stops     count\n",
       "0          1  52285467\n",
       "1          0  22066888\n",
       "2          2   7586488\n",
       "3          3    199812\n",
       "4          4        98"
      ]
     },
     "execution_count": 53,
     "metadata": {},
     "output_type": "execute_result"
    }
   ],
   "source": [
    "price_df.groupBy('num_stops').count().orderBy('count', ascending = False).toPandas()"
   ]
  },
  {
   "cell_type": "code",
   "execution_count": 43,
   "id": "417e1b15-dbc9-4df8-a1c2-a0b1c432bc41",
   "metadata": {},
   "outputs": [
    {
     "name": "stderr",
     "output_type": "stream",
     "text": [
      "                                                                                \r"
     ]
    },
    {
     "name": "stdout",
     "output_type": "stream",
     "text": [
      "+------------------+------------------+---------------+-------------+-------------+\n",
      "|    Mean Base Fare|  StdDev Base Fare|Count Base Fare|Min Base Fare|Max Base Fare|\n",
      "+------------------+------------------+---------------+-------------+-------------+\n",
      "|292.66285271049355|183.18878337398306|       82138753|         0.01|      7662.33|\n",
      "+------------------+------------------+---------------+-------------+-------------+\n",
      "\n"
     ]
    },
    {
     "name": "stderr",
     "output_type": "stream",
     "text": [
      "[Stage 152:======================================================>(76 + 1) / 77]\r"
     ]
    },
    {
     "name": "stdout",
     "output_type": "stream",
     "text": [
      "+------------------+------------------+----------------+--------------+--------------+\n",
      "|   Mean Total Fare| StdDev Total Fare|Count Total Fare|Min Total Fare|Max Total Fare|\n",
      "+------------------+------------------+----------------+--------------+--------------+\n",
      "|340.38684914273495|196.02950991170542|        82138753|         19.59|       8260.61|\n",
      "+------------------+------------------+----------------+--------------+--------------+\n",
      "\n"
     ]
    },
    {
     "name": "stderr",
     "output_type": "stream",
     "text": [
      "                                                                                \r"
     ]
    }
   ],
   "source": [
    "base_fare_summary = price_df.agg(\n",
    "    mean(col(\"base_fare\")).alias(\"Mean Base Fare\"),\n",
    "    stddev(col(\"base_fare\")).alias(\"StdDev Base Fare\"),\n",
    "    count(col(\"base_fare\")).alias(\"Count Base Fare\"),\n",
    "    min(col(\"base_fare\")).alias(\"Min Base Fare\"),\n",
    "    max(col(\"base_fare\")).alias(\"Max Base Fare\")\n",
    "    )\n",
    "\n",
    "total_fare_summary = price_df.agg(\n",
    "    mean(col(\"total_fare\")).alias(\"Mean Total Fare\"),\n",
    "    stddev(col(\"total_fare\")).alias(\"StdDev Total Fare\"),\n",
    "    count(col(\"total_fare\")).alias(\"Count Total Fare\"),\n",
    "    min(col(\"total_fare\")).alias(\"Min Total Fare\"),\n",
    "    max(col(\"total_fare\")).alias(\"Max Total Fare\")\n",
    "    )\n",
    "\n",
    "base_fare_summary.show()\n",
    "total_fare_summary.show()"
   ]
  },
  {
   "cell_type": "code",
   "execution_count": 44,
   "id": "c6420e3f-edfc-48b6-b795-7e32c5d4860d",
   "metadata": {},
   "outputs": [
    {
     "name": "stderr",
     "output_type": "stream",
     "text": [
      "[Stage 158:=====================================================> (51 + 1) / 52]\r"
     ]
    },
    {
     "name": "stdout",
     "output_type": "stream",
     "text": [
      "+-----------+------+-----------+---------------+---------------+------------+----------------+-------------+----------+---------+----------+---------------+--------------+----------------------+--------------------+--------------------+--------------------+---------------+-----------------+--------------------+------------+---------------------+----------------+----------+------------+-----------+------------+----------+-----------------------+-----------------------+\n",
      "|flight_date|origin|destination|fare_basis_code|travel_duration|elapsed_days|is_basic_economy|is_refundable|is_nonstop|base_fare|total_fare|seats_remaining|total_distance|departure_time_seconds|      departure_time|arrival_time_seconds|        arrival_time|arrival_airport|departure_airport|        airline_name|airline_code|equipment_description|duration_seconds|  distance|  cabin_code|flight_year|flight_month|flight_day|travel_duration_minutes|travel_duration_seconds|\n",
      "+-----------+------+-----------+---------------+---------------+------------+----------------+-------------+----------+---------+----------+---------------+--------------+----------------------+--------------------+--------------------+--------------------+---------------+-----------------+--------------------+------------+---------------------+----------------+----------+------------+-----------+------------+----------+-----------------------+-----------------------+\n",
      "| 2022-11-07|   PHL|        MIA|          WA3NR|         PT3H3M|           0|           false|        false|      true|     0.01|      25.6|              0|          null|            1667848200|2022-11-07T14:10:...|          1667859180|2022-11-07T17:13:...|            MIA|              PHL|     Spirit Airlines|          NK|          Airbus A319|           10980|      None|       coach|       2022|          11|         7|                    183|                  10980|\n",
      "| 2022-11-07|   PHL|        MIA|          WA3NR|        PT8H58M|           1|           false|        false|     false|     0.01|     45.59|              0|          null|  1667855400||16678...|2022-11-07T16:10:...|1667863740||16678...|2022-11-07T18:29:...|       ATL||MIA|         PHL||ATL|Spirit Airlines||...|      NK||NK|        ||Airbus A319|      8340||7260|None||None|coach||coach|       2022|          11|         7|                    538|                  32280|\n",
      "| 2022-11-08|   MIA|        PHL|          WA3NR|         PT5H2M|           0|           false|        false|     false|     0.01|     45.59|              0|          null|  1667942460||16679...|2022-11-08T16:21:...|1667950200||16679...|2022-11-08T18:30:...|       ATL||PHL|         MIA||ATL|Spirit Airlines||...|      NK||NK|        Airbus A319|||      7740||7080|None||None|coach||coach|       2022|          11|         8|                    302|                  18120|\n",
      "| 2022-11-08|   MIA|        PHL|          WA3NR|        PT9H49M|           0|           false|        false|     false|     0.01|     45.59|              0|          null|  1667910000||16679...|2022-11-08T07:20:...|1667917200||16679...|2022-11-08T09:20:...|       ATL||PHL|         MIA||ATL|Spirit Airlines||...|      NK||NK|        Airbus A319|||      7200||7140|None||None|coach||coach|       2022|          11|         8|                    589|                  35340|\n",
      "| 2022-11-08|   PHL|        MIA|          WA3NR|         PT3H3M|           0|           false|        false|      true|     0.01|      25.6|              0|          null|            1667934600|2022-11-08T14:10:...|          1667945580|2022-11-08T17:13:...|            MIA|              PHL|     Spirit Airlines|          NK|          Airbus A319|           10980|      None|       coach|       2022|          11|         8|                    183|                  10980|\n",
      "| 2022-11-09|   MIA|        PHL|          WA3NR|        PT2H42M|           0|           false|        false|      true|     0.01|      25.6|              0|          null|            1668016080|2022-11-09T12:48:...|          1668025800|2022-11-09T15:30:...|            PHL|              MIA|     Spirit Airlines|          NK|          Airbus A319|            9720|      None|       coach|       2022|          11|         9|                    162|                   9720|\n",
      "| 2022-11-09|   MIA|        PHL|          WA3NR|         PT5H2M|           0|           false|        false|     false|     0.01|     45.59|              0|          null|  1668028860||16680...|2022-11-09T16:21:...|1668036600||16680...|2022-11-09T18:30:...|       ATL||PHL|         MIA||ATL|Spirit Airlines||...|      NK||NK|        Airbus A319|||      7740||7080|None||None|coach||coach|       2022|          11|         9|                    302|                  18120|\n",
      "| 2022-11-09|   MIA|        PHL|          WA3NR|        PT9H49M|           0|           false|        false|     false|     0.01|     45.59|              0|          null|  1667996400||16680...|2022-11-09T07:20:...|1668003600||16680...|2022-11-09T09:20:...|       ATL||PHL|         MIA||ATL|Spirit Airlines||...|      NK||NK|        Airbus A319|||      7200||7140|None||None|coach||coach|       2022|          11|         9|                    589|                  35340|\n",
      "| 2022-11-10|   MIA|        PHL|          WA3NR|         PT5H2M|           0|           false|        false|     false|     0.01|     45.59|              0|          null|  1668115260||16681...|2022-11-10T16:21:...|1668123000||16681...|2022-11-10T18:30:...|       ATL||PHL|         MIA||ATL|Spirit Airlines||...|      NK||NK|        Airbus A319|||      7740||7080|None||None|coach||coach|       2022|          11|        10|                    302|                  18120|\n",
      "| 2022-11-10|   MIA|        PHL|          WA3NR|        PT9H49M|           0|           false|        false|     false|     0.01|     45.59|              0|          null|  1668082800||16681...|2022-11-10T07:20:...|1668090000||16681...|2022-11-10T09:20:...|       ATL||PHL|         MIA||ATL|Spirit Airlines||...|      NK||NK|        Airbus A319|||      7200||7140|None||None|coach||coach|       2022|          11|        10|                    589|                  35340|\n",
      "| 2022-11-11|   PHL|        MIA|          WA3NR|         PT3H3M|           0|           false|        false|      true|     0.01|      25.6|              0|          null|            1668193800|2022-11-11T14:10:...|          1668204780|2022-11-11T17:13:...|            MIA|              PHL|     Spirit Airlines|          NK|          Airbus A319|           10980|      None|       coach|       2022|          11|        11|                    183|                  10980|\n",
      "| 2022-10-05|   PHL|        MIA|          WA3NR|        PT2H57M|           0|           false|        false|      true|     0.01|      25.6|              0|          null|            1664993880|2022-10-05T14:18:...|          1665004500|2022-10-05T17:15:...|            MIA|              PHL|     Spirit Airlines|          NK|          Airbus A319|           10620|      None|       coach|       2022|          10|         5|                    177|                  10620|\n",
      "| 2022-10-06|   MIA|        PHL|          WA3NR|        PT2H45M|           0|           false|        false|      true|     0.01|      25.6|              0|          null|            1665072600|2022-10-06T12:10:...|          1665082500|2022-10-06T14:55:...|            PHL|              MIA|     Spirit Airlines|          NK|          Airbus A319|            9900|      None|       coach|       2022|          10|         6|                    165|                   9900|\n",
      "| 2022-10-08|   MIA|        PHL|          WA3NR|        PT2H45M|           0|           false|        false|      true|     0.01|      25.6|              0|          null|            1665245400|2022-10-08T12:10:...|          1665255300|2022-10-08T14:55:...|            PHL|              MIA|     Spirit Airlines|          NK|          Airbus A319|            9900|      None|       coach|       2022|          10|         8|                    165|                   9900|\n",
      "| 2022-10-08|   MIA|        PHL|          WA3NR|       PT11H24M|           0|           false|        false|     false|     0.01|     45.59|              0|          null|  1665228000||16652...|2022-10-08T07:20:...|1665235140||16652...|2022-10-08T09:19:...|       ATL||PHL|         MIA||ATL|Spirit Airlines||...|      NK||NK|        Airbus A319|||      7140||7080|None||None|coach||coach|       2022|          10|         8|                    684|                  41040|\n",
      "| 2022-10-08|   PHL|        MIA|          WA3NR|        PT2H53M|           0|           false|        false|      true|     0.01|      25.6|              0|          null|            1665259500|2022-10-08T16:05:...|          1665269880|2022-10-08T18:58:...|            MIA|              PHL|     Spirit Airlines|          NK|          Airbus A319|           10380|      None|       coach|       2022|          10|         8|                    173|                  10380|\n",
      "| 2022-10-09|   PHL|        MIA|          WA3NR|        PT2H53M|           0|           false|        false|      true|     0.01|      25.6|              0|          null|            1665345900|2022-10-09T16:05:...|          1665356280|2022-10-09T18:58:...|            MIA|              PHL|     Spirit Airlines|          NK|          Airbus A319|           10380|      None|       coach|       2022|          10|         9|                    173|                  10380|\n",
      "| 2022-10-10|   PHL|        MIA|          WA3NR|        PT2H53M|           0|           false|        false|      true|     0.01|      25.6|              0|          null|            1665433200|2022-10-10T16:20:...|          1665443580|2022-10-10T19:13:...|            MIA|              PHL|     Spirit Airlines|          NK|          Airbus A319|           10380|      None|       coach|       2022|          10|        10|                    173|                  10380|\n",
      "| 2022-10-11|   MIA|        PHL|          WA3NR|        PT2H45M|           0|           false|        false|      true|     0.01|      25.6|              0|          null|            1665504600|2022-10-11T12:10:...|          1665514500|2022-10-11T14:55:...|            PHL|              MIA|     Spirit Airlines|          NK|          Airbus A319|            9900|      None|       coach|       2022|          10|        11|                    165|                   9900|\n",
      "| 2022-10-11|   MIA|        PHL|          WA3NR|       PT11H24M|           0|           false|        false|     false|     0.01|     45.59|              0|          null|  1665487200||16655...|2022-10-11T07:20:...|1665494340||16655...|2022-10-11T09:19:...|       ATL||PHL|         MIA||ATL|Spirit Airlines||...|      NK||NK|        Airbus A319|||      7140||7080|None||None|coach||coach|       2022|          10|        11|                    684|                  41040|\n",
      "+-----------+------+-----------+---------------+---------------+------------+----------------+-------------+----------+---------+----------+---------------+--------------+----------------------+--------------------+--------------------+--------------------+---------------+-----------------+--------------------+------------+---------------------+----------------+----------+------------+-----------+------------+----------+-----------------------+-----------------------+\n",
      "only showing top 20 rows\n",
      "\n"
     ]
    },
    {
     "name": "stderr",
     "output_type": "stream",
     "text": [
      "                                                                                \r"
     ]
    }
   ],
   "source": [
    "price_df.filter(price_df['base_fare'] == 0.01).show()"
   ]
  },
  {
   "cell_type": "code",
   "execution_count": 45,
   "id": "1f069826-7358-4ecd-b324-7ea69110561a",
   "metadata": {},
   "outputs": [
    {
     "name": "stderr",
     "output_type": "stream",
     "text": [
      "[Stage 159:==================================================>    (70 + 7) / 77]\r"
     ]
    },
    {
     "name": "stdout",
     "output_type": "stream",
     "text": [
      "Min Base Fare Count:  1320\n"
     ]
    },
    {
     "name": "stderr",
     "output_type": "stream",
     "text": [
      "                                                                                \r"
     ]
    }
   ],
   "source": [
    "print(\"Min Base Fare Count: \", price_df.filter(price_df['base_fare'] == 0.01).count())"
   ]
  },
  {
   "cell_type": "code",
   "execution_count": 46,
   "id": "888f075f-6cbb-41e4-9433-3aa5238d1620",
   "metadata": {},
   "outputs": [
    {
     "name": "stderr",
     "output_type": "stream",
     "text": [
      "[Stage 162:=====================================================> (75 + 2) / 77]\r"
     ]
    },
    {
     "name": "stdout",
     "output_type": "stream",
     "text": [
      "+--------------------------+----------------------------+---------------------------+-------------------------+-------------------------+\n",
      "|Mean Travel Duration (Min)|StdDev Travel Duration (Min)|Count Travel Duration (Min)|Min Travel Duration (Min)|Max Travel Duration (Min)|\n",
      "+--------------------------+----------------------------+---------------------------+-------------------------+-------------------------+\n",
      "|         428.3268227118082|          225.21108754604873|                   82138753|                       34|                     2656|\n",
      "+--------------------------+----------------------------+---------------------------+-------------------------+-------------------------+\n",
      "\n"
     ]
    },
    {
     "name": "stderr",
     "output_type": "stream",
     "text": [
      "                                                                                \r"
     ]
    }
   ],
   "source": [
    "travel_duration_minutes_summary = price_df.agg(\n",
    "    mean(col(\"travel_duration_minutes\")).alias(\"Mean Travel Duration (Min)\"),\n",
    "    stddev(col(\"travel_duration_minutes\")).alias(\"StdDev Travel Duration (Min)\"),\n",
    "    count(col(\"travel_duration_minutes\")).alias(\"Count Travel Duration (Min)\"),\n",
    "    min(col(\"travel_duration_minutes\")).alias(\"Min Travel Duration (Min)\"),\n",
    "    max(col(\"travel_duration_minutes\")).alias(\"Max Travel Duration (Min)\")\n",
    ")\n",
    "\n",
    "travel_duration_minutes_summary.show()"
   ]
  },
  {
   "cell_type": "code",
   "execution_count": 47,
   "id": "34451927-749f-4f2a-a1ed-11c511a4621f",
   "metadata": {},
   "outputs": [
    {
     "name": "stderr",
     "output_type": "stream",
     "text": [
      "[Stage 168:=====================================================> (51 + 1) / 52]\r"
     ]
    },
    {
     "name": "stdout",
     "output_type": "stream",
     "text": [
      "+-----------+------+-----------+---------------+---------------+------------+----------------+-------------+----------+---------+----------+---------------+--------------+----------------------+--------------------+--------------------+--------------------+---------------+-----------------+--------------------+------------+---------------------+----------------+----------+------------+-----------+------------+----------+-----------------------+-----------------------+\n",
      "|flight_date|origin|destination|fare_basis_code|travel_duration|elapsed_days|is_basic_economy|is_refundable|is_nonstop|base_fare|total_fare|seats_remaining|total_distance|departure_time_seconds|      departure_time|arrival_time_seconds|        arrival_time|arrival_airport|departure_airport|        airline_name|airline_code|equipment_description|duration_seconds|  distance|  cabin_code|flight_year|flight_month|flight_day|travel_duration_minutes|travel_duration_seconds|\n",
      "+-----------+------+-----------+---------------+---------------+------------+----------------+-------------+----------+---------+----------+---------------+--------------+----------------------+--------------------+--------------------+--------------------+---------------+-----------------+--------------------+------------+---------------------+----------------+----------+------------+-----------+------------+----------+-----------------------+-----------------------+\n",
      "| 2022-09-07|   EWR|        DTW|          GA7NR|          PT34M|           0|           false|        false|     false|     12.0|     81.58|              0|          null|  1662594900||16625...|2022-09-07T19:55:...|1662601680||16625...|2022-09-07T21:48:...|       MYR||DTW|         EWR||MYR|Spirit Airlines||...|      NK||NK| AIRBUS INDUSTRIE ...|      6780||7440|None||None|coach||coach|       2022|           9|         7|                     34|                   2040|\n",
      "+-----------+------+-----------+---------------+---------------+------------+----------------+-------------+----------+---------+----------+---------------+--------------+----------------------+--------------------+--------------------+--------------------+---------------+-----------------+--------------------+------------+---------------------+----------------+----------+------------+-----------+------------+----------+-----------------------+-----------------------+\n",
      "\n"
     ]
    },
    {
     "name": "stderr",
     "output_type": "stream",
     "text": [
      "                                                                                \r"
     ]
    }
   ],
   "source": [
    "price_df.filter(price_df['travel_duration_minutes'] == 34).show()"
   ]
  },
  {
   "cell_type": "code",
   "execution_count": 48,
   "id": "6d3ce47e-c6c8-42ad-b732-d2cad58cc208",
   "metadata": {},
   "outputs": [
    {
     "name": "stderr",
     "output_type": "stream",
     "text": [
      "[Stage 169:======================================================>(76 + 1) / 77]\r"
     ]
    },
    {
     "name": "stdout",
     "output_type": "stream",
     "text": [
      "+------+-----------+-----------+\n",
      "|origin|destination|route_count|\n",
      "+------+-----------+-----------+\n",
      "|   ATL|        LAX|     709809|\n",
      "|   LAX|        BOS|     679169|\n",
      "|   LGA|        LAX|     677713|\n",
      "|   LAX|        ATL|     669609|\n",
      "|   LAX|        LGA|     663659|\n",
      "|   BOS|        LAX|     644390|\n",
      "|   LAX|        JFK|     625496|\n",
      "|   LAX|        ORD|     620576|\n",
      "|   DFW|        LAX|     612390|\n",
      "|   LAX|        DFW|     610669|\n",
      "|   JFK|        LAX|     605017|\n",
      "|   LAX|        DTW|     601537|\n",
      "|   ORD|        LAX|     597847|\n",
      "|   LAX|        EWR|     587270|\n",
      "|   DTW|        LAX|     582022|\n",
      "|   CLT|        LAX|     572097|\n",
      "|   JFK|        ORD|     557152|\n",
      "|   LAX|        CLT|     554474|\n",
      "|   LGA|        ORD|     550319|\n",
      "|   LAX|        PHL|     549880|\n",
      "+------+-----------+-----------+\n",
      "only showing top 20 rows\n",
      "\n"
     ]
    },
    {
     "name": "stderr",
     "output_type": "stream",
     "text": [
      "                                                                                \r"
     ]
    }
   ],
   "source": [
    "most_frequent_routes = (price_df.select([\"origin\", \"destination\"])\n",
    "                                .groupBy(\"origin\", \"destination\")\n",
    "                                .agg(count(\"*\").alias(\"route_count\"))\n",
    "                                .orderBy(\"route_count\", ascending=False))\n",
    "\n",
    "most_frequent_routes.show()"
   ]
  },
  {
   "cell_type": "code",
   "execution_count": null,
   "id": "94cbfe4b-57fc-485e-89f8-546ea9cfd2dd",
   "metadata": {},
   "outputs": [],
   "source": []
  }
 ],
 "metadata": {
  "kernelspec": {
   "display_name": "PySpark",
   "language": "python",
   "name": "pyspark"
  },
  "language_info": {
   "codemirror_mode": {
    "name": "ipython",
    "version": 3
   },
   "file_extension": ".py",
   "mimetype": "text/x-python",
   "name": "python",
   "nbconvert_exporter": "python",
   "pygments_lexer": "ipython3",
   "version": "3.8.15"
  }
 },
 "nbformat": 4,
 "nbformat_minor": 5
}
